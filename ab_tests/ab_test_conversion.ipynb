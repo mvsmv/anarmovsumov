{
  "cells": [
    {
      "cell_type": "markdown",
      "source": [
        "# ЗАДАЧА \n",
        "\n",
        "На основе данных использования мобильного приложения для продажи продуктов питания проанализировать воронку продаж, а также оценить результаты A/A/B-тестирования. \n",
        "\n",
        "Эксперимент: изменение шрифтов в приложении. Цель исследования: оценить, повлияло ли это изменение на конверсию."
      ],
      "metadata": {
        "id": "KpgfFpqHNmbr"
      }
    },
    {
      "cell_type": "markdown",
      "metadata": {
        "id": "C6k0gjzOxtzD"
      },
      "source": [
        "# Импорт библиотек и загрузка данных"
      ]
    },
    {
      "cell_type": "code",
      "execution_count": 1,
      "metadata": {
        "id": "uoGZ4n2M7gSj"
      },
      "outputs": [],
      "source": [
        "import pandas as pd\n",
        "import numpy as np\n",
        "from scipy import stats as stats \n",
        "from pandas import option_context\n",
        "import seaborn as sns\n",
        "import matplotlib.pyplot as plt\n",
        "import plotly.express as px\n",
        "from plotly import graph_objects as go\n",
        "from plotly import tools\n",
        "from plotly.offline import iplot\n",
        "from plotly.subplots import make_subplots\n",
        "from IPython.display import display, HTML\n",
        "import datetime as dt\n",
        "from datetime import datetime\n",
        "import re\n",
        "from scipy import stats as st\n",
        "\n",
        "import math as mth\n",
        "\n",
        "# оставим в числах в таблицах два знака после запятой для удобства\n",
        "pd.options.display.float_format = '{:,.5f}'.format\n",
        "\n",
        "# отключим предупреждения\n",
        "import warnings\n",
        "warnings.filterwarnings('ignore')"
      ]
    },
    {
      "cell_type": "code",
      "execution_count": 2,
      "metadata": {
        "colab": {
          "base_uri": "https://localhost:8080/"
        },
        "id": "ZPsXzKdm8Iob",
        "outputId": "8ab678e3-505e-465c-968f-155a07a09020"
      },
      "outputs": [
        {
          "output_type": "stream",
          "name": "stdout",
          "text": [
            "/usr/local/lib/python3.7/dist-packages/gdown/cli.py:131: FutureWarning: Option `--id` was deprecated in version 4.3.1 and will be removed in 5.0. You don't need to pass it anymore to use a file ID.\n",
            "  category=FutureWarning,\n",
            "Downloading...\n",
            "From: https://drive.google.com/uc?id=17X7h8K9CV_thUgwkwLQ9lCUu1Km-1rtc\n",
            "To: /content/logs_exp.csv\n",
            "100% 13.2M/13.2M [00:00<00:00, 53.1MB/s]\n"
          ]
        }
      ],
      "source": [
        "try:\n",
        "  df = pd.read_csv('/datasets/logs_exp.csv', delimiter='\\t+')\n",
        "except:\n",
        "  !gdown --id 17X7h8K9CV_thUgwkwLQ9lCUu1Km-1rtc\n",
        "  df = pd.read_csv('/content/logs_exp.csv', delimiter='\\t+')\n"
      ]
    },
    {
      "cell_type": "markdown",
      "metadata": {
        "id": "0IlyzWskQ1-a"
      },
      "source": [
        "# Предобработка данных"
      ]
    },
    {
      "cell_type": "markdown",
      "metadata": {
        "id": "QrOuTbhjQh0o"
      },
      "source": [
        "Посмотрим на структуру датасета и общую информацию:"
      ]
    },
    {
      "cell_type": "code",
      "execution_count": 3,
      "metadata": {
        "colab": {
          "base_uri": "https://localhost:8080/",
          "height": 363
        },
        "id": "r6szepRB9Uca",
        "outputId": "b54dacae-098c-43cb-e09b-ab376021c0c4"
      },
      "outputs": [
        {
          "output_type": "execute_result",
          "data": {
            "text/plain": [
              "                      EventName         DeviceIDHash  EventTimestamp  ExpId\n",
              "168760         CartScreenAppear  4867798674969477834      1565024057    248\n",
              "26125          MainScreenAppear  5980202497560802833      1564672635    248\n",
              "76710          CartScreenAppear  6659583836596679685      1564809582    246\n",
              "155140         MainScreenAppear  4202933931341256638      1565005180    246\n",
              "203521  PaymentScreenSuccessful  8280727559464778830      1565108902    248\n",
              "165769  PaymentScreenSuccessful  4705890939205361551      1565019983    246\n",
              "34061          MainScreenAppear  1270193576696087003      1564684282    248\n",
              "198746         MainScreenAppear    28755862496905658      1565102299    247\n",
              "31812          CartScreenAppear  7738058666231999878      1564680825    246\n",
              "139457         MainScreenAppear  4818906496725430907      1564950640    246"
            ],
            "text/html": [
              "\n",
              "  <div id=\"df-0ba1934f-5063-47e4-a2f9-284ed4f90784\">\n",
              "    <div class=\"colab-df-container\">\n",
              "      <div>\n",
              "<style scoped>\n",
              "    .dataframe tbody tr th:only-of-type {\n",
              "        vertical-align: middle;\n",
              "    }\n",
              "\n",
              "    .dataframe tbody tr th {\n",
              "        vertical-align: top;\n",
              "    }\n",
              "\n",
              "    .dataframe thead th {\n",
              "        text-align: right;\n",
              "    }\n",
              "</style>\n",
              "<table border=\"1\" class=\"dataframe\">\n",
              "  <thead>\n",
              "    <tr style=\"text-align: right;\">\n",
              "      <th></th>\n",
              "      <th>EventName</th>\n",
              "      <th>DeviceIDHash</th>\n",
              "      <th>EventTimestamp</th>\n",
              "      <th>ExpId</th>\n",
              "    </tr>\n",
              "  </thead>\n",
              "  <tbody>\n",
              "    <tr>\n",
              "      <th>168760</th>\n",
              "      <td>CartScreenAppear</td>\n",
              "      <td>4867798674969477834</td>\n",
              "      <td>1565024057</td>\n",
              "      <td>248</td>\n",
              "    </tr>\n",
              "    <tr>\n",
              "      <th>26125</th>\n",
              "      <td>MainScreenAppear</td>\n",
              "      <td>5980202497560802833</td>\n",
              "      <td>1564672635</td>\n",
              "      <td>248</td>\n",
              "    </tr>\n",
              "    <tr>\n",
              "      <th>76710</th>\n",
              "      <td>CartScreenAppear</td>\n",
              "      <td>6659583836596679685</td>\n",
              "      <td>1564809582</td>\n",
              "      <td>246</td>\n",
              "    </tr>\n",
              "    <tr>\n",
              "      <th>155140</th>\n",
              "      <td>MainScreenAppear</td>\n",
              "      <td>4202933931341256638</td>\n",
              "      <td>1565005180</td>\n",
              "      <td>246</td>\n",
              "    </tr>\n",
              "    <tr>\n",
              "      <th>203521</th>\n",
              "      <td>PaymentScreenSuccessful</td>\n",
              "      <td>8280727559464778830</td>\n",
              "      <td>1565108902</td>\n",
              "      <td>248</td>\n",
              "    </tr>\n",
              "    <tr>\n",
              "      <th>165769</th>\n",
              "      <td>PaymentScreenSuccessful</td>\n",
              "      <td>4705890939205361551</td>\n",
              "      <td>1565019983</td>\n",
              "      <td>246</td>\n",
              "    </tr>\n",
              "    <tr>\n",
              "      <th>34061</th>\n",
              "      <td>MainScreenAppear</td>\n",
              "      <td>1270193576696087003</td>\n",
              "      <td>1564684282</td>\n",
              "      <td>248</td>\n",
              "    </tr>\n",
              "    <tr>\n",
              "      <th>198746</th>\n",
              "      <td>MainScreenAppear</td>\n",
              "      <td>28755862496905658</td>\n",
              "      <td>1565102299</td>\n",
              "      <td>247</td>\n",
              "    </tr>\n",
              "    <tr>\n",
              "      <th>31812</th>\n",
              "      <td>CartScreenAppear</td>\n",
              "      <td>7738058666231999878</td>\n",
              "      <td>1564680825</td>\n",
              "      <td>246</td>\n",
              "    </tr>\n",
              "    <tr>\n",
              "      <th>139457</th>\n",
              "      <td>MainScreenAppear</td>\n",
              "      <td>4818906496725430907</td>\n",
              "      <td>1564950640</td>\n",
              "      <td>246</td>\n",
              "    </tr>\n",
              "  </tbody>\n",
              "</table>\n",
              "</div>\n",
              "      <button class=\"colab-df-convert\" onclick=\"convertToInteractive('df-0ba1934f-5063-47e4-a2f9-284ed4f90784')\"\n",
              "              title=\"Convert this dataframe to an interactive table.\"\n",
              "              style=\"display:none;\">\n",
              "        \n",
              "  <svg xmlns=\"http://www.w3.org/2000/svg\" height=\"24px\"viewBox=\"0 0 24 24\"\n",
              "       width=\"24px\">\n",
              "    <path d=\"M0 0h24v24H0V0z\" fill=\"none\"/>\n",
              "    <path d=\"M18.56 5.44l.94 2.06.94-2.06 2.06-.94-2.06-.94-.94-2.06-.94 2.06-2.06.94zm-11 1L8.5 8.5l.94-2.06 2.06-.94-2.06-.94L8.5 2.5l-.94 2.06-2.06.94zm10 10l.94 2.06.94-2.06 2.06-.94-2.06-.94-.94-2.06-.94 2.06-2.06.94z\"/><path d=\"M17.41 7.96l-1.37-1.37c-.4-.4-.92-.59-1.43-.59-.52 0-1.04.2-1.43.59L10.3 9.45l-7.72 7.72c-.78.78-.78 2.05 0 2.83L4 21.41c.39.39.9.59 1.41.59.51 0 1.02-.2 1.41-.59l7.78-7.78 2.81-2.81c.8-.78.8-2.07 0-2.86zM5.41 20L4 18.59l7.72-7.72 1.47 1.35L5.41 20z\"/>\n",
              "  </svg>\n",
              "      </button>\n",
              "      \n",
              "  <style>\n",
              "    .colab-df-container {\n",
              "      display:flex;\n",
              "      flex-wrap:wrap;\n",
              "      gap: 12px;\n",
              "    }\n",
              "\n",
              "    .colab-df-convert {\n",
              "      background-color: #E8F0FE;\n",
              "      border: none;\n",
              "      border-radius: 50%;\n",
              "      cursor: pointer;\n",
              "      display: none;\n",
              "      fill: #1967D2;\n",
              "      height: 32px;\n",
              "      padding: 0 0 0 0;\n",
              "      width: 32px;\n",
              "    }\n",
              "\n",
              "    .colab-df-convert:hover {\n",
              "      background-color: #E2EBFA;\n",
              "      box-shadow: 0px 1px 2px rgba(60, 64, 67, 0.3), 0px 1px 3px 1px rgba(60, 64, 67, 0.15);\n",
              "      fill: #174EA6;\n",
              "    }\n",
              "\n",
              "    [theme=dark] .colab-df-convert {\n",
              "      background-color: #3B4455;\n",
              "      fill: #D2E3FC;\n",
              "    }\n",
              "\n",
              "    [theme=dark] .colab-df-convert:hover {\n",
              "      background-color: #434B5C;\n",
              "      box-shadow: 0px 1px 3px 1px rgba(0, 0, 0, 0.15);\n",
              "      filter: drop-shadow(0px 1px 2px rgba(0, 0, 0, 0.3));\n",
              "      fill: #FFFFFF;\n",
              "    }\n",
              "  </style>\n",
              "\n",
              "      <script>\n",
              "        const buttonEl =\n",
              "          document.querySelector('#df-0ba1934f-5063-47e4-a2f9-284ed4f90784 button.colab-df-convert');\n",
              "        buttonEl.style.display =\n",
              "          google.colab.kernel.accessAllowed ? 'block' : 'none';\n",
              "\n",
              "        async function convertToInteractive(key) {\n",
              "          const element = document.querySelector('#df-0ba1934f-5063-47e4-a2f9-284ed4f90784');\n",
              "          const dataTable =\n",
              "            await google.colab.kernel.invokeFunction('convertToInteractive',\n",
              "                                                     [key], {});\n",
              "          if (!dataTable) return;\n",
              "\n",
              "          const docLinkHtml = 'Like what you see? Visit the ' +\n",
              "            '<a target=\"_blank\" href=https://colab.research.google.com/notebooks/data_table.ipynb>data table notebook</a>'\n",
              "            + ' to learn more about interactive tables.';\n",
              "          element.innerHTML = '';\n",
              "          dataTable['output_type'] = 'display_data';\n",
              "          await google.colab.output.renderOutput(dataTable, element);\n",
              "          const docLink = document.createElement('div');\n",
              "          docLink.innerHTML = docLinkHtml;\n",
              "          element.appendChild(docLink);\n",
              "        }\n",
              "      </script>\n",
              "    </div>\n",
              "  </div>\n",
              "  "
            ]
          },
          "metadata": {},
          "execution_count": 3
        }
      ],
      "source": [
        "df.sample(10)"
      ]
    },
    {
      "cell_type": "code",
      "execution_count": 4,
      "metadata": {
        "colab": {
          "base_uri": "https://localhost:8080/"
        },
        "id": "XpQolJh7Sr2s",
        "outputId": "a003c481-b19b-4c47-aeb4-37ca2a2a3c4f"
      },
      "outputs": [
        {
          "output_type": "stream",
          "name": "stdout",
          "text": [
            "<class 'pandas.core.frame.DataFrame'>\n",
            "RangeIndex: 244126 entries, 0 to 244125\n",
            "Data columns (total 4 columns):\n",
            " #   Column          Non-Null Count   Dtype \n",
            "---  ------          --------------   ----- \n",
            " 0   EventName       244126 non-null  object\n",
            " 1   DeviceIDHash    244126 non-null  int64 \n",
            " 2   EventTimestamp  244126 non-null  int64 \n",
            " 3   ExpId           244126 non-null  int64 \n",
            "dtypes: int64(3), object(1)\n",
            "memory usage: 7.5+ MB\n"
          ]
        }
      ],
      "source": [
        "df.info()"
      ]
    },
    {
      "cell_type": "markdown",
      "metadata": {
        "id": "FPgyjVbJS2J-"
      },
      "source": [
        "В таблице 5 столбов и 244126 строк"
      ]
    },
    {
      "cell_type": "markdown",
      "metadata": {
        "id": "0t4vIoq5LrbL"
      },
      "source": [
        "Переименуем колонки для удобства и переведем значения `'event_name'` в нижний регистр"
      ]
    },
    {
      "cell_type": "code",
      "execution_count": 5,
      "metadata": {
        "colab": {
          "base_uri": "https://localhost:8080/",
          "height": 206
        },
        "id": "BCrDcoWb9XU-",
        "outputId": "c174971f-bebd-4e40-cf1b-edfcf5698b9d"
      },
      "outputs": [
        {
          "output_type": "execute_result",
          "data": {
            "text/plain": [
              "                 event_name                   id        time  group\n",
              "0        main_screen_appear  4575588528974610257  1564029816    246\n",
              "1        main_screen_appear  7416695313311560658  1564053102    246\n",
              "2  payment_screen_succesful  3518123091307005509  1564054127    248\n",
              "3        cart_screen_appear  3518123091307005509  1564054127    248\n",
              "4  payment_screen_succesful  6217807653094995999  1564055322    248"
            ],
            "text/html": [
              "\n",
              "  <div id=\"df-9d405e72-1a15-4eaf-a110-e1260557eed3\">\n",
              "    <div class=\"colab-df-container\">\n",
              "      <div>\n",
              "<style scoped>\n",
              "    .dataframe tbody tr th:only-of-type {\n",
              "        vertical-align: middle;\n",
              "    }\n",
              "\n",
              "    .dataframe tbody tr th {\n",
              "        vertical-align: top;\n",
              "    }\n",
              "\n",
              "    .dataframe thead th {\n",
              "        text-align: right;\n",
              "    }\n",
              "</style>\n",
              "<table border=\"1\" class=\"dataframe\">\n",
              "  <thead>\n",
              "    <tr style=\"text-align: right;\">\n",
              "      <th></th>\n",
              "      <th>event_name</th>\n",
              "      <th>id</th>\n",
              "      <th>time</th>\n",
              "      <th>group</th>\n",
              "    </tr>\n",
              "  </thead>\n",
              "  <tbody>\n",
              "    <tr>\n",
              "      <th>0</th>\n",
              "      <td>main_screen_appear</td>\n",
              "      <td>4575588528974610257</td>\n",
              "      <td>1564029816</td>\n",
              "      <td>246</td>\n",
              "    </tr>\n",
              "    <tr>\n",
              "      <th>1</th>\n",
              "      <td>main_screen_appear</td>\n",
              "      <td>7416695313311560658</td>\n",
              "      <td>1564053102</td>\n",
              "      <td>246</td>\n",
              "    </tr>\n",
              "    <tr>\n",
              "      <th>2</th>\n",
              "      <td>payment_screen_succesful</td>\n",
              "      <td>3518123091307005509</td>\n",
              "      <td>1564054127</td>\n",
              "      <td>248</td>\n",
              "    </tr>\n",
              "    <tr>\n",
              "      <th>3</th>\n",
              "      <td>cart_screen_appear</td>\n",
              "      <td>3518123091307005509</td>\n",
              "      <td>1564054127</td>\n",
              "      <td>248</td>\n",
              "    </tr>\n",
              "    <tr>\n",
              "      <th>4</th>\n",
              "      <td>payment_screen_succesful</td>\n",
              "      <td>6217807653094995999</td>\n",
              "      <td>1564055322</td>\n",
              "      <td>248</td>\n",
              "    </tr>\n",
              "  </tbody>\n",
              "</table>\n",
              "</div>\n",
              "      <button class=\"colab-df-convert\" onclick=\"convertToInteractive('df-9d405e72-1a15-4eaf-a110-e1260557eed3')\"\n",
              "              title=\"Convert this dataframe to an interactive table.\"\n",
              "              style=\"display:none;\">\n",
              "        \n",
              "  <svg xmlns=\"http://www.w3.org/2000/svg\" height=\"24px\"viewBox=\"0 0 24 24\"\n",
              "       width=\"24px\">\n",
              "    <path d=\"M0 0h24v24H0V0z\" fill=\"none\"/>\n",
              "    <path d=\"M18.56 5.44l.94 2.06.94-2.06 2.06-.94-2.06-.94-.94-2.06-.94 2.06-2.06.94zm-11 1L8.5 8.5l.94-2.06 2.06-.94-2.06-.94L8.5 2.5l-.94 2.06-2.06.94zm10 10l.94 2.06.94-2.06 2.06-.94-2.06-.94-.94-2.06-.94 2.06-2.06.94z\"/><path d=\"M17.41 7.96l-1.37-1.37c-.4-.4-.92-.59-1.43-.59-.52 0-1.04.2-1.43.59L10.3 9.45l-7.72 7.72c-.78.78-.78 2.05 0 2.83L4 21.41c.39.39.9.59 1.41.59.51 0 1.02-.2 1.41-.59l7.78-7.78 2.81-2.81c.8-.78.8-2.07 0-2.86zM5.41 20L4 18.59l7.72-7.72 1.47 1.35L5.41 20z\"/>\n",
              "  </svg>\n",
              "      </button>\n",
              "      \n",
              "  <style>\n",
              "    .colab-df-container {\n",
              "      display:flex;\n",
              "      flex-wrap:wrap;\n",
              "      gap: 12px;\n",
              "    }\n",
              "\n",
              "    .colab-df-convert {\n",
              "      background-color: #E8F0FE;\n",
              "      border: none;\n",
              "      border-radius: 50%;\n",
              "      cursor: pointer;\n",
              "      display: none;\n",
              "      fill: #1967D2;\n",
              "      height: 32px;\n",
              "      padding: 0 0 0 0;\n",
              "      width: 32px;\n",
              "    }\n",
              "\n",
              "    .colab-df-convert:hover {\n",
              "      background-color: #E2EBFA;\n",
              "      box-shadow: 0px 1px 2px rgba(60, 64, 67, 0.3), 0px 1px 3px 1px rgba(60, 64, 67, 0.15);\n",
              "      fill: #174EA6;\n",
              "    }\n",
              "\n",
              "    [theme=dark] .colab-df-convert {\n",
              "      background-color: #3B4455;\n",
              "      fill: #D2E3FC;\n",
              "    }\n",
              "\n",
              "    [theme=dark] .colab-df-convert:hover {\n",
              "      background-color: #434B5C;\n",
              "      box-shadow: 0px 1px 3px 1px rgba(0, 0, 0, 0.15);\n",
              "      filter: drop-shadow(0px 1px 2px rgba(0, 0, 0, 0.3));\n",
              "      fill: #FFFFFF;\n",
              "    }\n",
              "  </style>\n",
              "\n",
              "      <script>\n",
              "        const buttonEl =\n",
              "          document.querySelector('#df-9d405e72-1a15-4eaf-a110-e1260557eed3 button.colab-df-convert');\n",
              "        buttonEl.style.display =\n",
              "          google.colab.kernel.accessAllowed ? 'block' : 'none';\n",
              "\n",
              "        async function convertToInteractive(key) {\n",
              "          const element = document.querySelector('#df-9d405e72-1a15-4eaf-a110-e1260557eed3');\n",
              "          const dataTable =\n",
              "            await google.colab.kernel.invokeFunction('convertToInteractive',\n",
              "                                                     [key], {});\n",
              "          if (!dataTable) return;\n",
              "\n",
              "          const docLinkHtml = 'Like what you see? Visit the ' +\n",
              "            '<a target=\"_blank\" href=https://colab.research.google.com/notebooks/data_table.ipynb>data table notebook</a>'\n",
              "            + ' to learn more about interactive tables.';\n",
              "          element.innerHTML = '';\n",
              "          dataTable['output_type'] = 'display_data';\n",
              "          await google.colab.output.renderOutput(dataTable, element);\n",
              "          const docLink = document.createElement('div');\n",
              "          docLink.innerHTML = docLinkHtml;\n",
              "          element.appendChild(docLink);\n",
              "        }\n",
              "      </script>\n",
              "    </div>\n",
              "  </div>\n",
              "  "
            ]
          },
          "metadata": {},
          "execution_count": 5
        }
      ],
      "source": [
        "df = df.rename(columns={\n",
        "    'EventName' : 'event_name',\n",
        "    'DeviceIDHash' : 'id',\n",
        "    'EventTimestamp' : 'time',\n",
        "    'ExpId' : 'group'\n",
        "}\n",
        "              )\n",
        "\n",
        "df['event_name'] = (df['event_name']\n",
        "                    .str.replace('MainScreenAppear', 'main_screen_appear')\n",
        "                    .str.replace('PaymentScreenSuccessful', 'payment_screen_succesful')\n",
        "                    .str.replace('CartScreenAppear', 'cart_screen_appear')\n",
        "                    .str.replace('OffersScreenAppear', 'offers_screen_appear')\n",
        "                    .str.replace('Tutorial', 'tutorial'))\n",
        "                   \n",
        "df.head()"
      ]
    },
    {
      "cell_type": "markdown",
      "metadata": {
        "id": "j6nKHehTQqI1"
      },
      "source": [
        "Приведем время в нужный формат и долбавим столбец с датой:"
      ]
    },
    {
      "cell_type": "code",
      "execution_count": 6,
      "metadata": {
        "id": "R3us3D7yLTqo"
      },
      "outputs": [],
      "source": [
        "df['time'] = pd.to_datetime(df['time'], unit='s')\n",
        "df['date'] = df['time'].dt.date"
      ]
    },
    {
      "cell_type": "markdown",
      "metadata": {
        "id": "vYpGxJvRRM8t"
      },
      "source": [
        "Описание данных в столбцах:\n",
        "\n",
        "- event_name — название события;\n",
        "\n",
        "- id — уникальный идентификатор пользователя;\n",
        "\n",
        "- time — время события;\n",
        "\n",
        "- date - дата события;\n",
        "\n",
        "- group: 246 и 247 — контрольные группы, а 248 — экспериментальная."
      ]
    },
    {
      "cell_type": "markdown",
      "metadata": {
        "id": "GOiAiEz_RxgU"
      },
      "source": [
        "Проверим данные на дубликаты и пропуски"
      ]
    },
    {
      "cell_type": "code",
      "execution_count": 7,
      "metadata": {
        "colab": {
          "base_uri": "https://localhost:8080/"
        },
        "id": "jCFmiU0mPK0H",
        "outputId": "e37b9960-3c14-4a24-870b-585ac0754d7f"
      },
      "outputs": [
        {
          "output_type": "execute_result",
          "data": {
            "text/plain": [
              "event_name   0.00000\n",
              "id           0.00000\n",
              "time         0.00000\n",
              "group        0.00000\n",
              "date         0.00000\n",
              "dtype: float64"
            ]
          },
          "metadata": {},
          "execution_count": 7
        }
      ],
      "source": [
        "df.isna().mean()"
      ]
    },
    {
      "cell_type": "markdown",
      "metadata": {
        "id": "cjDOMnDJSgb5"
      },
      "source": [
        "Пропусков в данных нет. Проверим на дубликаты:"
      ]
    },
    {
      "cell_type": "code",
      "execution_count": 8,
      "metadata": {
        "colab": {
          "base_uri": "https://localhost:8080/"
        },
        "id": "bVDbwAJGScPi",
        "outputId": "0aa07df9-c747-4ac3-fd2a-ed92eb05fbdd"
      },
      "outputs": [
        {
          "output_type": "execute_result",
          "data": {
            "text/plain": [
              "413"
            ]
          },
          "metadata": {},
          "execution_count": 8
        }
      ],
      "source": [
        "df.duplicated().sum()"
      ]
    },
    {
      "cell_type": "markdown",
      "metadata": {
        "id": "Zhaf144OOPzB"
      },
      "source": [
        "Обнаружено 413 дубликатов. Посмотрим на них подробнее:"
      ]
    },
    {
      "cell_type": "code",
      "source": [
        "dupl = df[df.duplicated() == True]\n",
        "dupl.head()"
      ],
      "metadata": {
        "colab": {
          "base_uri": "https://localhost:8080/",
          "height": 206
        },
        "id": "vYh6ogQ5P2aB",
        "outputId": "aecea30a-ad79-470d-8f85-33849090854f"
      },
      "execution_count": 9,
      "outputs": [
        {
          "output_type": "execute_result",
          "data": {
            "text/plain": [
              "              event_name                   id                time  group  \\\n",
              "453   main_screen_appear  5613408041324010552 2019-07-30 08:19:44    248   \n",
              "2350  cart_screen_appear  1694940645335807244 2019-07-31 21:51:39    248   \n",
              "3573  main_screen_appear   434103746454591587 2019-08-01 02:59:37    248   \n",
              "4076  main_screen_appear  3761373764179762633 2019-08-01 03:47:46    247   \n",
              "4803  main_screen_appear  2835328739789306622 2019-08-01 04:44:01    248   \n",
              "\n",
              "            date  \n",
              "453   2019-07-30  \n",
              "2350  2019-07-31  \n",
              "3573  2019-08-01  \n",
              "4076  2019-08-01  \n",
              "4803  2019-08-01  "
            ],
            "text/html": [
              "\n",
              "  <div id=\"df-bd2a4f4d-71bf-4d80-9038-f40cdcc76864\">\n",
              "    <div class=\"colab-df-container\">\n",
              "      <div>\n",
              "<style scoped>\n",
              "    .dataframe tbody tr th:only-of-type {\n",
              "        vertical-align: middle;\n",
              "    }\n",
              "\n",
              "    .dataframe tbody tr th {\n",
              "        vertical-align: top;\n",
              "    }\n",
              "\n",
              "    .dataframe thead th {\n",
              "        text-align: right;\n",
              "    }\n",
              "</style>\n",
              "<table border=\"1\" class=\"dataframe\">\n",
              "  <thead>\n",
              "    <tr style=\"text-align: right;\">\n",
              "      <th></th>\n",
              "      <th>event_name</th>\n",
              "      <th>id</th>\n",
              "      <th>time</th>\n",
              "      <th>group</th>\n",
              "      <th>date</th>\n",
              "    </tr>\n",
              "  </thead>\n",
              "  <tbody>\n",
              "    <tr>\n",
              "      <th>453</th>\n",
              "      <td>main_screen_appear</td>\n",
              "      <td>5613408041324010552</td>\n",
              "      <td>2019-07-30 08:19:44</td>\n",
              "      <td>248</td>\n",
              "      <td>2019-07-30</td>\n",
              "    </tr>\n",
              "    <tr>\n",
              "      <th>2350</th>\n",
              "      <td>cart_screen_appear</td>\n",
              "      <td>1694940645335807244</td>\n",
              "      <td>2019-07-31 21:51:39</td>\n",
              "      <td>248</td>\n",
              "      <td>2019-07-31</td>\n",
              "    </tr>\n",
              "    <tr>\n",
              "      <th>3573</th>\n",
              "      <td>main_screen_appear</td>\n",
              "      <td>434103746454591587</td>\n",
              "      <td>2019-08-01 02:59:37</td>\n",
              "      <td>248</td>\n",
              "      <td>2019-08-01</td>\n",
              "    </tr>\n",
              "    <tr>\n",
              "      <th>4076</th>\n",
              "      <td>main_screen_appear</td>\n",
              "      <td>3761373764179762633</td>\n",
              "      <td>2019-08-01 03:47:46</td>\n",
              "      <td>247</td>\n",
              "      <td>2019-08-01</td>\n",
              "    </tr>\n",
              "    <tr>\n",
              "      <th>4803</th>\n",
              "      <td>main_screen_appear</td>\n",
              "      <td>2835328739789306622</td>\n",
              "      <td>2019-08-01 04:44:01</td>\n",
              "      <td>248</td>\n",
              "      <td>2019-08-01</td>\n",
              "    </tr>\n",
              "  </tbody>\n",
              "</table>\n",
              "</div>\n",
              "      <button class=\"colab-df-convert\" onclick=\"convertToInteractive('df-bd2a4f4d-71bf-4d80-9038-f40cdcc76864')\"\n",
              "              title=\"Convert this dataframe to an interactive table.\"\n",
              "              style=\"display:none;\">\n",
              "        \n",
              "  <svg xmlns=\"http://www.w3.org/2000/svg\" height=\"24px\"viewBox=\"0 0 24 24\"\n",
              "       width=\"24px\">\n",
              "    <path d=\"M0 0h24v24H0V0z\" fill=\"none\"/>\n",
              "    <path d=\"M18.56 5.44l.94 2.06.94-2.06 2.06-.94-2.06-.94-.94-2.06-.94 2.06-2.06.94zm-11 1L8.5 8.5l.94-2.06 2.06-.94-2.06-.94L8.5 2.5l-.94 2.06-2.06.94zm10 10l.94 2.06.94-2.06 2.06-.94-2.06-.94-.94-2.06-.94 2.06-2.06.94z\"/><path d=\"M17.41 7.96l-1.37-1.37c-.4-.4-.92-.59-1.43-.59-.52 0-1.04.2-1.43.59L10.3 9.45l-7.72 7.72c-.78.78-.78 2.05 0 2.83L4 21.41c.39.39.9.59 1.41.59.51 0 1.02-.2 1.41-.59l7.78-7.78 2.81-2.81c.8-.78.8-2.07 0-2.86zM5.41 20L4 18.59l7.72-7.72 1.47 1.35L5.41 20z\"/>\n",
              "  </svg>\n",
              "      </button>\n",
              "      \n",
              "  <style>\n",
              "    .colab-df-container {\n",
              "      display:flex;\n",
              "      flex-wrap:wrap;\n",
              "      gap: 12px;\n",
              "    }\n",
              "\n",
              "    .colab-df-convert {\n",
              "      background-color: #E8F0FE;\n",
              "      border: none;\n",
              "      border-radius: 50%;\n",
              "      cursor: pointer;\n",
              "      display: none;\n",
              "      fill: #1967D2;\n",
              "      height: 32px;\n",
              "      padding: 0 0 0 0;\n",
              "      width: 32px;\n",
              "    }\n",
              "\n",
              "    .colab-df-convert:hover {\n",
              "      background-color: #E2EBFA;\n",
              "      box-shadow: 0px 1px 2px rgba(60, 64, 67, 0.3), 0px 1px 3px 1px rgba(60, 64, 67, 0.15);\n",
              "      fill: #174EA6;\n",
              "    }\n",
              "\n",
              "    [theme=dark] .colab-df-convert {\n",
              "      background-color: #3B4455;\n",
              "      fill: #D2E3FC;\n",
              "    }\n",
              "\n",
              "    [theme=dark] .colab-df-convert:hover {\n",
              "      background-color: #434B5C;\n",
              "      box-shadow: 0px 1px 3px 1px rgba(0, 0, 0, 0.15);\n",
              "      filter: drop-shadow(0px 1px 2px rgba(0, 0, 0, 0.3));\n",
              "      fill: #FFFFFF;\n",
              "    }\n",
              "  </style>\n",
              "\n",
              "      <script>\n",
              "        const buttonEl =\n",
              "          document.querySelector('#df-bd2a4f4d-71bf-4d80-9038-f40cdcc76864 button.colab-df-convert');\n",
              "        buttonEl.style.display =\n",
              "          google.colab.kernel.accessAllowed ? 'block' : 'none';\n",
              "\n",
              "        async function convertToInteractive(key) {\n",
              "          const element = document.querySelector('#df-bd2a4f4d-71bf-4d80-9038-f40cdcc76864');\n",
              "          const dataTable =\n",
              "            await google.colab.kernel.invokeFunction('convertToInteractive',\n",
              "                                                     [key], {});\n",
              "          if (!dataTable) return;\n",
              "\n",
              "          const docLinkHtml = 'Like what you see? Visit the ' +\n",
              "            '<a target=\"_blank\" href=https://colab.research.google.com/notebooks/data_table.ipynb>data table notebook</a>'\n",
              "            + ' to learn more about interactive tables.';\n",
              "          element.innerHTML = '';\n",
              "          dataTable['output_type'] = 'display_data';\n",
              "          await google.colab.output.renderOutput(dataTable, element);\n",
              "          const docLink = document.createElement('div');\n",
              "          docLink.innerHTML = docLinkHtml;\n",
              "          element.appendChild(docLink);\n",
              "        }\n",
              "      </script>\n",
              "    </div>\n",
              "  </div>\n",
              "  "
            ]
          },
          "metadata": {},
          "execution_count": 9
        }
      ]
    },
    {
      "cell_type": "markdown",
      "source": [
        "Посмотрим по id одного из пользователей:"
      ],
      "metadata": {
        "id": "N8cCrJEiQARy"
      }
    },
    {
      "cell_type": "code",
      "source": [
        "df.query('id == 434103746454591587').head()"
      ],
      "metadata": {
        "colab": {
          "base_uri": "https://localhost:8080/",
          "height": 206
        },
        "id": "oPXSEBc8P7ib",
        "outputId": "78182c6c-34ab-436d-fe14-03542b4dd39c"
      },
      "execution_count": 10,
      "outputs": [
        {
          "output_type": "execute_result",
          "data": {
            "text/plain": [
              "               event_name                  id                time  group  \\\n",
              "3572   main_screen_appear  434103746454591587 2019-08-01 02:59:37    248   \n",
              "3573   main_screen_appear  434103746454591587 2019-08-01 02:59:37    248   \n",
              "16932  main_screen_appear  434103746454591587 2019-08-01 11:37:44    248   \n",
              "17876  main_screen_appear  434103746454591587 2019-08-01 12:02:36    248   \n",
              "18333  main_screen_appear  434103746454591587 2019-08-01 12:14:00    248   \n",
              "\n",
              "             date  \n",
              "3572   2019-08-01  \n",
              "3573   2019-08-01  \n",
              "16932  2019-08-01  \n",
              "17876  2019-08-01  \n",
              "18333  2019-08-01  "
            ],
            "text/html": [
              "\n",
              "  <div id=\"df-522e9f46-602e-4ccc-a7a8-a111f978b087\">\n",
              "    <div class=\"colab-df-container\">\n",
              "      <div>\n",
              "<style scoped>\n",
              "    .dataframe tbody tr th:only-of-type {\n",
              "        vertical-align: middle;\n",
              "    }\n",
              "\n",
              "    .dataframe tbody tr th {\n",
              "        vertical-align: top;\n",
              "    }\n",
              "\n",
              "    .dataframe thead th {\n",
              "        text-align: right;\n",
              "    }\n",
              "</style>\n",
              "<table border=\"1\" class=\"dataframe\">\n",
              "  <thead>\n",
              "    <tr style=\"text-align: right;\">\n",
              "      <th></th>\n",
              "      <th>event_name</th>\n",
              "      <th>id</th>\n",
              "      <th>time</th>\n",
              "      <th>group</th>\n",
              "      <th>date</th>\n",
              "    </tr>\n",
              "  </thead>\n",
              "  <tbody>\n",
              "    <tr>\n",
              "      <th>3572</th>\n",
              "      <td>main_screen_appear</td>\n",
              "      <td>434103746454591587</td>\n",
              "      <td>2019-08-01 02:59:37</td>\n",
              "      <td>248</td>\n",
              "      <td>2019-08-01</td>\n",
              "    </tr>\n",
              "    <tr>\n",
              "      <th>3573</th>\n",
              "      <td>main_screen_appear</td>\n",
              "      <td>434103746454591587</td>\n",
              "      <td>2019-08-01 02:59:37</td>\n",
              "      <td>248</td>\n",
              "      <td>2019-08-01</td>\n",
              "    </tr>\n",
              "    <tr>\n",
              "      <th>16932</th>\n",
              "      <td>main_screen_appear</td>\n",
              "      <td>434103746454591587</td>\n",
              "      <td>2019-08-01 11:37:44</td>\n",
              "      <td>248</td>\n",
              "      <td>2019-08-01</td>\n",
              "    </tr>\n",
              "    <tr>\n",
              "      <th>17876</th>\n",
              "      <td>main_screen_appear</td>\n",
              "      <td>434103746454591587</td>\n",
              "      <td>2019-08-01 12:02:36</td>\n",
              "      <td>248</td>\n",
              "      <td>2019-08-01</td>\n",
              "    </tr>\n",
              "    <tr>\n",
              "      <th>18333</th>\n",
              "      <td>main_screen_appear</td>\n",
              "      <td>434103746454591587</td>\n",
              "      <td>2019-08-01 12:14:00</td>\n",
              "      <td>248</td>\n",
              "      <td>2019-08-01</td>\n",
              "    </tr>\n",
              "  </tbody>\n",
              "</table>\n",
              "</div>\n",
              "      <button class=\"colab-df-convert\" onclick=\"convertToInteractive('df-522e9f46-602e-4ccc-a7a8-a111f978b087')\"\n",
              "              title=\"Convert this dataframe to an interactive table.\"\n",
              "              style=\"display:none;\">\n",
              "        \n",
              "  <svg xmlns=\"http://www.w3.org/2000/svg\" height=\"24px\"viewBox=\"0 0 24 24\"\n",
              "       width=\"24px\">\n",
              "    <path d=\"M0 0h24v24H0V0z\" fill=\"none\"/>\n",
              "    <path d=\"M18.56 5.44l.94 2.06.94-2.06 2.06-.94-2.06-.94-.94-2.06-.94 2.06-2.06.94zm-11 1L8.5 8.5l.94-2.06 2.06-.94-2.06-.94L8.5 2.5l-.94 2.06-2.06.94zm10 10l.94 2.06.94-2.06 2.06-.94-2.06-.94-.94-2.06-.94 2.06-2.06.94z\"/><path d=\"M17.41 7.96l-1.37-1.37c-.4-.4-.92-.59-1.43-.59-.52 0-1.04.2-1.43.59L10.3 9.45l-7.72 7.72c-.78.78-.78 2.05 0 2.83L4 21.41c.39.39.9.59 1.41.59.51 0 1.02-.2 1.41-.59l7.78-7.78 2.81-2.81c.8-.78.8-2.07 0-2.86zM5.41 20L4 18.59l7.72-7.72 1.47 1.35L5.41 20z\"/>\n",
              "  </svg>\n",
              "      </button>\n",
              "      \n",
              "  <style>\n",
              "    .colab-df-container {\n",
              "      display:flex;\n",
              "      flex-wrap:wrap;\n",
              "      gap: 12px;\n",
              "    }\n",
              "\n",
              "    .colab-df-convert {\n",
              "      background-color: #E8F0FE;\n",
              "      border: none;\n",
              "      border-radius: 50%;\n",
              "      cursor: pointer;\n",
              "      display: none;\n",
              "      fill: #1967D2;\n",
              "      height: 32px;\n",
              "      padding: 0 0 0 0;\n",
              "      width: 32px;\n",
              "    }\n",
              "\n",
              "    .colab-df-convert:hover {\n",
              "      background-color: #E2EBFA;\n",
              "      box-shadow: 0px 1px 2px rgba(60, 64, 67, 0.3), 0px 1px 3px 1px rgba(60, 64, 67, 0.15);\n",
              "      fill: #174EA6;\n",
              "    }\n",
              "\n",
              "    [theme=dark] .colab-df-convert {\n",
              "      background-color: #3B4455;\n",
              "      fill: #D2E3FC;\n",
              "    }\n",
              "\n",
              "    [theme=dark] .colab-df-convert:hover {\n",
              "      background-color: #434B5C;\n",
              "      box-shadow: 0px 1px 3px 1px rgba(0, 0, 0, 0.15);\n",
              "      filter: drop-shadow(0px 1px 2px rgba(0, 0, 0, 0.3));\n",
              "      fill: #FFFFFF;\n",
              "    }\n",
              "  </style>\n",
              "\n",
              "      <script>\n",
              "        const buttonEl =\n",
              "          document.querySelector('#df-522e9f46-602e-4ccc-a7a8-a111f978b087 button.colab-df-convert');\n",
              "        buttonEl.style.display =\n",
              "          google.colab.kernel.accessAllowed ? 'block' : 'none';\n",
              "\n",
              "        async function convertToInteractive(key) {\n",
              "          const element = document.querySelector('#df-522e9f46-602e-4ccc-a7a8-a111f978b087');\n",
              "          const dataTable =\n",
              "            await google.colab.kernel.invokeFunction('convertToInteractive',\n",
              "                                                     [key], {});\n",
              "          if (!dataTable) return;\n",
              "\n",
              "          const docLinkHtml = 'Like what you see? Visit the ' +\n",
              "            '<a target=\"_blank\" href=https://colab.research.google.com/notebooks/data_table.ipynb>data table notebook</a>'\n",
              "            + ' to learn more about interactive tables.';\n",
              "          element.innerHTML = '';\n",
              "          dataTable['output_type'] = 'display_data';\n",
              "          await google.colab.output.renderOutput(dataTable, element);\n",
              "          const docLink = document.createElement('div');\n",
              "          docLink.innerHTML = docLinkHtml;\n",
              "          element.appendChild(docLink);\n",
              "        }\n",
              "      </script>\n",
              "    </div>\n",
              "  </div>\n",
              "  "
            ]
          },
          "metadata": {},
          "execution_count": 10
        }
      ]
    },
    {
      "cell_type": "markdown",
      "source": [
        "Действительно есть полностью совпадающие строки - например, в таблице сверху первые две строки.\n",
        "\n",
        "У скольких пользователей есть дубликаты и как они распределены по группам:"
      ],
      "metadata": {
        "id": "Fgm4dohUQWPs"
      }
    },
    {
      "cell_type": "code",
      "source": [
        "dupl.groupby('group')['id'].nunique()"
      ],
      "metadata": {
        "colab": {
          "base_uri": "https://localhost:8080/"
        },
        "id": "sFhiP4caQjea",
        "outputId": "1ebeb360-f1aa-440a-aece-e3b902117703"
      },
      "execution_count": 11,
      "outputs": [
        {
          "output_type": "execute_result",
          "data": {
            "text/plain": [
              "group\n",
              "246    76\n",
              "247    82\n",
              "248    79\n",
              "Name: id, dtype: int64"
            ]
          },
          "metadata": {},
          "execution_count": 11
        }
      ]
    },
    {
      "cell_type": "markdown",
      "source": [
        "Дубликатов немного и они распространены по группам достаточно равномерно, поэтому просто удалим их. Предположим, что они возникли из-за ошибок в логировании - некоторые события логировались дважды. Сообщим это дата-инженерам."
      ],
      "metadata": {
        "id": "GliwNyFaRAkM"
      }
    },
    {
      "cell_type": "code",
      "source": [
        "df = df.drop_duplicates()\n",
        "df.duplicated().sum()"
      ],
      "metadata": {
        "colab": {
          "base_uri": "https://localhost:8080/"
        },
        "id": "qQomWaxbRQSg",
        "outputId": "2f097be2-ef3e-42c6-cec4-224a3eebf676"
      },
      "execution_count": 12,
      "outputs": [
        {
          "output_type": "execute_result",
          "data": {
            "text/plain": [
              "0"
            ]
          },
          "metadata": {},
          "execution_count": 12
        }
      ]
    },
    {
      "cell_type": "markdown",
      "metadata": {
        "id": "ozkv8o2Dilf9"
      },
      "source": [
        "**Данные обработаны и готовы к дальнейшему анализу.**"
      ]
    },
    {
      "cell_type": "markdown",
      "metadata": {
        "id": "Xmj4z37aTgvq"
      },
      "source": [
        "# Анализ данных"
      ]
    },
    {
      "cell_type": "markdown",
      "metadata": {
        "id": "_QJHs-ZGTjC8"
      },
      "source": [
        "## Количество событий и пользователей"
      ]
    },
    {
      "cell_type": "code",
      "execution_count": 13,
      "metadata": {
        "colab": {
          "base_uri": "https://localhost:8080/"
        },
        "id": "hcooPCkDTmq6",
        "outputId": "52f583d5-463e-4858-8e90-37e7e6d4c826"
      },
      "outputs": [
        {
          "output_type": "stream",
          "name": "stdout",
          "text": [
            "ОБщее число событий: 243713. Общее число уникальных пользователей: 7551\n"
          ]
        }
      ],
      "source": [
        "events_total = df['event_name'].count()\n",
        "users_total = df['id'].nunique()\n",
        "print(f'ОБщее число событий: {events_total}. Общее число уникальных пользователей: {users_total}')"
      ]
    },
    {
      "cell_type": "code",
      "execution_count": 14,
      "metadata": {
        "colab": {
          "base_uri": "https://localhost:8080/"
        },
        "id": "nOj0lwOhTRBt",
        "outputId": "dbc6505b-8adc-40f9-aa16-eef1fd210da5"
      },
      "outputs": [
        {
          "output_type": "stream",
          "name": "stdout",
          "text": [
            "На одного пользователя приходится в среднем 32.28 событий\n"
          ]
        }
      ],
      "source": [
        "print(f'На одного пользователя приходится в среднем {round(events_total / users_total, 2)} событий')"
      ]
    },
    {
      "cell_type": "markdown",
      "source": [
        "Соберем таблицу, где каждому пользователю будет соответствовать общее  количество событий:"
      ],
      "metadata": {
        "id": "lja2zaIlO7Yt"
      }
    },
    {
      "cell_type": "code",
      "execution_count": 15,
      "metadata": {
        "colab": {
          "base_uri": "https://localhost:8080/",
          "height": 206
        },
        "id": "EgNKBmlfOPzC",
        "outputId": "afcc572e-26c5-4e34-d0fe-c9139b061e40"
      },
      "outputs": [
        {
          "output_type": "execute_result",
          "data": {
            "text/plain": [
              "                 id  event_count\n",
              "0  6888746892508752            1\n",
              "1  6909561520679493            5\n",
              "2  6922444491712477           47\n",
              "3  7435777799948366            6\n",
              "4  7702139951469979          137"
            ],
            "text/html": [
              "\n",
              "  <div id=\"df-4abd686e-9b88-4675-88f6-9c70ab1b8a8f\">\n",
              "    <div class=\"colab-df-container\">\n",
              "      <div>\n",
              "<style scoped>\n",
              "    .dataframe tbody tr th:only-of-type {\n",
              "        vertical-align: middle;\n",
              "    }\n",
              "\n",
              "    .dataframe tbody tr th {\n",
              "        vertical-align: top;\n",
              "    }\n",
              "\n",
              "    .dataframe thead th {\n",
              "        text-align: right;\n",
              "    }\n",
              "</style>\n",
              "<table border=\"1\" class=\"dataframe\">\n",
              "  <thead>\n",
              "    <tr style=\"text-align: right;\">\n",
              "      <th></th>\n",
              "      <th>id</th>\n",
              "      <th>event_count</th>\n",
              "    </tr>\n",
              "  </thead>\n",
              "  <tbody>\n",
              "    <tr>\n",
              "      <th>0</th>\n",
              "      <td>6888746892508752</td>\n",
              "      <td>1</td>\n",
              "    </tr>\n",
              "    <tr>\n",
              "      <th>1</th>\n",
              "      <td>6909561520679493</td>\n",
              "      <td>5</td>\n",
              "    </tr>\n",
              "    <tr>\n",
              "      <th>2</th>\n",
              "      <td>6922444491712477</td>\n",
              "      <td>47</td>\n",
              "    </tr>\n",
              "    <tr>\n",
              "      <th>3</th>\n",
              "      <td>7435777799948366</td>\n",
              "      <td>6</td>\n",
              "    </tr>\n",
              "    <tr>\n",
              "      <th>4</th>\n",
              "      <td>7702139951469979</td>\n",
              "      <td>137</td>\n",
              "    </tr>\n",
              "  </tbody>\n",
              "</table>\n",
              "</div>\n",
              "      <button class=\"colab-df-convert\" onclick=\"convertToInteractive('df-4abd686e-9b88-4675-88f6-9c70ab1b8a8f')\"\n",
              "              title=\"Convert this dataframe to an interactive table.\"\n",
              "              style=\"display:none;\">\n",
              "        \n",
              "  <svg xmlns=\"http://www.w3.org/2000/svg\" height=\"24px\"viewBox=\"0 0 24 24\"\n",
              "       width=\"24px\">\n",
              "    <path d=\"M0 0h24v24H0V0z\" fill=\"none\"/>\n",
              "    <path d=\"M18.56 5.44l.94 2.06.94-2.06 2.06-.94-2.06-.94-.94-2.06-.94 2.06-2.06.94zm-11 1L8.5 8.5l.94-2.06 2.06-.94-2.06-.94L8.5 2.5l-.94 2.06-2.06.94zm10 10l.94 2.06.94-2.06 2.06-.94-2.06-.94-.94-2.06-.94 2.06-2.06.94z\"/><path d=\"M17.41 7.96l-1.37-1.37c-.4-.4-.92-.59-1.43-.59-.52 0-1.04.2-1.43.59L10.3 9.45l-7.72 7.72c-.78.78-.78 2.05 0 2.83L4 21.41c.39.39.9.59 1.41.59.51 0 1.02-.2 1.41-.59l7.78-7.78 2.81-2.81c.8-.78.8-2.07 0-2.86zM5.41 20L4 18.59l7.72-7.72 1.47 1.35L5.41 20z\"/>\n",
              "  </svg>\n",
              "      </button>\n",
              "      \n",
              "  <style>\n",
              "    .colab-df-container {\n",
              "      display:flex;\n",
              "      flex-wrap:wrap;\n",
              "      gap: 12px;\n",
              "    }\n",
              "\n",
              "    .colab-df-convert {\n",
              "      background-color: #E8F0FE;\n",
              "      border: none;\n",
              "      border-radius: 50%;\n",
              "      cursor: pointer;\n",
              "      display: none;\n",
              "      fill: #1967D2;\n",
              "      height: 32px;\n",
              "      padding: 0 0 0 0;\n",
              "      width: 32px;\n",
              "    }\n",
              "\n",
              "    .colab-df-convert:hover {\n",
              "      background-color: #E2EBFA;\n",
              "      box-shadow: 0px 1px 2px rgba(60, 64, 67, 0.3), 0px 1px 3px 1px rgba(60, 64, 67, 0.15);\n",
              "      fill: #174EA6;\n",
              "    }\n",
              "\n",
              "    [theme=dark] .colab-df-convert {\n",
              "      background-color: #3B4455;\n",
              "      fill: #D2E3FC;\n",
              "    }\n",
              "\n",
              "    [theme=dark] .colab-df-convert:hover {\n",
              "      background-color: #434B5C;\n",
              "      box-shadow: 0px 1px 3px 1px rgba(0, 0, 0, 0.15);\n",
              "      filter: drop-shadow(0px 1px 2px rgba(0, 0, 0, 0.3));\n",
              "      fill: #FFFFFF;\n",
              "    }\n",
              "  </style>\n",
              "\n",
              "      <script>\n",
              "        const buttonEl =\n",
              "          document.querySelector('#df-4abd686e-9b88-4675-88f6-9c70ab1b8a8f button.colab-df-convert');\n",
              "        buttonEl.style.display =\n",
              "          google.colab.kernel.accessAllowed ? 'block' : 'none';\n",
              "\n",
              "        async function convertToInteractive(key) {\n",
              "          const element = document.querySelector('#df-4abd686e-9b88-4675-88f6-9c70ab1b8a8f');\n",
              "          const dataTable =\n",
              "            await google.colab.kernel.invokeFunction('convertToInteractive',\n",
              "                                                     [key], {});\n",
              "          if (!dataTable) return;\n",
              "\n",
              "          const docLinkHtml = 'Like what you see? Visit the ' +\n",
              "            '<a target=\"_blank\" href=https://colab.research.google.com/notebooks/data_table.ipynb>data table notebook</a>'\n",
              "            + ' to learn more about interactive tables.';\n",
              "          element.innerHTML = '';\n",
              "          dataTable['output_type'] = 'display_data';\n",
              "          await google.colab.output.renderOutput(dataTable, element);\n",
              "          const docLink = document.createElement('div');\n",
              "          docLink.innerHTML = docLinkHtml;\n",
              "          element.appendChild(docLink);\n",
              "        }\n",
              "      </script>\n",
              "    </div>\n",
              "  </div>\n",
              "  "
            ]
          },
          "metadata": {},
          "execution_count": 15
        }
      ],
      "source": [
        "id_events = (df\n",
        "             .groupby('id')['event_name']\n",
        "             .count()\n",
        "             .reset_index()\n",
        "             .rename(columns={\n",
        "                 'event_name' : 'event_count'\n",
        "             }\n",
        "             )\n",
        "             )\n",
        "id_events.head()"
      ]
    },
    {
      "cell_type": "code",
      "execution_count": 16,
      "metadata": {
        "colab": {
          "base_uri": "https://localhost:8080/",
          "height": 513
        },
        "id": "W_Il8zQdOPzD",
        "outputId": "20c9ff0e-183b-47d4-d042-2df1bd4b8de0"
      },
      "outputs": [
        {
          "output_type": "display_data",
          "data": {
            "text/plain": [
              "<Figure size 720x576 with 1 Axes>"
            ],
            "image/png": "[encoded data removed]"
          },
          "metadata": {
            "needs_background": "light"
          }
        }
      ],
      "source": [
        "fig = plt.figure(figsize=(10,8))\n",
        "sns.histplot(data=id_events['event_count'], palette='Blues_d')\n",
        "plt.title('Распределение количества событий на пользователя')\n",
        "plt.show()"
      ]
    },
    {
      "cell_type": "code",
      "execution_count": 17,
      "metadata": {
        "colab": {
          "base_uri": "https://localhost:8080/",
          "height": 390
        },
        "id": "8XI1cA3xOPzD",
        "outputId": "a2ec472b-9888-4d0b-ec6b-211ba7f00cbb"
      },
      "outputs": [
        {
          "output_type": "display_data",
          "data": {
            "text/plain": [
              "<Figure size 864x432 with 1 Axes>"
            ],
            "image/png": "[encoded data removed]"
          },
          "metadata": {
            "needs_background": "light"
          }
        }
      ],
      "source": [
        "fig = plt.figure(figsize=(12,6))\n",
        "sns.boxplot(data=id_events['event_count'], palette='Blues_d', orient='h')\n",
        "plt.title('Распределение количества событий на пользователя')\n",
        "plt.show()"
      ]
    },
    {
      "cell_type": "markdown",
      "metadata": {
        "id": "D_pxEKquOPzD"
      },
      "source": [
        "По распределению количества событий видим, что есть выбросы. Имеет смысл проверить и медианное число событий на пользователя"
      ]
    },
    {
      "cell_type": "code",
      "execution_count": 18,
      "metadata": {
        "colab": {
          "base_uri": "https://localhost:8080/"
        },
        "id": "4R3fZOuaOPzD",
        "outputId": "5f07f227-db59-47db-a24f-b9350b0ca345"
      },
      "outputs": [
        {
          "output_type": "execute_result",
          "data": {
            "text/plain": [
              "20.0"
            ]
          },
          "metadata": {},
          "execution_count": 18
        }
      ],
      "source": [
        "id_events['event_count'].median()"
      ]
    },
    {
      "cell_type": "markdown",
      "source": [
        "Посмотрим, медианное число заказов  на пользователя:"
      ],
      "metadata": {
        "id": "FoazYl3MPTJK"
      }
    },
    {
      "cell_type": "code",
      "source": [
        "df.query('event_name == \"payment_screen_succesful\"').groupby('id')['event_name'].count().median()"
      ],
      "metadata": {
        "colab": {
          "base_uri": "https://localhost:8080/"
        },
        "id": "kaN3jF2gPSqz",
        "outputId": "1bd88b08-ef9f-48bf-d44a-bc5c406109a8"
      },
      "execution_count": 19,
      "outputs": [
        {
          "output_type": "execute_result",
          "data": {
            "text/plain": [
              "4.0"
            ]
          },
          "metadata": {},
          "execution_count": 19
        }
      ]
    },
    {
      "cell_type": "markdown",
      "source": [
        "Сделаем сводную таблицу, где каждому пользователю будет соответствовать количество каждого события:"
      ],
      "metadata": {
        "id": "-iLpdmuUZRuy"
      }
    },
    {
      "cell_type": "code",
      "source": [
        "events_user = df.pivot_table(index='id', columns='event_name', values='time', aggfunc='count').reset_index()\n",
        "events_user.head()"
      ],
      "metadata": {
        "colab": {
          "base_uri": "https://localhost:8080/",
          "height": 206
        },
        "id": "l-JdkZLnWpmj",
        "outputId": "b380315b-88b7-4464-f0fb-ca3413a624ee"
      },
      "execution_count": 20,
      "outputs": [
        {
          "output_type": "execute_result",
          "data": {
            "text/plain": [
              "event_name                id  cart_screen_appear  main_screen_appear  \\\n",
              "0           6888746892508752                 NaN             1.00000   \n",
              "1           6909561520679493             1.00000             2.00000   \n",
              "2           6922444491712477             8.00000            19.00000   \n",
              "3           7435777799948366                 NaN             6.00000   \n",
              "4           7702139951469979             5.00000            40.00000   \n",
              "\n",
              "event_name  offers_screen_appear  payment_screen_succesful  tutorial  \n",
              "0                            NaN                       NaN       NaN  \n",
              "1                        1.00000                   1.00000       NaN  \n",
              "2                       12.00000                   8.00000       NaN  \n",
              "3                            NaN                       NaN       NaN  \n",
              "4                       87.00000                   5.00000       NaN  "
            ],
            "text/html": [
              "\n",
              "  <div id=\"df-3dfca25f-b349-43d0-9943-e2085802655c\">\n",
              "    <div class=\"colab-df-container\">\n",
              "      <div>\n",
              "<style scoped>\n",
              "    .dataframe tbody tr th:only-of-type {\n",
              "        vertical-align: middle;\n",
              "    }\n",
              "\n",
              "    .dataframe tbody tr th {\n",
              "        vertical-align: top;\n",
              "    }\n",
              "\n",
              "    .dataframe thead th {\n",
              "        text-align: right;\n",
              "    }\n",
              "</style>\n",
              "<table border=\"1\" class=\"dataframe\">\n",
              "  <thead>\n",
              "    <tr style=\"text-align: right;\">\n",
              "      <th>event_name</th>\n",
              "      <th>id</th>\n",
              "      <th>cart_screen_appear</th>\n",
              "      <th>main_screen_appear</th>\n",
              "      <th>offers_screen_appear</th>\n",
              "      <th>payment_screen_succesful</th>\n",
              "      <th>tutorial</th>\n",
              "    </tr>\n",
              "  </thead>\n",
              "  <tbody>\n",
              "    <tr>\n",
              "      <th>0</th>\n",
              "      <td>6888746892508752</td>\n",
              "      <td>NaN</td>\n",
              "      <td>1.00000</td>\n",
              "      <td>NaN</td>\n",
              "      <td>NaN</td>\n",
              "      <td>NaN</td>\n",
              "    </tr>\n",
              "    <tr>\n",
              "      <th>1</th>\n",
              "      <td>6909561520679493</td>\n",
              "      <td>1.00000</td>\n",
              "      <td>2.00000</td>\n",
              "      <td>1.00000</td>\n",
              "      <td>1.00000</td>\n",
              "      <td>NaN</td>\n",
              "    </tr>\n",
              "    <tr>\n",
              "      <th>2</th>\n",
              "      <td>6922444491712477</td>\n",
              "      <td>8.00000</td>\n",
              "      <td>19.00000</td>\n",
              "      <td>12.00000</td>\n",
              "      <td>8.00000</td>\n",
              "      <td>NaN</td>\n",
              "    </tr>\n",
              "    <tr>\n",
              "      <th>3</th>\n",
              "      <td>7435777799948366</td>\n",
              "      <td>NaN</td>\n",
              "      <td>6.00000</td>\n",
              "      <td>NaN</td>\n",
              "      <td>NaN</td>\n",
              "      <td>NaN</td>\n",
              "    </tr>\n",
              "    <tr>\n",
              "      <th>4</th>\n",
              "      <td>7702139951469979</td>\n",
              "      <td>5.00000</td>\n",
              "      <td>40.00000</td>\n",
              "      <td>87.00000</td>\n",
              "      <td>5.00000</td>\n",
              "      <td>NaN</td>\n",
              "    </tr>\n",
              "  </tbody>\n",
              "</table>\n",
              "</div>\n",
              "      <button class=\"colab-df-convert\" onclick=\"convertToInteractive('df-3dfca25f-b349-43d0-9943-e2085802655c')\"\n",
              "              title=\"Convert this dataframe to an interactive table.\"\n",
              "              style=\"display:none;\">\n",
              "        \n",
              "  <svg xmlns=\"http://www.w3.org/2000/svg\" height=\"24px\"viewBox=\"0 0 24 24\"\n",
              "       width=\"24px\">\n",
              "    <path d=\"M0 0h24v24H0V0z\" fill=\"none\"/>\n",
              "    <path d=\"M18.56 5.44l.94 2.06.94-2.06 2.06-.94-2.06-.94-.94-2.06-.94 2.06-2.06.94zm-11 1L8.5 8.5l.94-2.06 2.06-.94-2.06-.94L8.5 2.5l-.94 2.06-2.06.94zm10 10l.94 2.06.94-2.06 2.06-.94-2.06-.94-.94-2.06-.94 2.06-2.06.94z\"/><path d=\"M17.41 7.96l-1.37-1.37c-.4-.4-.92-.59-1.43-.59-.52 0-1.04.2-1.43.59L10.3 9.45l-7.72 7.72c-.78.78-.78 2.05 0 2.83L4 21.41c.39.39.9.59 1.41.59.51 0 1.02-.2 1.41-.59l7.78-7.78 2.81-2.81c.8-.78.8-2.07 0-2.86zM5.41 20L4 18.59l7.72-7.72 1.47 1.35L5.41 20z\"/>\n",
              "  </svg>\n",
              "      </button>\n",
              "      \n",
              "  <style>\n",
              "    .colab-df-container {\n",
              "      display:flex;\n",
              "      flex-wrap:wrap;\n",
              "      gap: 12px;\n",
              "    }\n",
              "\n",
              "    .colab-df-convert {\n",
              "      background-color: #E8F0FE;\n",
              "      border: none;\n",
              "      border-radius: 50%;\n",
              "      cursor: pointer;\n",
              "      display: none;\n",
              "      fill: #1967D2;\n",
              "      height: 32px;\n",
              "      padding: 0 0 0 0;\n",
              "      width: 32px;\n",
              "    }\n",
              "\n",
              "    .colab-df-convert:hover {\n",
              "      background-color: #E2EBFA;\n",
              "      box-shadow: 0px 1px 2px rgba(60, 64, 67, 0.3), 0px 1px 3px 1px rgba(60, 64, 67, 0.15);\n",
              "      fill: #174EA6;\n",
              "    }\n",
              "\n",
              "    [theme=dark] .colab-df-convert {\n",
              "      background-color: #3B4455;\n",
              "      fill: #D2E3FC;\n",
              "    }\n",
              "\n",
              "    [theme=dark] .colab-df-convert:hover {\n",
              "      background-color: #434B5C;\n",
              "      box-shadow: 0px 1px 3px 1px rgba(0, 0, 0, 0.15);\n",
              "      filter: drop-shadow(0px 1px 2px rgba(0, 0, 0, 0.3));\n",
              "      fill: #FFFFFF;\n",
              "    }\n",
              "  </style>\n",
              "\n",
              "      <script>\n",
              "        const buttonEl =\n",
              "          document.querySelector('#df-3dfca25f-b349-43d0-9943-e2085802655c button.colab-df-convert');\n",
              "        buttonEl.style.display =\n",
              "          google.colab.kernel.accessAllowed ? 'block' : 'none';\n",
              "\n",
              "        async function convertToInteractive(key) {\n",
              "          const element = document.querySelector('#df-3dfca25f-b349-43d0-9943-e2085802655c');\n",
              "          const dataTable =\n",
              "            await google.colab.kernel.invokeFunction('convertToInteractive',\n",
              "                                                     [key], {});\n",
              "          if (!dataTable) return;\n",
              "\n",
              "          const docLinkHtml = 'Like what you see? Visit the ' +\n",
              "            '<a target=\"_blank\" href=https://colab.research.google.com/notebooks/data_table.ipynb>data table notebook</a>'\n",
              "            + ' to learn more about interactive tables.';\n",
              "          element.innerHTML = '';\n",
              "          dataTable['output_type'] = 'display_data';\n",
              "          await google.colab.output.renderOutput(dataTable, element);\n",
              "          const docLink = document.createElement('div');\n",
              "          docLink.innerHTML = docLinkHtml;\n",
              "          element.appendChild(docLink);\n",
              "        }\n",
              "      </script>\n",
              "    </div>\n",
              "  </div>\n",
              "  "
            ]
          },
          "metadata": {},
          "execution_count": 20
        }
      ]
    },
    {
      "cell_type": "markdown",
      "source": [
        "Посмотрим на параметры распределений:"
      ],
      "metadata": {
        "id": "g8ldtq_qY3_k"
      }
    },
    {
      "cell_type": "code",
      "source": [
        "events_user.drop('id', axis=1).describe()"
      ],
      "metadata": {
        "colab": {
          "base_uri": "https://localhost:8080/",
          "height": 300
        },
        "id": "yVJ0Fsp-YKlz",
        "outputId": "86b6b0cc-c3e5-455c-d0a7-df23d182b463"
      },
      "execution_count": 21,
      "outputs": [
        {
          "output_type": "execute_result",
          "data": {
            "text/plain": [
              "event_name  cart_screen_appear  main_screen_appear  offers_screen_appear  \\\n",
              "count              3,749.00000         7,439.00000           4,613.00000   \n",
              "mean                  11.38117            16.01035              10.14698   \n",
              "std                   37.95791            16.26676              16.01949   \n",
              "min                    1.00000             1.00000               1.00000   \n",
              "25%                    3.00000             6.00000               3.00000   \n",
              "50%                    5.00000            11.00000               6.00000   \n",
              "75%                   11.00000            21.00000              12.00000   \n",
              "max                1,100.00000           206.00000             509.00000   \n",
              "\n",
              "event_name  payment_screen_succesful  tutorial  \n",
              "count                    3,547.00000 847.00000  \n",
              "mean                         9.61883   1.20189  \n",
              "std                         36.70921   1.16513  \n",
              "min                          1.00000   1.00000  \n",
              "25%                          2.00000   1.00000  \n",
              "50%                          4.00000   1.00000  \n",
              "75%                          8.00000   1.00000  \n",
              "max                      1,085.00000  27.00000  "
            ],
            "text/html": [
              "\n",
              "  <div id=\"df-1e06f2ae-064f-421a-bb0f-c2a62721a087\">\n",
              "    <div class=\"colab-df-container\">\n",
              "      <div>\n",
              "<style scoped>\n",
              "    .dataframe tbody tr th:only-of-type {\n",
              "        vertical-align: middle;\n",
              "    }\n",
              "\n",
              "    .dataframe tbody tr th {\n",
              "        vertical-align: top;\n",
              "    }\n",
              "\n",
              "    .dataframe thead th {\n",
              "        text-align: right;\n",
              "    }\n",
              "</style>\n",
              "<table border=\"1\" class=\"dataframe\">\n",
              "  <thead>\n",
              "    <tr style=\"text-align: right;\">\n",
              "      <th>event_name</th>\n",
              "      <th>cart_screen_appear</th>\n",
              "      <th>main_screen_appear</th>\n",
              "      <th>offers_screen_appear</th>\n",
              "      <th>payment_screen_succesful</th>\n",
              "      <th>tutorial</th>\n",
              "    </tr>\n",
              "  </thead>\n",
              "  <tbody>\n",
              "    <tr>\n",
              "      <th>count</th>\n",
              "      <td>3,749.00000</td>\n",
              "      <td>7,439.00000</td>\n",
              "      <td>4,613.00000</td>\n",
              "      <td>3,547.00000</td>\n",
              "      <td>847.00000</td>\n",
              "    </tr>\n",
              "    <tr>\n",
              "      <th>mean</th>\n",
              "      <td>11.38117</td>\n",
              "      <td>16.01035</td>\n",
              "      <td>10.14698</td>\n",
              "      <td>9.61883</td>\n",
              "      <td>1.20189</td>\n",
              "    </tr>\n",
              "    <tr>\n",
              "      <th>std</th>\n",
              "      <td>37.95791</td>\n",
              "      <td>16.26676</td>\n",
              "      <td>16.01949</td>\n",
              "      <td>36.70921</td>\n",
              "      <td>1.16513</td>\n",
              "    </tr>\n",
              "    <tr>\n",
              "      <th>min</th>\n",
              "      <td>1.00000</td>\n",
              "      <td>1.00000</td>\n",
              "      <td>1.00000</td>\n",
              "      <td>1.00000</td>\n",
              "      <td>1.00000</td>\n",
              "    </tr>\n",
              "    <tr>\n",
              "      <th>25%</th>\n",
              "      <td>3.00000</td>\n",
              "      <td>6.00000</td>\n",
              "      <td>3.00000</td>\n",
              "      <td>2.00000</td>\n",
              "      <td>1.00000</td>\n",
              "    </tr>\n",
              "    <tr>\n",
              "      <th>50%</th>\n",
              "      <td>5.00000</td>\n",
              "      <td>11.00000</td>\n",
              "      <td>6.00000</td>\n",
              "      <td>4.00000</td>\n",
              "      <td>1.00000</td>\n",
              "    </tr>\n",
              "    <tr>\n",
              "      <th>75%</th>\n",
              "      <td>11.00000</td>\n",
              "      <td>21.00000</td>\n",
              "      <td>12.00000</td>\n",
              "      <td>8.00000</td>\n",
              "      <td>1.00000</td>\n",
              "    </tr>\n",
              "    <tr>\n",
              "      <th>max</th>\n",
              "      <td>1,100.00000</td>\n",
              "      <td>206.00000</td>\n",
              "      <td>509.00000</td>\n",
              "      <td>1,085.00000</td>\n",
              "      <td>27.00000</td>\n",
              "    </tr>\n",
              "  </tbody>\n",
              "</table>\n",
              "</div>\n",
              "      <button class=\"colab-df-convert\" onclick=\"convertToInteractive('df-1e06f2ae-064f-421a-bb0f-c2a62721a087')\"\n",
              "              title=\"Convert this dataframe to an interactive table.\"\n",
              "              style=\"display:none;\">\n",
              "        \n",
              "  <svg xmlns=\"http://www.w3.org/2000/svg\" height=\"24px\"viewBox=\"0 0 24 24\"\n",
              "       width=\"24px\">\n",
              "    <path d=\"M0 0h24v24H0V0z\" fill=\"none\"/>\n",
              "    <path d=\"M18.56 5.44l.94 2.06.94-2.06 2.06-.94-2.06-.94-.94-2.06-.94 2.06-2.06.94zm-11 1L8.5 8.5l.94-2.06 2.06-.94-2.06-.94L8.5 2.5l-.94 2.06-2.06.94zm10 10l.94 2.06.94-2.06 2.06-.94-2.06-.94-.94-2.06-.94 2.06-2.06.94z\"/><path d=\"M17.41 7.96l-1.37-1.37c-.4-.4-.92-.59-1.43-.59-.52 0-1.04.2-1.43.59L10.3 9.45l-7.72 7.72c-.78.78-.78 2.05 0 2.83L4 21.41c.39.39.9.59 1.41.59.51 0 1.02-.2 1.41-.59l7.78-7.78 2.81-2.81c.8-.78.8-2.07 0-2.86zM5.41 20L4 18.59l7.72-7.72 1.47 1.35L5.41 20z\"/>\n",
              "  </svg>\n",
              "      </button>\n",
              "      \n",
              "  <style>\n",
              "    .colab-df-container {\n",
              "      display:flex;\n",
              "      flex-wrap:wrap;\n",
              "      gap: 12px;\n",
              "    }\n",
              "\n",
              "    .colab-df-convert {\n",
              "      background-color: #E8F0FE;\n",
              "      border: none;\n",
              "      border-radius: 50%;\n",
              "      cursor: pointer;\n",
              "      display: none;\n",
              "      fill: #1967D2;\n",
              "      height: 32px;\n",
              "      padding: 0 0 0 0;\n",
              "      width: 32px;\n",
              "    }\n",
              "\n",
              "    .colab-df-convert:hover {\n",
              "      background-color: #E2EBFA;\n",
              "      box-shadow: 0px 1px 2px rgba(60, 64, 67, 0.3), 0px 1px 3px 1px rgba(60, 64, 67, 0.15);\n",
              "      fill: #174EA6;\n",
              "    }\n",
              "\n",
              "    [theme=dark] .colab-df-convert {\n",
              "      background-color: #3B4455;\n",
              "      fill: #D2E3FC;\n",
              "    }\n",
              "\n",
              "    [theme=dark] .colab-df-convert:hover {\n",
              "      background-color: #434B5C;\n",
              "      box-shadow: 0px 1px 3px 1px rgba(0, 0, 0, 0.15);\n",
              "      filter: drop-shadow(0px 1px 2px rgba(0, 0, 0, 0.3));\n",
              "      fill: #FFFFFF;\n",
              "    }\n",
              "  </style>\n",
              "\n",
              "      <script>\n",
              "        const buttonEl =\n",
              "          document.querySelector('#df-1e06f2ae-064f-421a-bb0f-c2a62721a087 button.colab-df-convert');\n",
              "        buttonEl.style.display =\n",
              "          google.colab.kernel.accessAllowed ? 'block' : 'none';\n",
              "\n",
              "        async function convertToInteractive(key) {\n",
              "          const element = document.querySelector('#df-1e06f2ae-064f-421a-bb0f-c2a62721a087');\n",
              "          const dataTable =\n",
              "            await google.colab.kernel.invokeFunction('convertToInteractive',\n",
              "                                                     [key], {});\n",
              "          if (!dataTable) return;\n",
              "\n",
              "          const docLinkHtml = 'Like what you see? Visit the ' +\n",
              "            '<a target=\"_blank\" href=https://colab.research.google.com/notebooks/data_table.ipynb>data table notebook</a>'\n",
              "            + ' to learn more about interactive tables.';\n",
              "          element.innerHTML = '';\n",
              "          dataTable['output_type'] = 'display_data';\n",
              "          await google.colab.output.renderOutput(dataTable, element);\n",
              "          const docLink = document.createElement('div');\n",
              "          docLink.innerHTML = docLinkHtml;\n",
              "          element.appendChild(docLink);\n",
              "        }\n",
              "      </script>\n",
              "    </div>\n",
              "  </div>\n",
              "  "
            ]
          },
          "metadata": {},
          "execution_count": 21
        }
      ]
    },
    {
      "cell_type": "markdown",
      "source": [
        "Видим, что во всех распределениях событий средние значения больше медианных из-за выбросов."
      ],
      "metadata": {
        "id": "9Gy7NMo0Y9WS"
      }
    },
    {
      "cell_type": "markdown",
      "source": [
        "Визуализируем распределения всех событий на пользователя:"
      ],
      "metadata": {
        "id": "mGnxrB8PXk9r"
      }
    },
    {
      "cell_type": "code",
      "source": [
        "cols = ['main_screen_appear',\n",
        "        'offers_screen_appear',\n",
        "        'cart_screen_appear',\n",
        "        'payment_screen_succesful'\n",
        "        ]\n",
        "plt.figure(figsize=(12,30))\n",
        "plt.subplots_adjust(hspace=0.5)\n",
        "plt.suptitle(\"Распределение событий по пользователям\", fontsize=18, y=0.915)\n",
        "\n",
        "for n, col in enumerate(cols):\n",
        "    ax = plt.subplot(10, 1, n + 1)\n",
        "    g = sns.boxplot(data=events_user, x=col, palette=\"OrRd\")\n",
        "    ax.set_title(col.upper().replace('_', ' '))\n",
        "    g.axvline(np.mean(events_user[col]), \n",
        "               linewidth=2, \n",
        "               color='r', \n",
        "               alpha=0.9, \n",
        "               linestyle='--', \n",
        "               label = 'Среднее = {:,.2f}'.format(np.mean(events_user[col])))\n",
        "    g.axvline(events_user[col].median(), \n",
        "               linewidth=2, \n",
        "               color='g', \n",
        "               alpha=0, \n",
        "               linestyle='--', \n",
        "               label = 'Медиана = {:,.2f}'.format(events_user[col].median()))\n",
        "    ax.set_xlabel(\"\")\n",
        "    plt.legend()"
      ],
      "metadata": {
        "colab": {
          "base_uri": "https://localhost:8080/",
          "height": 742
        },
        "id": "uczNlg1OXGJT",
        "outputId": "60549af4-0b28-43af-b654-d85c0f5254e7"
      },
      "execution_count": 22,
      "outputs": [
        {
          "output_type": "display_data",
          "data": {
            "text/plain": [
              "<Figure size 864x2160 with 4 Axes>"
            ],
            "image/png": "[encoded data removed]"
          },
          "metadata": {
            "needs_background": "light"
          }
        }
      ]
    },
    {
      "cell_type": "code",
      "source": [
        "cols = ['main_screen_appear',\n",
        "        'offers_screen_appear',\n",
        "        'cart_screen_appear',\n",
        "        'payment_screen_succesful'\n",
        "        ]\n",
        "plt.figure(figsize=(12,30))\n",
        "plt.subplots_adjust(hspace=0.5)\n",
        "plt.suptitle(\"Распределение событий по пользователям\", fontsize=18, y=0.915)\n",
        "\n",
        "for n, col in enumerate(cols):\n",
        "    ax = plt.subplot(10, 1, n + 1)\n",
        "    g = sns.histplot(data=events_user, x=col, palette=\"OrRd\")\n",
        "    ax.set_title(col.upper().replace('_', ' '))\n",
        "    g.axvline(np.mean(events_user[col]), \n",
        "               linewidth=2, \n",
        "               color='r', \n",
        "               alpha=0.9, \n",
        "               linestyle='--', \n",
        "               label = 'Среднее = {:,.2f}'.format(np.mean(events_user[col])))\n",
        "    g.axvline(events_user[col].median(), \n",
        "               linewidth=2, \n",
        "               color='g', \n",
        "               alpha=0, \n",
        "               linestyle='--', \n",
        "               label = 'Медиана = {:,.2f}'.format(events_user[col].median()))\n",
        "    ax.set_xlabel(\"\")\n",
        "    plt.legend()"
      ],
      "metadata": {
        "colab": {
          "base_uri": "https://localhost:8080/",
          "height": 742
        },
        "id": "PdEirG2aZv-L",
        "outputId": "bc331530-9161-4a44-ecea-05cdb4f7f53a"
      },
      "execution_count": 23,
      "outputs": [
        {
          "output_type": "display_data",
          "data": {
            "text/plain": [
              "<Figure size 864x2160 with 4 Axes>"
            ],
            "image/png": "[encoded data removed]"
          },
          "metadata": {
            "needs_background": "light"
          }
        }
      ]
    },
    {
      "cell_type": "markdown",
      "source": [
        "Видим, что распределения неравномерны и сильно скошены. Это означает, что мы не сможем использовать параметрический статистический тест для проверки гипотез."
      ],
      "metadata": {
        "id": "Tuu8bXvmZp05"
      }
    },
    {
      "cell_type": "markdown",
      "metadata": {
        "id": "CdPmsxWpb8gO"
      },
      "source": [
        "## Период исследования"
      ]
    },
    {
      "cell_type": "markdown",
      "metadata": {
        "id": "lYJY4XZxb_i9"
      },
      "source": [
        "Изучим внимательно столбцы с датой"
      ]
    },
    {
      "cell_type": "code",
      "execution_count": 24,
      "metadata": {
        "colab": {
          "base_uri": "https://localhost:8080/"
        },
        "id": "nTopLn24b26I",
        "outputId": "b132e0f2-4495-46f4-f136-bb0b7a4673a9"
      },
      "outputs": [
        {
          "output_type": "execute_result",
          "data": {
            "text/plain": [
              "count                  243713\n",
              "unique                 176654\n",
              "top       2019-08-01 14:40:35\n",
              "freq                        9\n",
              "first     2019-07-25 04:43:36\n",
              "last      2019-08-07 21:15:17\n",
              "Name: time, dtype: object"
            ]
          },
          "metadata": {},
          "execution_count": 24
        }
      ],
      "source": [
        "df['time'].describe()"
      ]
    },
    {
      "cell_type": "markdown",
      "metadata": {
        "id": "S7RkI44_4hb1"
      },
      "source": [
        "Минимальная дата: 25.07.2019\n",
        "\n",
        "Максимальная дата: 07.08.2019"
      ]
    },
    {
      "cell_type": "code",
      "execution_count": 25,
      "metadata": {
        "colab": {
          "base_uri": "https://localhost:8080/"
        },
        "id": "Z04saC-CVjRD",
        "outputId": "35621ac0-b82a-4587-aaaf-2370a5590390"
      },
      "outputs": [
        {
          "output_type": "execute_result",
          "data": {
            "text/plain": [
              "count         243713\n",
              "unique            14\n",
              "top       2019-08-01\n",
              "freq           36141\n",
              "Name: date, dtype: object"
            ]
          },
          "metadata": {},
          "execution_count": 25
        }
      ],
      "source": [
        "df['date'].describe()"
      ]
    },
    {
      "cell_type": "markdown",
      "metadata": {
        "id": "XgMCHEzGgTjb"
      },
      "source": [
        "В нашем датасете инфомрация за 14 дней"
      ]
    },
    {
      "cell_type": "code",
      "execution_count": 26,
      "metadata": {
        "colab": {
          "base_uri": "https://localhost:8080/",
          "height": 388
        },
        "id": "npSgtBg7Utsl",
        "outputId": "8631ecb1-24c9-4d54-9a38-6c1fc927bc47"
      },
      "outputs": [
        {
          "output_type": "display_data",
          "data": {
            "text/plain": [
              "<Figure size 1008x432 with 1 Axes>"
            ],
            "image/png": "[encoded data removed]"
          },
          "metadata": {
            "needs_background": "light"
          }
        }
      ],
      "source": [
        "fig = plt.figure(figsize = (14,6))\n",
        "sns.set_palette('Blues_d')\n",
        "sns.histplot(data=df['time'])\n",
        "plt.show()"
      ]
    },
    {
      "cell_type": "markdown",
      "metadata": {
        "id": "1VycYsGbcMgR"
      },
      "source": [
        "Из этого графика можно сделать вывод, что основная масса данных приходится на период с первого по восьмое августа.\n",
        "\n",
        "Посмотрим, какая доля событий не попадает в этот интервал:"
      ]
    },
    {
      "cell_type": "code",
      "execution_count": 27,
      "metadata": {
        "colab": {
          "base_uri": "https://localhost:8080/"
        },
        "id": "CNOBwmx-V3sB",
        "outputId": "ac043d62-97ad-4d5f-d4c2-43c4e1cf9326"
      },
      "outputs": [
        {
          "output_type": "execute_result",
          "data": {
            "text/plain": [
              "0.011595606307418972"
            ]
          },
          "metadata": {},
          "execution_count": 27
        }
      ],
      "source": [
        "len(df.query('time < \"2019-08-01\"')) / len(df)"
      ]
    },
    {
      "cell_type": "markdown",
      "metadata": {
        "id": "3HZ7Ku9QcgQP"
      },
      "source": [
        "Чуть больше одного процента - эти данные мы не будем использовать в дальнейших расчетах"
      ]
    },
    {
      "cell_type": "markdown",
      "metadata": {
        "id": "NtJTBVKQOPzF"
      },
      "source": [
        "Посмотрим, сколько всего у нас уникальных пользователей:"
      ]
    },
    {
      "cell_type": "code",
      "execution_count": 28,
      "metadata": {
        "colab": {
          "base_uri": "https://localhost:8080/"
        },
        "id": "lf9ijGlWOPzF",
        "outputId": "59921664-7f80-43de-82e6-bb8a3fc0e93d"
      },
      "outputs": [
        {
          "output_type": "execute_result",
          "data": {
            "text/plain": [
              "7551"
            ]
          },
          "metadata": {},
          "execution_count": 28
        }
      ],
      "source": [
        "users_old = df['id'].nunique()\n",
        "users_old"
      ]
    },
    {
      "cell_type": "code",
      "execution_count": 29,
      "metadata": {
        "id": "sYmT77mYcsOW"
      },
      "outputs": [],
      "source": [
        "df = df.query('time >= \"2019-08-01\"')"
      ]
    },
    {
      "cell_type": "markdown",
      "metadata": {
        "id": "HHNWuXReOPzF"
      },
      "source": [
        "Сколько уникальных пользователей после удаления части данных:"
      ]
    },
    {
      "cell_type": "code",
      "execution_count": 30,
      "metadata": {
        "scrolled": true,
        "id": "xeiFqaP8OPzH",
        "colab": {
          "base_uri": "https://localhost:8080/",
          "height": 35
        },
        "outputId": "db268f46-5a74-475f-a4c8-518969c44166"
      },
      "outputs": [
        {
          "output_type": "execute_result",
          "data": {
            "text/plain": [
              "'0.225%'"
            ],
            "application/vnd.google.colaboratory.intrinsic+json": {
              "type": "string"
            }
          },
          "metadata": {},
          "execution_count": 30
        }
      ],
      "source": [
        "users_new = df['id'].nunique()\n",
        "format((1 - users_new / users_old), '.3%')\n"
      ]
    },
    {
      "cell_type": "markdown",
      "metadata": {
        "id": "K5KIdLxaOPzH"
      },
      "source": [
        "То есть, мы теряем менее 1% уникальных пользователей."
      ]
    },
    {
      "cell_type": "code",
      "execution_count": 31,
      "metadata": {
        "colab": {
          "base_uri": "https://localhost:8080/"
        },
        "id": "tarRELvjc3mX",
        "outputId": "e558c363-c55a-4e82-f7b5-afac5c7e084a",
        "scrolled": true
      },
      "outputs": [
        {
          "output_type": "execute_result",
          "data": {
            "text/plain": [
              "248    84563\n",
              "246    79302\n",
              "247    77022\n",
              "Name: group, dtype: int64"
            ]
          },
          "metadata": {},
          "execution_count": 31
        }
      ],
      "source": [
        "df['group'].value_counts()"
      ]
    },
    {
      "cell_type": "markdown",
      "metadata": {
        "id": "q2x8XrlmeCjE"
      },
      "source": [
        "В данных присутствуют пользователи всех трех групп."
      ]
    },
    {
      "cell_type": "markdown",
      "metadata": {
        "id": "ZIK5l_-Ui2rO"
      },
      "source": [
        "**Принято решение использовать для анализа данные с 1 по 8 августа 2019 года.**"
      ]
    },
    {
      "cell_type": "markdown",
      "metadata": {
        "id": "jXaKwyndeKt5"
      },
      "source": [
        "## Воронка событий"
      ]
    },
    {
      "cell_type": "markdown",
      "metadata": {
        "id": "OZAqFDCijRI1"
      },
      "source": [
        "Посмотрим на количество событий  и пользователей в таблице. Рассчитаем конверсию от начального числа пользователей и конверсию от предыдущего шага (для наглядности).\n",
        "\n",
        "Также, исключим из дальнейших расчетов шаг 'tutorial'. Пользователей, просмотревших туториал, достаточно мало. К тому же нас больше интересует конверсия в платящих пользователей. "
      ]
    },
    {
      "cell_type": "code",
      "execution_count": 32,
      "metadata": {
        "colab": {
          "base_uri": "https://localhost:8080/"
        },
        "id": "y04M8A4jm3AP",
        "outputId": "7ceafc03-fc10-47d6-a40d-1b839fedf65c"
      },
      "outputs": [
        {
          "output_type": "execute_result",
          "data": {
            "text/plain": [
              "array(['tutorial', 'main_screen_appear', 'offers_screen_appear',\n",
              "       'cart_screen_appear', 'payment_screen_succesful'], dtype=object)"
            ]
          },
          "metadata": {},
          "execution_count": 32
        }
      ],
      "source": [
        "df['event_name'].unique()"
      ]
    },
    {
      "cell_type": "markdown",
      "metadata": {
        "id": "D4CvQpSijIfq"
      },
      "source": [
        "Событий всего: "
      ]
    },
    {
      "cell_type": "code",
      "execution_count": 33,
      "metadata": {
        "colab": {
          "base_uri": "https://localhost:8080/"
        },
        "id": "yWrQm2jggsMD",
        "outputId": "1d6a7889-c9a2-4fcc-bdce-8b2611226d84"
      },
      "outputs": [
        {
          "output_type": "execute_result",
          "data": {
            "text/plain": [
              "240887"
            ]
          },
          "metadata": {},
          "execution_count": 33
        }
      ],
      "source": [
        "df['event_name'].count()"
      ]
    },
    {
      "cell_type": "markdown",
      "metadata": {
        "id": "bCYJjCvqjMdY"
      },
      "source": [
        "Уникальных пользователей:"
      ]
    },
    {
      "cell_type": "code",
      "execution_count": 34,
      "metadata": {
        "colab": {
          "base_uri": "https://localhost:8080/"
        },
        "id": "uZlw_OEynLzH",
        "outputId": "6cb34d0e-2ea9-4807-edc6-ad3b4801e528"
      },
      "outputs": [
        {
          "output_type": "execute_result",
          "data": {
            "text/plain": [
              "7534"
            ]
          },
          "metadata": {},
          "execution_count": 34
        }
      ],
      "source": [
        "df['id'].nunique()"
      ]
    },
    {
      "cell_type": "markdown",
      "metadata": {
        "id": "QwDH-bSdjOxq"
      },
      "source": [
        "Соберем общую таблицу событий для всего эксперимента:"
      ]
    },
    {
      "cell_type": "code",
      "execution_count": 35,
      "metadata": {
        "colab": {
          "base_uri": "https://localhost:8080/",
          "height": 174
        },
        "id": "nW2dZXGWpNx0",
        "outputId": "dd30ef60-6477-43fa-93a4-21ce4f238c9c"
      },
      "outputs": [
        {
          "output_type": "execute_result",
          "data": {
            "text/plain": [
              "                 event_name   count  users  users_prev  conversion  \\\n",
              "1        main_screen_appear  117328   7419         NaN     0.98474   \n",
              "2      offers_screen_appear   46333   4593 7,419.00000     0.60964   \n",
              "0        cart_screen_appear   42303   3734 4,593.00000     0.49562   \n",
              "3  payment_screen_succesful   33918   3539 3,734.00000     0.46974   \n",
              "\n",
              "   conversion_prev  \n",
              "1              NaN  \n",
              "2          0.61909  \n",
              "0          0.81298  \n",
              "3          0.94778  "
            ],
            "text/html": [
              "\n",
              "  <div id=\"df-ee598ad5-a85d-43af-ae8e-47d80837f608\">\n",
              "    <div class=\"colab-df-container\">\n",
              "      <div>\n",
              "<style scoped>\n",
              "    .dataframe tbody tr th:only-of-type {\n",
              "        vertical-align: middle;\n",
              "    }\n",
              "\n",
              "    .dataframe tbody tr th {\n",
              "        vertical-align: top;\n",
              "    }\n",
              "\n",
              "    .dataframe thead th {\n",
              "        text-align: right;\n",
              "    }\n",
              "</style>\n",
              "<table border=\"1\" class=\"dataframe\">\n",
              "  <thead>\n",
              "    <tr style=\"text-align: right;\">\n",
              "      <th></th>\n",
              "      <th>event_name</th>\n",
              "      <th>count</th>\n",
              "      <th>users</th>\n",
              "      <th>users_prev</th>\n",
              "      <th>conversion</th>\n",
              "      <th>conversion_prev</th>\n",
              "    </tr>\n",
              "  </thead>\n",
              "  <tbody>\n",
              "    <tr>\n",
              "      <th>1</th>\n",
              "      <td>main_screen_appear</td>\n",
              "      <td>117328</td>\n",
              "      <td>7419</td>\n",
              "      <td>NaN</td>\n",
              "      <td>0.98474</td>\n",
              "      <td>NaN</td>\n",
              "    </tr>\n",
              "    <tr>\n",
              "      <th>2</th>\n",
              "      <td>offers_screen_appear</td>\n",
              "      <td>46333</td>\n",
              "      <td>4593</td>\n",
              "      <td>7,419.00000</td>\n",
              "      <td>0.60964</td>\n",
              "      <td>0.61909</td>\n",
              "    </tr>\n",
              "    <tr>\n",
              "      <th>0</th>\n",
              "      <td>cart_screen_appear</td>\n",
              "      <td>42303</td>\n",
              "      <td>3734</td>\n",
              "      <td>4,593.00000</td>\n",
              "      <td>0.49562</td>\n",
              "      <td>0.81298</td>\n",
              "    </tr>\n",
              "    <tr>\n",
              "      <th>3</th>\n",
              "      <td>payment_screen_succesful</td>\n",
              "      <td>33918</td>\n",
              "      <td>3539</td>\n",
              "      <td>3,734.00000</td>\n",
              "      <td>0.46974</td>\n",
              "      <td>0.94778</td>\n",
              "    </tr>\n",
              "  </tbody>\n",
              "</table>\n",
              "</div>\n",
              "      <button class=\"colab-df-convert\" onclick=\"convertToInteractive('df-ee598ad5-a85d-43af-ae8e-47d80837f608')\"\n",
              "              title=\"Convert this dataframe to an interactive table.\"\n",
              "              style=\"display:none;\">\n",
              "        \n",
              "  <svg xmlns=\"http://www.w3.org/2000/svg\" height=\"24px\"viewBox=\"0 0 24 24\"\n",
              "       width=\"24px\">\n",
              "    <path d=\"M0 0h24v24H0V0z\" fill=\"none\"/>\n",
              "    <path d=\"M18.56 5.44l.94 2.06.94-2.06 2.06-.94-2.06-.94-.94-2.06-.94 2.06-2.06.94zm-11 1L8.5 8.5l.94-2.06 2.06-.94-2.06-.94L8.5 2.5l-.94 2.06-2.06.94zm10 10l.94 2.06.94-2.06 2.06-.94-2.06-.94-.94-2.06-.94 2.06-2.06.94z\"/><path d=\"M17.41 7.96l-1.37-1.37c-.4-.4-.92-.59-1.43-.59-.52 0-1.04.2-1.43.59L10.3 9.45l-7.72 7.72c-.78.78-.78 2.05 0 2.83L4 21.41c.39.39.9.59 1.41.59.51 0 1.02-.2 1.41-.59l7.78-7.78 2.81-2.81c.8-.78.8-2.07 0-2.86zM5.41 20L4 18.59l7.72-7.72 1.47 1.35L5.41 20z\"/>\n",
              "  </svg>\n",
              "      </button>\n",
              "      \n",
              "  <style>\n",
              "    .colab-df-container {\n",
              "      display:flex;\n",
              "      flex-wrap:wrap;\n",
              "      gap: 12px;\n",
              "    }\n",
              "\n",
              "    .colab-df-convert {\n",
              "      background-color: #E8F0FE;\n",
              "      border: none;\n",
              "      border-radius: 50%;\n",
              "      cursor: pointer;\n",
              "      display: none;\n",
              "      fill: #1967D2;\n",
              "      height: 32px;\n",
              "      padding: 0 0 0 0;\n",
              "      width: 32px;\n",
              "    }\n",
              "\n",
              "    .colab-df-convert:hover {\n",
              "      background-color: #E2EBFA;\n",
              "      box-shadow: 0px 1px 2px rgba(60, 64, 67, 0.3), 0px 1px 3px 1px rgba(60, 64, 67, 0.15);\n",
              "      fill: #174EA6;\n",
              "    }\n",
              "\n",
              "    [theme=dark] .colab-df-convert {\n",
              "      background-color: #3B4455;\n",
              "      fill: #D2E3FC;\n",
              "    }\n",
              "\n",
              "    [theme=dark] .colab-df-convert:hover {\n",
              "      background-color: #434B5C;\n",
              "      box-shadow: 0px 1px 3px 1px rgba(0, 0, 0, 0.15);\n",
              "      filter: drop-shadow(0px 1px 2px rgba(0, 0, 0, 0.3));\n",
              "      fill: #FFFFFF;\n",
              "    }\n",
              "  </style>\n",
              "\n",
              "      <script>\n",
              "        const buttonEl =\n",
              "          document.querySelector('#df-ee598ad5-a85d-43af-ae8e-47d80837f608 button.colab-df-convert');\n",
              "        buttonEl.style.display =\n",
              "          google.colab.kernel.accessAllowed ? 'block' : 'none';\n",
              "\n",
              "        async function convertToInteractive(key) {\n",
              "          const element = document.querySelector('#df-ee598ad5-a85d-43af-ae8e-47d80837f608');\n",
              "          const dataTable =\n",
              "            await google.colab.kernel.invokeFunction('convertToInteractive',\n",
              "                                                     [key], {});\n",
              "          if (!dataTable) return;\n",
              "\n",
              "          const docLinkHtml = 'Like what you see? Visit the ' +\n",
              "            '<a target=\"_blank\" href=https://colab.research.google.com/notebooks/data_table.ipynb>data table notebook</a>'\n",
              "            + ' to learn more about interactive tables.';\n",
              "          element.innerHTML = '';\n",
              "          dataTable['output_type'] = 'display_data';\n",
              "          await google.colab.output.renderOutput(dataTable, element);\n",
              "          const docLink = document.createElement('div');\n",
              "          docLink.innerHTML = docLinkHtml;\n",
              "          element.appendChild(docLink);\n",
              "        }\n",
              "      </script>\n",
              "    </div>\n",
              "  </div>\n",
              "  "
            ]
          },
          "metadata": {},
          "execution_count": 35
        }
      ],
      "source": [
        "events = df.groupby('event_name').agg({'time' : 'count', 'id' : 'nunique'}).reset_index().sort_values(by='id', ascending=False)\n",
        "events.columns = ['event_name', 'count', 'users'] # переименуем столбцы\n",
        "events['users_prev'] = events['users'].shift() # добавим столбец с кол-вом пользователей на предыдущем шаге\n",
        "events['conversion'] = events['users'] / df['id'].nunique() # найдем конверсию\n",
        "events['conversion_prev'] = events['users'] / events['users_prev'] # найдем конверсию с предыдущего шага\n",
        "events = events.query('event_name != \"tutorial\"')\n",
        "events"
      ]
    },
    {
      "cell_type": "markdown",
      "source": [
        "Видим, что часть пользователей эксперимента не видели главный экран: на этапе main_screen_appear меньше пользователей, чем всего участников эксперимента. Вероятно, это могут быть клиенты, получившие на почту письмо с предложением поучаствовать в промоакции - с прямой ссылкой на товар. \n",
        "\n",
        "Для чистоты эксперимента и корректного обсчета воронки такие заказы следует также логировать и исключать из дальнейших расчетов. Либо настроить систему АВ-тестирования таким образом, чтобы участники эксперимента не получали подобных писем."
      ],
      "metadata": {
        "id": "YSaJf7MLS6Xl"
      }
    },
    {
      "cell_type": "markdown",
      "metadata": {
        "id": "yTBvLujCjVLT"
      },
      "source": [
        "Построим воронку событий"
      ]
    },
    {
      "cell_type": "code",
      "execution_count": 36,
      "metadata": {
        "colab": {
          "base_uri": "https://localhost:8080/",
          "height": 617
        },
        "id": "vvmUahEO1Da3",
        "outputId": "c9717c80-c888-48b7-aaa1-891dc5ebb0f1"
      },
      "outputs": [
        {
          "output_type": "display_data",
          "data": {
            "text/html": [
              "<html>\n",
              "<head><meta charset=\"utf-8\" /></head>\n",
              "<body>\n",
              "    <div>            <script src=\"https://cdnjs.cloudflare.com/ajax/libs/mathjax/2.7.5/MathJax.js?config=TeX-AMS-MML_SVG\"></script><script type=\"text/javascript\">if (window.MathJax) {MathJax.Hub.Config({SVG: {font: \"STIX-Web\"}});}</script>                <script type=\"text/javascript\">window.PlotlyConfig = {MathJaxConfig: 'local'};</script>\n",
              "        <script src=\"https://cdn.plot.ly/plotly-2.8.3.min.js\"></script>                <div id=\"9bcfc677-fed5-4511-bafd-d4f9be2d2d11\" class=\"plotly-graph-div\" style=\"height:600px; width:800px;\"></div>            <script type=\"text/javascript\">                                    window.PLOTLYENV=window.PLOTLYENV || {};                                    if (document.getElementById(\"9bcfc677-fed5-4511-bafd-d4f9be2d2d11\")) {                    Plotly.newPlot(                        \"9bcfc677-fed5-4511-bafd-d4f9be2d2d11\",                        [{\"textinfo\":\"value+percent initial+percent previous\",\"x\":[7419,4593,3734,3539],\"y\":[\"main_screen_appear\",\"offers_screen_appear\",\"cart_screen_appear\",\"payment_screen_succesful\"],\"type\":\"funnel\"}],                        {\"template\":{\"data\":{\"bar\":[{\"error_x\":{\"color\":\"#2a3f5f\"},\"error_y\":{\"color\":\"#2a3f5f\"},\"marker\":{\"line\":{\"color\":\"#E5ECF6\",\"width\":0.5},\"pattern\":{\"fillmode\":\"overlay\",\"size\":10,\"solidity\":0.2}},\"type\":\"bar\"}],\"barpolar\":[{\"marker\":{\"line\":{\"color\":\"#E5ECF6\",\"width\":0.5},\"pattern\":{\"fillmode\":\"overlay\",\"size\":10,\"solidity\":0.2}},\"type\":\"barpolar\"}],\"carpet\":[{\"aaxis\":{\"endlinecolor\":\"#2a3f5f\",\"gridcolor\":\"white\",\"linecolor\":\"white\",\"minorgridcolor\":\"white\",\"startlinecolor\":\"#2a3f5f\"},\"baxis\":{\"endlinecolor\":\"#2a3f5f\",\"gridcolor\":\"white\",\"linecolor\":\"white\",\"minorgridcolor\":\"white\",\"startlinecolor\":\"#2a3f5f\"},\"type\":\"carpet\"}],\"choropleth\":[{\"colorbar\":{\"outlinewidth\":0,\"ticks\":\"\"},\"type\":\"choropleth\"}],\"contour\":[{\"colorbar\":{\"outlinewidth\":0,\"ticks\":\"\"},\"colorscale\":[[0.0,\"#0d0887\"],[0.1111111111111111,\"#46039f\"],[0.2222222222222222,\"#7201a8\"],[0.3333333333333333,\"#9c179e\"],[0.4444444444444444,\"#bd3786\"],[0.5555555555555556,\"#d8576b\"],[0.6666666666666666,\"#ed7953\"],[0.7777777777777778,\"#fb9f3a\"],[0.8888888888888888,\"#fdca26\"],[1.0,\"#f0f921\"]],\"type\":\"contour\"}],\"contourcarpet\":[{\"colorbar\":{\"outlinewidth\":0,\"ticks\":\"\"},\"type\":\"contourcarpet\"}],\"heatmap\":[{\"colorbar\":{\"outlinewidth\":0,\"ticks\":\"\"},\"colorscale\":[[0.0,\"#0d0887\"],[0.1111111111111111,\"#46039f\"],[0.2222222222222222,\"#7201a8\"],[0.3333333333333333,\"#9c179e\"],[0.4444444444444444,\"#bd3786\"],[0.5555555555555556,\"#d8576b\"],[0.6666666666666666,\"#ed7953\"],[0.7777777777777778,\"#fb9f3a\"],[0.8888888888888888,\"#fdca26\"],[1.0,\"#f0f921\"]],\"type\":\"heatmap\"}],\"heatmapgl\":[{\"colorbar\":{\"outlinewidth\":0,\"ticks\":\"\"},\"colorscale\":[[0.0,\"#0d0887\"],[0.1111111111111111,\"#46039f\"],[0.2222222222222222,\"#7201a8\"],[0.3333333333333333,\"#9c179e\"],[0.4444444444444444,\"#bd3786\"],[0.5555555555555556,\"#d8576b\"],[0.6666666666666666,\"#ed7953\"],[0.7777777777777778,\"#fb9f3a\"],[0.8888888888888888,\"#fdca26\"],[1.0,\"#f0f921\"]],\"type\":\"heatmapgl\"}],\"histogram\":[{\"marker\":{\"pattern\":{\"fillmode\":\"overlay\",\"size\":10,\"solidity\":0.2}},\"type\":\"histogram\"}],\"histogram2d\":[{\"colorbar\":{\"outlinewidth\":0,\"ticks\":\"\"},\"colorscale\":[[0.0,\"#0d0887\"],[0.1111111111111111,\"#46039f\"],[0.2222222222222222,\"#7201a8\"],[0.3333333333333333,\"#9c179e\"],[0.4444444444444444,\"#bd3786\"],[0.5555555555555556,\"#d8576b\"],[0.6666666666666666,\"#ed7953\"],[0.7777777777777778,\"#fb9f3a\"],[0.8888888888888888,\"#fdca26\"],[1.0,\"#f0f921\"]],\"type\":\"histogram2d\"}],\"histogram2dcontour\":[{\"colorbar\":{\"outlinewidth\":0,\"ticks\":\"\"},\"colorscale\":[[0.0,\"#0d0887\"],[0.1111111111111111,\"#46039f\"],[0.2222222222222222,\"#7201a8\"],[0.3333333333333333,\"#9c179e\"],[0.4444444444444444,\"#bd3786\"],[0.5555555555555556,\"#d8576b\"],[0.6666666666666666,\"#ed7953\"],[0.7777777777777778,\"#fb9f3a\"],[0.8888888888888888,\"#fdca26\"],[1.0,\"#f0f921\"]],\"type\":\"histogram2dcontour\"}],\"mesh3d\":[{\"colorbar\":{\"outlinewidth\":0,\"ticks\":\"\"},\"type\":\"mesh3d\"}],\"parcoords\":[{\"line\":{\"colorbar\":{\"outlinewidth\":0,\"ticks\":\"\"}},\"type\":\"parcoords\"}],\"pie\":[{\"automargin\":true,\"type\":\"pie\"}],\"scatter\":[{\"marker\":{\"colorbar\":{\"outlinewidth\":0,\"ticks\":\"\"}},\"type\":\"scatter\"}],\"scatter3d\":[{\"line\":{\"colorbar\":{\"outlinewidth\":0,\"ticks\":\"\"}},\"marker\":{\"colorbar\":{\"outlinewidth\":0,\"ticks\":\"\"}},\"type\":\"scatter3d\"}],\"scattercarpet\":[{\"marker\":{\"colorbar\":{\"outlinewidth\":0,\"ticks\":\"\"}},\"type\":\"scattercarpet\"}],\"scattergeo\":[{\"marker\":{\"colorbar\":{\"outlinewidth\":0,\"ticks\":\"\"}},\"type\":\"scattergeo\"}],\"scattergl\":[{\"marker\":{\"colorbar\":{\"outlinewidth\":0,\"ticks\":\"\"}},\"type\":\"scattergl\"}],\"scattermapbox\":[{\"marker\":{\"colorbar\":{\"outlinewidth\":0,\"ticks\":\"\"}},\"type\":\"scattermapbox\"}],\"scatterpolar\":[{\"marker\":{\"colorbar\":{\"outlinewidth\":0,\"ticks\":\"\"}},\"type\":\"scatterpolar\"}],\"scatterpolargl\":[{\"marker\":{\"colorbar\":{\"outlinewidth\":0,\"ticks\":\"\"}},\"type\":\"scatterpolargl\"}],\"scatterternary\":[{\"marker\":{\"colorbar\":{\"outlinewidth\":0,\"ticks\":\"\"}},\"type\":\"scatterternary\"}],\"surface\":[{\"colorbar\":{\"outlinewidth\":0,\"ticks\":\"\"},\"colorscale\":[[0.0,\"#0d0887\"],[0.1111111111111111,\"#46039f\"],[0.2222222222222222,\"#7201a8\"],[0.3333333333333333,\"#9c179e\"],[0.4444444444444444,\"#bd3786\"],[0.5555555555555556,\"#d8576b\"],[0.6666666666666666,\"#ed7953\"],[0.7777777777777778,\"#fb9f3a\"],[0.8888888888888888,\"#fdca26\"],[1.0,\"#f0f921\"]],\"type\":\"surface\"}],\"table\":[{\"cells\":{\"fill\":{\"color\":\"#EBF0F8\"},\"line\":{\"color\":\"white\"}},\"header\":{\"fill\":{\"color\":\"#C8D4E3\"},\"line\":{\"color\":\"white\"}},\"type\":\"table\"}]},\"layout\":{\"annotationdefaults\":{\"arrowcolor\":\"#2a3f5f\",\"arrowhead\":0,\"arrowwidth\":1},\"autotypenumbers\":\"strict\",\"coloraxis\":{\"colorbar\":{\"outlinewidth\":0,\"ticks\":\"\"}},\"colorscale\":{\"diverging\":[[0,\"#8e0152\"],[0.1,\"#c51b7d\"],[0.2,\"#de77ae\"],[0.3,\"#f1b6da\"],[0.4,\"#fde0ef\"],[0.5,\"#f7f7f7\"],[0.6,\"#e6f5d0\"],[0.7,\"#b8e186\"],[0.8,\"#7fbc41\"],[0.9,\"#4d9221\"],[1,\"#276419\"]],\"sequential\":[[0.0,\"#0d0887\"],[0.1111111111111111,\"#46039f\"],[0.2222222222222222,\"#7201a8\"],[0.3333333333333333,\"#9c179e\"],[0.4444444444444444,\"#bd3786\"],[0.5555555555555556,\"#d8576b\"],[0.6666666666666666,\"#ed7953\"],[0.7777777777777778,\"#fb9f3a\"],[0.8888888888888888,\"#fdca26\"],[1.0,\"#f0f921\"]],\"sequentialminus\":[[0.0,\"#0d0887\"],[0.1111111111111111,\"#46039f\"],[0.2222222222222222,\"#7201a8\"],[0.3333333333333333,\"#9c179e\"],[0.4444444444444444,\"#bd3786\"],[0.5555555555555556,\"#d8576b\"],[0.6666666666666666,\"#ed7953\"],[0.7777777777777778,\"#fb9f3a\"],[0.8888888888888888,\"#fdca26\"],[1.0,\"#f0f921\"]]},\"colorway\":[\"#636efa\",\"#EF553B\",\"#00cc96\",\"#ab63fa\",\"#FFA15A\",\"#19d3f3\",\"#FF6692\",\"#B6E880\",\"#FF97FF\",\"#FECB52\"],\"font\":{\"color\":\"#2a3f5f\"},\"geo\":{\"bgcolor\":\"white\",\"lakecolor\":\"white\",\"landcolor\":\"#E5ECF6\",\"showlakes\":true,\"showland\":true,\"subunitcolor\":\"white\"},\"hoverlabel\":{\"align\":\"left\"},\"hovermode\":\"closest\",\"mapbox\":{\"style\":\"light\"},\"paper_bgcolor\":\"white\",\"plot_bgcolor\":\"#E5ECF6\",\"polar\":{\"angularaxis\":{\"gridcolor\":\"white\",\"linecolor\":\"white\",\"ticks\":\"\"},\"bgcolor\":\"#E5ECF6\",\"radialaxis\":{\"gridcolor\":\"white\",\"linecolor\":\"white\",\"ticks\":\"\"}},\"scene\":{\"xaxis\":{\"backgroundcolor\":\"#E5ECF6\",\"gridcolor\":\"white\",\"gridwidth\":2,\"linecolor\":\"white\",\"showbackground\":true,\"ticks\":\"\",\"zerolinecolor\":\"white\"},\"yaxis\":{\"backgroundcolor\":\"#E5ECF6\",\"gridcolor\":\"white\",\"gridwidth\":2,\"linecolor\":\"white\",\"showbackground\":true,\"ticks\":\"\",\"zerolinecolor\":\"white\"},\"zaxis\":{\"backgroundcolor\":\"#E5ECF6\",\"gridcolor\":\"white\",\"gridwidth\":2,\"linecolor\":\"white\",\"showbackground\":true,\"ticks\":\"\",\"zerolinecolor\":\"white\"}},\"shapedefaults\":{\"line\":{\"color\":\"#2a3f5f\"}},\"ternary\":{\"aaxis\":{\"gridcolor\":\"white\",\"linecolor\":\"white\",\"ticks\":\"\"},\"baxis\":{\"gridcolor\":\"white\",\"linecolor\":\"white\",\"ticks\":\"\"},\"bgcolor\":\"#E5ECF6\",\"caxis\":{\"gridcolor\":\"white\",\"linecolor\":\"white\",\"ticks\":\"\"}},\"title\":{\"x\":0.05},\"xaxis\":{\"automargin\":true,\"gridcolor\":\"white\",\"linecolor\":\"white\",\"ticks\":\"\",\"title\":{\"standoff\":15},\"zerolinecolor\":\"white\",\"zerolinewidth\":2},\"yaxis\":{\"automargin\":true,\"gridcolor\":\"white\",\"linecolor\":\"white\",\"ticks\":\"\",\"title\":{\"standoff\":15},\"zerolinecolor\":\"white\",\"zerolinewidth\":2}}},\"title\":{\"text\":\"\\u0412\\u043e\\u0440\\u043e\\u043d\\u043a\\u0430 \\u0441\\u043e\\u0431\\u044b\\u0442\\u0438\\u0439 \\u043e\\u0431\\u0449\\u0430\\u044f\",\"x\":0.5},\"showlegend\":false,\"height\":600,\"width\":800},                        {\"responsive\": true}                    ).then(function(){\n",
              "                            \n",
              "var gd = document.getElementById('9bcfc677-fed5-4511-bafd-d4f9be2d2d11');\n",
              "var x = new MutationObserver(function (mutations, observer) {{\n",
              "        var display = window.getComputedStyle(gd).display;\n",
              "        if (!display || display === 'none') {{\n",
              "            console.log([gd, 'removed!']);\n",
              "            Plotly.purge(gd);\n",
              "            observer.disconnect();\n",
              "        }}\n",
              "}});\n",
              "\n",
              "// Listen for the removal of the full notebook cells\n",
              "var notebookContainer = gd.closest('#notebook-container');\n",
              "if (notebookContainer) {{\n",
              "    x.observe(notebookContainer, {childList: true});\n",
              "}}\n",
              "\n",
              "// Listen for the clearing of the current output cell\n",
              "var outputEl = gd.closest('.output');\n",
              "if (outputEl) {{\n",
              "    x.observe(outputEl, {childList: true});\n",
              "}}\n",
              "\n",
              "                        })                };                            </script>        </div>\n",
              "</body>\n",
              "</html>"
            ]
          },
          "metadata": {}
        }
      ],
      "source": [
        "fig = go.Figure(\n",
        "    go.Funnel(x = events['users'], \n",
        "              y = events['event_name'], \n",
        "              textinfo = \"value+percent initial+percent previous\"))\n",
        "\n",
        "fig.update_layout(showlegend=False,\n",
        "                  height=600, \n",
        "                  width=800,\n",
        "                  title_text=f'Воронка событий общая',\n",
        "                  title_x=0.5)\n",
        "fig.show()"
      ]
    },
    {
      "cell_type": "markdown",
      "metadata": {
        "id": "JBjCQSvqUhfV"
      },
      "source": [
        "## Воронки событий для трех групп"
      ]
    },
    {
      "cell_type": "markdown",
      "metadata": {
        "id": "Qjibn8Xek_Vd"
      },
      "source": [
        "Сделаем то же самое для трех групп по отдельности"
      ]
    },
    {
      "cell_type": "markdown",
      "metadata": {
        "id": "AQlk7l3Dxlf0"
      },
      "source": [
        "Напишем функции для создания таблиц и построения воронок по экспериментальным группам"
      ]
    },
    {
      "cell_type": "code",
      "execution_count": 37,
      "metadata": {
        "id": "p7iPqE2Ttrz2"
      },
      "outputs": [],
      "source": [
        "def get_events(data, i):\n",
        "      table = (data[data['group'] == i] # отбираем пользователей каждой группы\n",
        "      .groupby('event_name')\n",
        "      .agg({'time' : 'count', 'id' : 'nunique'}) # считаем кол-во уникальных пользователей и число событий\n",
        "      .reset_index()\n",
        "      .sort_values(by='id', ascending=False))\n",
        "      table.columns = ['event_name', 'count', 'users']\n",
        "\n",
        "      # «сдвигаем» количество пользователей, чтобы сравнить с предыдущим шагом\n",
        "      table['users_prev'] = table['users'].shift() \n",
        "\n",
        "      # считаем конверсию\n",
        "      table['conversion'] = table['users'] / df.query('group == @i')['id'].nunique()\n",
        "\n",
        "      # считаем конверсию на каждом шаге\n",
        "      table['conversion_prev'] = table['users'] / table['users_prev'] \n",
        "\n",
        "      # исключаем событие 'tutorial'\n",
        "      table = table.query('event_name != \"tutorial\"') \n",
        "      \n",
        "      return table"
      ]
    },
    {
      "cell_type": "code",
      "execution_count": 38,
      "metadata": {
        "id": "nLecnRZN6bZv"
      },
      "outputs": [],
      "source": [
        "def get_funnel(table, i=0):\n",
        "  data = dict(values=table['users'],\n",
        "              labels=table['event_name'])\n",
        "\n",
        "  fig = px.funnel(data, \n",
        "                y='labels', \n",
        "                x='values')\n",
        "  fig.update_layout(showlegend=False,\n",
        "                  height=600, \n",
        "                  width=800,\n",
        "                  title_text=f'Воронка событий {i}',\n",
        "                  title_x=0.5)\n",
        "  fig.show()"
      ]
    },
    {
      "cell_type": "markdown",
      "metadata": {
        "id": "74t_vfro7DN8"
      },
      "source": [
        "Создадим таблицы показателей и воронки для всех групп"
      ]
    },
    {
      "cell_type": "code",
      "execution_count": 39,
      "metadata": {
        "colab": {
          "base_uri": "https://localhost:8080/",
          "height": 174
        },
        "id": "hGwLqDSLxuj-",
        "outputId": "c9c1eba8-ac99-4b93-d615-270baafb6cb1"
      },
      "outputs": [
        {
          "output_type": "execute_result",
          "data": {
            "text/plain": [
              "                 event_name  count  users  users_prev  conversion  \\\n",
              "1        main_screen_appear  37676   2450         NaN     0.98631   \n",
              "2      offers_screen_appear  14767   1542 2,450.00000     0.62077   \n",
              "0        cart_screen_appear  14690   1266 1,542.00000     0.50966   \n",
              "3  payment_screen_succesful  11852   1200 1,266.00000     0.48309   \n",
              "\n",
              "   conversion_prev  \n",
              "1              NaN  \n",
              "2          0.62939  \n",
              "0          0.82101  \n",
              "3          0.94787  "
            ],
            "text/html": [
              "\n",
              "  <div id=\"df-38a3bdda-e7b8-49f6-8654-aa68d4c333a3\">\n",
              "    <div class=\"colab-df-container\">\n",
              "      <div>\n",
              "<style scoped>\n",
              "    .dataframe tbody tr th:only-of-type {\n",
              "        vertical-align: middle;\n",
              "    }\n",
              "\n",
              "    .dataframe tbody tr th {\n",
              "        vertical-align: top;\n",
              "    }\n",
              "\n",
              "    .dataframe thead th {\n",
              "        text-align: right;\n",
              "    }\n",
              "</style>\n",
              "<table border=\"1\" class=\"dataframe\">\n",
              "  <thead>\n",
              "    <tr style=\"text-align: right;\">\n",
              "      <th></th>\n",
              "      <th>event_name</th>\n",
              "      <th>count</th>\n",
              "      <th>users</th>\n",
              "      <th>users_prev</th>\n",
              "      <th>conversion</th>\n",
              "      <th>conversion_prev</th>\n",
              "    </tr>\n",
              "  </thead>\n",
              "  <tbody>\n",
              "    <tr>\n",
              "      <th>1</th>\n",
              "      <td>main_screen_appear</td>\n",
              "      <td>37676</td>\n",
              "      <td>2450</td>\n",
              "      <td>NaN</td>\n",
              "      <td>0.98631</td>\n",
              "      <td>NaN</td>\n",
              "    </tr>\n",
              "    <tr>\n",
              "      <th>2</th>\n",
              "      <td>offers_screen_appear</td>\n",
              "      <td>14767</td>\n",
              "      <td>1542</td>\n",
              "      <td>2,450.00000</td>\n",
              "      <td>0.62077</td>\n",
              "      <td>0.62939</td>\n",
              "    </tr>\n",
              "    <tr>\n",
              "      <th>0</th>\n",
              "      <td>cart_screen_appear</td>\n",
              "      <td>14690</td>\n",
              "      <td>1266</td>\n",
              "      <td>1,542.00000</td>\n",
              "      <td>0.50966</td>\n",
              "      <td>0.82101</td>\n",
              "    </tr>\n",
              "    <tr>\n",
              "      <th>3</th>\n",
              "      <td>payment_screen_succesful</td>\n",
              "      <td>11852</td>\n",
              "      <td>1200</td>\n",
              "      <td>1,266.00000</td>\n",
              "      <td>0.48309</td>\n",
              "      <td>0.94787</td>\n",
              "    </tr>\n",
              "  </tbody>\n",
              "</table>\n",
              "</div>\n",
              "      <button class=\"colab-df-convert\" onclick=\"convertToInteractive('df-38a3bdda-e7b8-49f6-8654-aa68d4c333a3')\"\n",
              "              title=\"Convert this dataframe to an interactive table.\"\n",
              "              style=\"display:none;\">\n",
              "        \n",
              "  <svg xmlns=\"http://www.w3.org/2000/svg\" height=\"24px\"viewBox=\"0 0 24 24\"\n",
              "       width=\"24px\">\n",
              "    <path d=\"M0 0h24v24H0V0z\" fill=\"none\"/>\n",
              "    <path d=\"M18.56 5.44l.94 2.06.94-2.06 2.06-.94-2.06-.94-.94-2.06-.94 2.06-2.06.94zm-11 1L8.5 8.5l.94-2.06 2.06-.94-2.06-.94L8.5 2.5l-.94 2.06-2.06.94zm10 10l.94 2.06.94-2.06 2.06-.94-2.06-.94-.94-2.06-.94 2.06-2.06.94z\"/><path d=\"M17.41 7.96l-1.37-1.37c-.4-.4-.92-.59-1.43-.59-.52 0-1.04.2-1.43.59L10.3 9.45l-7.72 7.72c-.78.78-.78 2.05 0 2.83L4 21.41c.39.39.9.59 1.41.59.51 0 1.02-.2 1.41-.59l7.78-7.78 2.81-2.81c.8-.78.8-2.07 0-2.86zM5.41 20L4 18.59l7.72-7.72 1.47 1.35L5.41 20z\"/>\n",
              "  </svg>\n",
              "      </button>\n",
              "      \n",
              "  <style>\n",
              "    .colab-df-container {\n",
              "      display:flex;\n",
              "      flex-wrap:wrap;\n",
              "      gap: 12px;\n",
              "    }\n",
              "\n",
              "    .colab-df-convert {\n",
              "      background-color: #E8F0FE;\n",
              "      border: none;\n",
              "      border-radius: 50%;\n",
              "      cursor: pointer;\n",
              "      display: none;\n",
              "      fill: #1967D2;\n",
              "      height: 32px;\n",
              "      padding: 0 0 0 0;\n",
              "      width: 32px;\n",
              "    }\n",
              "\n",
              "    .colab-df-convert:hover {\n",
              "      background-color: #E2EBFA;\n",
              "      box-shadow: 0px 1px 2px rgba(60, 64, 67, 0.3), 0px 1px 3px 1px rgba(60, 64, 67, 0.15);\n",
              "      fill: #174EA6;\n",
              "    }\n",
              "\n",
              "    [theme=dark] .colab-df-convert {\n",
              "      background-color: #3B4455;\n",
              "      fill: #D2E3FC;\n",
              "    }\n",
              "\n",
              "    [theme=dark] .colab-df-convert:hover {\n",
              "      background-color: #434B5C;\n",
              "      box-shadow: 0px 1px 3px 1px rgba(0, 0, 0, 0.15);\n",
              "      filter: drop-shadow(0px 1px 2px rgba(0, 0, 0, 0.3));\n",
              "      fill: #FFFFFF;\n",
              "    }\n",
              "  </style>\n",
              "\n",
              "      <script>\n",
              "        const buttonEl =\n",
              "          document.querySelector('#df-38a3bdda-e7b8-49f6-8654-aa68d4c333a3 button.colab-df-convert');\n",
              "        buttonEl.style.display =\n",
              "          google.colab.kernel.accessAllowed ? 'block' : 'none';\n",
              "\n",
              "        async function convertToInteractive(key) {\n",
              "          const element = document.querySelector('#df-38a3bdda-e7b8-49f6-8654-aa68d4c333a3');\n",
              "          const dataTable =\n",
              "            await google.colab.kernel.invokeFunction('convertToInteractive',\n",
              "                                                     [key], {});\n",
              "          if (!dataTable) return;\n",
              "\n",
              "          const docLinkHtml = 'Like what you see? Visit the ' +\n",
              "            '<a target=\"_blank\" href=https://colab.research.google.com/notebooks/data_table.ipynb>data table notebook</a>'\n",
              "            + ' to learn more about interactive tables.';\n",
              "          element.innerHTML = '';\n",
              "          dataTable['output_type'] = 'display_data';\n",
              "          await google.colab.output.renderOutput(dataTable, element);\n",
              "          const docLink = document.createElement('div');\n",
              "          docLink.innerHTML = docLinkHtml;\n",
              "          element.appendChild(docLink);\n",
              "        }\n",
              "      </script>\n",
              "    </div>\n",
              "  </div>\n",
              "  "
            ]
          },
          "metadata": {},
          "execution_count": 39
        }
      ],
      "source": [
        "events_246 = get_events(df, 246)\n",
        "events_246"
      ]
    },
    {
      "cell_type": "code",
      "execution_count": 40,
      "metadata": {
        "colab": {
          "base_uri": "https://localhost:8080/",
          "height": 617
        },
        "id": "DFLK8e4y6egJ",
        "outputId": "66012f1b-688a-4c3b-bba5-85872ef0ee1e"
      },
      "outputs": [
        {
          "output_type": "display_data",
          "data": {
            "text/html": [
              "<html>\n",
              "<head><meta charset=\"utf-8\" /></head>\n",
              "<body>\n",
              "    <div>            <script src=\"https://cdnjs.cloudflare.com/ajax/libs/mathjax/2.7.5/MathJax.js?config=TeX-AMS-MML_SVG\"></script><script type=\"text/javascript\">if (window.MathJax) {MathJax.Hub.Config({SVG: {font: \"STIX-Web\"}});}</script>                <script type=\"text/javascript\">window.PlotlyConfig = {MathJaxConfig: 'local'};</script>\n",
              "        <script src=\"https://cdn.plot.ly/plotly-2.8.3.min.js\"></script>                <div id=\"b685d4e0-8dd2-434c-8455-9daa16c63475\" class=\"plotly-graph-div\" style=\"height:600px; width:800px;\"></div>            <script type=\"text/javascript\">                                    window.PLOTLYENV=window.PLOTLYENV || {};                                    if (document.getElementById(\"b685d4e0-8dd2-434c-8455-9daa16c63475\")) {                    Plotly.newPlot(                        \"b685d4e0-8dd2-434c-8455-9daa16c63475\",                        [{\"hovertemplate\":\"values=%{x}<br>labels=%{y}<extra></extra>\",\"legendgroup\":\"\",\"marker\":{\"color\":\"#636efa\"},\"name\":\"\",\"orientation\":\"h\",\"showlegend\":false,\"x\":[2450,1542,1266,1200],\"xaxis\":\"x\",\"y\":[\"main_screen_appear\",\"offers_screen_appear\",\"cart_screen_appear\",\"payment_screen_succesful\"],\"yaxis\":\"y\",\"type\":\"funnel\"}],                        {\"template\":{\"data\":{\"bar\":[{\"error_x\":{\"color\":\"#2a3f5f\"},\"error_y\":{\"color\":\"#2a3f5f\"},\"marker\":{\"line\":{\"color\":\"#E5ECF6\",\"width\":0.5},\"pattern\":{\"fillmode\":\"overlay\",\"size\":10,\"solidity\":0.2}},\"type\":\"bar\"}],\"barpolar\":[{\"marker\":{\"line\":{\"color\":\"#E5ECF6\",\"width\":0.5},\"pattern\":{\"fillmode\":\"overlay\",\"size\":10,\"solidity\":0.2}},\"type\":\"barpolar\"}],\"carpet\":[{\"aaxis\":{\"endlinecolor\":\"#2a3f5f\",\"gridcolor\":\"white\",\"linecolor\":\"white\",\"minorgridcolor\":\"white\",\"startlinecolor\":\"#2a3f5f\"},\"baxis\":{\"endlinecolor\":\"#2a3f5f\",\"gridcolor\":\"white\",\"linecolor\":\"white\",\"minorgridcolor\":\"white\",\"startlinecolor\":\"#2a3f5f\"},\"type\":\"carpet\"}],\"choropleth\":[{\"colorbar\":{\"outlinewidth\":0,\"ticks\":\"\"},\"type\":\"choropleth\"}],\"contour\":[{\"colorbar\":{\"outlinewidth\":0,\"ticks\":\"\"},\"colorscale\":[[0.0,\"#0d0887\"],[0.1111111111111111,\"#46039f\"],[0.2222222222222222,\"#7201a8\"],[0.3333333333333333,\"#9c179e\"],[0.4444444444444444,\"#bd3786\"],[0.5555555555555556,\"#d8576b\"],[0.6666666666666666,\"#ed7953\"],[0.7777777777777778,\"#fb9f3a\"],[0.8888888888888888,\"#fdca26\"],[1.0,\"#f0f921\"]],\"type\":\"contour\"}],\"contourcarpet\":[{\"colorbar\":{\"outlinewidth\":0,\"ticks\":\"\"},\"type\":\"contourcarpet\"}],\"heatmap\":[{\"colorbar\":{\"outlinewidth\":0,\"ticks\":\"\"},\"colorscale\":[[0.0,\"#0d0887\"],[0.1111111111111111,\"#46039f\"],[0.2222222222222222,\"#7201a8\"],[0.3333333333333333,\"#9c179e\"],[0.4444444444444444,\"#bd3786\"],[0.5555555555555556,\"#d8576b\"],[0.6666666666666666,\"#ed7953\"],[0.7777777777777778,\"#fb9f3a\"],[0.8888888888888888,\"#fdca26\"],[1.0,\"#f0f921\"]],\"type\":\"heatmap\"}],\"heatmapgl\":[{\"colorbar\":{\"outlinewidth\":0,\"ticks\":\"\"},\"colorscale\":[[0.0,\"#0d0887\"],[0.1111111111111111,\"#46039f\"],[0.2222222222222222,\"#7201a8\"],[0.3333333333333333,\"#9c179e\"],[0.4444444444444444,\"#bd3786\"],[0.5555555555555556,\"#d8576b\"],[0.6666666666666666,\"#ed7953\"],[0.7777777777777778,\"#fb9f3a\"],[0.8888888888888888,\"#fdca26\"],[1.0,\"#f0f921\"]],\"type\":\"heatmapgl\"}],\"histogram\":[{\"marker\":{\"pattern\":{\"fillmode\":\"overlay\",\"size\":10,\"solidity\":0.2}},\"type\":\"histogram\"}],\"histogram2d\":[{\"colorbar\":{\"outlinewidth\":0,\"ticks\":\"\"},\"colorscale\":[[0.0,\"#0d0887\"],[0.1111111111111111,\"#46039f\"],[0.2222222222222222,\"#7201a8\"],[0.3333333333333333,\"#9c179e\"],[0.4444444444444444,\"#bd3786\"],[0.5555555555555556,\"#d8576b\"],[0.6666666666666666,\"#ed7953\"],[0.7777777777777778,\"#fb9f3a\"],[0.8888888888888888,\"#fdca26\"],[1.0,\"#f0f921\"]],\"type\":\"histogram2d\"}],\"histogram2dcontour\":[{\"colorbar\":{\"outlinewidth\":0,\"ticks\":\"\"},\"colorscale\":[[0.0,\"#0d0887\"],[0.1111111111111111,\"#46039f\"],[0.2222222222222222,\"#7201a8\"],[0.3333333333333333,\"#9c179e\"],[0.4444444444444444,\"#bd3786\"],[0.5555555555555556,\"#d8576b\"],[0.6666666666666666,\"#ed7953\"],[0.7777777777777778,\"#fb9f3a\"],[0.8888888888888888,\"#fdca26\"],[1.0,\"#f0f921\"]],\"type\":\"histogram2dcontour\"}],\"mesh3d\":[{\"colorbar\":{\"outlinewidth\":0,\"ticks\":\"\"},\"type\":\"mesh3d\"}],\"parcoords\":[{\"line\":{\"colorbar\":{\"outlinewidth\":0,\"ticks\":\"\"}},\"type\":\"parcoords\"}],\"pie\":[{\"automargin\":true,\"type\":\"pie\"}],\"scatter\":[{\"marker\":{\"colorbar\":{\"outlinewidth\":0,\"ticks\":\"\"}},\"type\":\"scatter\"}],\"scatter3d\":[{\"line\":{\"colorbar\":{\"outlinewidth\":0,\"ticks\":\"\"}},\"marker\":{\"colorbar\":{\"outlinewidth\":0,\"ticks\":\"\"}},\"type\":\"scatter3d\"}],\"scattercarpet\":[{\"marker\":{\"colorbar\":{\"outlinewidth\":0,\"ticks\":\"\"}},\"type\":\"scattercarpet\"}],\"scattergeo\":[{\"marker\":{\"colorbar\":{\"outlinewidth\":0,\"ticks\":\"\"}},\"type\":\"scattergeo\"}],\"scattergl\":[{\"marker\":{\"colorbar\":{\"outlinewidth\":0,\"ticks\":\"\"}},\"type\":\"scattergl\"}],\"scattermapbox\":[{\"marker\":{\"colorbar\":{\"outlinewidth\":0,\"ticks\":\"\"}},\"type\":\"scattermapbox\"}],\"scatterpolar\":[{\"marker\":{\"colorbar\":{\"outlinewidth\":0,\"ticks\":\"\"}},\"type\":\"scatterpolar\"}],\"scatterpolargl\":[{\"marker\":{\"colorbar\":{\"outlinewidth\":0,\"ticks\":\"\"}},\"type\":\"scatterpolargl\"}],\"scatterternary\":[{\"marker\":{\"colorbar\":{\"outlinewidth\":0,\"ticks\":\"\"}},\"type\":\"scatterternary\"}],\"surface\":[{\"colorbar\":{\"outlinewidth\":0,\"ticks\":\"\"},\"colorscale\":[[0.0,\"#0d0887\"],[0.1111111111111111,\"#46039f\"],[0.2222222222222222,\"#7201a8\"],[0.3333333333333333,\"#9c179e\"],[0.4444444444444444,\"#bd3786\"],[0.5555555555555556,\"#d8576b\"],[0.6666666666666666,\"#ed7953\"],[0.7777777777777778,\"#fb9f3a\"],[0.8888888888888888,\"#fdca26\"],[1.0,\"#f0f921\"]],\"type\":\"surface\"}],\"table\":[{\"cells\":{\"fill\":{\"color\":\"#EBF0F8\"},\"line\":{\"color\":\"white\"}},\"header\":{\"fill\":{\"color\":\"#C8D4E3\"},\"line\":{\"color\":\"white\"}},\"type\":\"table\"}]},\"layout\":{\"annotationdefaults\":{\"arrowcolor\":\"#2a3f5f\",\"arrowhead\":0,\"arrowwidth\":1},\"autotypenumbers\":\"strict\",\"coloraxis\":{\"colorbar\":{\"outlinewidth\":0,\"ticks\":\"\"}},\"colorscale\":{\"diverging\":[[0,\"#8e0152\"],[0.1,\"#c51b7d\"],[0.2,\"#de77ae\"],[0.3,\"#f1b6da\"],[0.4,\"#fde0ef\"],[0.5,\"#f7f7f7\"],[0.6,\"#e6f5d0\"],[0.7,\"#b8e186\"],[0.8,\"#7fbc41\"],[0.9,\"#4d9221\"],[1,\"#276419\"]],\"sequential\":[[0.0,\"#0d0887\"],[0.1111111111111111,\"#46039f\"],[0.2222222222222222,\"#7201a8\"],[0.3333333333333333,\"#9c179e\"],[0.4444444444444444,\"#bd3786\"],[0.5555555555555556,\"#d8576b\"],[0.6666666666666666,\"#ed7953\"],[0.7777777777777778,\"#fb9f3a\"],[0.8888888888888888,\"#fdca26\"],[1.0,\"#f0f921\"]],\"sequentialminus\":[[0.0,\"#0d0887\"],[0.1111111111111111,\"#46039f\"],[0.2222222222222222,\"#7201a8\"],[0.3333333333333333,\"#9c179e\"],[0.4444444444444444,\"#bd3786\"],[0.5555555555555556,\"#d8576b\"],[0.6666666666666666,\"#ed7953\"],[0.7777777777777778,\"#fb9f3a\"],[0.8888888888888888,\"#fdca26\"],[1.0,\"#f0f921\"]]},\"colorway\":[\"#636efa\",\"#EF553B\",\"#00cc96\",\"#ab63fa\",\"#FFA15A\",\"#19d3f3\",\"#FF6692\",\"#B6E880\",\"#FF97FF\",\"#FECB52\"],\"font\":{\"color\":\"#2a3f5f\"},\"geo\":{\"bgcolor\":\"white\",\"lakecolor\":\"white\",\"landcolor\":\"#E5ECF6\",\"showlakes\":true,\"showland\":true,\"subunitcolor\":\"white\"},\"hoverlabel\":{\"align\":\"left\"},\"hovermode\":\"closest\",\"mapbox\":{\"style\":\"light\"},\"paper_bgcolor\":\"white\",\"plot_bgcolor\":\"#E5ECF6\",\"polar\":{\"angularaxis\":{\"gridcolor\":\"white\",\"linecolor\":\"white\",\"ticks\":\"\"},\"bgcolor\":\"#E5ECF6\",\"radialaxis\":{\"gridcolor\":\"white\",\"linecolor\":\"white\",\"ticks\":\"\"}},\"scene\":{\"xaxis\":{\"backgroundcolor\":\"#E5ECF6\",\"gridcolor\":\"white\",\"gridwidth\":2,\"linecolor\":\"white\",\"showbackground\":true,\"ticks\":\"\",\"zerolinecolor\":\"white\"},\"yaxis\":{\"backgroundcolor\":\"#E5ECF6\",\"gridcolor\":\"white\",\"gridwidth\":2,\"linecolor\":\"white\",\"showbackground\":true,\"ticks\":\"\",\"zerolinecolor\":\"white\"},\"zaxis\":{\"backgroundcolor\":\"#E5ECF6\",\"gridcolor\":\"white\",\"gridwidth\":2,\"linecolor\":\"white\",\"showbackground\":true,\"ticks\":\"\",\"zerolinecolor\":\"white\"}},\"shapedefaults\":{\"line\":{\"color\":\"#2a3f5f\"}},\"ternary\":{\"aaxis\":{\"gridcolor\":\"white\",\"linecolor\":\"white\",\"ticks\":\"\"},\"baxis\":{\"gridcolor\":\"white\",\"linecolor\":\"white\",\"ticks\":\"\"},\"bgcolor\":\"#E5ECF6\",\"caxis\":{\"gridcolor\":\"white\",\"linecolor\":\"white\",\"ticks\":\"\"}},\"title\":{\"x\":0.05},\"xaxis\":{\"automargin\":true,\"gridcolor\":\"white\",\"linecolor\":\"white\",\"ticks\":\"\",\"title\":{\"standoff\":15},\"zerolinecolor\":\"white\",\"zerolinewidth\":2},\"yaxis\":{\"automargin\":true,\"gridcolor\":\"white\",\"linecolor\":\"white\",\"ticks\":\"\",\"title\":{\"standoff\":15},\"zerolinecolor\":\"white\",\"zerolinewidth\":2}}},\"xaxis\":{\"anchor\":\"y\",\"domain\":[0.0,1.0],\"title\":{\"text\":\"values\"}},\"yaxis\":{\"anchor\":\"x\",\"domain\":[0.0,1.0],\"title\":{\"text\":\"labels\"}},\"legend\":{\"tracegroupgap\":0},\"margin\":{\"t\":60},\"title\":{\"text\":\"\\u0412\\u043e\\u0440\\u043e\\u043d\\u043a\\u0430 \\u0441\\u043e\\u0431\\u044b\\u0442\\u0438\\u0439 246\",\"x\":0.5},\"showlegend\":false,\"height\":600,\"width\":800},                        {\"responsive\": true}                    ).then(function(){\n",
              "                            \n",
              "var gd = document.getElementById('b685d4e0-8dd2-434c-8455-9daa16c63475');\n",
              "var x = new MutationObserver(function (mutations, observer) {{\n",
              "        var display = window.getComputedStyle(gd).display;\n",
              "        if (!display || display === 'none') {{\n",
              "            console.log([gd, 'removed!']);\n",
              "            Plotly.purge(gd);\n",
              "            observer.disconnect();\n",
              "        }}\n",
              "}});\n",
              "\n",
              "// Listen for the removal of the full notebook cells\n",
              "var notebookContainer = gd.closest('#notebook-container');\n",
              "if (notebookContainer) {{\n",
              "    x.observe(notebookContainer, {childList: true});\n",
              "}}\n",
              "\n",
              "// Listen for the clearing of the current output cell\n",
              "var outputEl = gd.closest('.output');\n",
              "if (outputEl) {{\n",
              "    x.observe(outputEl, {childList: true});\n",
              "}}\n",
              "\n",
              "                        })                };                            </script>        </div>\n",
              "</body>\n",
              "</html>"
            ]
          },
          "metadata": {}
        }
      ],
      "source": [
        "get_funnel(events_246, 246)"
      ]
    },
    {
      "cell_type": "code",
      "execution_count": 41,
      "metadata": {
        "colab": {
          "base_uri": "https://localhost:8080/",
          "height": 174
        },
        "id": "hQl0AnjAxwUW",
        "outputId": "33223cf9-9560-4815-ae0d-96d8194e9c0f"
      },
      "outputs": [
        {
          "output_type": "execute_result",
          "data": {
            "text/plain": [
              "                 event_name  count  users  users_prev  conversion  \\\n",
              "1        main_screen_appear  39090   2476         NaN     0.98528   \n",
              "2      offers_screen_appear  15179   1520 2,476.00000     0.60485   \n",
              "0        cart_screen_appear  12434   1238 1,520.00000     0.49264   \n",
              "3  payment_screen_succesful   9981   1158 1,238.00000     0.46080   \n",
              "\n",
              "   conversion_prev  \n",
              "1              NaN  \n",
              "2          0.61389  \n",
              "0          0.81447  \n",
              "3          0.93538  "
            ],
            "text/html": [
              "\n",
              "  <div id=\"df-b2b90c16-8f89-4d4c-9244-f24ecdcb3580\">\n",
              "    <div class=\"colab-df-container\">\n",
              "      <div>\n",
              "<style scoped>\n",
              "    .dataframe tbody tr th:only-of-type {\n",
              "        vertical-align: middle;\n",
              "    }\n",
              "\n",
              "    .dataframe tbody tr th {\n",
              "        vertical-align: top;\n",
              "    }\n",
              "\n",
              "    .dataframe thead th {\n",
              "        text-align: right;\n",
              "    }\n",
              "</style>\n",
              "<table border=\"1\" class=\"dataframe\">\n",
              "  <thead>\n",
              "    <tr style=\"text-align: right;\">\n",
              "      <th></th>\n",
              "      <th>event_name</th>\n",
              "      <th>count</th>\n",
              "      <th>users</th>\n",
              "      <th>users_prev</th>\n",
              "      <th>conversion</th>\n",
              "      <th>conversion_prev</th>\n",
              "    </tr>\n",
              "  </thead>\n",
              "  <tbody>\n",
              "    <tr>\n",
              "      <th>1</th>\n",
              "      <td>main_screen_appear</td>\n",
              "      <td>39090</td>\n",
              "      <td>2476</td>\n",
              "      <td>NaN</td>\n",
              "      <td>0.98528</td>\n",
              "      <td>NaN</td>\n",
              "    </tr>\n",
              "    <tr>\n",
              "      <th>2</th>\n",
              "      <td>offers_screen_appear</td>\n",
              "      <td>15179</td>\n",
              "      <td>1520</td>\n",
              "      <td>2,476.00000</td>\n",
              "      <td>0.60485</td>\n",
              "      <td>0.61389</td>\n",
              "    </tr>\n",
              "    <tr>\n",
              "      <th>0</th>\n",
              "      <td>cart_screen_appear</td>\n",
              "      <td>12434</td>\n",
              "      <td>1238</td>\n",
              "      <td>1,520.00000</td>\n",
              "      <td>0.49264</td>\n",
              "      <td>0.81447</td>\n",
              "    </tr>\n",
              "    <tr>\n",
              "      <th>3</th>\n",
              "      <td>payment_screen_succesful</td>\n",
              "      <td>9981</td>\n",
              "      <td>1158</td>\n",
              "      <td>1,238.00000</td>\n",
              "      <td>0.46080</td>\n",
              "      <td>0.93538</td>\n",
              "    </tr>\n",
              "  </tbody>\n",
              "</table>\n",
              "</div>\n",
              "      <button class=\"colab-df-convert\" onclick=\"convertToInteractive('df-b2b90c16-8f89-4d4c-9244-f24ecdcb3580')\"\n",
              "              title=\"Convert this dataframe to an interactive table.\"\n",
              "              style=\"display:none;\">\n",
              "        \n",
              "  <svg xmlns=\"http://www.w3.org/2000/svg\" height=\"24px\"viewBox=\"0 0 24 24\"\n",
              "       width=\"24px\">\n",
              "    <path d=\"M0 0h24v24H0V0z\" fill=\"none\"/>\n",
              "    <path d=\"M18.56 5.44l.94 2.06.94-2.06 2.06-.94-2.06-.94-.94-2.06-.94 2.06-2.06.94zm-11 1L8.5 8.5l.94-2.06 2.06-.94-2.06-.94L8.5 2.5l-.94 2.06-2.06.94zm10 10l.94 2.06.94-2.06 2.06-.94-2.06-.94-.94-2.06-.94 2.06-2.06.94z\"/><path d=\"M17.41 7.96l-1.37-1.37c-.4-.4-.92-.59-1.43-.59-.52 0-1.04.2-1.43.59L10.3 9.45l-7.72 7.72c-.78.78-.78 2.05 0 2.83L4 21.41c.39.39.9.59 1.41.59.51 0 1.02-.2 1.41-.59l7.78-7.78 2.81-2.81c.8-.78.8-2.07 0-2.86zM5.41 20L4 18.59l7.72-7.72 1.47 1.35L5.41 20z\"/>\n",
              "  </svg>\n",
              "      </button>\n",
              "      \n",
              "  <style>\n",
              "    .colab-df-container {\n",
              "      display:flex;\n",
              "      flex-wrap:wrap;\n",
              "      gap: 12px;\n",
              "    }\n",
              "\n",
              "    .colab-df-convert {\n",
              "      background-color: #E8F0FE;\n",
              "      border: none;\n",
              "      border-radius: 50%;\n",
              "      cursor: pointer;\n",
              "      display: none;\n",
              "      fill: #1967D2;\n",
              "      height: 32px;\n",
              "      padding: 0 0 0 0;\n",
              "      width: 32px;\n",
              "    }\n",
              "\n",
              "    .colab-df-convert:hover {\n",
              "      background-color: #E2EBFA;\n",
              "      box-shadow: 0px 1px 2px rgba(60, 64, 67, 0.3), 0px 1px 3px 1px rgba(60, 64, 67, 0.15);\n",
              "      fill: #174EA6;\n",
              "    }\n",
              "\n",
              "    [theme=dark] .colab-df-convert {\n",
              "      background-color: #3B4455;\n",
              "      fill: #D2E3FC;\n",
              "    }\n",
              "\n",
              "    [theme=dark] .colab-df-convert:hover {\n",
              "      background-color: #434B5C;\n",
              "      box-shadow: 0px 1px 3px 1px rgba(0, 0, 0, 0.15);\n",
              "      filter: drop-shadow(0px 1px 2px rgba(0, 0, 0, 0.3));\n",
              "      fill: #FFFFFF;\n",
              "    }\n",
              "  </style>\n",
              "\n",
              "      <script>\n",
              "        const buttonEl =\n",
              "          document.querySelector('#df-b2b90c16-8f89-4d4c-9244-f24ecdcb3580 button.colab-df-convert');\n",
              "        buttonEl.style.display =\n",
              "          google.colab.kernel.accessAllowed ? 'block' : 'none';\n",
              "\n",
              "        async function convertToInteractive(key) {\n",
              "          const element = document.querySelector('#df-b2b90c16-8f89-4d4c-9244-f24ecdcb3580');\n",
              "          const dataTable =\n",
              "            await google.colab.kernel.invokeFunction('convertToInteractive',\n",
              "                                                     [key], {});\n",
              "          if (!dataTable) return;\n",
              "\n",
              "          const docLinkHtml = 'Like what you see? Visit the ' +\n",
              "            '<a target=\"_blank\" href=https://colab.research.google.com/notebooks/data_table.ipynb>data table notebook</a>'\n",
              "            + ' to learn more about interactive tables.';\n",
              "          element.innerHTML = '';\n",
              "          dataTable['output_type'] = 'display_data';\n",
              "          await google.colab.output.renderOutput(dataTable, element);\n",
              "          const docLink = document.createElement('div');\n",
              "          docLink.innerHTML = docLinkHtml;\n",
              "          element.appendChild(docLink);\n",
              "        }\n",
              "      </script>\n",
              "    </div>\n",
              "  </div>\n",
              "  "
            ]
          },
          "metadata": {},
          "execution_count": 41
        }
      ],
      "source": [
        "events_247 = get_events(df, 247)\n",
        "events_247"
      ]
    },
    {
      "cell_type": "code",
      "execution_count": 42,
      "metadata": {
        "colab": {
          "base_uri": "https://localhost:8080/",
          "height": 617
        },
        "id": "CGqHHHun6vBV",
        "outputId": "e6fb6d2f-1373-4f56-89f8-ae1de6a1627b"
      },
      "outputs": [
        {
          "output_type": "display_data",
          "data": {
            "text/html": [
              "<html>\n",
              "<head><meta charset=\"utf-8\" /></head>\n",
              "<body>\n",
              "    <div>            <script src=\"https://cdnjs.cloudflare.com/ajax/libs/mathjax/2.7.5/MathJax.js?config=TeX-AMS-MML_SVG\"></script><script type=\"text/javascript\">if (window.MathJax) {MathJax.Hub.Config({SVG: {font: \"STIX-Web\"}});}</script>                <script type=\"text/javascript\">window.PlotlyConfig = {MathJaxConfig: 'local'};</script>\n",
              "        <script src=\"https://cdn.plot.ly/plotly-2.8.3.min.js\"></script>                <div id=\"ce8796ed-39fe-41b6-aebb-2d8b3dbb3f70\" class=\"plotly-graph-div\" style=\"height:600px; width:800px;\"></div>            <script type=\"text/javascript\">                                    window.PLOTLYENV=window.PLOTLYENV || {};                                    if (document.getElementById(\"ce8796ed-39fe-41b6-aebb-2d8b3dbb3f70\")) {                    Plotly.newPlot(                        \"ce8796ed-39fe-41b6-aebb-2d8b3dbb3f70\",                        [{\"hovertemplate\":\"values=%{x}<br>labels=%{y}<extra></extra>\",\"legendgroup\":\"\",\"marker\":{\"color\":\"#636efa\"},\"name\":\"\",\"orientation\":\"h\",\"showlegend\":false,\"x\":[2476,1520,1238,1158],\"xaxis\":\"x\",\"y\":[\"main_screen_appear\",\"offers_screen_appear\",\"cart_screen_appear\",\"payment_screen_succesful\"],\"yaxis\":\"y\",\"type\":\"funnel\"}],                        {\"template\":{\"data\":{\"bar\":[{\"error_x\":{\"color\":\"#2a3f5f\"},\"error_y\":{\"color\":\"#2a3f5f\"},\"marker\":{\"line\":{\"color\":\"#E5ECF6\",\"width\":0.5},\"pattern\":{\"fillmode\":\"overlay\",\"size\":10,\"solidity\":0.2}},\"type\":\"bar\"}],\"barpolar\":[{\"marker\":{\"line\":{\"color\":\"#E5ECF6\",\"width\":0.5},\"pattern\":{\"fillmode\":\"overlay\",\"size\":10,\"solidity\":0.2}},\"type\":\"barpolar\"}],\"carpet\":[{\"aaxis\":{\"endlinecolor\":\"#2a3f5f\",\"gridcolor\":\"white\",\"linecolor\":\"white\",\"minorgridcolor\":\"white\",\"startlinecolor\":\"#2a3f5f\"},\"baxis\":{\"endlinecolor\":\"#2a3f5f\",\"gridcolor\":\"white\",\"linecolor\":\"white\",\"minorgridcolor\":\"white\",\"startlinecolor\":\"#2a3f5f\"},\"type\":\"carpet\"}],\"choropleth\":[{\"colorbar\":{\"outlinewidth\":0,\"ticks\":\"\"},\"type\":\"choropleth\"}],\"contour\":[{\"colorbar\":{\"outlinewidth\":0,\"ticks\":\"\"},\"colorscale\":[[0.0,\"#0d0887\"],[0.1111111111111111,\"#46039f\"],[0.2222222222222222,\"#7201a8\"],[0.3333333333333333,\"#9c179e\"],[0.4444444444444444,\"#bd3786\"],[0.5555555555555556,\"#d8576b\"],[0.6666666666666666,\"#ed7953\"],[0.7777777777777778,\"#fb9f3a\"],[0.8888888888888888,\"#fdca26\"],[1.0,\"#f0f921\"]],\"type\":\"contour\"}],\"contourcarpet\":[{\"colorbar\":{\"outlinewidth\":0,\"ticks\":\"\"},\"type\":\"contourcarpet\"}],\"heatmap\":[{\"colorbar\":{\"outlinewidth\":0,\"ticks\":\"\"},\"colorscale\":[[0.0,\"#0d0887\"],[0.1111111111111111,\"#46039f\"],[0.2222222222222222,\"#7201a8\"],[0.3333333333333333,\"#9c179e\"],[0.4444444444444444,\"#bd3786\"],[0.5555555555555556,\"#d8576b\"],[0.6666666666666666,\"#ed7953\"],[0.7777777777777778,\"#fb9f3a\"],[0.8888888888888888,\"#fdca26\"],[1.0,\"#f0f921\"]],\"type\":\"heatmap\"}],\"heatmapgl\":[{\"colorbar\":{\"outlinewidth\":0,\"ticks\":\"\"},\"colorscale\":[[0.0,\"#0d0887\"],[0.1111111111111111,\"#46039f\"],[0.2222222222222222,\"#7201a8\"],[0.3333333333333333,\"#9c179e\"],[0.4444444444444444,\"#bd3786\"],[0.5555555555555556,\"#d8576b\"],[0.6666666666666666,\"#ed7953\"],[0.7777777777777778,\"#fb9f3a\"],[0.8888888888888888,\"#fdca26\"],[1.0,\"#f0f921\"]],\"type\":\"heatmapgl\"}],\"histogram\":[{\"marker\":{\"pattern\":{\"fillmode\":\"overlay\",\"size\":10,\"solidity\":0.2}},\"type\":\"histogram\"}],\"histogram2d\":[{\"colorbar\":{\"outlinewidth\":0,\"ticks\":\"\"},\"colorscale\":[[0.0,\"#0d0887\"],[0.1111111111111111,\"#46039f\"],[0.2222222222222222,\"#7201a8\"],[0.3333333333333333,\"#9c179e\"],[0.4444444444444444,\"#bd3786\"],[0.5555555555555556,\"#d8576b\"],[0.6666666666666666,\"#ed7953\"],[0.7777777777777778,\"#fb9f3a\"],[0.8888888888888888,\"#fdca26\"],[1.0,\"#f0f921\"]],\"type\":\"histogram2d\"}],\"histogram2dcontour\":[{\"colorbar\":{\"outlinewidth\":0,\"ticks\":\"\"},\"colorscale\":[[0.0,\"#0d0887\"],[0.1111111111111111,\"#46039f\"],[0.2222222222222222,\"#7201a8\"],[0.3333333333333333,\"#9c179e\"],[0.4444444444444444,\"#bd3786\"],[0.5555555555555556,\"#d8576b\"],[0.6666666666666666,\"#ed7953\"],[0.7777777777777778,\"#fb9f3a\"],[0.8888888888888888,\"#fdca26\"],[1.0,\"#f0f921\"]],\"type\":\"histogram2dcontour\"}],\"mesh3d\":[{\"colorbar\":{\"outlinewidth\":0,\"ticks\":\"\"},\"type\":\"mesh3d\"}],\"parcoords\":[{\"line\":{\"colorbar\":{\"outlinewidth\":0,\"ticks\":\"\"}},\"type\":\"parcoords\"}],\"pie\":[{\"automargin\":true,\"type\":\"pie\"}],\"scatter\":[{\"marker\":{\"colorbar\":{\"outlinewidth\":0,\"ticks\":\"\"}},\"type\":\"scatter\"}],\"scatter3d\":[{\"line\":{\"colorbar\":{\"outlinewidth\":0,\"ticks\":\"\"}},\"marker\":{\"colorbar\":{\"outlinewidth\":0,\"ticks\":\"\"}},\"type\":\"scatter3d\"}],\"scattercarpet\":[{\"marker\":{\"colorbar\":{\"outlinewidth\":0,\"ticks\":\"\"}},\"type\":\"scattercarpet\"}],\"scattergeo\":[{\"marker\":{\"colorbar\":{\"outlinewidth\":0,\"ticks\":\"\"}},\"type\":\"scattergeo\"}],\"scattergl\":[{\"marker\":{\"colorbar\":{\"outlinewidth\":0,\"ticks\":\"\"}},\"type\":\"scattergl\"}],\"scattermapbox\":[{\"marker\":{\"colorbar\":{\"outlinewidth\":0,\"ticks\":\"\"}},\"type\":\"scattermapbox\"}],\"scatterpolar\":[{\"marker\":{\"colorbar\":{\"outlinewidth\":0,\"ticks\":\"\"}},\"type\":\"scatterpolar\"}],\"scatterpolargl\":[{\"marker\":{\"colorbar\":{\"outlinewidth\":0,\"ticks\":\"\"}},\"type\":\"scatterpolargl\"}],\"scatterternary\":[{\"marker\":{\"colorbar\":{\"outlinewidth\":0,\"ticks\":\"\"}},\"type\":\"scatterternary\"}],\"surface\":[{\"colorbar\":{\"outlinewidth\":0,\"ticks\":\"\"},\"colorscale\":[[0.0,\"#0d0887\"],[0.1111111111111111,\"#46039f\"],[0.2222222222222222,\"#7201a8\"],[0.3333333333333333,\"#9c179e\"],[0.4444444444444444,\"#bd3786\"],[0.5555555555555556,\"#d8576b\"],[0.6666666666666666,\"#ed7953\"],[0.7777777777777778,\"#fb9f3a\"],[0.8888888888888888,\"#fdca26\"],[1.0,\"#f0f921\"]],\"type\":\"surface\"}],\"table\":[{\"cells\":{\"fill\":{\"color\":\"#EBF0F8\"},\"line\":{\"color\":\"white\"}},\"header\":{\"fill\":{\"color\":\"#C8D4E3\"},\"line\":{\"color\":\"white\"}},\"type\":\"table\"}]},\"layout\":{\"annotationdefaults\":{\"arrowcolor\":\"#2a3f5f\",\"arrowhead\":0,\"arrowwidth\":1},\"autotypenumbers\":\"strict\",\"coloraxis\":{\"colorbar\":{\"outlinewidth\":0,\"ticks\":\"\"}},\"colorscale\":{\"diverging\":[[0,\"#8e0152\"],[0.1,\"#c51b7d\"],[0.2,\"#de77ae\"],[0.3,\"#f1b6da\"],[0.4,\"#fde0ef\"],[0.5,\"#f7f7f7\"],[0.6,\"#e6f5d0\"],[0.7,\"#b8e186\"],[0.8,\"#7fbc41\"],[0.9,\"#4d9221\"],[1,\"#276419\"]],\"sequential\":[[0.0,\"#0d0887\"],[0.1111111111111111,\"#46039f\"],[0.2222222222222222,\"#7201a8\"],[0.3333333333333333,\"#9c179e\"],[0.4444444444444444,\"#bd3786\"],[0.5555555555555556,\"#d8576b\"],[0.6666666666666666,\"#ed7953\"],[0.7777777777777778,\"#fb9f3a\"],[0.8888888888888888,\"#fdca26\"],[1.0,\"#f0f921\"]],\"sequentialminus\":[[0.0,\"#0d0887\"],[0.1111111111111111,\"#46039f\"],[0.2222222222222222,\"#7201a8\"],[0.3333333333333333,\"#9c179e\"],[0.4444444444444444,\"#bd3786\"],[0.5555555555555556,\"#d8576b\"],[0.6666666666666666,\"#ed7953\"],[0.7777777777777778,\"#fb9f3a\"],[0.8888888888888888,\"#fdca26\"],[1.0,\"#f0f921\"]]},\"colorway\":[\"#636efa\",\"#EF553B\",\"#00cc96\",\"#ab63fa\",\"#FFA15A\",\"#19d3f3\",\"#FF6692\",\"#B6E880\",\"#FF97FF\",\"#FECB52\"],\"font\":{\"color\":\"#2a3f5f\"},\"geo\":{\"bgcolor\":\"white\",\"lakecolor\":\"white\",\"landcolor\":\"#E5ECF6\",\"showlakes\":true,\"showland\":true,\"subunitcolor\":\"white\"},\"hoverlabel\":{\"align\":\"left\"},\"hovermode\":\"closest\",\"mapbox\":{\"style\":\"light\"},\"paper_bgcolor\":\"white\",\"plot_bgcolor\":\"#E5ECF6\",\"polar\":{\"angularaxis\":{\"gridcolor\":\"white\",\"linecolor\":\"white\",\"ticks\":\"\"},\"bgcolor\":\"#E5ECF6\",\"radialaxis\":{\"gridcolor\":\"white\",\"linecolor\":\"white\",\"ticks\":\"\"}},\"scene\":{\"xaxis\":{\"backgroundcolor\":\"#E5ECF6\",\"gridcolor\":\"white\",\"gridwidth\":2,\"linecolor\":\"white\",\"showbackground\":true,\"ticks\":\"\",\"zerolinecolor\":\"white\"},\"yaxis\":{\"backgroundcolor\":\"#E5ECF6\",\"gridcolor\":\"white\",\"gridwidth\":2,\"linecolor\":\"white\",\"showbackground\":true,\"ticks\":\"\",\"zerolinecolor\":\"white\"},\"zaxis\":{\"backgroundcolor\":\"#E5ECF6\",\"gridcolor\":\"white\",\"gridwidth\":2,\"linecolor\":\"white\",\"showbackground\":true,\"ticks\":\"\",\"zerolinecolor\":\"white\"}},\"shapedefaults\":{\"line\":{\"color\":\"#2a3f5f\"}},\"ternary\":{\"aaxis\":{\"gridcolor\":\"white\",\"linecolor\":\"white\",\"ticks\":\"\"},\"baxis\":{\"gridcolor\":\"white\",\"linecolor\":\"white\",\"ticks\":\"\"},\"bgcolor\":\"#E5ECF6\",\"caxis\":{\"gridcolor\":\"white\",\"linecolor\":\"white\",\"ticks\":\"\"}},\"title\":{\"x\":0.05},\"xaxis\":{\"automargin\":true,\"gridcolor\":\"white\",\"linecolor\":\"white\",\"ticks\":\"\",\"title\":{\"standoff\":15},\"zerolinecolor\":\"white\",\"zerolinewidth\":2},\"yaxis\":{\"automargin\":true,\"gridcolor\":\"white\",\"linecolor\":\"white\",\"ticks\":\"\",\"title\":{\"standoff\":15},\"zerolinecolor\":\"white\",\"zerolinewidth\":2}}},\"xaxis\":{\"anchor\":\"y\",\"domain\":[0.0,1.0],\"title\":{\"text\":\"values\"}},\"yaxis\":{\"anchor\":\"x\",\"domain\":[0.0,1.0],\"title\":{\"text\":\"labels\"}},\"legend\":{\"tracegroupgap\":0},\"margin\":{\"t\":60},\"title\":{\"text\":\"\\u0412\\u043e\\u0440\\u043e\\u043d\\u043a\\u0430 \\u0441\\u043e\\u0431\\u044b\\u0442\\u0438\\u0439 247\",\"x\":0.5},\"showlegend\":false,\"height\":600,\"width\":800},                        {\"responsive\": true}                    ).then(function(){\n",
              "                            \n",
              "var gd = document.getElementById('ce8796ed-39fe-41b6-aebb-2d8b3dbb3f70');\n",
              "var x = new MutationObserver(function (mutations, observer) {{\n",
              "        var display = window.getComputedStyle(gd).display;\n",
              "        if (!display || display === 'none') {{\n",
              "            console.log([gd, 'removed!']);\n",
              "            Plotly.purge(gd);\n",
              "            observer.disconnect();\n",
              "        }}\n",
              "}});\n",
              "\n",
              "// Listen for the removal of the full notebook cells\n",
              "var notebookContainer = gd.closest('#notebook-container');\n",
              "if (notebookContainer) {{\n",
              "    x.observe(notebookContainer, {childList: true});\n",
              "}}\n",
              "\n",
              "// Listen for the clearing of the current output cell\n",
              "var outputEl = gd.closest('.output');\n",
              "if (outputEl) {{\n",
              "    x.observe(outputEl, {childList: true});\n",
              "}}\n",
              "\n",
              "                        })                };                            </script>        </div>\n",
              "</body>\n",
              "</html>"
            ]
          },
          "metadata": {}
        }
      ],
      "source": [
        "get_funnel(events_247, 247)"
      ]
    },
    {
      "cell_type": "code",
      "execution_count": 43,
      "metadata": {
        "colab": {
          "base_uri": "https://localhost:8080/",
          "height": 174
        },
        "id": "wZ_dd2bZx0EJ",
        "outputId": "251dbe86-7c5b-4d82-a5b2-c73b564b71a5"
      },
      "outputs": [
        {
          "output_type": "execute_result",
          "data": {
            "text/plain": [
              "                 event_name  count  users  users_prev  conversion  \\\n",
              "1        main_screen_appear  40562   2493         NaN     0.98266   \n",
              "2      offers_screen_appear  16387   1531 2,493.00000     0.60347   \n",
              "0        cart_screen_appear  15179   1230 1,531.00000     0.48482   \n",
              "3  payment_screen_succesful  12085   1181 1,230.00000     0.46551   \n",
              "\n",
              "   conversion_prev  \n",
              "1              NaN  \n",
              "2          0.61412  \n",
              "0          0.80340  \n",
              "3          0.96016  "
            ],
            "text/html": [
              "\n",
              "  <div id=\"df-c34139a6-9bb9-4163-92d6-a92789ecf576\">\n",
              "    <div class=\"colab-df-container\">\n",
              "      <div>\n",
              "<style scoped>\n",
              "    .dataframe tbody tr th:only-of-type {\n",
              "        vertical-align: middle;\n",
              "    }\n",
              "\n",
              "    .dataframe tbody tr th {\n",
              "        vertical-align: top;\n",
              "    }\n",
              "\n",
              "    .dataframe thead th {\n",
              "        text-align: right;\n",
              "    }\n",
              "</style>\n",
              "<table border=\"1\" class=\"dataframe\">\n",
              "  <thead>\n",
              "    <tr style=\"text-align: right;\">\n",
              "      <th></th>\n",
              "      <th>event_name</th>\n",
              "      <th>count</th>\n",
              "      <th>users</th>\n",
              "      <th>users_prev</th>\n",
              "      <th>conversion</th>\n",
              "      <th>conversion_prev</th>\n",
              "    </tr>\n",
              "  </thead>\n",
              "  <tbody>\n",
              "    <tr>\n",
              "      <th>1</th>\n",
              "      <td>main_screen_appear</td>\n",
              "      <td>40562</td>\n",
              "      <td>2493</td>\n",
              "      <td>NaN</td>\n",
              "      <td>0.98266</td>\n",
              "      <td>NaN</td>\n",
              "    </tr>\n",
              "    <tr>\n",
              "      <th>2</th>\n",
              "      <td>offers_screen_appear</td>\n",
              "      <td>16387</td>\n",
              "      <td>1531</td>\n",
              "      <td>2,493.00000</td>\n",
              "      <td>0.60347</td>\n",
              "      <td>0.61412</td>\n",
              "    </tr>\n",
              "    <tr>\n",
              "      <th>0</th>\n",
              "      <td>cart_screen_appear</td>\n",
              "      <td>15179</td>\n",
              "      <td>1230</td>\n",
              "      <td>1,531.00000</td>\n",
              "      <td>0.48482</td>\n",
              "      <td>0.80340</td>\n",
              "    </tr>\n",
              "    <tr>\n",
              "      <th>3</th>\n",
              "      <td>payment_screen_succesful</td>\n",
              "      <td>12085</td>\n",
              "      <td>1181</td>\n",
              "      <td>1,230.00000</td>\n",
              "      <td>0.46551</td>\n",
              "      <td>0.96016</td>\n",
              "    </tr>\n",
              "  </tbody>\n",
              "</table>\n",
              "</div>\n",
              "      <button class=\"colab-df-convert\" onclick=\"convertToInteractive('df-c34139a6-9bb9-4163-92d6-a92789ecf576')\"\n",
              "              title=\"Convert this dataframe to an interactive table.\"\n",
              "              style=\"display:none;\">\n",
              "        \n",
              "  <svg xmlns=\"http://www.w3.org/2000/svg\" height=\"24px\"viewBox=\"0 0 24 24\"\n",
              "       width=\"24px\">\n",
              "    <path d=\"M0 0h24v24H0V0z\" fill=\"none\"/>\n",
              "    <path d=\"M18.56 5.44l.94 2.06.94-2.06 2.06-.94-2.06-.94-.94-2.06-.94 2.06-2.06.94zm-11 1L8.5 8.5l.94-2.06 2.06-.94-2.06-.94L8.5 2.5l-.94 2.06-2.06.94zm10 10l.94 2.06.94-2.06 2.06-.94-2.06-.94-.94-2.06-.94 2.06-2.06.94z\"/><path d=\"M17.41 7.96l-1.37-1.37c-.4-.4-.92-.59-1.43-.59-.52 0-1.04.2-1.43.59L10.3 9.45l-7.72 7.72c-.78.78-.78 2.05 0 2.83L4 21.41c.39.39.9.59 1.41.59.51 0 1.02-.2 1.41-.59l7.78-7.78 2.81-2.81c.8-.78.8-2.07 0-2.86zM5.41 20L4 18.59l7.72-7.72 1.47 1.35L5.41 20z\"/>\n",
              "  </svg>\n",
              "      </button>\n",
              "      \n",
              "  <style>\n",
              "    .colab-df-container {\n",
              "      display:flex;\n",
              "      flex-wrap:wrap;\n",
              "      gap: 12px;\n",
              "    }\n",
              "\n",
              "    .colab-df-convert {\n",
              "      background-color: #E8F0FE;\n",
              "      border: none;\n",
              "      border-radius: 50%;\n",
              "      cursor: pointer;\n",
              "      display: none;\n",
              "      fill: #1967D2;\n",
              "      height: 32px;\n",
              "      padding: 0 0 0 0;\n",
              "      width: 32px;\n",
              "    }\n",
              "\n",
              "    .colab-df-convert:hover {\n",
              "      background-color: #E2EBFA;\n",
              "      box-shadow: 0px 1px 2px rgba(60, 64, 67, 0.3), 0px 1px 3px 1px rgba(60, 64, 67, 0.15);\n",
              "      fill: #174EA6;\n",
              "    }\n",
              "\n",
              "    [theme=dark] .colab-df-convert {\n",
              "      background-color: #3B4455;\n",
              "      fill: #D2E3FC;\n",
              "    }\n",
              "\n",
              "    [theme=dark] .colab-df-convert:hover {\n",
              "      background-color: #434B5C;\n",
              "      box-shadow: 0px 1px 3px 1px rgba(0, 0, 0, 0.15);\n",
              "      filter: drop-shadow(0px 1px 2px rgba(0, 0, 0, 0.3));\n",
              "      fill: #FFFFFF;\n",
              "    }\n",
              "  </style>\n",
              "\n",
              "      <script>\n",
              "        const buttonEl =\n",
              "          document.querySelector('#df-c34139a6-9bb9-4163-92d6-a92789ecf576 button.colab-df-convert');\n",
              "        buttonEl.style.display =\n",
              "          google.colab.kernel.accessAllowed ? 'block' : 'none';\n",
              "\n",
              "        async function convertToInteractive(key) {\n",
              "          const element = document.querySelector('#df-c34139a6-9bb9-4163-92d6-a92789ecf576');\n",
              "          const dataTable =\n",
              "            await google.colab.kernel.invokeFunction('convertToInteractive',\n",
              "                                                     [key], {});\n",
              "          if (!dataTable) return;\n",
              "\n",
              "          const docLinkHtml = 'Like what you see? Visit the ' +\n",
              "            '<a target=\"_blank\" href=https://colab.research.google.com/notebooks/data_table.ipynb>data table notebook</a>'\n",
              "            + ' to learn more about interactive tables.';\n",
              "          element.innerHTML = '';\n",
              "          dataTable['output_type'] = 'display_data';\n",
              "          await google.colab.output.renderOutput(dataTable, element);\n",
              "          const docLink = document.createElement('div');\n",
              "          docLink.innerHTML = docLinkHtml;\n",
              "          element.appendChild(docLink);\n",
              "        }\n",
              "      </script>\n",
              "    </div>\n",
              "  </div>\n",
              "  "
            ]
          },
          "metadata": {},
          "execution_count": 43
        }
      ],
      "source": [
        "events_248 = get_events(df, 248)\n",
        "events_248"
      ]
    },
    {
      "cell_type": "code",
      "execution_count": 44,
      "metadata": {
        "colab": {
          "base_uri": "https://localhost:8080/",
          "height": 617
        },
        "id": "GoBwu_IEnhh8",
        "outputId": "f82934e1-f494-4d2f-98b3-ce575f28b67a"
      },
      "outputs": [
        {
          "output_type": "display_data",
          "data": {
            "text/html": [
              "<html>\n",
              "<head><meta charset=\"utf-8\" /></head>\n",
              "<body>\n",
              "    <div>            <script src=\"https://cdnjs.cloudflare.com/ajax/libs/mathjax/2.7.5/MathJax.js?config=TeX-AMS-MML_SVG\"></script><script type=\"text/javascript\">if (window.MathJax) {MathJax.Hub.Config({SVG: {font: \"STIX-Web\"}});}</script>                <script type=\"text/javascript\">window.PlotlyConfig = {MathJaxConfig: 'local'};</script>\n",
              "        <script src=\"https://cdn.plot.ly/plotly-2.8.3.min.js\"></script>                <div id=\"dd781c8a-9064-41ba-96d2-0e2bc54a244f\" class=\"plotly-graph-div\" style=\"height:600px; width:800px;\"></div>            <script type=\"text/javascript\">                                    window.PLOTLYENV=window.PLOTLYENV || {};                                    if (document.getElementById(\"dd781c8a-9064-41ba-96d2-0e2bc54a244f\")) {                    Plotly.newPlot(                        \"dd781c8a-9064-41ba-96d2-0e2bc54a244f\",                        [{\"hovertemplate\":\"values=%{x}<br>labels=%{y}<extra></extra>\",\"legendgroup\":\"\",\"marker\":{\"color\":\"#636efa\"},\"name\":\"\",\"orientation\":\"h\",\"showlegend\":false,\"x\":[2493,1531,1230,1181],\"xaxis\":\"x\",\"y\":[\"main_screen_appear\",\"offers_screen_appear\",\"cart_screen_appear\",\"payment_screen_succesful\"],\"yaxis\":\"y\",\"type\":\"funnel\"}],                        {\"template\":{\"data\":{\"bar\":[{\"error_x\":{\"color\":\"#2a3f5f\"},\"error_y\":{\"color\":\"#2a3f5f\"},\"marker\":{\"line\":{\"color\":\"#E5ECF6\",\"width\":0.5},\"pattern\":{\"fillmode\":\"overlay\",\"size\":10,\"solidity\":0.2}},\"type\":\"bar\"}],\"barpolar\":[{\"marker\":{\"line\":{\"color\":\"#E5ECF6\",\"width\":0.5},\"pattern\":{\"fillmode\":\"overlay\",\"size\":10,\"solidity\":0.2}},\"type\":\"barpolar\"}],\"carpet\":[{\"aaxis\":{\"endlinecolor\":\"#2a3f5f\",\"gridcolor\":\"white\",\"linecolor\":\"white\",\"minorgridcolor\":\"white\",\"startlinecolor\":\"#2a3f5f\"},\"baxis\":{\"endlinecolor\":\"#2a3f5f\",\"gridcolor\":\"white\",\"linecolor\":\"white\",\"minorgridcolor\":\"white\",\"startlinecolor\":\"#2a3f5f\"},\"type\":\"carpet\"}],\"choropleth\":[{\"colorbar\":{\"outlinewidth\":0,\"ticks\":\"\"},\"type\":\"choropleth\"}],\"contour\":[{\"colorbar\":{\"outlinewidth\":0,\"ticks\":\"\"},\"colorscale\":[[0.0,\"#0d0887\"],[0.1111111111111111,\"#46039f\"],[0.2222222222222222,\"#7201a8\"],[0.3333333333333333,\"#9c179e\"],[0.4444444444444444,\"#bd3786\"],[0.5555555555555556,\"#d8576b\"],[0.6666666666666666,\"#ed7953\"],[0.7777777777777778,\"#fb9f3a\"],[0.8888888888888888,\"#fdca26\"],[1.0,\"#f0f921\"]],\"type\":\"contour\"}],\"contourcarpet\":[{\"colorbar\":{\"outlinewidth\":0,\"ticks\":\"\"},\"type\":\"contourcarpet\"}],\"heatmap\":[{\"colorbar\":{\"outlinewidth\":0,\"ticks\":\"\"},\"colorscale\":[[0.0,\"#0d0887\"],[0.1111111111111111,\"#46039f\"],[0.2222222222222222,\"#7201a8\"],[0.3333333333333333,\"#9c179e\"],[0.4444444444444444,\"#bd3786\"],[0.5555555555555556,\"#d8576b\"],[0.6666666666666666,\"#ed7953\"],[0.7777777777777778,\"#fb9f3a\"],[0.8888888888888888,\"#fdca26\"],[1.0,\"#f0f921\"]],\"type\":\"heatmap\"}],\"heatmapgl\":[{\"colorbar\":{\"outlinewidth\":0,\"ticks\":\"\"},\"colorscale\":[[0.0,\"#0d0887\"],[0.1111111111111111,\"#46039f\"],[0.2222222222222222,\"#7201a8\"],[0.3333333333333333,\"#9c179e\"],[0.4444444444444444,\"#bd3786\"],[0.5555555555555556,\"#d8576b\"],[0.6666666666666666,\"#ed7953\"],[0.7777777777777778,\"#fb9f3a\"],[0.8888888888888888,\"#fdca26\"],[1.0,\"#f0f921\"]],\"type\":\"heatmapgl\"}],\"histogram\":[{\"marker\":{\"pattern\":{\"fillmode\":\"overlay\",\"size\":10,\"solidity\":0.2}},\"type\":\"histogram\"}],\"histogram2d\":[{\"colorbar\":{\"outlinewidth\":0,\"ticks\":\"\"},\"colorscale\":[[0.0,\"#0d0887\"],[0.1111111111111111,\"#46039f\"],[0.2222222222222222,\"#7201a8\"],[0.3333333333333333,\"#9c179e\"],[0.4444444444444444,\"#bd3786\"],[0.5555555555555556,\"#d8576b\"],[0.6666666666666666,\"#ed7953\"],[0.7777777777777778,\"#fb9f3a\"],[0.8888888888888888,\"#fdca26\"],[1.0,\"#f0f921\"]],\"type\":\"histogram2d\"}],\"histogram2dcontour\":[{\"colorbar\":{\"outlinewidth\":0,\"ticks\":\"\"},\"colorscale\":[[0.0,\"#0d0887\"],[0.1111111111111111,\"#46039f\"],[0.2222222222222222,\"#7201a8\"],[0.3333333333333333,\"#9c179e\"],[0.4444444444444444,\"#bd3786\"],[0.5555555555555556,\"#d8576b\"],[0.6666666666666666,\"#ed7953\"],[0.7777777777777778,\"#fb9f3a\"],[0.8888888888888888,\"#fdca26\"],[1.0,\"#f0f921\"]],\"type\":\"histogram2dcontour\"}],\"mesh3d\":[{\"colorbar\":{\"outlinewidth\":0,\"ticks\":\"\"},\"type\":\"mesh3d\"}],\"parcoords\":[{\"line\":{\"colorbar\":{\"outlinewidth\":0,\"ticks\":\"\"}},\"type\":\"parcoords\"}],\"pie\":[{\"automargin\":true,\"type\":\"pie\"}],\"scatter\":[{\"marker\":{\"colorbar\":{\"outlinewidth\":0,\"ticks\":\"\"}},\"type\":\"scatter\"}],\"scatter3d\":[{\"line\":{\"colorbar\":{\"outlinewidth\":0,\"ticks\":\"\"}},\"marker\":{\"colorbar\":{\"outlinewidth\":0,\"ticks\":\"\"}},\"type\":\"scatter3d\"}],\"scattercarpet\":[{\"marker\":{\"colorbar\":{\"outlinewidth\":0,\"ticks\":\"\"}},\"type\":\"scattercarpet\"}],\"scattergeo\":[{\"marker\":{\"colorbar\":{\"outlinewidth\":0,\"ticks\":\"\"}},\"type\":\"scattergeo\"}],\"scattergl\":[{\"marker\":{\"colorbar\":{\"outlinewidth\":0,\"ticks\":\"\"}},\"type\":\"scattergl\"}],\"scattermapbox\":[{\"marker\":{\"colorbar\":{\"outlinewidth\":0,\"ticks\":\"\"}},\"type\":\"scattermapbox\"}],\"scatterpolar\":[{\"marker\":{\"colorbar\":{\"outlinewidth\":0,\"ticks\":\"\"}},\"type\":\"scatterpolar\"}],\"scatterpolargl\":[{\"marker\":{\"colorbar\":{\"outlinewidth\":0,\"ticks\":\"\"}},\"type\":\"scatterpolargl\"}],\"scatterternary\":[{\"marker\":{\"colorbar\":{\"outlinewidth\":0,\"ticks\":\"\"}},\"type\":\"scatterternary\"}],\"surface\":[{\"colorbar\":{\"outlinewidth\":0,\"ticks\":\"\"},\"colorscale\":[[0.0,\"#0d0887\"],[0.1111111111111111,\"#46039f\"],[0.2222222222222222,\"#7201a8\"],[0.3333333333333333,\"#9c179e\"],[0.4444444444444444,\"#bd3786\"],[0.5555555555555556,\"#d8576b\"],[0.6666666666666666,\"#ed7953\"],[0.7777777777777778,\"#fb9f3a\"],[0.8888888888888888,\"#fdca26\"],[1.0,\"#f0f921\"]],\"type\":\"surface\"}],\"table\":[{\"cells\":{\"fill\":{\"color\":\"#EBF0F8\"},\"line\":{\"color\":\"white\"}},\"header\":{\"fill\":{\"color\":\"#C8D4E3\"},\"line\":{\"color\":\"white\"}},\"type\":\"table\"}]},\"layout\":{\"annotationdefaults\":{\"arrowcolor\":\"#2a3f5f\",\"arrowhead\":0,\"arrowwidth\":1},\"autotypenumbers\":\"strict\",\"coloraxis\":{\"colorbar\":{\"outlinewidth\":0,\"ticks\":\"\"}},\"colorscale\":{\"diverging\":[[0,\"#8e0152\"],[0.1,\"#c51b7d\"],[0.2,\"#de77ae\"],[0.3,\"#f1b6da\"],[0.4,\"#fde0ef\"],[0.5,\"#f7f7f7\"],[0.6,\"#e6f5d0\"],[0.7,\"#b8e186\"],[0.8,\"#7fbc41\"],[0.9,\"#4d9221\"],[1,\"#276419\"]],\"sequential\":[[0.0,\"#0d0887\"],[0.1111111111111111,\"#46039f\"],[0.2222222222222222,\"#7201a8\"],[0.3333333333333333,\"#9c179e\"],[0.4444444444444444,\"#bd3786\"],[0.5555555555555556,\"#d8576b\"],[0.6666666666666666,\"#ed7953\"],[0.7777777777777778,\"#fb9f3a\"],[0.8888888888888888,\"#fdca26\"],[1.0,\"#f0f921\"]],\"sequentialminus\":[[0.0,\"#0d0887\"],[0.1111111111111111,\"#46039f\"],[0.2222222222222222,\"#7201a8\"],[0.3333333333333333,\"#9c179e\"],[0.4444444444444444,\"#bd3786\"],[0.5555555555555556,\"#d8576b\"],[0.6666666666666666,\"#ed7953\"],[0.7777777777777778,\"#fb9f3a\"],[0.8888888888888888,\"#fdca26\"],[1.0,\"#f0f921\"]]},\"colorway\":[\"#636efa\",\"#EF553B\",\"#00cc96\",\"#ab63fa\",\"#FFA15A\",\"#19d3f3\",\"#FF6692\",\"#B6E880\",\"#FF97FF\",\"#FECB52\"],\"font\":{\"color\":\"#2a3f5f\"},\"geo\":{\"bgcolor\":\"white\",\"lakecolor\":\"white\",\"landcolor\":\"#E5ECF6\",\"showlakes\":true,\"showland\":true,\"subunitcolor\":\"white\"},\"hoverlabel\":{\"align\":\"left\"},\"hovermode\":\"closest\",\"mapbox\":{\"style\":\"light\"},\"paper_bgcolor\":\"white\",\"plot_bgcolor\":\"#E5ECF6\",\"polar\":{\"angularaxis\":{\"gridcolor\":\"white\",\"linecolor\":\"white\",\"ticks\":\"\"},\"bgcolor\":\"#E5ECF6\",\"radialaxis\":{\"gridcolor\":\"white\",\"linecolor\":\"white\",\"ticks\":\"\"}},\"scene\":{\"xaxis\":{\"backgroundcolor\":\"#E5ECF6\",\"gridcolor\":\"white\",\"gridwidth\":2,\"linecolor\":\"white\",\"showbackground\":true,\"ticks\":\"\",\"zerolinecolor\":\"white\"},\"yaxis\":{\"backgroundcolor\":\"#E5ECF6\",\"gridcolor\":\"white\",\"gridwidth\":2,\"linecolor\":\"white\",\"showbackground\":true,\"ticks\":\"\",\"zerolinecolor\":\"white\"},\"zaxis\":{\"backgroundcolor\":\"#E5ECF6\",\"gridcolor\":\"white\",\"gridwidth\":2,\"linecolor\":\"white\",\"showbackground\":true,\"ticks\":\"\",\"zerolinecolor\":\"white\"}},\"shapedefaults\":{\"line\":{\"color\":\"#2a3f5f\"}},\"ternary\":{\"aaxis\":{\"gridcolor\":\"white\",\"linecolor\":\"white\",\"ticks\":\"\"},\"baxis\":{\"gridcolor\":\"white\",\"linecolor\":\"white\",\"ticks\":\"\"},\"bgcolor\":\"#E5ECF6\",\"caxis\":{\"gridcolor\":\"white\",\"linecolor\":\"white\",\"ticks\":\"\"}},\"title\":{\"x\":0.05},\"xaxis\":{\"automargin\":true,\"gridcolor\":\"white\",\"linecolor\":\"white\",\"ticks\":\"\",\"title\":{\"standoff\":15},\"zerolinecolor\":\"white\",\"zerolinewidth\":2},\"yaxis\":{\"automargin\":true,\"gridcolor\":\"white\",\"linecolor\":\"white\",\"ticks\":\"\",\"title\":{\"standoff\":15},\"zerolinecolor\":\"white\",\"zerolinewidth\":2}}},\"xaxis\":{\"anchor\":\"y\",\"domain\":[0.0,1.0],\"title\":{\"text\":\"values\"}},\"yaxis\":{\"anchor\":\"x\",\"domain\":[0.0,1.0],\"title\":{\"text\":\"labels\"}},\"legend\":{\"tracegroupgap\":0},\"margin\":{\"t\":60},\"title\":{\"text\":\"\\u0412\\u043e\\u0440\\u043e\\u043d\\u043a\\u0430 \\u0441\\u043e\\u0431\\u044b\\u0442\\u0438\\u0439 248\",\"x\":0.5},\"showlegend\":false,\"height\":600,\"width\":800},                        {\"responsive\": true}                    ).then(function(){\n",
              "                            \n",
              "var gd = document.getElementById('dd781c8a-9064-41ba-96d2-0e2bc54a244f');\n",
              "var x = new MutationObserver(function (mutations, observer) {{\n",
              "        var display = window.getComputedStyle(gd).display;\n",
              "        if (!display || display === 'none') {{\n",
              "            console.log([gd, 'removed!']);\n",
              "            Plotly.purge(gd);\n",
              "            observer.disconnect();\n",
              "        }}\n",
              "}});\n",
              "\n",
              "// Listen for the removal of the full notebook cells\n",
              "var notebookContainer = gd.closest('#notebook-container');\n",
              "if (notebookContainer) {{\n",
              "    x.observe(notebookContainer, {childList: true});\n",
              "}}\n",
              "\n",
              "// Listen for the clearing of the current output cell\n",
              "var outputEl = gd.closest('.output');\n",
              "if (outputEl) {{\n",
              "    x.observe(outputEl, {childList: true});\n",
              "}}\n",
              "\n",
              "                        })                };                            </script>        </div>\n",
              "</body>\n",
              "</html>"
            ]
          },
          "metadata": {}
        }
      ],
      "source": [
        "get_funnel(events_248, 248)"
      ]
    },
    {
      "cell_type": "markdown",
      "metadata": {
        "id": "lbHBqJ90hiuE"
      },
      "source": [
        "**Видим, что среди всех трех групп в эксперименте главные потери происходят при переходе от первого шага (главный экран) ко второму (экран с предложением совершить покупку). Численные показатели в разных группах по всем шагам практически не отличаются.**\n"
      ]
    },
    {
      "cell_type": "markdown",
      "metadata": {
        "id": "_FIrTD0bvGPE"
      },
      "source": [
        "## Доля пользователей, совершивших покупку"
      ]
    },
    {
      "cell_type": "markdown",
      "metadata": {
        "id": "wMQWTUDQvJ-J"
      },
      "source": [
        "Считаем, что пользователь совершил покупку, если в его логе присутствует событие `'payment_screen_succesful'`"
      ]
    },
    {
      "cell_type": "code",
      "execution_count": 45,
      "metadata": {
        "id": "Gjqp50EkWaSN",
        "colab": {
          "base_uri": "https://localhost:8080/"
        },
        "outputId": "438d9bfb-d031-491b-ea9e-a59095d0d86b"
      },
      "outputs": [
        {
          "output_type": "execute_result",
          "data": {
            "text/plain": [
              "3539"
            ]
          },
          "metadata": {},
          "execution_count": 45
        }
      ],
      "source": [
        "# собираем список пользователей, совершивших покупку\n",
        "payer_id = df.query('event_name == \"payment_screen_succesful\"')['id'].unique()\n",
        "len(payer_id)"
      ]
    },
    {
      "cell_type": "markdown",
      "metadata": {
        "id": "u2Tzldigq17H"
      },
      "source": [
        "Найдем долю пользователей нашей выборки, кто совершил покупку:"
      ]
    },
    {
      "cell_type": "code",
      "source": [
        "df['id'].nunique()"
      ],
      "metadata": {
        "colab": {
          "base_uri": "https://localhost:8080/"
        },
        "id": "Z4fbNB9Z3FWg",
        "outputId": "d67601cc-e233-44f7-f423-1c0d718962eb"
      },
      "execution_count": 46,
      "outputs": [
        {
          "output_type": "execute_result",
          "data": {
            "text/plain": [
              "7534"
            ]
          },
          "metadata": {},
          "execution_count": 46
        }
      ]
    },
    {
      "cell_type": "code",
      "execution_count": 47,
      "metadata": {
        "colab": {
          "base_uri": "https://localhost:8080/"
        },
        "id": "_MEZC8kTpNDJ",
        "outputId": "1f8fd4cf-acf8-4cca-efa3-426bfe0da628"
      },
      "outputs": [
        {
          "output_type": "execute_result",
          "data": {
            "text/plain": [
              "0.47"
            ]
          },
          "metadata": {},
          "execution_count": 47
        }
      ],
      "source": [
        "round(len(payer_id) / df['id'].nunique(), 2)"
      ]
    },
    {
      "cell_type": "markdown",
      "metadata": {
        "id": "aP5QHDw2vssW"
      },
      "source": [
        "## Результаты эксперимента"
      ]
    },
    {
      "cell_type": "markdown",
      "source": [
        "\n",
        "\n",
        "> **DISCLAIMER:** В учебном модуле для расчета конверсии изучался z-тест. Мы используем его, а потом проверим на применимость и проверим результаты при помощи бутстрапа.\n",
        "\n"
      ],
      "metadata": {
        "id": "Hq2fEfePGy2A"
      }
    },
    {
      "cell_type": "markdown",
      "source": [
        "Согласно условиям нашего эксперимента, мы должны узнать, как изменились конверсии по шагам воронки. Для подобных расчетов используется z-тест пропроций. "
      ],
      "metadata": {
        "id": "81EokwyH3OSE"
      }
    },
    {
      "cell_type": "markdown",
      "metadata": {
        "id": "FbOHjd3YMH73"
      },
      "source": [
        "Найдем, сколько пользователей в каждой группе"
      ]
    },
    {
      "cell_type": "code",
      "execution_count": 48,
      "metadata": {
        "colab": {
          "base_uri": "https://localhost:8080/",
          "height": 143
        },
        "id": "_c4raRytL4mY",
        "outputId": "ea71eb34-0cbd-4136-e6df-eff2efe4fdd9"
      },
      "outputs": [
        {
          "output_type": "execute_result",
          "data": {
            "text/plain": [
              "   group  count\n",
              "0    246   2484\n",
              "1    247   2513\n",
              "2    248   2537"
            ],
            "text/html": [
              "\n",
              "  <div id=\"df-ab480fc7-eeff-4f3d-95aa-7d3211e73837\">\n",
              "    <div class=\"colab-df-container\">\n",
              "      <div>\n",
              "<style scoped>\n",
              "    .dataframe tbody tr th:only-of-type {\n",
              "        vertical-align: middle;\n",
              "    }\n",
              "\n",
              "    .dataframe tbody tr th {\n",
              "        vertical-align: top;\n",
              "    }\n",
              "\n",
              "    .dataframe thead th {\n",
              "        text-align: right;\n",
              "    }\n",
              "</style>\n",
              "<table border=\"1\" class=\"dataframe\">\n",
              "  <thead>\n",
              "    <tr style=\"text-align: right;\">\n",
              "      <th></th>\n",
              "      <th>group</th>\n",
              "      <th>count</th>\n",
              "    </tr>\n",
              "  </thead>\n",
              "  <tbody>\n",
              "    <tr>\n",
              "      <th>0</th>\n",
              "      <td>246</td>\n",
              "      <td>2484</td>\n",
              "    </tr>\n",
              "    <tr>\n",
              "      <th>1</th>\n",
              "      <td>247</td>\n",
              "      <td>2513</td>\n",
              "    </tr>\n",
              "    <tr>\n",
              "      <th>2</th>\n",
              "      <td>248</td>\n",
              "      <td>2537</td>\n",
              "    </tr>\n",
              "  </tbody>\n",
              "</table>\n",
              "</div>\n",
              "      <button class=\"colab-df-convert\" onclick=\"convertToInteractive('df-ab480fc7-eeff-4f3d-95aa-7d3211e73837')\"\n",
              "              title=\"Convert this dataframe to an interactive table.\"\n",
              "              style=\"display:none;\">\n",
              "        \n",
              "  <svg xmlns=\"http://www.w3.org/2000/svg\" height=\"24px\"viewBox=\"0 0 24 24\"\n",
              "       width=\"24px\">\n",
              "    <path d=\"M0 0h24v24H0V0z\" fill=\"none\"/>\n",
              "    <path d=\"M18.56 5.44l.94 2.06.94-2.06 2.06-.94-2.06-.94-.94-2.06-.94 2.06-2.06.94zm-11 1L8.5 8.5l.94-2.06 2.06-.94-2.06-.94L8.5 2.5l-.94 2.06-2.06.94zm10 10l.94 2.06.94-2.06 2.06-.94-2.06-.94-.94-2.06-.94 2.06-2.06.94z\"/><path d=\"M17.41 7.96l-1.37-1.37c-.4-.4-.92-.59-1.43-.59-.52 0-1.04.2-1.43.59L10.3 9.45l-7.72 7.72c-.78.78-.78 2.05 0 2.83L4 21.41c.39.39.9.59 1.41.59.51 0 1.02-.2 1.41-.59l7.78-7.78 2.81-2.81c.8-.78.8-2.07 0-2.86zM5.41 20L4 18.59l7.72-7.72 1.47 1.35L5.41 20z\"/>\n",
              "  </svg>\n",
              "      </button>\n",
              "      \n",
              "  <style>\n",
              "    .colab-df-container {\n",
              "      display:flex;\n",
              "      flex-wrap:wrap;\n",
              "      gap: 12px;\n",
              "    }\n",
              "\n",
              "    .colab-df-convert {\n",
              "      background-color: #E8F0FE;\n",
              "      border: none;\n",
              "      border-radius: 50%;\n",
              "      cursor: pointer;\n",
              "      display: none;\n",
              "      fill: #1967D2;\n",
              "      height: 32px;\n",
              "      padding: 0 0 0 0;\n",
              "      width: 32px;\n",
              "    }\n",
              "\n",
              "    .colab-df-convert:hover {\n",
              "      background-color: #E2EBFA;\n",
              "      box-shadow: 0px 1px 2px rgba(60, 64, 67, 0.3), 0px 1px 3px 1px rgba(60, 64, 67, 0.15);\n",
              "      fill: #174EA6;\n",
              "    }\n",
              "\n",
              "    [theme=dark] .colab-df-convert {\n",
              "      background-color: #3B4455;\n",
              "      fill: #D2E3FC;\n",
              "    }\n",
              "\n",
              "    [theme=dark] .colab-df-convert:hover {\n",
              "      background-color: #434B5C;\n",
              "      box-shadow: 0px 1px 3px 1px rgba(0, 0, 0, 0.15);\n",
              "      filter: drop-shadow(0px 1px 2px rgba(0, 0, 0, 0.3));\n",
              "      fill: #FFFFFF;\n",
              "    }\n",
              "  </style>\n",
              "\n",
              "      <script>\n",
              "        const buttonEl =\n",
              "          document.querySelector('#df-ab480fc7-eeff-4f3d-95aa-7d3211e73837 button.colab-df-convert');\n",
              "        buttonEl.style.display =\n",
              "          google.colab.kernel.accessAllowed ? 'block' : 'none';\n",
              "\n",
              "        async function convertToInteractive(key) {\n",
              "          const element = document.querySelector('#df-ab480fc7-eeff-4f3d-95aa-7d3211e73837');\n",
              "          const dataTable =\n",
              "            await google.colab.kernel.invokeFunction('convertToInteractive',\n",
              "                                                     [key], {});\n",
              "          if (!dataTable) return;\n",
              "\n",
              "          const docLinkHtml = 'Like what you see? Visit the ' +\n",
              "            '<a target=\"_blank\" href=https://colab.research.google.com/notebooks/data_table.ipynb>data table notebook</a>'\n",
              "            + ' to learn more about interactive tables.';\n",
              "          element.innerHTML = '';\n",
              "          dataTable['output_type'] = 'display_data';\n",
              "          await google.colab.output.renderOutput(dataTable, element);\n",
              "          const docLink = document.createElement('div');\n",
              "          docLink.innerHTML = docLinkHtml;\n",
              "          element.appendChild(docLink);\n",
              "        }\n",
              "      </script>\n",
              "    </div>\n",
              "  </div>\n",
              "  "
            ]
          },
          "metadata": {},
          "execution_count": 48
        }
      ],
      "source": [
        "df.groupby('group').agg({'id' : 'nunique'}).reset_index().rename(columns={'id' : 'count'})"
      ]
    },
    {
      "cell_type": "markdown",
      "source": [
        "Видим, что размеры групп несколько различаются. Разница небольшая, но, возможно, для будущих тестов стоит оптимизировать систему сплитования."
      ],
      "metadata": {
        "id": "OvSOPbtbLwUZ"
      }
    },
    {
      "cell_type": "markdown",
      "metadata": {
        "id": "4f0j4iv1LW-8"
      },
      "source": [
        "Проверим, есть ли пересечения между группами:"
      ]
    },
    {
      "cell_type": "code",
      "execution_count": 49,
      "metadata": {
        "colab": {
          "base_uri": "https://localhost:8080/"
        },
        "id": "oEgmmfDXJKtj",
        "outputId": "e03b693e-252b-48be-d07b-bacaeb704b73"
      },
      "outputs": [
        {
          "output_type": "stream",
          "name": "stdout",
          "text": [
            "set()\n",
            "set()\n",
            "set()\n"
          ]
        }
      ],
      "source": [
        "set_246 = set(df.query('group == 246')['id'].unique().tolist())\n",
        "set_247 = set(df.query('group == 247')['id'].unique().tolist())\n",
        "set_248 = set(df.query('group == 248')['id'].unique().tolist())\n",
        "print(set_246.intersection(set_247))\n",
        "print(set_246.intersection(set_248))\n",
        "print(set_247.intersection(set_248))"
      ]
    },
    {
      "cell_type": "markdown",
      "metadata": {
        "id": "NDPENELGLaFy"
      },
      "source": [
        "Пересечений не обнаружено"
      ]
    },
    {
      "cell_type": "markdown",
      "metadata": {
        "id": "vsubSlipnbQs"
      },
      "source": [
        "Для проведения статистических тестов соберем отдельную таблицу, где будут собраны количества пользователей на каждом шаге воронки в каждой из групп"
      ]
    },
    {
      "cell_type": "code",
      "execution_count": 50,
      "metadata": {
        "colab": {
          "base_uri": "https://localhost:8080/",
          "height": 174
        },
        "id": "GIajl5m0Kv8c",
        "outputId": "56ec2950-ebd5-4526-a03e-fc9ff95f5bc9"
      },
      "outputs": [
        {
          "output_type": "execute_result",
          "data": {
            "text/plain": [
              "   g246  g247  g248    g0\n",
              "0  2450  2476  2493  4926\n",
              "1  1542  1520  1531  3062\n",
              "2  1266  1238  1230  2504\n",
              "3  1200  1158  1181  2358"
            ],
            "text/html": [
              "\n",
              "  <div id=\"df-e9fc7725-1c01-4d10-8042-429577c745a5\">\n",
              "    <div class=\"colab-df-container\">\n",
              "      <div>\n",
              "<style scoped>\n",
              "    .dataframe tbody tr th:only-of-type {\n",
              "        vertical-align: middle;\n",
              "    }\n",
              "\n",
              "    .dataframe tbody tr th {\n",
              "        vertical-align: top;\n",
              "    }\n",
              "\n",
              "    .dataframe thead th {\n",
              "        text-align: right;\n",
              "    }\n",
              "</style>\n",
              "<table border=\"1\" class=\"dataframe\">\n",
              "  <thead>\n",
              "    <tr style=\"text-align: right;\">\n",
              "      <th></th>\n",
              "      <th>g246</th>\n",
              "      <th>g247</th>\n",
              "      <th>g248</th>\n",
              "      <th>g0</th>\n",
              "    </tr>\n",
              "  </thead>\n",
              "  <tbody>\n",
              "    <tr>\n",
              "      <th>0</th>\n",
              "      <td>2450</td>\n",
              "      <td>2476</td>\n",
              "      <td>2493</td>\n",
              "      <td>4926</td>\n",
              "    </tr>\n",
              "    <tr>\n",
              "      <th>1</th>\n",
              "      <td>1542</td>\n",
              "      <td>1520</td>\n",
              "      <td>1531</td>\n",
              "      <td>3062</td>\n",
              "    </tr>\n",
              "    <tr>\n",
              "      <th>2</th>\n",
              "      <td>1266</td>\n",
              "      <td>1238</td>\n",
              "      <td>1230</td>\n",
              "      <td>2504</td>\n",
              "    </tr>\n",
              "    <tr>\n",
              "      <th>3</th>\n",
              "      <td>1200</td>\n",
              "      <td>1158</td>\n",
              "      <td>1181</td>\n",
              "      <td>2358</td>\n",
              "    </tr>\n",
              "  </tbody>\n",
              "</table>\n",
              "</div>\n",
              "      <button class=\"colab-df-convert\" onclick=\"convertToInteractive('df-e9fc7725-1c01-4d10-8042-429577c745a5')\"\n",
              "              title=\"Convert this dataframe to an interactive table.\"\n",
              "              style=\"display:none;\">\n",
              "        \n",
              "  <svg xmlns=\"http://www.w3.org/2000/svg\" height=\"24px\"viewBox=\"0 0 24 24\"\n",
              "       width=\"24px\">\n",
              "    <path d=\"M0 0h24v24H0V0z\" fill=\"none\"/>\n",
              "    <path d=\"M18.56 5.44l.94 2.06.94-2.06 2.06-.94-2.06-.94-.94-2.06-.94 2.06-2.06.94zm-11 1L8.5 8.5l.94-2.06 2.06-.94-2.06-.94L8.5 2.5l-.94 2.06-2.06.94zm10 10l.94 2.06.94-2.06 2.06-.94-2.06-.94-.94-2.06-.94 2.06-2.06.94z\"/><path d=\"M17.41 7.96l-1.37-1.37c-.4-.4-.92-.59-1.43-.59-.52 0-1.04.2-1.43.59L10.3 9.45l-7.72 7.72c-.78.78-.78 2.05 0 2.83L4 21.41c.39.39.9.59 1.41.59.51 0 1.02-.2 1.41-.59l7.78-7.78 2.81-2.81c.8-.78.8-2.07 0-2.86zM5.41 20L4 18.59l7.72-7.72 1.47 1.35L5.41 20z\"/>\n",
              "  </svg>\n",
              "      </button>\n",
              "      \n",
              "  <style>\n",
              "    .colab-df-container {\n",
              "      display:flex;\n",
              "      flex-wrap:wrap;\n",
              "      gap: 12px;\n",
              "    }\n",
              "\n",
              "    .colab-df-convert {\n",
              "      background-color: #E8F0FE;\n",
              "      border: none;\n",
              "      border-radius: 50%;\n",
              "      cursor: pointer;\n",
              "      display: none;\n",
              "      fill: #1967D2;\n",
              "      height: 32px;\n",
              "      padding: 0 0 0 0;\n",
              "      width: 32px;\n",
              "    }\n",
              "\n",
              "    .colab-df-convert:hover {\n",
              "      background-color: #E2EBFA;\n",
              "      box-shadow: 0px 1px 2px rgba(60, 64, 67, 0.3), 0px 1px 3px 1px rgba(60, 64, 67, 0.15);\n",
              "      fill: #174EA6;\n",
              "    }\n",
              "\n",
              "    [theme=dark] .colab-df-convert {\n",
              "      background-color: #3B4455;\n",
              "      fill: #D2E3FC;\n",
              "    }\n",
              "\n",
              "    [theme=dark] .colab-df-convert:hover {\n",
              "      background-color: #434B5C;\n",
              "      box-shadow: 0px 1px 3px 1px rgba(0, 0, 0, 0.15);\n",
              "      filter: drop-shadow(0px 1px 2px rgba(0, 0, 0, 0.3));\n",
              "      fill: #FFFFFF;\n",
              "    }\n",
              "  </style>\n",
              "\n",
              "      <script>\n",
              "        const buttonEl =\n",
              "          document.querySelector('#df-e9fc7725-1c01-4d10-8042-429577c745a5 button.colab-df-convert');\n",
              "        buttonEl.style.display =\n",
              "          google.colab.kernel.accessAllowed ? 'block' : 'none';\n",
              "\n",
              "        async function convertToInteractive(key) {\n",
              "          const element = document.querySelector('#df-e9fc7725-1c01-4d10-8042-429577c745a5');\n",
              "          const dataTable =\n",
              "            await google.colab.kernel.invokeFunction('convertToInteractive',\n",
              "                                                     [key], {});\n",
              "          if (!dataTable) return;\n",
              "\n",
              "          const docLinkHtml = 'Like what you see? Visit the ' +\n",
              "            '<a target=\"_blank\" href=https://colab.research.google.com/notebooks/data_table.ipynb>data table notebook</a>'\n",
              "            + ' to learn more about interactive tables.';\n",
              "          element.innerHTML = '';\n",
              "          dataTable['output_type'] = 'display_data';\n",
              "          await google.colab.output.renderOutput(dataTable, element);\n",
              "          const docLink = document.createElement('div');\n",
              "          docLink.innerHTML = docLinkHtml;\n",
              "          element.appendChild(docLink);\n",
              "        }\n",
              "      </script>\n",
              "    </div>\n",
              "  </div>\n",
              "  "
            ]
          },
          "metadata": {},
          "execution_count": 50
        }
      ],
      "source": [
        "for_test = df.pivot_table(index='event_name', columns='group', values='id', aggfunc='nunique')\n",
        "\n",
        "for_test.columns = ['g246', 'g247', 'g248']\n",
        "for_test = for_test.sort_values(by='g246', ascending=False)\n",
        "for_test = for_test.reset_index(drop=True).drop(labels=4, axis=0) # удаляем шаг 'tutorial'\n",
        "\n",
        "for_test['g0'] = for_test['g246'] + for_test['g247'] # создаем столбец для объединенной контрольной группы\n",
        "for_test"
      ]
    },
    {
      "cell_type": "markdown",
      "metadata": {
        "id": "RBc1bppOOPzN"
      },
      "source": [
        "Так как мы определили, что не каджый пользователь проходит все шаги воронки, для расчета конверсии будем использовать общее число уникальных пользователей в каждой группе.\n",
        "\n",
        "Для этого соберем вспомогательную таблицу"
      ]
    },
    {
      "cell_type": "code",
      "execution_count": 51,
      "metadata": {
        "scrolled": true,
        "colab": {
          "base_uri": "https://localhost:8080/",
          "height": 81
        },
        "id": "_dY4vCJNOPzN",
        "outputId": "07de70c1-6d75-4c19-ade4-b23affc6fa8f"
      },
      "outputs": [
        {
          "output_type": "execute_result",
          "data": {
            "text/plain": [
              "0  g246  g247  g248    g0\n",
              "1  2484  2513  2537  4997"
            ],
            "text/html": [
              "\n",
              "  <div id=\"df-094882d8-c65d-4ae1-b75f-cad4b49e1494\">\n",
              "    <div class=\"colab-df-container\">\n",
              "      <div>\n",
              "<style scoped>\n",
              "    .dataframe tbody tr th:only-of-type {\n",
              "        vertical-align: middle;\n",
              "    }\n",
              "\n",
              "    .dataframe tbody tr th {\n",
              "        vertical-align: top;\n",
              "    }\n",
              "\n",
              "    .dataframe thead th {\n",
              "        text-align: right;\n",
              "    }\n",
              "</style>\n",
              "<table border=\"1\" class=\"dataframe\">\n",
              "  <thead>\n",
              "    <tr style=\"text-align: right;\">\n",
              "      <th></th>\n",
              "      <th>g246</th>\n",
              "      <th>g247</th>\n",
              "      <th>g248</th>\n",
              "      <th>g0</th>\n",
              "    </tr>\n",
              "  </thead>\n",
              "  <tbody>\n",
              "    <tr>\n",
              "      <th>1</th>\n",
              "      <td>2484</td>\n",
              "      <td>2513</td>\n",
              "      <td>2537</td>\n",
              "      <td>4997</td>\n",
              "    </tr>\n",
              "  </tbody>\n",
              "</table>\n",
              "</div>\n",
              "      <button class=\"colab-df-convert\" onclick=\"convertToInteractive('df-094882d8-c65d-4ae1-b75f-cad4b49e1494')\"\n",
              "              title=\"Convert this dataframe to an interactive table.\"\n",
              "              style=\"display:none;\">\n",
              "        \n",
              "  <svg xmlns=\"http://www.w3.org/2000/svg\" height=\"24px\"viewBox=\"0 0 24 24\"\n",
              "       width=\"24px\">\n",
              "    <path d=\"M0 0h24v24H0V0z\" fill=\"none\"/>\n",
              "    <path d=\"M18.56 5.44l.94 2.06.94-2.06 2.06-.94-2.06-.94-.94-2.06-.94 2.06-2.06.94zm-11 1L8.5 8.5l.94-2.06 2.06-.94-2.06-.94L8.5 2.5l-.94 2.06-2.06.94zm10 10l.94 2.06.94-2.06 2.06-.94-2.06-.94-.94-2.06-.94 2.06-2.06.94z\"/><path d=\"M17.41 7.96l-1.37-1.37c-.4-.4-.92-.59-1.43-.59-.52 0-1.04.2-1.43.59L10.3 9.45l-7.72 7.72c-.78.78-.78 2.05 0 2.83L4 21.41c.39.39.9.59 1.41.59.51 0 1.02-.2 1.41-.59l7.78-7.78 2.81-2.81c.8-.78.8-2.07 0-2.86zM5.41 20L4 18.59l7.72-7.72 1.47 1.35L5.41 20z\"/>\n",
              "  </svg>\n",
              "      </button>\n",
              "      \n",
              "  <style>\n",
              "    .colab-df-container {\n",
              "      display:flex;\n",
              "      flex-wrap:wrap;\n",
              "      gap: 12px;\n",
              "    }\n",
              "\n",
              "    .colab-df-convert {\n",
              "      background-color: #E8F0FE;\n",
              "      border: none;\n",
              "      border-radius: 50%;\n",
              "      cursor: pointer;\n",
              "      display: none;\n",
              "      fill: #1967D2;\n",
              "      height: 32px;\n",
              "      padding: 0 0 0 0;\n",
              "      width: 32px;\n",
              "    }\n",
              "\n",
              "    .colab-df-convert:hover {\n",
              "      background-color: #E2EBFA;\n",
              "      box-shadow: 0px 1px 2px rgba(60, 64, 67, 0.3), 0px 1px 3px 1px rgba(60, 64, 67, 0.15);\n",
              "      fill: #174EA6;\n",
              "    }\n",
              "\n",
              "    [theme=dark] .colab-df-convert {\n",
              "      background-color: #3B4455;\n",
              "      fill: #D2E3FC;\n",
              "    }\n",
              "\n",
              "    [theme=dark] .colab-df-convert:hover {\n",
              "      background-color: #434B5C;\n",
              "      box-shadow: 0px 1px 3px 1px rgba(0, 0, 0, 0.15);\n",
              "      filter: drop-shadow(0px 1px 2px rgba(0, 0, 0, 0.3));\n",
              "      fill: #FFFFFF;\n",
              "    }\n",
              "  </style>\n",
              "\n",
              "      <script>\n",
              "        const buttonEl =\n",
              "          document.querySelector('#df-094882d8-c65d-4ae1-b75f-cad4b49e1494 button.colab-df-convert');\n",
              "        buttonEl.style.display =\n",
              "          google.colab.kernel.accessAllowed ? 'block' : 'none';\n",
              "\n",
              "        async function convertToInteractive(key) {\n",
              "          const element = document.querySelector('#df-094882d8-c65d-4ae1-b75f-cad4b49e1494');\n",
              "          const dataTable =\n",
              "            await google.colab.kernel.invokeFunction('convertToInteractive',\n",
              "                                                     [key], {});\n",
              "          if (!dataTable) return;\n",
              "\n",
              "          const docLinkHtml = 'Like what you see? Visit the ' +\n",
              "            '<a target=\"_blank\" href=https://colab.research.google.com/notebooks/data_table.ipynb>data table notebook</a>'\n",
              "            + ' to learn more about interactive tables.';\n",
              "          element.innerHTML = '';\n",
              "          dataTable['output_type'] = 'display_data';\n",
              "          await google.colab.output.renderOutput(dataTable, element);\n",
              "          const docLink = document.createElement('div');\n",
              "          docLink.innerHTML = docLinkHtml;\n",
              "          element.appendChild(docLink);\n",
              "        }\n",
              "      </script>\n",
              "    </div>\n",
              "  </div>\n",
              "  "
            ]
          },
          "metadata": {},
          "execution_count": 51
        }
      ],
      "source": [
        "groups_users = df.groupby('group')['id'].nunique().reset_index()\n",
        "groups_users['group'] = groups_users['group'].apply(lambda x : 'g' + str(x))\n",
        "groups_users = groups_users.T.reset_index(drop=True)\n",
        "groups_users.columns = groups_users.iloc[0]\n",
        "groups_users['g0'] = groups_users['g246'] + groups_users['g247']\n",
        "groups_users = groups_users.drop(labels=0, axis=0)\n",
        "groups_users"
      ]
    },
    {
      "cell_type": "markdown",
      "metadata": {
        "id": "JeFOLaprpfaa"
      },
      "source": [
        "Напишем функцию для проверки статистических различий в конверсии между группами"
      ]
    },
    {
      "cell_type": "code",
      "execution_count": 52,
      "metadata": {
        "id": "IZUHotdze35u"
      },
      "outputs": [],
      "source": [
        "def get_p(table1, table2, j, m, n):\n",
        "  tr1 = table2.loc[1, f'g{m}']\n",
        "  tr2 = table2.loc[1, f'g{n}']\n",
        "\n",
        "  s1 = table1.loc[j, f'g{m}']\n",
        "  s2 = table1.loc[j, f'g{n}']\n",
        "\n",
        "  successes = np.array([s1, s2])\n",
        "  trials = np.array([tr1, tr2])\n",
        "\n",
        "  alpha = 0.05\n",
        "\n",
        "  # пропорция успехов в первой группе:\n",
        "  p1 = successes[0]/trials[0]\n",
        "\n",
        "  # пропорция успехов во второй группе:\n",
        "  p2 = successes[1]/trials[1]\n",
        "\n",
        "  # пропорция успехов в комбинированном датасете:\n",
        "  p_combined = (successes[0] + successes[1]) / (trials[0] + trials[1])\n",
        "\n",
        "  # разница пропорций в датасетах\n",
        "  difference = p1 - p2 \n",
        "\n",
        "  # считаем статистику в ст.отклонениях стандартного нормального распределения\n",
        "  z_value = difference / mth.sqrt(p_combined * (1 - p_combined) * (1/trials[0] + 1/trials[1]))\n",
        "\n",
        "  # задаем стандартное нормальное распределение (среднее 0, ст.отклонение 1)\n",
        "  distr = st.norm(0, 1) \n",
        "\n",
        "  # считаем статистику в ст.отклонениях стандартного нормального распределения\n",
        "  z_value = difference / mth.sqrt(\n",
        "      p_combined * (1 - p_combined) * (1 / trials[0] + 1 / trials[1])\n",
        "  )\n",
        "\n",
        "  # задаем стандартное нормальное распределение (среднее 0, ст.отклонение 1)\n",
        "  distr = st.norm(0, 1)\n",
        "\n",
        "  p_value = (1 - distr.cdf(abs(z_value))) * 2\n",
        "\n",
        "  print(f'p-значение ({m}, {n}, шаг {j+1}): ', p_value)\n",
        "\n",
        "  if p_value < alpha:\n",
        "      print('Отвергаем нулевую гипотезу: между конверсиями групп есть значимая разница')\n",
        "  else:\n",
        "      print(\n",
        "          'Не получилось отвергнуть нулевую гипотезу, нет оснований считать конверсии в группах разными'\n",
        "      ) "
      ]
    },
    {
      "cell_type": "markdown",
      "metadata": {
        "id": "amPkPqkHpkUI"
      },
      "source": [
        "Формулируем нулевую гипотезу: между конверсиями групп нет разницы. Альтернативная гипотеза: конверсия групп отличается."
      ]
    },
    {
      "cell_type": "markdown",
      "metadata": {
        "id": "-XbbWv6HpI-w"
      },
      "source": [
        "Сравним группы 246 и 247 по всем шагам воронки. Фактически, это наш АА-тест."
      ]
    },
    {
      "cell_type": "code",
      "execution_count": 53,
      "metadata": {
        "colab": {
          "base_uri": "https://localhost:8080/"
        },
        "id": "QPhKf4ffn_2Y",
        "outputId": "5916f2b4-9898-4a0f-b7a5-092048a17d0c"
      },
      "outputs": [
        {
          "output_type": "stream",
          "name": "stdout",
          "text": [
            "p-значение (246, 247, шаг 1):  0.7570597232046099\n",
            "Не получилось отвергнуть нулевую гипотезу, нет оснований считать конверсии в группах разными\n",
            "p-значение (246, 247, шаг 2):  0.2480954578522181\n",
            "Не получилось отвергнуть нулевую гипотезу, нет оснований считать конверсии в группах разными\n",
            "p-значение (246, 247, шаг 3):  0.22883372237997213\n",
            "Не получилось отвергнуть нулевую гипотезу, нет оснований считать конверсии в группах разными\n",
            "p-значение (246, 247, шаг 4):  0.11456679313141849\n",
            "Не получилось отвергнуть нулевую гипотезу, нет оснований считать конверсии в группах разными\n"
          ]
        }
      ],
      "source": [
        "for j in range(4):\n",
        "  get_p(for_test, groups_users, j, 246, 247)"
      ]
    },
    {
      "cell_type": "markdown",
      "source": [
        "АА-тест показывает, что мы не пожем отвергнуть нулевую гипотезу и статистически значимых различий между контрольными группами нет. Это правильный результат АА-теста."
      ],
      "metadata": {
        "id": "DTxXZI3ElHia"
      }
    },
    {
      "cell_type": "markdown",
      "metadata": {
        "id": "--PcSUPRpT4x"
      },
      "source": [
        "Сравним группы 246 и 248 по всем шагам воронки:"
      ]
    },
    {
      "cell_type": "code",
      "execution_count": 54,
      "metadata": {
        "colab": {
          "base_uri": "https://localhost:8080/"
        },
        "id": "eHhmGQRvoqUV",
        "outputId": "dc88ebff-9597-4569-becb-6a37363d2477"
      },
      "outputs": [
        {
          "output_type": "stream",
          "name": "stdout",
          "text": [
            "p-значение (246, 248, шаг 1):  0.2949721933554552\n",
            "Не получилось отвергнуть нулевую гипотезу, нет оснований считать конверсии в группах разными\n",
            "p-значение (246, 248, шаг 2):  0.20836205402738917\n",
            "Не получилось отвергнуть нулевую гипотезу, нет оснований считать конверсии в группах разными\n",
            "p-значение (246, 248, шаг 3):  0.07842923237520116\n",
            "Не получилось отвергнуть нулевую гипотезу, нет оснований считать конверсии в группах разными\n",
            "p-значение (246, 248, шаг 4):  0.2122553275697796\n",
            "Не получилось отвергнуть нулевую гипотезу, нет оснований считать конверсии в группах разными\n"
          ]
        }
      ],
      "source": [
        "for j in range(4):\n",
        "  get_p(for_test, groups_users, j, 246, 248)"
      ]
    },
    {
      "cell_type": "markdown",
      "metadata": {
        "id": "vooQl52KpWGL"
      },
      "source": [
        "Сравним группы 247 и 248 по всем шагам воронки:"
      ]
    },
    {
      "cell_type": "code",
      "execution_count": 55,
      "metadata": {
        "colab": {
          "base_uri": "https://localhost:8080/"
        },
        "id": "_Mg5JsiApPfz",
        "outputId": "288c3078-9e1e-49f0-ffec-854d9097afc5"
      },
      "outputs": [
        {
          "output_type": "stream",
          "name": "stdout",
          "text": [
            "p-значение (247, 248, шаг 1):  0.4587053616621515\n",
            "Не получилось отвергнуть нулевую гипотезу, нет оснований считать конверсии в группах разными\n",
            "p-значение (247, 248, шаг 2):  0.9197817830592261\n",
            "Не получилось отвергнуть нулевую гипотезу, нет оснований считать конверсии в группах разными\n",
            "p-значение (247, 248, шаг 3):  0.5786197879539783\n",
            "Не получилось отвергнуть нулевую гипотезу, нет оснований считать конверсии в группах разными\n",
            "p-значение (247, 248, шаг 4):  0.7373415053803964\n",
            "Не получилось отвергнуть нулевую гипотезу, нет оснований считать конверсии в группах разными\n"
          ]
        }
      ],
      "source": [
        "for j in range(4):\n",
        "  get_p(for_test, groups_users, j, 247, 248)"
      ]
    },
    {
      "cell_type": "markdown",
      "metadata": {
        "id": "d6ELy6Itsx_H"
      },
      "source": [
        "Сравним объединенную АА-группу с экспериментальной группой "
      ]
    },
    {
      "cell_type": "code",
      "execution_count": 56,
      "metadata": {
        "colab": {
          "base_uri": "https://localhost:8080/"
        },
        "id": "WOLY9f7TpSWc",
        "outputId": "002d803f-6ea6-41ef-a050-3e8c9ec7240e"
      },
      "outputs": [
        {
          "output_type": "stream",
          "name": "stdout",
          "text": [
            "p-значение (0, 248, шаг 1):  0.29424526837179577\n",
            "Не получилось отвергнуть нулевую гипотезу, нет оснований считать конверсии в группах разными\n",
            "p-значение (0, 248, шаг 2):  0.43425549655188256\n",
            "Не получилось отвергнуть нулевую гипотезу, нет оснований считать конверсии в группах разными\n",
            "p-значение (0, 248, шаг 3):  0.18175875284404386\n",
            "Не получилось отвергнуть нулевую гипотезу, нет оснований считать конверсии в группах разными\n",
            "p-значение (0, 248, шаг 4):  0.6004294282308704\n",
            "Не получилось отвергнуть нулевую гипотезу, нет оснований считать конверсии в группах разными\n"
          ]
        }
      ],
      "source": [
        "for j in range(4):\n",
        "  get_p(for_test, groups_users, j, 0, 248)"
      ]
    },
    {
      "cell_type": "markdown",
      "metadata": {
        "id": "zJvBo6PF0I70"
      },
      "source": [
        "Мы сделали 16 сравнений в нашем исследовании. В таком случае нам следовало бы применить поправку Бонферрони и разделить выбранный нами уровень значимости на 16 - и посмотреть на результаты. Но т.к. во всех случаях не получилось отвергнуть нулевую гипотезу, то повторной проверки не требуется."
      ]
    },
    {
      "cell_type": "markdown",
      "source": [
        "## Проверка z-теста на применимость"
      ],
      "metadata": {
        "id": "4PgGbgJLGhQk"
      }
    },
    {
      "cell_type": "markdown",
      "source": [
        "Проверим z-тест на применимость к нашему эксперименту.\n",
        "\n",
        "Возьмем 1000 выборок с возвращением из наших тестовых групп и посмотрим, как распределится значение p-value нашего z-теста. Если распределение будет близко к равномерному, статистический тест пригоден для анализа АВ-эксперимента."
      ],
      "metadata": {
        "id": "sPVvC7j4kNGH"
      }
    },
    {
      "cell_type": "markdown",
      "source": [
        "Добавим к исходному датафрейму столбец `flag`, который будет принимать значение `1`, если пользователь совершил покупку, и 0 - если не совершил."
      ],
      "metadata": {
        "id": "IkiuvVmTe--E"
      }
    },
    {
      "cell_type": "code",
      "source": [
        "payer_id = payer_id.tolist()\n",
        "\n",
        "is_payer = []\n",
        "for _ in df['id']:\n",
        "  if _ in payer_id:\n",
        "    is_payer.append(1)\n",
        "  else:\n",
        "    is_payer.append(0)\n",
        "df['flag'] = is_payer\n"
      ],
      "metadata": {
        "id": "U-VdKvY0bGna"
      },
      "execution_count": 59,
      "outputs": []
    },
    {
      "cell_type": "markdown",
      "source": [
        "\n",
        "Сгруппируем исходный датафрейм по id пользователя и экспериментальной группе для удобства расчета выборок."
      ],
      "metadata": {
        "id": "8XAc2ADTfOir"
      }
    },
    {
      "cell_type": "markdown",
      "source": [
        "Проверим:"
      ],
      "metadata": {
        "id": "3NdQ7tORfM4m"
      }
    },
    {
      "cell_type": "code",
      "source": [
        "df.groupby('flag')['id'].nunique()"
      ],
      "metadata": {
        "colab": {
          "base_uri": "https://localhost:8080/"
        },
        "id": "0siFLw0udQjx",
        "outputId": "d45f70ac-4309-4cb6-eaf4-acb4596c2306"
      },
      "execution_count": 60,
      "outputs": [
        {
          "output_type": "execute_result",
          "data": {
            "text/plain": [
              "flag\n",
              "0    3995\n",
              "1    3539\n",
              "Name: id, dtype: int64"
            ]
          },
          "metadata": {},
          "execution_count": 60
        }
      ]
    },
    {
      "cell_type": "markdown",
      "source": [
        "Результаты сходятся.\n"
      ],
      "metadata": {
        "id": "PNLgSRRBt55L"
      }
    },
    {
      "cell_type": "code",
      "source": [
        "df_gr = df.groupby(['id', 'group'])['flag'].mean().reset_index()\n",
        "df_gr.head()"
      ],
      "metadata": {
        "colab": {
          "base_uri": "https://localhost:8080/",
          "height": 206
        },
        "id": "XFT41AVW3QnW",
        "outputId": "cc7904ed-3887-41ce-84d2-410d0db8297c"
      },
      "execution_count": 61,
      "outputs": [
        {
          "output_type": "execute_result",
          "data": {
            "text/plain": [
              "                 id  group    flag\n",
              "0  6888746892508752    246 0.00000\n",
              "1  6909561520679493    247 1.00000\n",
              "2  6922444491712477    246 1.00000\n",
              "3  7435777799948366    248 0.00000\n",
              "4  7702139951469979    247 1.00000"
            ],
            "text/html": [
              "\n",
              "  <div id=\"df-e1b3c0cc-1461-4252-b3d0-2c610b04ac3d\">\n",
              "    <div class=\"colab-df-container\">\n",
              "      <div>\n",
              "<style scoped>\n",
              "    .dataframe tbody tr th:only-of-type {\n",
              "        vertical-align: middle;\n",
              "    }\n",
              "\n",
              "    .dataframe tbody tr th {\n",
              "        vertical-align: top;\n",
              "    }\n",
              "\n",
              "    .dataframe thead th {\n",
              "        text-align: right;\n",
              "    }\n",
              "</style>\n",
              "<table border=\"1\" class=\"dataframe\">\n",
              "  <thead>\n",
              "    <tr style=\"text-align: right;\">\n",
              "      <th></th>\n",
              "      <th>id</th>\n",
              "      <th>group</th>\n",
              "      <th>flag</th>\n",
              "    </tr>\n",
              "  </thead>\n",
              "  <tbody>\n",
              "    <tr>\n",
              "      <th>0</th>\n",
              "      <td>6888746892508752</td>\n",
              "      <td>246</td>\n",
              "      <td>0.00000</td>\n",
              "    </tr>\n",
              "    <tr>\n",
              "      <th>1</th>\n",
              "      <td>6909561520679493</td>\n",
              "      <td>247</td>\n",
              "      <td>1.00000</td>\n",
              "    </tr>\n",
              "    <tr>\n",
              "      <th>2</th>\n",
              "      <td>6922444491712477</td>\n",
              "      <td>246</td>\n",
              "      <td>1.00000</td>\n",
              "    </tr>\n",
              "    <tr>\n",
              "      <th>3</th>\n",
              "      <td>7435777799948366</td>\n",
              "      <td>248</td>\n",
              "      <td>0.00000</td>\n",
              "    </tr>\n",
              "    <tr>\n",
              "      <th>4</th>\n",
              "      <td>7702139951469979</td>\n",
              "      <td>247</td>\n",
              "      <td>1.00000</td>\n",
              "    </tr>\n",
              "  </tbody>\n",
              "</table>\n",
              "</div>\n",
              "      <button class=\"colab-df-convert\" onclick=\"convertToInteractive('df-e1b3c0cc-1461-4252-b3d0-2c610b04ac3d')\"\n",
              "              title=\"Convert this dataframe to an interactive table.\"\n",
              "              style=\"display:none;\">\n",
              "        \n",
              "  <svg xmlns=\"http://www.w3.org/2000/svg\" height=\"24px\"viewBox=\"0 0 24 24\"\n",
              "       width=\"24px\">\n",
              "    <path d=\"M0 0h24v24H0V0z\" fill=\"none\"/>\n",
              "    <path d=\"M18.56 5.44l.94 2.06.94-2.06 2.06-.94-2.06-.94-.94-2.06-.94 2.06-2.06.94zm-11 1L8.5 8.5l.94-2.06 2.06-.94-2.06-.94L8.5 2.5l-.94 2.06-2.06.94zm10 10l.94 2.06.94-2.06 2.06-.94-2.06-.94-.94-2.06-.94 2.06-2.06.94z\"/><path d=\"M17.41 7.96l-1.37-1.37c-.4-.4-.92-.59-1.43-.59-.52 0-1.04.2-1.43.59L10.3 9.45l-7.72 7.72c-.78.78-.78 2.05 0 2.83L4 21.41c.39.39.9.59 1.41.59.51 0 1.02-.2 1.41-.59l7.78-7.78 2.81-2.81c.8-.78.8-2.07 0-2.86zM5.41 20L4 18.59l7.72-7.72 1.47 1.35L5.41 20z\"/>\n",
              "  </svg>\n",
              "      </button>\n",
              "      \n",
              "  <style>\n",
              "    .colab-df-container {\n",
              "      display:flex;\n",
              "      flex-wrap:wrap;\n",
              "      gap: 12px;\n",
              "    }\n",
              "\n",
              "    .colab-df-convert {\n",
              "      background-color: #E8F0FE;\n",
              "      border: none;\n",
              "      border-radius: 50%;\n",
              "      cursor: pointer;\n",
              "      display: none;\n",
              "      fill: #1967D2;\n",
              "      height: 32px;\n",
              "      padding: 0 0 0 0;\n",
              "      width: 32px;\n",
              "    }\n",
              "\n",
              "    .colab-df-convert:hover {\n",
              "      background-color: #E2EBFA;\n",
              "      box-shadow: 0px 1px 2px rgba(60, 64, 67, 0.3), 0px 1px 3px 1px rgba(60, 64, 67, 0.15);\n",
              "      fill: #174EA6;\n",
              "    }\n",
              "\n",
              "    [theme=dark] .colab-df-convert {\n",
              "      background-color: #3B4455;\n",
              "      fill: #D2E3FC;\n",
              "    }\n",
              "\n",
              "    [theme=dark] .colab-df-convert:hover {\n",
              "      background-color: #434B5C;\n",
              "      box-shadow: 0px 1px 3px 1px rgba(0, 0, 0, 0.15);\n",
              "      filter: drop-shadow(0px 1px 2px rgba(0, 0, 0, 0.3));\n",
              "      fill: #FFFFFF;\n",
              "    }\n",
              "  </style>\n",
              "\n",
              "      <script>\n",
              "        const buttonEl =\n",
              "          document.querySelector('#df-e1b3c0cc-1461-4252-b3d0-2c610b04ac3d button.colab-df-convert');\n",
              "        buttonEl.style.display =\n",
              "          google.colab.kernel.accessAllowed ? 'block' : 'none';\n",
              "\n",
              "        async function convertToInteractive(key) {\n",
              "          const element = document.querySelector('#df-e1b3c0cc-1461-4252-b3d0-2c610b04ac3d');\n",
              "          const dataTable =\n",
              "            await google.colab.kernel.invokeFunction('convertToInteractive',\n",
              "                                                     [key], {});\n",
              "          if (!dataTable) return;\n",
              "\n",
              "          const docLinkHtml = 'Like what you see? Visit the ' +\n",
              "            '<a target=\"_blank\" href=https://colab.research.google.com/notebooks/data_table.ipynb>data table notebook</a>'\n",
              "            + ' to learn more about interactive tables.';\n",
              "          element.innerHTML = '';\n",
              "          dataTable['output_type'] = 'display_data';\n",
              "          await google.colab.output.renderOutput(dataTable, element);\n",
              "          const docLink = document.createElement('div');\n",
              "          docLink.innerHTML = docLinkHtml;\n",
              "          element.appendChild(docLink);\n",
              "        }\n",
              "      </script>\n",
              "    </div>\n",
              "  </div>\n",
              "  "
            ]
          },
          "metadata": {},
          "execution_count": 61
        }
      ]
    },
    {
      "cell_type": "code",
      "source": [
        "p_val = []\n",
        "for _ in range(1000):\n",
        "  aa246=df_gr.query('group == 246').sample(len(df_gr.query('group == 246')), replace=True)\n",
        "  aa247=df_gr.query('group == 247').sample(len(df_gr.query('group == 247')), replace=True)\n",
        "  u246 = aa246['id'].nunique()\n",
        "  u247 = aa247['id'].nunique()\n",
        "  p246 = aa246.query('flag == 1')['id'].nunique()\n",
        "  p247 = aa247.query('flag == 1')['id'].nunique()\n",
        "\n",
        "  tr1 = u246\n",
        "  tr2 = u247\n",
        "  s1 = p246\n",
        "  s2 = p247\n",
        "\n",
        "  successes = np.array([s1, s2])\n",
        "  trials = np.array([tr1, tr2])\n",
        "\n",
        "  alpha = 0.05\n",
        "\n",
        "  # пропорция успехов в первой группе:\n",
        "  p1 = successes[0]/trials[0]\n",
        "\n",
        "  # пропорция успехов во второй группе:\n",
        "  p2 = successes[1]/trials[1]\n",
        "\n",
        "  # пропорция успехов в комбинированном датасете:\n",
        "  p_combined = (successes[0] + successes[1]) / (trials[0] + trials[1])\n",
        "\n",
        "  # разница пропорций в датасетах\n",
        "  difference = p1 - p2 \n",
        "\n",
        "  # считаем статистику в ст.отклонениях стандартного нормального распределения\n",
        "  z_value = difference / mth.sqrt(p_combined * (1 - p_combined) * (1/trials[0] + 1/trials[1]))\n",
        "\n",
        "  # задаем стандартное нормальное распределение (среднее 0, ст.отклонение 1)\n",
        "  distr = st.norm(0, 1) \n",
        "\n",
        "  # считаем статистику в ст.отклонениях стандартного нормального распределения\n",
        "  z_value = difference / mth.sqrt(\n",
        "      p_combined * (1 - p_combined) * (1 / trials[0] + 1 / trials[1])\n",
        "    )\n",
        "\n",
        "  # задаем стандартное нормальное распределение (среднее 0, ст.отклонение 1)\n",
        "  distr = st.norm(0, 1)\n",
        "\n",
        "  p_value = (1 - distr.cdf(abs(z_value))) * 2\n",
        "\n",
        "  p_val.append(p_value)"
      ],
      "metadata": {
        "id": "ETelvF3jiIvO"
      },
      "execution_count": 76,
      "outputs": []
    },
    {
      "cell_type": "markdown",
      "source": [
        "Визуализируем распределение p-value:"
      ],
      "metadata": {
        "id": "6dqTsNBcGcmh"
      }
    },
    {
      "cell_type": "code",
      "source": [
        "sns.histplot(p_val)\n",
        "plt.show()"
      ],
      "metadata": {
        "colab": {
          "base_uri": "https://localhost:8080/",
          "height": 265
        },
        "id": "PWIJdH1gx-yp",
        "outputId": "b92a33d1-d2cc-492b-eb98-493e3b2f5c86"
      },
      "execution_count": 77,
      "outputs": [
        {
          "output_type": "display_data",
          "data": {
            "text/plain": [
              "<Figure size 432x288 with 1 Axes>"
            ],
            "image/png": "[encoded data removed]"
          },
          "metadata": {
            "needs_background": "light"
          }
        }
      ]
    },
    {
      "cell_type": "markdown",
      "source": [
        "Проверим, в каком проценте случаев тест сработает верно, то есть не найдет отличий в выборках"
      ],
      "metadata": {
        "id": "iExj-BE-zyhE"
      }
    },
    {
      "cell_type": "code",
      "source": [
        "fnr = []\n",
        "for p in p_val: \n",
        "  if p < 0.05:\n",
        "    fnr.append(0)\n",
        "  else:\n",
        "    fnr.append(1)\n",
        "np.mean(fnr)"
      ],
      "metadata": {
        "colab": {
          "base_uri": "https://localhost:8080/"
        },
        "id": "W86UWn7vwS75",
        "outputId": "11338fbb-b9e3-49b5-d713-4c7d5667ce2a"
      },
      "execution_count": 79,
      "outputs": [
        {
          "output_type": "execute_result",
          "data": {
            "text/plain": [
              "0.886"
            ]
          },
          "metadata": {},
          "execution_count": 79
        }
      ]
    },
    {
      "cell_type": "markdown",
      "source": [
        "Расчеты показывают, что применение z-теста оправдано. Однако, проведем сравнение конверсий еще одним методом."
      ],
      "metadata": {
        "id": "lm7lbeJHGQxV"
      }
    },
    {
      "cell_type": "markdown",
      "source": [
        "## Bootstrap"
      ],
      "metadata": {
        "id": "Y3bBQapbLiiJ"
      }
    },
    {
      "cell_type": "markdown",
      "source": [
        "Проверим наши результаты при помощи бутстрапа. Для простоты посчитаем только конверсию в покупку."
      ],
      "metadata": {
        "id": "lkoUV3POHM_y"
      }
    },
    {
      "cell_type": "markdown",
      "source": [
        "Напишем функцию для бутстрапа:"
      ],
      "metadata": {
        "id": "jSPvraiJFglO"
      }
    },
    {
      "cell_type": "code",
      "source": [
        "def get_bootstrap(df, j, k, n=10):\n",
        "  ''' \n",
        "  Функция принимает на вход таблицу, номера тестовых групп \n",
        "  и количество выборок для бутстрэпа (по умолчанию 1000).\n",
        "\n",
        "  Функция возвращает характеристики конверсии в сравниваемых группах\n",
        "  и строит распределения.\n",
        "  '''\n",
        "  ctr1 = [] # конверсии в первой группе\n",
        "  ctr2 = [] # конверсии во второй группе\n",
        "  diff_list = [] # разница конверсий\n",
        "\n",
        "  for _ in range(n):\n",
        "    table1 = df.query(f'group == {j}').sample(2000, replace=True)\n",
        "    table2 = df.query(f'group == {k}').sample(2000, replace=True)\n",
        "    u1 = table1.query('flag == 1')['id'].nunique()\n",
        "    u2 = table2.query('flag == 1')['id'].nunique()\n",
        "    ctr_1 = u1 / table1['id'].nunique()\n",
        "    ctr_2 = u2 / table2['id'].nunique()\n",
        "    ctr1.append(ctr_1)\n",
        "    ctr2.append(ctr_2)\n",
        "    diff = np.mean(ctr_1) - np.mean(ctr_2)\n",
        "    diff_list.append(diff)\n",
        "    \n",
        "    mean_1 = np.mean(ctr1)\n",
        "    mean_2 = np.mean(ctr2)\n",
        "\n",
        "  diff_list = pd.DataFrame(diff_list)\n",
        "\n",
        "  pvalue = 2 * min(np.mean(diff_list[0] > 0), np.mean(diff_list[0] < 0))\n",
        "\n",
        "  print(f'''\n",
        "p-value = {pvalue}\n",
        "Среднее значение конверсии первой группы: {round(mean_1, 3)}\n",
        "Среднее значение конверсии второй группы: {round(mean_2, 3)}\n",
        "\n",
        "Характеристики распределения конверсии первой группы\n",
        "{pd.Series(ctr1).describe()}\n",
        "\n",
        "Характеристики распределения конверсии второй группы\n",
        "{pd.Series(ctr2).describe()}\n",
        "''') \n",
        "  \n",
        "  # строим распределения\n",
        "  plt.figure(figsize = (15,7))\n",
        "\n",
        "  plt.subplot(1,2,1)\n",
        "  ax1 = sns.histplot(ctr1, \n",
        "                     kde=False, \n",
        "                     label=f'Группа {j}',\n",
        "                     alpha=0.5)\n",
        "  ax1.axvline(mean_1, \n",
        "              linewidth=1, \n",
        "              color='k', \n",
        "              alpha=0.7, \n",
        "              linestyle='--', \n",
        "              label='Средние значения в выборках'\n",
        "              )\n",
        "\n",
        "  ax1 = sns.histplot(ctr2, \n",
        "                     color = 'red', \n",
        "                     label=f'Группа {k}',\n",
        "                     alpha=0.6)\n",
        "  ax1.axvline(mean_2, \n",
        "              linewidth=1, \n",
        "              color='k', \n",
        "              alpha=0.7, \n",
        "              linestyle='--', \n",
        "              )\n",
        "  ax1.set_title('Распределение конверсий в сравниваемых группах')\n",
        "  plt.legend()\n",
        "\n",
        "  plt.subplot(1,2,2)\n",
        "  \n",
        "  sns.set_style('whitegrid')\n",
        "  ax2 = sns.histplot((pd.Series(ctr1) - pd.Series(ctr2)), \n",
        "                     color = 'lightblue')\n",
        "  ax2.axvline(diff_list[0].quantile(0.025), \n",
        "                linewidth=1, \n",
        "                color='r', \n",
        "                alpha=0.7, \n",
        "                linestyle='--',\n",
        "                label='Границы 95% доверительного интервала' \n",
        "                )\n",
        "  ax2.axvline(diff_list[0].quantile(0.975), \n",
        "                linewidth=1, \n",
        "                color='r', \n",
        "                alpha=0.7, \n",
        "                linestyle='--', \n",
        "                )\n",
        "  ax2.set_title('Распределение разницы средних значений конверсий')\n",
        "  plt.legend()\n",
        "  plt.tight_layout()\n",
        "  plt.show()"
      ],
      "metadata": {
        "id": "HueRLUnqLlCg"
      },
      "execution_count": null,
      "outputs": []
    },
    {
      "cell_type": "markdown",
      "source": [
        "Сравним между собой попарно наши группы. Начнем с контрольных (246 и 247)."
      ],
      "metadata": {
        "id": "FLpk2Xe4FlOa"
      }
    },
    {
      "cell_type": "code",
      "source": [
        "get_bootstrap(df_gr, 246, 247, 1000)"
      ],
      "metadata": {
        "colab": {
          "base_uri": "https://localhost:8080/",
          "height": 1000
        },
        "outputId": "f46585cb-7ad6-478a-f48b-8c5352ad34c4",
        "id": "3Eq2tcfELlCi"
      },
      "execution_count": null,
      "outputs": [
        {
          "output_type": "stream",
          "name": "stdout",
          "text": [
            "\n",
            "p-value = 0.086\n",
            "Среднее значение конверсии первой группы: 0.483\n",
            "Среднее значение конверсии второй группы: 0.461\n",
            "\n",
            "Характеристики распределения конверсии первой группы\n",
            "count   1,000.00000\n",
            "mean        0.48304\n",
            "std         0.00908\n",
            "min         0.45461\n",
            "25%         0.47686\n",
            "50%         0.48339\n",
            "75%         0.48916\n",
            "max         0.50983\n",
            "dtype: float64\n",
            "\n",
            "Характеристики распределения конверсии второй группы\n",
            "count   1,000.00000\n",
            "mean        0.46116\n",
            "std         0.00914\n",
            "min         0.43353\n",
            "25%         0.45546\n",
            "50%         0.46120\n",
            "75%         0.46710\n",
            "max         0.48935\n",
            "dtype: float64\n",
            "\n"
          ]
        },
        {
          "output_type": "display_data",
          "data": {
            "text/plain": [
              "<Figure size 1080x504 with 2 Axes>"
            ],
            "image/png": "[encoded data removed]"
          },
          "metadata": {}
        }
      ]
    },
    {
      "cell_type": "markdown",
      "source": [
        "Видим, чтопри уровне значимости 0.05 бутстрап не показывает статистически значимых отличий между контрольными группами. Это показывает на корректность АА-теста."
      ],
      "metadata": {
        "id": "4UuZ39RSFwa7"
      }
    },
    {
      "cell_type": "markdown",
      "source": [
        "Теперь сравним контрольные группы с тестовой:"
      ],
      "metadata": {
        "id": "f2t3WgqoF94g"
      }
    },
    {
      "cell_type": "code",
      "source": [
        "get_bootstrap(df_gr, 246, 248, 1000)"
      ],
      "metadata": {
        "colab": {
          "base_uri": "https://localhost:8080/",
          "height": 913
        },
        "outputId": "9e44c68e-90ab-4d46-ce47-251231d153a3",
        "id": "NoaFn6gnLlCi"
      },
      "execution_count": null,
      "outputs": [
        {
          "output_type": "stream",
          "name": "stdout",
          "text": [
            "\n",
            "p-value = 0.174\n",
            "Среднее значение конверсии первой группы: 0.483\n",
            "Среднее значение конверсии второй группы: 0.466\n",
            "\n",
            "Характеристики распределения конверсии первой группы\n",
            "count   1,000.00000\n",
            "mean        0.48321\n",
            "std         0.00909\n",
            "min         0.45214\n",
            "25%         0.47743\n",
            "50%         0.48310\n",
            "75%         0.48881\n",
            "max         0.51037\n",
            "dtype: float64\n",
            "\n",
            "Характеристики распределения конверсии второй группы\n",
            "count   1,000.00000\n",
            "mean        0.46552\n",
            "std         0.00867\n",
            "min         0.43193\n",
            "25%         0.45945\n",
            "50%         0.46547\n",
            "75%         0.47149\n",
            "max         0.49002\n",
            "dtype: float64\n",
            "\n"
          ]
        },
        {
          "output_type": "display_data",
          "data": {
            "text/plain": [
              "<Figure size 1080x504 with 2 Axes>"
            ],
            "image/png": "[encoded data removed]"
          },
          "metadata": {}
        }
      ]
    },
    {
      "cell_type": "code",
      "source": [
        "get_bootstrap(df_gr, 247, 248, 1000)"
      ],
      "metadata": {
        "colab": {
          "base_uri": "https://localhost:8080/",
          "height": 913
        },
        "id": "_yZhryuCEOen",
        "outputId": "cd80e52b-2dab-44f0-e109-a57b2d67f676"
      },
      "execution_count": null,
      "outputs": [
        {
          "output_type": "stream",
          "name": "stdout",
          "text": [
            "\n",
            "p-value = 0.69\n",
            "Среднее значение конверсии первой группы: 0.461\n",
            "Среднее значение конверсии второй группы: 0.466\n",
            "\n",
            "Характеристики распределения конверсии первой группы\n",
            "count   1,000.00000\n",
            "mean        0.46071\n",
            "std         0.00894\n",
            "min         0.43102\n",
            "25%         0.45481\n",
            "50%         0.46082\n",
            "75%         0.46686\n",
            "max         0.48571\n",
            "dtype: float64\n",
            "\n",
            "Характеристики распределения конверсии второй группы\n",
            "count   1,000.00000\n",
            "mean        0.46567\n",
            "std         0.00925\n",
            "min         0.43627\n",
            "25%         0.45955\n",
            "50%         0.46565\n",
            "75%         0.47187\n",
            "max         0.49820\n",
            "dtype: float64\n",
            "\n"
          ]
        },
        {
          "output_type": "display_data",
          "data": {
            "text/plain": [
              "<Figure size 1080x504 with 2 Axes>"
            ],
            "image/png": "[encoded data removed]"
          },
          "metadata": {}
        }
      ]
    },
    {
      "cell_type": "markdown",
      "source": [
        "Бутстрап также не показывает статистически значимых различий между группами."
      ],
      "metadata": {
        "id": "vn93tCPzGDuu"
      }
    },
    {
      "cell_type": "markdown",
      "metadata": {
        "id": "Uo8QSjF2h8lG"
      },
      "source": [
        "# Выводы"
      ]
    },
    {
      "cell_type": "markdown",
      "metadata": {
        "id": "6LIIu2Ivh_9D"
      },
      "source": [
        "Изучив всю имеющуюся информацию и проведя статистические тесты, мы обнаружили, что статистически значимые различия между контрольной и экспериментальной группами отсутствуют. Изменение шрифтов в приложении не приводит к значимому изменению конверсии."
      ]
    }
  ],
  "metadata": {
    "ExecuteTimeLog": [
      {
        "duration": 1427,
        "start_time": "2022-04-20T05:30:58.188Z"
      },
      {
        "duration": 1330,
        "start_time": "2022-04-20T05:30:59.618Z"
      },
      {
        "duration": 20,
        "start_time": "2022-04-20T05:31:00.950Z"
      },
      {
        "duration": 37,
        "start_time": "2022-04-20T05:31:00.971Z"
      },
      {
        "duration": 12,
        "start_time": "2022-04-20T05:31:01.010Z"
      },
      {
        "duration": 30,
        "start_time": "2022-04-20T05:31:01.024Z"
      },
      {
        "duration": 582,
        "start_time": "2022-04-20T05:31:01.056Z"
      },
      {
        "duration": 96,
        "start_time": "2022-04-20T05:31:01.639Z"
      },
      {
        "duration": 9,
        "start_time": "2022-04-20T05:31:01.737Z"
      },
      {
        "duration": 31,
        "start_time": "2022-04-20T05:31:01.747Z"
      },
      {
        "duration": 52,
        "start_time": "2022-04-20T05:31:01.780Z"
      },
      {
        "duration": 68,
        "start_time": "2022-04-20T05:31:01.834Z"
      },
      {
        "duration": 73,
        "start_time": "2022-04-20T05:31:01.904Z"
      },
      {
        "duration": 104,
        "start_time": "2022-04-20T05:31:01.992Z"
      },
      {
        "duration": 14,
        "start_time": "2022-04-20T05:31:02.098Z"
      },
      {
        "duration": 25,
        "start_time": "2022-04-20T05:31:02.113Z"
      },
      {
        "duration": 21,
        "start_time": "2022-04-20T05:31:02.139Z"
      },
      {
        "duration": 39,
        "start_time": "2022-04-20T05:31:02.162Z"
      },
      {
        "duration": 952,
        "start_time": "2022-04-20T05:31:02.203Z"
      },
      {
        "duration": 8,
        "start_time": "2022-04-20T05:31:03.156Z"
      },
      {
        "duration": 39,
        "start_time": "2022-04-20T05:31:03.165Z"
      },
      {
        "duration": 12,
        "start_time": "2022-04-20T05:31:03.206Z"
      },
      {
        "duration": 33,
        "start_time": "2022-04-20T05:31:03.219Z"
      },
      {
        "duration": 26,
        "start_time": "2022-04-20T05:31:03.254Z"
      },
      {
        "duration": 27,
        "start_time": "2022-04-20T05:31:03.282Z"
      },
      {
        "duration": 93,
        "start_time": "2022-04-20T05:31:03.311Z"
      },
      {
        "duration": 177,
        "start_time": "2022-04-20T05:31:03.405Z"
      },
      {
        "duration": 310,
        "start_time": "2022-04-20T05:31:03.584Z"
      },
      {
        "duration": 5,
        "start_time": "2022-04-20T05:31:03.895Z"
      },
      {
        "duration": 22,
        "start_time": "2022-04-20T05:31:03.902Z"
      },
      {
        "duration": 63,
        "start_time": "2022-04-20T05:31:03.926Z"
      },
      {
        "duration": 49,
        "start_time": "2022-04-20T05:31:03.990Z"
      },
      {
        "duration": 60,
        "start_time": "2022-04-20T05:31:04.041Z"
      },
      {
        "duration": 48,
        "start_time": "2022-04-20T05:31:04.103Z"
      },
      {
        "duration": 55,
        "start_time": "2022-04-20T05:31:04.153Z"
      },
      {
        "duration": 47,
        "start_time": "2022-04-20T05:31:04.210Z"
      },
      {
        "duration": 47,
        "start_time": "2022-04-20T05:31:04.259Z"
      },
      {
        "duration": 23,
        "start_time": "2022-04-20T05:31:04.308Z"
      },
      {
        "duration": 15,
        "start_time": "2022-04-20T05:31:04.333Z"
      },
      {
        "duration": 55,
        "start_time": "2022-04-20T05:31:04.350Z"
      },
      {
        "duration": 28,
        "start_time": "2022-04-20T05:31:04.410Z"
      },
      {
        "duration": 88,
        "start_time": "2022-04-20T05:31:04.440Z"
      },
      {
        "duration": 8,
        "start_time": "2022-04-20T05:31:04.530Z"
      },
      {
        "duration": 40,
        "start_time": "2022-04-20T05:31:04.540Z"
      },
      {
        "duration": 35,
        "start_time": "2022-04-20T05:31:04.582Z"
      },
      {
        "duration": 19,
        "start_time": "2022-04-20T05:31:04.619Z"
      },
      {
        "duration": 32,
        "start_time": "2022-04-20T05:31:04.640Z"
      },
      {
        "duration": 27,
        "start_time": "2022-04-20T05:32:55.265Z"
      },
      {
        "duration": 4,
        "start_time": "2022-04-20T05:34:22.932Z"
      },
      {
        "duration": 1479,
        "start_time": "2022-04-20T10:26:19.339Z"
      },
      {
        "duration": 1356,
        "start_time": "2022-04-20T10:26:20.821Z"
      },
      {
        "duration": 18,
        "start_time": "2022-04-20T10:26:22.179Z"
      },
      {
        "duration": 40,
        "start_time": "2022-04-20T10:26:22.199Z"
      },
      {
        "duration": 9,
        "start_time": "2022-04-20T10:26:22.241Z"
      },
      {
        "duration": 23,
        "start_time": "2022-04-20T10:26:22.251Z"
      },
      {
        "duration": 590,
        "start_time": "2022-04-20T10:26:22.276Z"
      },
      {
        "duration": 95,
        "start_time": "2022-04-20T10:26:22.868Z"
      },
      {
        "duration": 10,
        "start_time": "2022-04-20T10:26:22.964Z"
      },
      {
        "duration": 7,
        "start_time": "2022-04-20T10:26:22.976Z"
      },
      {
        "duration": 49,
        "start_time": "2022-04-20T10:26:22.985Z"
      },
      {
        "duration": 70,
        "start_time": "2022-04-20T10:26:23.036Z"
      },
      {
        "duration": 87,
        "start_time": "2022-04-20T10:26:23.108Z"
      },
      {
        "duration": 113,
        "start_time": "2022-04-20T10:26:23.198Z"
      },
      {
        "duration": 23,
        "start_time": "2022-04-20T10:26:23.312Z"
      },
      {
        "duration": 3,
        "start_time": "2022-04-20T10:26:23.336Z"
      },
      {
        "duration": 16,
        "start_time": "2022-04-20T10:26:23.341Z"
      },
      {
        "duration": 28,
        "start_time": "2022-04-20T10:26:23.359Z"
      },
      {
        "duration": 1004,
        "start_time": "2022-04-20T10:26:23.389Z"
      },
      {
        "duration": 8,
        "start_time": "2022-04-20T10:26:24.394Z"
      },
      {
        "duration": 16,
        "start_time": "2022-04-20T10:26:24.403Z"
      },
      {
        "duration": 7,
        "start_time": "2022-04-20T10:26:24.433Z"
      },
      {
        "duration": 17,
        "start_time": "2022-04-20T10:26:24.442Z"
      },
      {
        "duration": 12,
        "start_time": "2022-04-20T10:26:24.461Z"
      },
      {
        "duration": 11,
        "start_time": "2022-04-20T10:26:24.475Z"
      },
      {
        "duration": 87,
        "start_time": "2022-04-20T10:26:24.487Z"
      },
      {
        "duration": 193,
        "start_time": "2022-04-20T10:26:24.576Z"
      },
      {
        "duration": 497,
        "start_time": "2022-04-20T10:26:24.771Z"
      },
      {
        "duration": 4,
        "start_time": "2022-04-20T10:26:25.270Z"
      },
      {
        "duration": 57,
        "start_time": "2022-04-20T10:26:25.276Z"
      },
      {
        "duration": 41,
        "start_time": "2022-04-20T10:26:25.335Z"
      },
      {
        "duration": 100,
        "start_time": "2022-04-20T10:26:25.377Z"
      },
      {
        "duration": 90,
        "start_time": "2022-04-20T10:26:25.479Z"
      },
      {
        "duration": 100,
        "start_time": "2022-04-20T10:26:25.571Z"
      },
      {
        "duration": 91,
        "start_time": "2022-04-20T10:26:25.673Z"
      },
      {
        "duration": 100,
        "start_time": "2022-04-20T10:26:25.766Z"
      },
      {
        "duration": 66,
        "start_time": "2022-04-20T10:26:25.868Z"
      },
      {
        "duration": 14,
        "start_time": "2022-04-20T10:26:25.936Z"
      },
      {
        "duration": 6,
        "start_time": "2022-04-20T10:26:25.952Z"
      },
      {
        "duration": 85,
        "start_time": "2022-04-20T10:26:25.961Z"
      },
      {
        "duration": 84,
        "start_time": "2022-04-20T10:26:26.050Z"
      },
      {
        "duration": 124,
        "start_time": "2022-04-20T10:26:26.136Z"
      },
      {
        "duration": 6,
        "start_time": "2022-04-20T10:26:26.262Z"
      },
      {
        "duration": 68,
        "start_time": "2022-04-20T10:26:26.270Z"
      },
      {
        "duration": 11,
        "start_time": "2022-04-20T10:26:26.340Z"
      },
      {
        "duration": 17,
        "start_time": "2022-04-20T10:26:26.353Z"
      },
      {
        "duration": 66,
        "start_time": "2022-04-20T10:26:26.372Z"
      },
      {
        "duration": 21,
        "start_time": "2022-04-20T10:31:31.427Z"
      },
      {
        "duration": 15,
        "start_time": "2022-04-20T10:31:46.063Z"
      },
      {
        "duration": 5,
        "start_time": "2022-04-20T10:32:02.067Z"
      },
      {
        "duration": 1565,
        "start_time": "2022-04-20T10:32:02.074Z"
      },
      {
        "duration": 14,
        "start_time": "2022-04-20T10:32:03.641Z"
      },
      {
        "duration": 79,
        "start_time": "2022-04-20T10:32:03.658Z"
      },
      {
        "duration": 12,
        "start_time": "2022-04-20T10:32:03.739Z"
      },
      {
        "duration": 20,
        "start_time": "2022-04-20T10:32:03.753Z"
      },
      {
        "duration": 1184,
        "start_time": "2022-04-20T10:32:03.774Z"
      },
      {
        "duration": 187,
        "start_time": "2022-04-20T10:32:04.960Z"
      },
      {
        "duration": 10,
        "start_time": "2022-04-20T10:32:05.149Z"
      },
      {
        "duration": 9,
        "start_time": "2022-04-20T10:32:05.162Z"
      },
      {
        "duration": 81,
        "start_time": "2022-04-20T10:32:05.172Z"
      },
      {
        "duration": 117,
        "start_time": "2022-04-20T10:32:05.254Z"
      },
      {
        "duration": 77,
        "start_time": "2022-04-20T10:32:05.372Z"
      },
      {
        "duration": 108,
        "start_time": "2022-04-20T10:32:05.451Z"
      },
      {
        "duration": 14,
        "start_time": "2022-04-20T10:32:05.561Z"
      },
      {
        "duration": 3,
        "start_time": "2022-04-20T10:32:05.577Z"
      },
      {
        "duration": 26,
        "start_time": "2022-04-20T10:32:05.581Z"
      },
      {
        "duration": 42,
        "start_time": "2022-04-20T10:32:05.609Z"
      },
      {
        "duration": 922,
        "start_time": "2022-04-20T10:32:05.652Z"
      },
      {
        "duration": 8,
        "start_time": "2022-04-20T10:32:06.575Z"
      },
      {
        "duration": 15,
        "start_time": "2022-04-20T10:32:06.585Z"
      },
      {
        "duration": 6,
        "start_time": "2022-04-20T10:32:06.602Z"
      },
      {
        "duration": 37,
        "start_time": "2022-04-20T10:32:06.610Z"
      },
      {
        "duration": 11,
        "start_time": "2022-04-20T10:32:06.649Z"
      },
      {
        "duration": 11,
        "start_time": "2022-04-20T10:32:06.662Z"
      },
      {
        "duration": 81,
        "start_time": "2022-04-20T10:32:06.674Z"
      },
      {
        "duration": 12,
        "start_time": "2022-04-20T10:32:06.757Z"
      },
      {
        "duration": 64,
        "start_time": "2022-04-20T10:32:06.773Z"
      },
      {
        "duration": 4,
        "start_time": "2022-04-20T10:32:06.839Z"
      },
      {
        "duration": 12,
        "start_time": "2022-04-20T10:32:06.845Z"
      },
      {
        "duration": 47,
        "start_time": "2022-04-20T10:32:06.859Z"
      },
      {
        "duration": 62,
        "start_time": "2022-04-20T10:32:06.907Z"
      },
      {
        "duration": 40,
        "start_time": "2022-04-20T10:32:06.971Z"
      },
      {
        "duration": 65,
        "start_time": "2022-04-20T10:32:07.013Z"
      },
      {
        "duration": 64,
        "start_time": "2022-04-20T10:32:07.080Z"
      },
      {
        "duration": 47,
        "start_time": "2022-04-20T10:32:07.146Z"
      },
      {
        "duration": 12,
        "start_time": "2022-04-20T10:32:07.195Z"
      },
      {
        "duration": 36,
        "start_time": "2022-04-20T10:32:07.209Z"
      },
      {
        "duration": 7,
        "start_time": "2022-04-20T10:32:07.247Z"
      },
      {
        "duration": 37,
        "start_time": "2022-04-20T10:32:07.255Z"
      },
      {
        "duration": 50,
        "start_time": "2022-04-20T10:32:07.294Z"
      },
      {
        "duration": 66,
        "start_time": "2022-04-20T10:32:07.346Z"
      },
      {
        "duration": 21,
        "start_time": "2022-04-20T10:32:07.413Z"
      },
      {
        "duration": 17,
        "start_time": "2022-04-20T10:32:07.436Z"
      },
      {
        "duration": 12,
        "start_time": "2022-04-20T10:32:07.454Z"
      },
      {
        "duration": 21,
        "start_time": "2022-04-20T10:32:07.468Z"
      },
      {
        "duration": 17,
        "start_time": "2022-04-20T10:32:07.490Z"
      },
      {
        "duration": 69,
        "start_time": "2022-04-20T10:32:41.981Z"
      },
      {
        "duration": 10,
        "start_time": "2022-04-20T10:32:42.052Z"
      },
      {
        "duration": 5,
        "start_time": "2022-04-20T10:33:34.592Z"
      },
      {
        "duration": 21,
        "start_time": "2022-04-20T10:33:36.263Z"
      },
      {
        "duration": 44,
        "start_time": "2022-04-20T10:33:37.755Z"
      },
      {
        "duration": 42,
        "start_time": "2022-04-20T10:33:42.323Z"
      },
      {
        "duration": 18,
        "start_time": "2022-04-20T10:35:07.226Z"
      },
      {
        "duration": 22,
        "start_time": "2022-04-20T10:35:13.663Z"
      },
      {
        "duration": 16,
        "start_time": "2022-04-20T10:35:27.011Z"
      },
      {
        "duration": 359,
        "start_time": "2022-04-20T10:35:41.677Z"
      },
      {
        "duration": 24,
        "start_time": "2022-04-20T10:36:02.104Z"
      },
      {
        "duration": 601,
        "start_time": "2022-04-20T10:36:11.257Z"
      },
      {
        "duration": 602,
        "start_time": "2022-04-20T10:36:33.952Z"
      },
      {
        "duration": 750,
        "start_time": "2022-04-20T10:37:03.779Z"
      },
      {
        "duration": 623,
        "start_time": "2022-04-20T10:37:13.337Z"
      },
      {
        "duration": 21,
        "start_time": "2022-04-20T10:37:26.433Z"
      },
      {
        "duration": 6,
        "start_time": "2022-04-20T10:37:56.608Z"
      },
      {
        "duration": 5,
        "start_time": "2022-04-20T10:39:11.130Z"
      },
      {
        "duration": 755,
        "start_time": "2022-04-20T10:39:18.255Z"
      },
      {
        "duration": 112,
        "start_time": "2022-04-20T10:39:32.914Z"
      },
      {
        "duration": 159,
        "start_time": "2022-04-20T10:39:43.898Z"
      },
      {
        "duration": 106,
        "start_time": "2022-04-20T10:39:49.770Z"
      },
      {
        "duration": 118,
        "start_time": "2022-04-20T10:40:23.880Z"
      },
      {
        "duration": 809,
        "start_time": "2022-04-20T10:40:32.752Z"
      },
      {
        "duration": 23,
        "start_time": "2022-04-20T10:44:12.931Z"
      },
      {
        "duration": 8,
        "start_time": "2022-04-20T10:44:33.304Z"
      },
      {
        "duration": 10,
        "start_time": "2022-04-20T10:44:43.430Z"
      },
      {
        "duration": 5,
        "start_time": "2022-04-20T10:44:59.426Z"
      },
      {
        "duration": 1906,
        "start_time": "2022-04-20T10:44:59.433Z"
      },
      {
        "duration": 15,
        "start_time": "2022-04-20T10:45:01.341Z"
      },
      {
        "duration": 81,
        "start_time": "2022-04-20T10:45:01.359Z"
      },
      {
        "duration": 13,
        "start_time": "2022-04-20T10:45:01.442Z"
      },
      {
        "duration": 77,
        "start_time": "2022-04-20T10:45:01.456Z"
      },
      {
        "duration": 969,
        "start_time": "2022-04-20T10:45:01.535Z"
      },
      {
        "duration": 89,
        "start_time": "2022-04-20T10:45:02.506Z"
      },
      {
        "duration": 12,
        "start_time": "2022-04-20T10:45:02.598Z"
      },
      {
        "duration": 21,
        "start_time": "2022-04-20T10:45:02.612Z"
      },
      {
        "duration": 32,
        "start_time": "2022-04-20T10:45:02.636Z"
      },
      {
        "duration": 101,
        "start_time": "2022-04-20T10:45:02.670Z"
      },
      {
        "duration": 19,
        "start_time": "2022-04-20T10:45:02.772Z"
      },
      {
        "duration": 4,
        "start_time": "2022-04-20T10:45:02.792Z"
      },
      {
        "duration": 46,
        "start_time": "2022-04-20T10:45:02.798Z"
      },
      {
        "duration": 1195,
        "start_time": "2022-04-20T10:45:02.846Z"
      },
      {
        "duration": 339,
        "start_time": "2022-04-20T10:45:04.043Z"
      },
      {
        "duration": 5,
        "start_time": "2022-04-20T10:45:04.383Z"
      },
      {
        "duration": 44,
        "start_time": "2022-04-20T10:45:04.390Z"
      },
      {
        "duration": 43,
        "start_time": "2022-04-20T10:45:04.436Z"
      },
      {
        "duration": 1173,
        "start_time": "2022-04-20T10:45:04.481Z"
      },
      {
        "duration": 19,
        "start_time": "2022-04-20T10:45:05.656Z"
      },
      {
        "duration": 9,
        "start_time": "2022-04-20T10:45:05.677Z"
      },
      {
        "duration": 44,
        "start_time": "2022-04-20T10:45:05.690Z"
      },
      {
        "duration": 7,
        "start_time": "2022-04-20T10:45:05.736Z"
      },
      {
        "duration": 31,
        "start_time": "2022-04-20T10:45:05.745Z"
      },
      {
        "duration": 14,
        "start_time": "2022-04-20T10:45:05.777Z"
      },
      {
        "duration": 16,
        "start_time": "2022-04-20T10:45:05.793Z"
      },
      {
        "duration": 89,
        "start_time": "2022-04-20T10:45:05.810Z"
      },
      {
        "duration": 12,
        "start_time": "2022-04-20T10:45:05.901Z"
      },
      {
        "duration": 60,
        "start_time": "2022-04-20T10:45:05.915Z"
      },
      {
        "duration": 5,
        "start_time": "2022-04-20T10:45:05.976Z"
      },
      {
        "duration": 9,
        "start_time": "2022-04-20T10:45:05.983Z"
      },
      {
        "duration": 67,
        "start_time": "2022-04-20T10:45:05.994Z"
      },
      {
        "duration": 49,
        "start_time": "2022-04-20T10:45:06.062Z"
      },
      {
        "duration": 63,
        "start_time": "2022-04-20T10:45:06.113Z"
      },
      {
        "duration": 60,
        "start_time": "2022-04-20T10:45:06.178Z"
      },
      {
        "duration": 48,
        "start_time": "2022-04-20T10:45:06.239Z"
      },
      {
        "duration": 64,
        "start_time": "2022-04-20T10:45:06.289Z"
      },
      {
        "duration": 25,
        "start_time": "2022-04-20T10:45:06.355Z"
      },
      {
        "duration": 16,
        "start_time": "2022-04-20T10:45:06.382Z"
      },
      {
        "duration": 8,
        "start_time": "2022-04-20T10:45:06.400Z"
      },
      {
        "duration": 58,
        "start_time": "2022-04-20T10:45:06.409Z"
      },
      {
        "duration": 32,
        "start_time": "2022-04-20T10:45:06.468Z"
      },
      {
        "duration": 103,
        "start_time": "2022-04-20T10:45:06.502Z"
      },
      {
        "duration": 7,
        "start_time": "2022-04-20T10:45:06.607Z"
      },
      {
        "duration": 27,
        "start_time": "2022-04-20T10:45:06.616Z"
      },
      {
        "duration": 26,
        "start_time": "2022-04-20T10:45:06.645Z"
      },
      {
        "duration": 17,
        "start_time": "2022-04-20T10:45:06.673Z"
      },
      {
        "duration": 12,
        "start_time": "2022-04-20T10:45:06.692Z"
      },
      {
        "duration": 8,
        "start_time": "2022-04-20T10:45:54.969Z"
      },
      {
        "duration": 5,
        "start_time": "2022-04-20T10:46:04.082Z"
      },
      {
        "duration": 1758,
        "start_time": "2022-04-20T10:46:04.089Z"
      },
      {
        "duration": 14,
        "start_time": "2022-04-20T10:46:05.850Z"
      },
      {
        "duration": 69,
        "start_time": "2022-04-20T10:46:05.866Z"
      },
      {
        "duration": 14,
        "start_time": "2022-04-20T10:46:05.937Z"
      },
      {
        "duration": 22,
        "start_time": "2022-04-20T10:46:05.952Z"
      },
      {
        "duration": 1175,
        "start_time": "2022-04-20T10:46:05.976Z"
      },
      {
        "duration": 180,
        "start_time": "2022-04-20T10:46:07.153Z"
      },
      {
        "duration": 13,
        "start_time": "2022-04-20T10:46:07.335Z"
      },
      {
        "duration": 9,
        "start_time": "2022-04-20T10:46:07.351Z"
      },
      {
        "duration": 76,
        "start_time": "2022-04-20T10:46:07.361Z"
      },
      {
        "duration": 95,
        "start_time": "2022-04-20T10:46:07.439Z"
      },
      {
        "duration": 17,
        "start_time": "2022-04-20T10:46:07.536Z"
      },
      {
        "duration": 4,
        "start_time": "2022-04-20T10:46:07.555Z"
      },
      {
        "duration": 28,
        "start_time": "2022-04-20T10:46:07.560Z"
      },
      {
        "duration": 1239,
        "start_time": "2022-04-20T10:46:07.590Z"
      },
      {
        "duration": 128,
        "start_time": "2022-04-20T10:46:08.832Z"
      },
      {
        "duration": 6,
        "start_time": "2022-04-20T10:46:08.961Z"
      },
      {
        "duration": 34,
        "start_time": "2022-04-20T10:46:08.969Z"
      },
      {
        "duration": 53,
        "start_time": "2022-04-20T10:46:09.004Z"
      },
      {
        "duration": 1341,
        "start_time": "2022-04-20T10:46:09.059Z"
      },
      {
        "duration": 19,
        "start_time": "2022-04-20T10:46:10.402Z"
      },
      {
        "duration": 18,
        "start_time": "2022-04-20T10:46:10.422Z"
      },
      {
        "duration": 9,
        "start_time": "2022-04-20T10:46:10.441Z"
      },
      {
        "duration": 17,
        "start_time": "2022-04-20T10:46:10.452Z"
      },
      {
        "duration": 7,
        "start_time": "2022-04-20T10:46:10.470Z"
      },
      {
        "duration": 55,
        "start_time": "2022-04-20T10:46:10.479Z"
      },
      {
        "duration": 14,
        "start_time": "2022-04-20T10:46:10.538Z"
      },
      {
        "duration": 12,
        "start_time": "2022-04-20T10:46:10.553Z"
      },
      {
        "duration": 88,
        "start_time": "2022-04-20T10:46:10.566Z"
      },
      {
        "duration": 12,
        "start_time": "2022-04-20T10:46:10.655Z"
      },
      {
        "duration": 65,
        "start_time": "2022-04-20T10:46:10.668Z"
      },
      {
        "duration": 5,
        "start_time": "2022-04-20T10:46:10.735Z"
      },
      {
        "duration": 8,
        "start_time": "2022-04-20T10:46:10.742Z"
      },
      {
        "duration": 51,
        "start_time": "2022-04-20T10:46:10.751Z"
      },
      {
        "duration": 63,
        "start_time": "2022-04-20T10:46:10.804Z"
      },
      {
        "duration": 46,
        "start_time": "2022-04-20T10:46:10.869Z"
      },
      {
        "duration": 47,
        "start_time": "2022-04-20T10:46:10.934Z"
      },
      {
        "duration": 68,
        "start_time": "2022-04-20T10:46:10.983Z"
      },
      {
        "duration": 50,
        "start_time": "2022-04-20T10:46:11.052Z"
      },
      {
        "duration": 33,
        "start_time": "2022-04-20T10:46:11.104Z"
      },
      {
        "duration": 17,
        "start_time": "2022-04-20T10:46:11.138Z"
      },
      {
        "duration": 7,
        "start_time": "2022-04-20T10:46:11.157Z"
      },
      {
        "duration": 37,
        "start_time": "2022-04-20T10:46:11.166Z"
      },
      {
        "duration": 60,
        "start_time": "2022-04-20T10:46:11.205Z"
      },
      {
        "duration": 103,
        "start_time": "2022-04-20T10:46:11.267Z"
      },
      {
        "duration": 8,
        "start_time": "2022-04-20T10:46:11.371Z"
      },
      {
        "duration": 35,
        "start_time": "2022-04-20T10:46:11.380Z"
      },
      {
        "duration": 15,
        "start_time": "2022-04-20T10:46:11.416Z"
      },
      {
        "duration": 13,
        "start_time": "2022-04-20T10:46:11.433Z"
      },
      {
        "duration": 12,
        "start_time": "2022-04-20T10:46:11.448Z"
      },
      {
        "duration": 9,
        "start_time": "2022-04-20T10:46:29.836Z"
      },
      {
        "duration": 7,
        "start_time": "2022-04-20T10:47:40.123Z"
      },
      {
        "duration": 8,
        "start_time": "2022-04-20T10:47:48.912Z"
      },
      {
        "duration": 13,
        "start_time": "2022-04-20T10:48:45.230Z"
      },
      {
        "duration": 7,
        "start_time": "2022-04-20T10:48:51.441Z"
      },
      {
        "duration": 13,
        "start_time": "2022-04-20T10:48:51.586Z"
      },
      {
        "duration": 11,
        "start_time": "2022-04-20T10:49:35.584Z"
      },
      {
        "duration": 174,
        "start_time": "2022-04-20T10:49:45.410Z"
      },
      {
        "duration": 12,
        "start_time": "2022-04-20T10:49:51.062Z"
      },
      {
        "duration": 12,
        "start_time": "2022-04-20T10:51:03.251Z"
      },
      {
        "duration": 13,
        "start_time": "2022-04-20T10:51:11.450Z"
      },
      {
        "duration": 5,
        "start_time": "2022-04-20T10:51:22.502Z"
      },
      {
        "duration": 5,
        "start_time": "2022-04-20T10:51:28.842Z"
      },
      {
        "duration": 2312,
        "start_time": "2022-04-20T10:51:28.849Z"
      },
      {
        "duration": 15,
        "start_time": "2022-04-20T10:51:31.163Z"
      },
      {
        "duration": 71,
        "start_time": "2022-04-20T10:51:31.181Z"
      },
      {
        "duration": 14,
        "start_time": "2022-04-20T10:51:31.254Z"
      },
      {
        "duration": 75,
        "start_time": "2022-04-20T10:51:31.270Z"
      },
      {
        "duration": 606,
        "start_time": "2022-04-20T10:51:31.347Z"
      },
      {
        "duration": 88,
        "start_time": "2022-04-20T10:51:31.955Z"
      },
      {
        "duration": 12,
        "start_time": "2022-04-20T10:51:32.044Z"
      },
      {
        "duration": 16,
        "start_time": "2022-04-20T10:51:32.059Z"
      },
      {
        "duration": 38,
        "start_time": "2022-04-20T10:51:32.077Z"
      },
      {
        "duration": 93,
        "start_time": "2022-04-20T10:51:32.117Z"
      },
      {
        "duration": 27,
        "start_time": "2022-04-20T10:51:32.212Z"
      },
      {
        "duration": 10,
        "start_time": "2022-04-20T10:51:32.241Z"
      },
      {
        "duration": 40,
        "start_time": "2022-04-20T10:51:32.253Z"
      },
      {
        "duration": 1391,
        "start_time": "2022-04-20T10:51:32.295Z"
      },
      {
        "duration": 133,
        "start_time": "2022-04-20T10:51:33.688Z"
      },
      {
        "duration": 14,
        "start_time": "2022-04-20T10:51:33.823Z"
      },
      {
        "duration": 31,
        "start_time": "2022-04-20T10:51:33.840Z"
      },
      {
        "duration": 61,
        "start_time": "2022-04-20T10:51:33.873Z"
      },
      {
        "duration": 1390,
        "start_time": "2022-04-20T10:51:33.935Z"
      },
      {
        "duration": 25,
        "start_time": "2022-04-20T10:51:35.326Z"
      },
      {
        "duration": 9,
        "start_time": "2022-04-20T10:51:35.353Z"
      },
      {
        "duration": 21,
        "start_time": "2022-04-20T10:51:35.363Z"
      },
      {
        "duration": 8,
        "start_time": "2022-04-20T10:51:35.386Z"
      },
      {
        "duration": 5,
        "start_time": "2022-04-20T10:51:35.396Z"
      },
      {
        "duration": 40,
        "start_time": "2022-04-20T10:51:35.403Z"
      },
      {
        "duration": 23,
        "start_time": "2022-04-20T10:51:35.447Z"
      },
      {
        "duration": 17,
        "start_time": "2022-04-20T10:51:35.472Z"
      },
      {
        "duration": 13,
        "start_time": "2022-04-20T10:51:35.490Z"
      },
      {
        "duration": 98,
        "start_time": "2022-04-20T10:51:35.505Z"
      },
      {
        "duration": 13,
        "start_time": "2022-04-20T10:51:35.605Z"
      },
      {
        "duration": 55,
        "start_time": "2022-04-20T10:51:35.634Z"
      },
      {
        "duration": 5,
        "start_time": "2022-04-20T10:51:35.691Z"
      },
      {
        "duration": 21,
        "start_time": "2022-04-20T10:51:35.697Z"
      },
      {
        "duration": 55,
        "start_time": "2022-04-20T10:51:35.720Z"
      },
      {
        "duration": 58,
        "start_time": "2022-04-20T10:51:35.777Z"
      },
      {
        "duration": 50,
        "start_time": "2022-04-20T10:51:35.837Z"
      },
      {
        "duration": 67,
        "start_time": "2022-04-20T10:51:35.888Z"
      },
      {
        "duration": 53,
        "start_time": "2022-04-20T10:51:35.957Z"
      },
      {
        "duration": 65,
        "start_time": "2022-04-20T10:51:36.011Z"
      },
      {
        "duration": 15,
        "start_time": "2022-04-20T10:51:36.078Z"
      },
      {
        "duration": 40,
        "start_time": "2022-04-20T10:51:36.095Z"
      },
      {
        "duration": 9,
        "start_time": "2022-04-20T10:51:36.136Z"
      },
      {
        "duration": 40,
        "start_time": "2022-04-20T10:51:36.146Z"
      },
      {
        "duration": 56,
        "start_time": "2022-04-20T10:51:36.188Z"
      },
      {
        "duration": 104,
        "start_time": "2022-04-20T10:51:36.246Z"
      },
      {
        "duration": 8,
        "start_time": "2022-04-20T10:51:36.352Z"
      },
      {
        "duration": 20,
        "start_time": "2022-04-20T10:51:36.362Z"
      },
      {
        "duration": 17,
        "start_time": "2022-04-20T10:51:36.383Z"
      },
      {
        "duration": 32,
        "start_time": "2022-04-20T10:51:36.402Z"
      },
      {
        "duration": 16,
        "start_time": "2022-04-20T10:51:36.436Z"
      },
      {
        "duration": 4,
        "start_time": "2022-04-20T10:51:53.208Z"
      },
      {
        "duration": 4,
        "start_time": "2022-04-20T10:52:08.750Z"
      },
      {
        "duration": 5,
        "start_time": "2022-04-20T10:52:31.493Z"
      },
      {
        "duration": 37,
        "start_time": "2022-04-20T11:01:21.977Z"
      },
      {
        "duration": 237,
        "start_time": "2022-04-20T11:02:28.401Z"
      },
      {
        "duration": 36,
        "start_time": "2022-04-20T11:02:33.643Z"
      },
      {
        "duration": 32,
        "start_time": "2022-04-20T11:03:29.557Z"
      },
      {
        "duration": 32,
        "start_time": "2022-04-20T11:03:55.845Z"
      },
      {
        "duration": 36,
        "start_time": "2022-04-20T11:04:00.162Z"
      },
      {
        "duration": 187,
        "start_time": "2022-04-20T11:05:03.998Z"
      },
      {
        "duration": 37,
        "start_time": "2022-04-20T11:05:08.585Z"
      },
      {
        "duration": 186,
        "start_time": "2022-04-20T11:06:03.890Z"
      },
      {
        "duration": 203,
        "start_time": "2022-04-20T11:06:25.914Z"
      },
      {
        "duration": 168,
        "start_time": "2022-04-20T11:06:42.275Z"
      },
      {
        "duration": 40,
        "start_time": "2022-04-20T11:06:59.691Z"
      },
      {
        "duration": 43,
        "start_time": "2022-04-20T11:07:10.298Z"
      },
      {
        "duration": 788,
        "start_time": "2022-04-20T11:07:22.656Z"
      },
      {
        "duration": 33,
        "start_time": "2022-04-20T11:07:33.417Z"
      },
      {
        "duration": 37,
        "start_time": "2022-04-20T11:07:37.926Z"
      },
      {
        "duration": 42,
        "start_time": "2022-04-20T11:07:48.143Z"
      },
      {
        "duration": 39,
        "start_time": "2022-04-20T11:07:51.519Z"
      },
      {
        "duration": 40,
        "start_time": "2022-04-20T11:08:18.705Z"
      },
      {
        "duration": 37,
        "start_time": "2022-04-20T11:08:37.602Z"
      },
      {
        "duration": 37,
        "start_time": "2022-04-20T11:08:58.810Z"
      },
      {
        "duration": 43,
        "start_time": "2022-04-20T11:09:02.718Z"
      },
      {
        "duration": 37,
        "start_time": "2022-04-20T11:10:17.423Z"
      },
      {
        "duration": 42,
        "start_time": "2022-04-20T11:10:21.450Z"
      },
      {
        "duration": 41,
        "start_time": "2022-04-20T11:10:27.729Z"
      },
      {
        "duration": 36,
        "start_time": "2022-04-20T11:10:59.688Z"
      },
      {
        "duration": 41,
        "start_time": "2022-04-20T11:11:04.109Z"
      },
      {
        "duration": 701,
        "start_time": "2022-04-20T11:11:23.673Z"
      },
      {
        "duration": 47,
        "start_time": "2022-04-20T11:11:29.181Z"
      },
      {
        "duration": 42,
        "start_time": "2022-04-20T11:11:34.146Z"
      },
      {
        "duration": 42,
        "start_time": "2022-04-20T11:11:42.646Z"
      },
      {
        "duration": 6,
        "start_time": "2022-04-20T11:11:49.721Z"
      },
      {
        "duration": 1513,
        "start_time": "2022-04-20T11:11:49.730Z"
      },
      {
        "duration": 16,
        "start_time": "2022-04-20T11:11:51.245Z"
      },
      {
        "duration": 25,
        "start_time": "2022-04-20T11:11:51.263Z"
      },
      {
        "duration": 14,
        "start_time": "2022-04-20T11:11:51.291Z"
      },
      {
        "duration": 43,
        "start_time": "2022-04-20T11:11:51.306Z"
      },
      {
        "duration": 1092,
        "start_time": "2022-04-20T11:11:51.351Z"
      },
      {
        "duration": 130,
        "start_time": "2022-04-20T11:11:52.445Z"
      },
      {
        "duration": 65,
        "start_time": "2022-04-20T11:11:52.576Z"
      },
      {
        "duration": 7,
        "start_time": "2022-04-20T11:11:52.642Z"
      },
      {
        "duration": 84,
        "start_time": "2022-04-20T11:11:52.650Z"
      },
      {
        "duration": 136,
        "start_time": "2022-04-20T11:11:52.736Z"
      },
      {
        "duration": 71,
        "start_time": "2022-04-20T11:11:52.875Z"
      },
      {
        "duration": 5,
        "start_time": "2022-04-20T11:11:52.947Z"
      },
      {
        "duration": 83,
        "start_time": "2022-04-20T11:11:52.953Z"
      },
      {
        "duration": 2202,
        "start_time": "2022-04-20T11:11:53.037Z"
      },
      {
        "duration": 122,
        "start_time": "2022-04-20T11:11:55.241Z"
      },
      {
        "duration": 4,
        "start_time": "2022-04-20T11:11:55.365Z"
      },
      {
        "duration": 32,
        "start_time": "2022-04-20T11:11:55.371Z"
      },
      {
        "duration": 50,
        "start_time": "2022-04-20T11:11:55.405Z"
      },
      {
        "duration": 1340,
        "start_time": "2022-04-20T11:11:55.457Z"
      },
      {
        "duration": 20,
        "start_time": "2022-04-20T11:11:56.798Z"
      },
      {
        "duration": 19,
        "start_time": "2022-04-20T11:11:56.820Z"
      },
      {
        "duration": 20,
        "start_time": "2022-04-20T11:11:56.841Z"
      },
      {
        "duration": 7,
        "start_time": "2022-04-20T11:11:56.862Z"
      },
      {
        "duration": 6,
        "start_time": "2022-04-20T11:11:56.871Z"
      },
      {
        "duration": 12,
        "start_time": "2022-04-20T11:11:56.878Z"
      },
      {
        "duration": 50,
        "start_time": "2022-04-20T11:11:56.891Z"
      },
      {
        "duration": 15,
        "start_time": "2022-04-20T11:11:56.943Z"
      },
      {
        "duration": 11,
        "start_time": "2022-04-20T11:11:56.960Z"
      },
      {
        "duration": 97,
        "start_time": "2022-04-20T11:11:56.973Z"
      },
      {
        "duration": 13,
        "start_time": "2022-04-20T11:11:57.072Z"
      },
      {
        "duration": 5,
        "start_time": "2022-04-20T11:11:57.087Z"
      },
      {
        "duration": 8,
        "start_time": "2022-04-20T11:11:57.094Z"
      },
      {
        "duration": 70,
        "start_time": "2022-04-20T11:11:57.103Z"
      },
      {
        "duration": 59,
        "start_time": "2022-04-20T11:11:57.174Z"
      },
      {
        "duration": 46,
        "start_time": "2022-04-20T11:11:57.238Z"
      },
      {
        "duration": 65,
        "start_time": "2022-04-20T11:11:57.286Z"
      },
      {
        "duration": 48,
        "start_time": "2022-04-20T11:11:57.352Z"
      },
      {
        "duration": 63,
        "start_time": "2022-04-20T11:11:57.402Z"
      },
      {
        "duration": 15,
        "start_time": "2022-04-20T11:11:57.467Z"
      },
      {
        "duration": 17,
        "start_time": "2022-04-20T11:11:57.484Z"
      },
      {
        "duration": 33,
        "start_time": "2022-04-20T11:11:57.502Z"
      },
      {
        "duration": 37,
        "start_time": "2022-04-20T11:11:57.537Z"
      },
      {
        "duration": 33,
        "start_time": "2022-04-20T11:11:57.576Z"
      },
      {
        "duration": 84,
        "start_time": "2022-04-20T11:11:57.634Z"
      },
      {
        "duration": 50,
        "start_time": "2022-04-20T11:11:57.719Z"
      },
      {
        "duration": 166,
        "start_time": "2022-04-20T11:11:57.770Z"
      },
      {
        "duration": 0,
        "start_time": "2022-04-20T11:11:57.938Z"
      },
      {
        "duration": 0,
        "start_time": "2022-04-20T11:11:57.939Z"
      },
      {
        "duration": 0,
        "start_time": "2022-04-20T11:11:57.941Z"
      },
      {
        "duration": 0,
        "start_time": "2022-04-20T11:11:57.942Z"
      },
      {
        "duration": 0,
        "start_time": "2022-04-20T11:11:57.943Z"
      },
      {
        "duration": 41,
        "start_time": "2022-04-20T11:12:22.161Z"
      },
      {
        "duration": 42,
        "start_time": "2022-04-20T11:12:33.136Z"
      },
      {
        "duration": 7,
        "start_time": "2022-04-20T11:13:15.296Z"
      },
      {
        "duration": 11,
        "start_time": "2022-04-20T11:13:17.594Z"
      },
      {
        "duration": 0,
        "start_time": "2022-04-20T11:13:38.336Z"
      },
      {
        "duration": 7,
        "start_time": "2022-04-20T11:14:28.341Z"
      },
      {
        "duration": 3002,
        "start_time": "2022-04-20T11:14:30.838Z"
      },
      {
        "duration": 11,
        "start_time": "2022-04-20T11:15:00.469Z"
      },
      {
        "duration": 3152,
        "start_time": "2022-04-20T11:15:06.268Z"
      },
      {
        "duration": 8,
        "start_time": "2022-04-20T11:15:53.501Z"
      },
      {
        "duration": 14,
        "start_time": "2022-04-20T11:15:55.545Z"
      },
      {
        "duration": 11,
        "start_time": "2022-04-20T11:16:03.671Z"
      },
      {
        "duration": 11,
        "start_time": "2022-04-20T11:16:14.659Z"
      },
      {
        "duration": 12,
        "start_time": "2022-04-20T11:16:16.426Z"
      },
      {
        "duration": 1373,
        "start_time": "2022-04-21T05:22:40.484Z"
      },
      {
        "duration": 1407,
        "start_time": "2022-04-21T05:22:41.859Z"
      },
      {
        "duration": 26,
        "start_time": "2022-04-21T05:22:43.267Z"
      },
      {
        "duration": 38,
        "start_time": "2022-04-21T05:22:43.296Z"
      },
      {
        "duration": 12,
        "start_time": "2022-04-21T05:22:43.336Z"
      },
      {
        "duration": 20,
        "start_time": "2022-04-21T05:22:43.350Z"
      },
      {
        "duration": 609,
        "start_time": "2022-04-21T05:22:43.372Z"
      },
      {
        "duration": 93,
        "start_time": "2022-04-21T05:22:43.983Z"
      },
      {
        "duration": 10,
        "start_time": "2022-04-21T05:22:44.078Z"
      },
      {
        "duration": 6,
        "start_time": "2022-04-21T05:22:44.092Z"
      },
      {
        "duration": 49,
        "start_time": "2022-04-21T05:22:44.100Z"
      },
      {
        "duration": 95,
        "start_time": "2022-04-21T05:22:44.152Z"
      },
      {
        "duration": 19,
        "start_time": "2022-04-21T05:22:44.249Z"
      },
      {
        "duration": 3,
        "start_time": "2022-04-21T05:22:44.270Z"
      },
      {
        "duration": 28,
        "start_time": "2022-04-21T05:22:44.275Z"
      },
      {
        "duration": 1325,
        "start_time": "2022-04-21T05:22:44.333Z"
      },
      {
        "duration": 128,
        "start_time": "2022-04-21T05:22:45.660Z"
      },
      {
        "duration": 5,
        "start_time": "2022-04-21T05:22:45.789Z"
      },
      {
        "duration": 44,
        "start_time": "2022-04-21T05:22:45.796Z"
      },
      {
        "duration": 37,
        "start_time": "2022-04-21T05:22:45.842Z"
      },
      {
        "duration": 1257,
        "start_time": "2022-04-21T05:22:45.880Z"
      },
      {
        "duration": 15,
        "start_time": "2022-04-21T05:22:47.139Z"
      },
      {
        "duration": 8,
        "start_time": "2022-04-21T05:22:47.155Z"
      },
      {
        "duration": 18,
        "start_time": "2022-04-21T05:22:47.165Z"
      },
      {
        "duration": 7,
        "start_time": "2022-04-21T05:22:47.185Z"
      },
      {
        "duration": 4,
        "start_time": "2022-04-21T05:22:47.193Z"
      },
      {
        "duration": 39,
        "start_time": "2022-04-21T05:22:47.199Z"
      },
      {
        "duration": 21,
        "start_time": "2022-04-21T05:22:47.242Z"
      },
      {
        "duration": 13,
        "start_time": "2022-04-21T05:22:47.265Z"
      },
      {
        "duration": 19,
        "start_time": "2022-04-21T05:22:47.280Z"
      },
      {
        "duration": 99,
        "start_time": "2022-04-21T05:22:47.300Z"
      },
      {
        "duration": 262,
        "start_time": "2022-04-21T05:22:47.401Z"
      },
      {
        "duration": 5,
        "start_time": "2022-04-21T05:22:47.665Z"
      },
      {
        "duration": 10,
        "start_time": "2022-04-21T05:22:47.671Z"
      },
      {
        "duration": 77,
        "start_time": "2022-04-21T05:22:47.683Z"
      },
      {
        "duration": 364,
        "start_time": "2022-04-21T05:22:47.761Z"
      },
      {
        "duration": 50,
        "start_time": "2022-04-21T05:22:48.126Z"
      },
      {
        "duration": 64,
        "start_time": "2022-04-21T05:22:48.178Z"
      },
      {
        "duration": 49,
        "start_time": "2022-04-21T05:22:48.244Z"
      },
      {
        "duration": 67,
        "start_time": "2022-04-21T05:22:48.294Z"
      },
      {
        "duration": 18,
        "start_time": "2022-04-21T05:22:48.363Z"
      },
      {
        "duration": 20,
        "start_time": "2022-04-21T05:22:48.383Z"
      },
      {
        "duration": 35,
        "start_time": "2022-04-21T05:22:48.405Z"
      },
      {
        "duration": 38,
        "start_time": "2022-04-21T05:22:48.442Z"
      },
      {
        "duration": 62,
        "start_time": "2022-04-21T05:22:48.481Z"
      },
      {
        "duration": 90,
        "start_time": "2022-04-21T05:22:48.545Z"
      },
      {
        "duration": 42,
        "start_time": "2022-04-21T05:22:48.636Z"
      },
      {
        "duration": 7,
        "start_time": "2022-04-21T05:22:48.679Z"
      },
      {
        "duration": 18,
        "start_time": "2022-04-21T05:22:48.688Z"
      },
      {
        "duration": 33,
        "start_time": "2022-04-21T05:22:48.708Z"
      },
      {
        "duration": 16,
        "start_time": "2022-04-21T05:22:48.743Z"
      },
      {
        "duration": 19,
        "start_time": "2022-04-21T05:22:48.761Z"
      }
    ],
    "colab": {
      "collapsed_sections": [],
      "name": "git_sborny_2.ipynb",
      "provenance": []
    },
    "kernelspec": {
      "display_name": "Python 3 (ipykernel)",
      "language": "python",
      "name": "python3"
    },
    "language_info": {
      "codemirror_mode": {
        "name": "ipython",
        "version": 3
      },
      "file_extension": ".py",
      "mimetype": "text/x-python",
      "name": "python",
      "nbconvert_exporter": "python",
      "pygments_lexer": "ipython3",
      "version": "3.9.5"
    },
    "toc": {
      "base_numbering": 1,
      "nav_menu": {},
      "number_sections": true,
      "sideBar": true,
      "skip_h1_title": true,
      "title_cell": "Table of Contents",
      "title_sidebar": "Contents",
      "toc_cell": false,
      "toc_position": {},
      "toc_section_display": true,
      "toc_window_display": false
    }
  },
  "nbformat": 4,
  "nbformat_minor": 0
}