{
 "cells": [
  {
   "cell_type": "markdown",
   "id": "6e6f776c-3e4f-4e52-ba1a-123b987381c9",
   "metadata": {},
   "source": [
    "# ЗАДАЧА\n",
    "\n",
    "Есть приложение, частью которого является лента публикаций, которые делают пользователи. Для ленты был предложен новый алгоритм рекомендаций. Предполагается, что новый алгоритм должен увеличить конверсию просмотров в лайки - то есть новый алгоритм лучше подбирает посты, которые совпадают с интересами пользователя.\n",
    "\n",
    "Тест проводился с 2022-04-24 по 2022-04-30. Первая группа выступала контрольной, вторая - тестовой.\n",
    "\n",
    "Нужно проанализировать, как новый алгоритм повлиял на конверсию и проверить результаты статистическими тестами."
   ]
  },
  {
   "cell_type": "markdown",
   "id": "d6e1e9fb-f23c-4fca-bf06-343f2ae3d075",
   "metadata": {},
   "source": [
    "# Импорт библиотек"
   ]
  },
  {
   "cell_type": "code",
   "execution_count": 31,
   "id": "4a1b0daa-bc81-4121-a91f-a8251ee7aec5",
   "metadata": {},
   "outputs": [],
   "source": [
    "import pandas as pd\n",
    "import numpy as np\n",
    "import scipy as sp\n",
    "from scipy import stats\n",
    "from scipy.stats import ttest_ind\n",
    "from scipy.stats import mannwhitneyu\n",
    "from statsmodels.stats.proportion import proportion_confint\n",
    "import statsmodels.stats.api as sms\n",
    "import statsmodels\n",
    "\n",
    "from collections import namedtuple\n",
    "ExperimentComparisonResults = namedtuple('ExperimentComparisonResults', \n",
    "                                        ['pvalue', 'effect', 'ci_length', 'left_bound', 'right_bound', 'plot'])\n",
    "ExperimentComparisonResults_2 = namedtuple('ExperimentComparisonResults', \n",
    "                                        ['pvalue', 'effect', 'ci_length', 'left_bound', 'right_bound'])\n",
    "from tqdm.notebook import tqdm as tqdm_notebook\n",
    "\n",
    "import pandahouse\n",
    "\n",
    "import matplotlib.pyplot as plt\n",
    "import seaborn as sns"
   ]
  },
  {
   "cell_type": "code",
   "execution_count": 32,
   "id": "9aa654a5-e6b8-48cc-a911-52b336e32e1a",
   "metadata": {},
   "outputs": [],
   "source": [
    "import warnings\n",
    "warnings.filterwarnings(\"ignore\")"
   ]
  },
  {
   "cell_type": "markdown",
   "id": "a4cb5421-5ff9-4777-838d-fdff29a8917a",
   "metadata": {},
   "source": [
    "Создадим подключение к базе данных и напишем функцию для удобства оформления запросов."
   ]
  },
  {
   "cell_type": "code",
   "execution_count": 33,
   "id": "ecd2faf0-2d4a-4543-88a4-ff857f7c5912",
   "metadata": {},
   "outputs": [],
   "source": [
    "connection = {\n",
    "    'host': ___,\n",
    "    'password': ___,\n",
    "    'user': ___',\n",
    "    'database': ___\n",
    "}"
   ]
  },
  {
   "cell_type": "code",
   "execution_count": 34,
   "id": "98e2b495-7760-485f-8fbb-290fb64eafe6",
   "metadata": {},
   "outputs": [],
   "source": [
    "def select(sql):\n",
    "    \n",
    "    table = pandahouse.read_clickhouse(sql, connection=connection)\n",
    "    return table"
   ]
  },
  {
   "cell_type": "markdown",
   "id": "ecae1316-bdc1-4f6a-9c9e-10a778d2019c",
   "metadata": {},
   "source": [
    "# Анализ данных"
   ]
  },
  {
   "cell_type": "markdown",
   "id": "6fb55fde-5799-4be5-b198-f47603d16402",
   "metadata": {},
   "source": [
    "Получим из базы данных информацию за период эксперимента для контрольной (1) и тестовой (2) групп."
   ]
  },
  {
   "cell_type": "code",
   "execution_count": 62,
   "id": "b6c86661-056d-44bc-b5d7-1f3c61eab004",
   "metadata": {},
   "outputs": [
    {
     "data": {
      "text/html": [
       "<div>\n",
       "<style scoped>\n",
       "    .dataframe tbody tr th:only-of-type {\n",
       "        vertical-align: middle;\n",
       "    }\n",
       "\n",
       "    .dataframe tbody tr th {\n",
       "        vertical-align: top;\n",
       "    }\n",
       "\n",
       "    .dataframe thead th {\n",
       "        text-align: right;\n",
       "    }\n",
       "</style>\n",
       "<table border=\"1\" class=\"dataframe\">\n",
       "  <thead>\n",
       "    <tr style=\"text-align: right;\">\n",
       "      <th></th>\n",
       "      <th>user_id</th>\n",
       "      <th>date</th>\n",
       "      <th>gender</th>\n",
       "      <th>age</th>\n",
       "      <th>os</th>\n",
       "      <th>source</th>\n",
       "      <th>country</th>\n",
       "      <th>likes</th>\n",
       "      <th>views</th>\n",
       "      <th>conv</th>\n",
       "    </tr>\n",
       "  </thead>\n",
       "  <tbody>\n",
       "    <tr>\n",
       "      <th>0</th>\n",
       "      <td>23535</td>\n",
       "      <td>2022-04-24</td>\n",
       "      <td>0</td>\n",
       "      <td>28</td>\n",
       "      <td>Android</td>\n",
       "      <td>ads</td>\n",
       "      <td>Russia</td>\n",
       "      <td>7</td>\n",
       "      <td>29</td>\n",
       "      <td>0.241379</td>\n",
       "    </tr>\n",
       "    <tr>\n",
       "      <th>1</th>\n",
       "      <td>118620</td>\n",
       "      <td>2022-04-24</td>\n",
       "      <td>1</td>\n",
       "      <td>19</td>\n",
       "      <td>iOS</td>\n",
       "      <td>organic</td>\n",
       "      <td>Russia</td>\n",
       "      <td>16</td>\n",
       "      <td>56</td>\n",
       "      <td>0.285714</td>\n",
       "    </tr>\n",
       "    <tr>\n",
       "      <th>2</th>\n",
       "      <td>121016</td>\n",
       "      <td>2022-04-24</td>\n",
       "      <td>1</td>\n",
       "      <td>32</td>\n",
       "      <td>Android</td>\n",
       "      <td>organic</td>\n",
       "      <td>Russia</td>\n",
       "      <td>13</td>\n",
       "      <td>50</td>\n",
       "      <td>0.260000</td>\n",
       "    </tr>\n",
       "    <tr>\n",
       "      <th>3</th>\n",
       "      <td>131477</td>\n",
       "      <td>2022-04-24</td>\n",
       "      <td>0</td>\n",
       "      <td>15</td>\n",
       "      <td>Android</td>\n",
       "      <td>organic</td>\n",
       "      <td>Russia</td>\n",
       "      <td>7</td>\n",
       "      <td>44</td>\n",
       "      <td>0.159091</td>\n",
       "    </tr>\n",
       "    <tr>\n",
       "      <th>4</th>\n",
       "      <td>130483</td>\n",
       "      <td>2022-04-24</td>\n",
       "      <td>0</td>\n",
       "      <td>22</td>\n",
       "      <td>Android</td>\n",
       "      <td>organic</td>\n",
       "      <td>Russia</td>\n",
       "      <td>6</td>\n",
       "      <td>24</td>\n",
       "      <td>0.250000</td>\n",
       "    </tr>\n",
       "  </tbody>\n",
       "</table>\n",
       "</div>"
      ],
      "text/plain": [
       "   user_id       date  gender  age       os   source country  likes  views  \\\n",
       "0    23535 2022-04-24       0   28  Android      ads  Russia      7     29   \n",
       "1   118620 2022-04-24       1   19      iOS  organic  Russia     16     56   \n",
       "2   121016 2022-04-24       1   32  Android  organic  Russia     13     50   \n",
       "3   131477 2022-04-24       0   15  Android  organic  Russia      7     44   \n",
       "4   130483 2022-04-24       0   22  Android  organic  Russia      6     24   \n",
       "\n",
       "       conv  \n",
       "0  0.241379  \n",
       "1  0.285714  \n",
       "2  0.260000  \n",
       "3  0.159091  \n",
       "4  0.250000  "
      ]
     },
     "execution_count": 62,
     "metadata": {},
     "output_type": "execute_result"
    }
   ],
   "source": [
    "sql = '''\n",
    "\n",
    "SELECT  user_id,\n",
    "        toDate(time) as date,\n",
    "        gender,\n",
    "        age,\n",
    "        os,\n",
    "        source,\n",
    "        country,\n",
    "        countIf(action = 'like') as likes,\n",
    "        countIf(action='view') as views,\n",
    "        countIf(action = 'like') / countIf(action = 'view') as conv\n",
    "        \n",
    "FROM {db}.feed_actions \n",
    "WHERE exp_group = 1 AND \n",
    "                        (toDate(time) BETWEEN '2022-04-24' AND '2022-04-30')\n",
    "GROUP BY user_id, \n",
    "         date,\n",
    "         gender,\n",
    "         age,\n",
    "         os,\n",
    "         source,\n",
    "         country\n",
    "ORDER BY date\n",
    "\n",
    "'''\n",
    "\n",
    "exp_1 = select(sql)\n",
    "exp_1.head()"
   ]
  },
  {
   "cell_type": "code",
   "execution_count": 63,
   "id": "c688bd5b-878b-426c-a7bc-aca53f446913",
   "metadata": {},
   "outputs": [
    {
     "data": {
      "text/html": [
       "<div>\n",
       "<style scoped>\n",
       "    .dataframe tbody tr th:only-of-type {\n",
       "        vertical-align: middle;\n",
       "    }\n",
       "\n",
       "    .dataframe tbody tr th {\n",
       "        vertical-align: top;\n",
       "    }\n",
       "\n",
       "    .dataframe thead th {\n",
       "        text-align: right;\n",
       "    }\n",
       "</style>\n",
       "<table border=\"1\" class=\"dataframe\">\n",
       "  <thead>\n",
       "    <tr style=\"text-align: right;\">\n",
       "      <th></th>\n",
       "      <th>user_id</th>\n",
       "      <th>date</th>\n",
       "      <th>gender</th>\n",
       "      <th>age</th>\n",
       "      <th>os</th>\n",
       "      <th>source</th>\n",
       "      <th>country</th>\n",
       "      <th>likes</th>\n",
       "      <th>views</th>\n",
       "      <th>conv</th>\n",
       "    </tr>\n",
       "  </thead>\n",
       "  <tbody>\n",
       "    <tr>\n",
       "      <th>0</th>\n",
       "      <td>111843</td>\n",
       "      <td>2022-04-24</td>\n",
       "      <td>0</td>\n",
       "      <td>21</td>\n",
       "      <td>iOS</td>\n",
       "      <td>organic</td>\n",
       "      <td>Russia</td>\n",
       "      <td>8</td>\n",
       "      <td>11</td>\n",
       "      <td>0.727273</td>\n",
       "    </tr>\n",
       "    <tr>\n",
       "      <th>1</th>\n",
       "      <td>110668</td>\n",
       "      <td>2022-04-24</td>\n",
       "      <td>1</td>\n",
       "      <td>19</td>\n",
       "      <td>iOS</td>\n",
       "      <td>organic</td>\n",
       "      <td>Kazakhstan</td>\n",
       "      <td>6</td>\n",
       "      <td>13</td>\n",
       "      <td>0.461538</td>\n",
       "    </tr>\n",
       "    <tr>\n",
       "      <th>2</th>\n",
       "      <td>125246</td>\n",
       "      <td>2022-04-24</td>\n",
       "      <td>1</td>\n",
       "      <td>34</td>\n",
       "      <td>Android</td>\n",
       "      <td>organic</td>\n",
       "      <td>Russia</td>\n",
       "      <td>13</td>\n",
       "      <td>38</td>\n",
       "      <td>0.342105</td>\n",
       "    </tr>\n",
       "    <tr>\n",
       "      <th>3</th>\n",
       "      <td>123891</td>\n",
       "      <td>2022-04-24</td>\n",
       "      <td>0</td>\n",
       "      <td>20</td>\n",
       "      <td>Android</td>\n",
       "      <td>organic</td>\n",
       "      <td>Russia</td>\n",
       "      <td>17</td>\n",
       "      <td>54</td>\n",
       "      <td>0.314815</td>\n",
       "    </tr>\n",
       "    <tr>\n",
       "      <th>4</th>\n",
       "      <td>16438</td>\n",
       "      <td>2022-04-24</td>\n",
       "      <td>1</td>\n",
       "      <td>25</td>\n",
       "      <td>Android</td>\n",
       "      <td>ads</td>\n",
       "      <td>Russia</td>\n",
       "      <td>17</td>\n",
       "      <td>44</td>\n",
       "      <td>0.386364</td>\n",
       "    </tr>\n",
       "  </tbody>\n",
       "</table>\n",
       "</div>"
      ],
      "text/plain": [
       "   user_id       date  gender  age       os   source     country  likes  \\\n",
       "0   111843 2022-04-24       0   21      iOS  organic      Russia      8   \n",
       "1   110668 2022-04-24       1   19      iOS  organic  Kazakhstan      6   \n",
       "2   125246 2022-04-24       1   34  Android  organic      Russia     13   \n",
       "3   123891 2022-04-24       0   20  Android  organic      Russia     17   \n",
       "4    16438 2022-04-24       1   25  Android      ads      Russia     17   \n",
       "\n",
       "   views      conv  \n",
       "0     11  0.727273  \n",
       "1     13  0.461538  \n",
       "2     38  0.342105  \n",
       "3     54  0.314815  \n",
       "4     44  0.386364  "
      ]
     },
     "execution_count": 63,
     "metadata": {},
     "output_type": "execute_result"
    }
   ],
   "source": [
    "sql = '''\n",
    "SELECT  user_id,\n",
    "        toDate(time) as date,\n",
    "        gender,\n",
    "        age,\n",
    "        os,\n",
    "        source,\n",
    "        country,\n",
    "        countIf(action = 'like') as likes,\n",
    "        countIf(action='view') as views,\n",
    "        countIf(action = 'like') / countIf(action = 'view') as conv\n",
    "FROM {db}.feed_actions \n",
    "WHERE exp_group = 2 AND \n",
    "                        (toDate(time) BETWEEN '2022-04-24' AND '2022-04-30')\n",
    "GROUP BY user_id, \n",
    "         date,\n",
    "         gender,\n",
    "        age,\n",
    "        os,\n",
    "        source,\n",
    "        country\n",
    "\n",
    "ORDER BY date\n",
    "'''\n",
    "\n",
    "exp_2 = select(sql)\n",
    "exp_2.head()"
   ]
  },
  {
   "cell_type": "markdown",
   "id": "816b504a-3834-45c9-a5f0-28acd2241a86",
   "metadata": {},
   "source": [
    "Проверим на пропуски и дубликаты:"
   ]
  },
  {
   "cell_type": "code",
   "execution_count": 37,
   "id": "3973164f-4e97-4062-988f-5e2ab1b8a96b",
   "metadata": {},
   "outputs": [
    {
     "name": "stdout",
     "output_type": "stream",
     "text": [
      "Дубликаты в первой группе: 0\n",
      "Дубликаты вo второй группе: 0\n",
      "Пропуски в первой группе: user_id    0.0\n",
      "date       0.0\n",
      "gender     0.0\n",
      "age        0.0\n",
      "os         0.0\n",
      "source     0.0\n",
      "likes      0.0\n",
      "views      0.0\n",
      "conv       0.0\n",
      "dtype: float64\n",
      "Пропуски вo второй группе: user_id    0.0\n",
      "date       0.0\n",
      "gender     0.0\n",
      "age        0.0\n",
      "os         0.0\n",
      "source     0.0\n",
      "likes      0.0\n",
      "views      0.0\n",
      "conv       0.0\n",
      "dtype: float64\n"
     ]
    }
   ],
   "source": [
    "print(f'Дубликаты в первой группе: {exp_1.duplicated().sum()}')\n",
    "print(f'Дубликаты вo второй группе: {exp_2.duplicated().sum()}')\n",
    "print(f'Пропуски в первой группе: {exp_1.isna().mean()}')\n",
    "print(f'Пропуски вo второй группе: {exp_2.isna().mean()}')"
   ]
  },
  {
   "cell_type": "markdown",
   "id": "5a8a44cd-6c43-4156-8062-2add1b716242",
   "metadata": {},
   "source": [
    "**Данные выгружены корректно.**"
   ]
  },
  {
   "cell_type": "markdown",
   "id": "cd420b3d",
   "metadata": {},
   "source": [
    "# Проверка системы сплитования"
   ]
  },
  {
   "cell_type": "markdown",
   "id": "1f2a5a46-9f28-44c1-a2d7-4469ac035e1a",
   "metadata": {},
   "source": [
    "Посмотрим на размеры групп:"
   ]
  },
  {
   "cell_type": "code",
   "execution_count": 38,
   "id": "a8463a9d-7d97-4f28-a77b-dd7dcb414d77",
   "metadata": {},
   "outputs": [
    {
     "data": {
      "text/plain": [
       "(19468, 19154)"
      ]
     },
     "execution_count": 38,
     "metadata": {},
     "output_type": "execute_result"
    }
   ],
   "source": [
    "len(exp_1), len(exp_2)"
   ]
  },
  {
   "cell_type": "markdown",
   "id": "6c6eccfe-e8e4-451c-881c-c5b7e659cc2e",
   "metadata": {},
   "source": [
    "Сколько уникальных пользователей попало в каждую из групп:"
   ]
  },
  {
   "cell_type": "code",
   "execution_count": 39,
   "id": "e2f8f057-f9fd-478d-9454-4725992c9470",
   "metadata": {},
   "outputs": [
    {
     "data": {
      "text/plain": [
       "(10079, 9952)"
      ]
     },
     "execution_count": 39,
     "metadata": {},
     "output_type": "execute_result"
    }
   ],
   "source": [
    "exp_1['user_id'].nunique(), exp_2['user_id'].nunique()"
   ]
  },
  {
   "cell_type": "markdown",
   "id": "b956c29a-6d33-4999-aaa4-5819615a3b9e",
   "metadata": {},
   "source": [
    "Важно проверить группы на пересечения, чтобы проверить, корректно ли сработала система сплитования:"
   ]
  },
  {
   "cell_type": "code",
   "execution_count": 40,
   "id": "ff924027-8edd-4973-911e-f89053757b05",
   "metadata": {},
   "outputs": [
    {
     "data": {
      "text/plain": [
       "set()"
      ]
     },
     "execution_count": 40,
     "metadata": {},
     "output_type": "execute_result"
    }
   ],
   "source": [
    "set(exp_1['user_id'].unique()).intersection(set(exp_2['user_id'].unique()))"
   ]
  },
  {
   "cell_type": "markdown",
   "id": "ca7f83c9-56e5-4375-aad3-0d65a56b892d",
   "metadata": {},
   "source": [
    "**Пересечений между группами нет, пользователи распределены корректно.**"
   ]
  },
  {
   "cell_type": "markdown",
   "id": "7ee2de40",
   "metadata": {},
   "source": [
    "Проверим распределение пользователей в группах по полу, возрастной группе, стране, источнику трафика, операционной системе."
   ]
  },
  {
   "cell_type": "code",
   "execution_count": 59,
   "id": "bea803d4",
   "metadata": {},
   "outputs": [
    {
     "data": {
      "text/plain": [
       "(14, 92)"
      ]
     },
     "execution_count": 59,
     "metadata": {},
     "output_type": "execute_result"
    }
   ],
   "source": [
    "# проверим нижнюю и верхнюю возрастную границу юзеров\n",
    "exp_1['age'].min(), exp_1['age'].max()"
   ]
  },
  {
   "cell_type": "code",
   "execution_count": 171,
   "id": "8a5f6cb5",
   "metadata": {},
   "outputs": [],
   "source": [
    "# добавим столбец с возрастной группой\n",
    "groups = [exp_1, exp_2]\n",
    "\n",
    "for g in groups:\n",
    "    g['age_group'] = np.select(\n",
    "    [\n",
    "        g['age'] < 18,\n",
    "        (18 <= g['age']) & (g['age'] <= 35),\n",
    "        (36 <= g['age']) & (g['age'] <= 50),\n",
    "        (51 <= g['age']) & (g['age'] <= 70),\n",
    "        g['age'] > 70\n",
    "\n",
    "    ],\n",
    "    [\n",
    "        '-18',\n",
    "        '18-35',\n",
    "        '36-50',\n",
    "        '51-70',\n",
    "        '70+'\n",
    "    ]\n",
    ")"
   ]
  },
  {
   "cell_type": "markdown",
   "id": "edca5ff7",
   "metadata": {},
   "source": [
    "Напишем функцию, которая будет собирать датафрейм с количеством пользователей для двух групп по заданному параметру"
   ]
  },
  {
   "cell_type": "code",
   "execution_count": 172,
   "id": "c8bd8630",
   "metadata": {},
   "outputs": [],
   "source": [
    "cols = ['gender', 'age_group', 'country', 'source', 'os', 'country']\n",
    "\n",
    "def compare_metrics(table1, table2, col):\n",
    "\n",
    "    t1 = exp_1.groupby(col).agg(\n",
    "        count = ('user_id', 'nunique')\n",
    "        ).reset_index()\n",
    "    t2 = exp_2.groupby(col).agg(\n",
    "        count = ('user_id', 'nunique')\n",
    "        ).reset_index()\n",
    "    t = t1.merge(t2, how='left', on=col)\n",
    "    t = t.rename(columns = {\n",
    "        'count_x' : 'control',\n",
    "        'count_y' : 'test'\n",
    "    })\n",
    "    t['diff'] = abs(t['control'] - t['test'])\n",
    "    \n",
    "    t['diff %'] = round(abs(t['control'] - t['test']) / t['control'] * 100, 2)\n",
    "   \n",
    "    return t"
   ]
  },
  {
   "cell_type": "markdown",
   "id": "a033bf91",
   "metadata": {},
   "source": [
    "Теперь сравним наши экспериментальные группы:"
   ]
  },
  {
   "cell_type": "markdown",
   "id": "8c619ab6",
   "metadata": {},
   "source": [
    "- `gender`"
   ]
  },
  {
   "cell_type": "code",
   "execution_count": 174,
   "id": "acdac7a9",
   "metadata": {},
   "outputs": [
    {
     "data": {
      "text/html": [
       "<div>\n",
       "<style scoped>\n",
       "    .dataframe tbody tr th:only-of-type {\n",
       "        vertical-align: middle;\n",
       "    }\n",
       "\n",
       "    .dataframe tbody tr th {\n",
       "        vertical-align: top;\n",
       "    }\n",
       "\n",
       "    .dataframe thead th {\n",
       "        text-align: right;\n",
       "    }\n",
       "</style>\n",
       "<table border=\"1\" class=\"dataframe\">\n",
       "  <thead>\n",
       "    <tr style=\"text-align: right;\">\n",
       "      <th></th>\n",
       "      <th>gender</th>\n",
       "      <th>control</th>\n",
       "      <th>test</th>\n",
       "      <th>diff</th>\n",
       "      <th>diff %</th>\n",
       "    </tr>\n",
       "  </thead>\n",
       "  <tbody>\n",
       "    <tr>\n",
       "      <th>0</th>\n",
       "      <td>0</td>\n",
       "      <td>4535</td>\n",
       "      <td>4445</td>\n",
       "      <td>90</td>\n",
       "      <td>1.98</td>\n",
       "    </tr>\n",
       "    <tr>\n",
       "      <th>1</th>\n",
       "      <td>1</td>\n",
       "      <td>5544</td>\n",
       "      <td>5507</td>\n",
       "      <td>37</td>\n",
       "      <td>0.67</td>\n",
       "    </tr>\n",
       "  </tbody>\n",
       "</table>\n",
       "</div>"
      ],
      "text/plain": [
       "   gender  control  test  diff  diff %\n",
       "0       0     4535  4445    90    1.98\n",
       "1       1     5544  5507    37    0.67"
      ]
     },
     "execution_count": 174,
     "metadata": {},
     "output_type": "execute_result"
    }
   ],
   "source": [
    "gender_comparison = compare_metrics(exp_1, exp_2, 'gender')\n",
    "gender_comparison\n"
   ]
  },
  {
   "cell_type": "markdown",
   "id": "03947b62",
   "metadata": {},
   "source": [
    "- `age_group`"
   ]
  },
  {
   "cell_type": "code",
   "execution_count": 176,
   "id": "8d382ff2",
   "metadata": {},
   "outputs": [
    {
     "data": {
      "text/html": [
       "<div>\n",
       "<style scoped>\n",
       "    .dataframe tbody tr th:only-of-type {\n",
       "        vertical-align: middle;\n",
       "    }\n",
       "\n",
       "    .dataframe tbody tr th {\n",
       "        vertical-align: top;\n",
       "    }\n",
       "\n",
       "    .dataframe thead th {\n",
       "        text-align: right;\n",
       "    }\n",
       "</style>\n",
       "<table border=\"1\" class=\"dataframe\">\n",
       "  <thead>\n",
       "    <tr style=\"text-align: right;\">\n",
       "      <th></th>\n",
       "      <th>age_group</th>\n",
       "      <th>control</th>\n",
       "      <th>test</th>\n",
       "      <th>diff</th>\n",
       "      <th>diff %</th>\n",
       "    </tr>\n",
       "  </thead>\n",
       "  <tbody>\n",
       "    <tr>\n",
       "      <th>0</th>\n",
       "      <td>-18</td>\n",
       "      <td>1359</td>\n",
       "      <td>1284</td>\n",
       "      <td>75</td>\n",
       "      <td>5.52</td>\n",
       "    </tr>\n",
       "    <tr>\n",
       "      <th>1</th>\n",
       "      <td>18-35</td>\n",
       "      <td>6717</td>\n",
       "      <td>6627</td>\n",
       "      <td>90</td>\n",
       "      <td>1.34</td>\n",
       "    </tr>\n",
       "    <tr>\n",
       "      <th>2</th>\n",
       "      <td>36-50</td>\n",
       "      <td>1696</td>\n",
       "      <td>1718</td>\n",
       "      <td>22</td>\n",
       "      <td>1.30</td>\n",
       "    </tr>\n",
       "    <tr>\n",
       "      <th>3</th>\n",
       "      <td>51-70</td>\n",
       "      <td>303</td>\n",
       "      <td>317</td>\n",
       "      <td>14</td>\n",
       "      <td>4.62</td>\n",
       "    </tr>\n",
       "    <tr>\n",
       "      <th>4</th>\n",
       "      <td>70+</td>\n",
       "      <td>4</td>\n",
       "      <td>6</td>\n",
       "      <td>2</td>\n",
       "      <td>50.00</td>\n",
       "    </tr>\n",
       "  </tbody>\n",
       "</table>\n",
       "</div>"
      ],
      "text/plain": [
       "  age_group  control  test  diff  diff %\n",
       "0       -18     1359  1284    75    5.52\n",
       "1     18-35     6717  6627    90    1.34\n",
       "2     36-50     1696  1718    22    1.30\n",
       "3     51-70      303   317    14    4.62\n",
       "4       70+        4     6     2   50.00"
      ]
     },
     "execution_count": 176,
     "metadata": {},
     "output_type": "execute_result"
    }
   ],
   "source": [
    "age_group_comparison = compare_metrics(exp_1, exp_2, 'age_group')\n",
    "age_group_comparison"
   ]
  },
  {
   "cell_type": "markdown",
   "id": "97c03ba6",
   "metadata": {},
   "source": [
    "- `source`"
   ]
  },
  {
   "cell_type": "code",
   "execution_count": 177,
   "id": "dff02c91",
   "metadata": {},
   "outputs": [
    {
     "data": {
      "text/html": [
       "<div>\n",
       "<style scoped>\n",
       "    .dataframe tbody tr th:only-of-type {\n",
       "        vertical-align: middle;\n",
       "    }\n",
       "\n",
       "    .dataframe tbody tr th {\n",
       "        vertical-align: top;\n",
       "    }\n",
       "\n",
       "    .dataframe thead th {\n",
       "        text-align: right;\n",
       "    }\n",
       "</style>\n",
       "<table border=\"1\" class=\"dataframe\">\n",
       "  <thead>\n",
       "    <tr style=\"text-align: right;\">\n",
       "      <th></th>\n",
       "      <th>source</th>\n",
       "      <th>control</th>\n",
       "      <th>test</th>\n",
       "      <th>diff</th>\n",
       "      <th>diff %</th>\n",
       "    </tr>\n",
       "  </thead>\n",
       "  <tbody>\n",
       "    <tr>\n",
       "      <th>0</th>\n",
       "      <td>ads</td>\n",
       "      <td>4720</td>\n",
       "      <td>4694</td>\n",
       "      <td>26</td>\n",
       "      <td>0.55</td>\n",
       "    </tr>\n",
       "    <tr>\n",
       "      <th>1</th>\n",
       "      <td>organic</td>\n",
       "      <td>5359</td>\n",
       "      <td>5258</td>\n",
       "      <td>101</td>\n",
       "      <td>1.88</td>\n",
       "    </tr>\n",
       "  </tbody>\n",
       "</table>\n",
       "</div>"
      ],
      "text/plain": [
       "    source  control  test  diff  diff %\n",
       "0      ads     4720  4694    26    0.55\n",
       "1  organic     5359  5258   101    1.88"
      ]
     },
     "execution_count": 177,
     "metadata": {},
     "output_type": "execute_result"
    }
   ],
   "source": [
    "source_comparison = compare_metrics(exp_1, exp_2, 'source')\n",
    "source_comparison"
   ]
  },
  {
   "cell_type": "markdown",
   "id": "13dc7a7c",
   "metadata": {},
   "source": [
    "- `os`"
   ]
  },
  {
   "cell_type": "code",
   "execution_count": 178,
   "id": "c4f15c3b",
   "metadata": {},
   "outputs": [
    {
     "data": {
      "text/html": [
       "<div>\n",
       "<style scoped>\n",
       "    .dataframe tbody tr th:only-of-type {\n",
       "        vertical-align: middle;\n",
       "    }\n",
       "\n",
       "    .dataframe tbody tr th {\n",
       "        vertical-align: top;\n",
       "    }\n",
       "\n",
       "    .dataframe thead th {\n",
       "        text-align: right;\n",
       "    }\n",
       "</style>\n",
       "<table border=\"1\" class=\"dataframe\">\n",
       "  <thead>\n",
       "    <tr style=\"text-align: right;\">\n",
       "      <th></th>\n",
       "      <th>os</th>\n",
       "      <th>control</th>\n",
       "      <th>test</th>\n",
       "      <th>diff</th>\n",
       "      <th>diff %</th>\n",
       "    </tr>\n",
       "  </thead>\n",
       "  <tbody>\n",
       "    <tr>\n",
       "      <th>0</th>\n",
       "      <td>Android</td>\n",
       "      <td>6532</td>\n",
       "      <td>6409</td>\n",
       "      <td>123</td>\n",
       "      <td>1.88</td>\n",
       "    </tr>\n",
       "    <tr>\n",
       "      <th>1</th>\n",
       "      <td>iOS</td>\n",
       "      <td>3547</td>\n",
       "      <td>3543</td>\n",
       "      <td>4</td>\n",
       "      <td>0.11</td>\n",
       "    </tr>\n",
       "  </tbody>\n",
       "</table>\n",
       "</div>"
      ],
      "text/plain": [
       "        os  control  test  diff  diff %\n",
       "0  Android     6532  6409   123    1.88\n",
       "1      iOS     3547  3543     4    0.11"
      ]
     },
     "execution_count": 178,
     "metadata": {},
     "output_type": "execute_result"
    }
   ],
   "source": [
    "os_comparison = compare_metrics(exp_1, exp_2, 'os')\n",
    "os_comparison"
   ]
  },
  {
   "cell_type": "markdown",
   "id": "a3005124",
   "metadata": {},
   "source": [
    "- `country`"
   ]
  },
  {
   "cell_type": "code",
   "execution_count": 179,
   "id": "d9b08241",
   "metadata": {},
   "outputs": [
    {
     "data": {
      "text/html": [
       "<div>\n",
       "<style scoped>\n",
       "    .dataframe tbody tr th:only-of-type {\n",
       "        vertical-align: middle;\n",
       "    }\n",
       "\n",
       "    .dataframe tbody tr th {\n",
       "        vertical-align: top;\n",
       "    }\n",
       "\n",
       "    .dataframe thead th {\n",
       "        text-align: right;\n",
       "    }\n",
       "</style>\n",
       "<table border=\"1\" class=\"dataframe\">\n",
       "  <thead>\n",
       "    <tr style=\"text-align: right;\">\n",
       "      <th></th>\n",
       "      <th>country</th>\n",
       "      <th>control</th>\n",
       "      <th>test</th>\n",
       "      <th>diff</th>\n",
       "      <th>diff %</th>\n",
       "    </tr>\n",
       "  </thead>\n",
       "  <tbody>\n",
       "    <tr>\n",
       "      <th>0</th>\n",
       "      <td>Azerbaijan</td>\n",
       "      <td>90</td>\n",
       "      <td>110</td>\n",
       "      <td>20</td>\n",
       "      <td>22.22</td>\n",
       "    </tr>\n",
       "    <tr>\n",
       "      <th>1</th>\n",
       "      <td>Belarus</td>\n",
       "      <td>212</td>\n",
       "      <td>204</td>\n",
       "      <td>8</td>\n",
       "      <td>3.77</td>\n",
       "    </tr>\n",
       "    <tr>\n",
       "      <th>2</th>\n",
       "      <td>Cyprus</td>\n",
       "      <td>8</td>\n",
       "      <td>12</td>\n",
       "      <td>4</td>\n",
       "      <td>50.00</td>\n",
       "    </tr>\n",
       "    <tr>\n",
       "      <th>3</th>\n",
       "      <td>Estonia</td>\n",
       "      <td>18</td>\n",
       "      <td>8</td>\n",
       "      <td>10</td>\n",
       "      <td>55.56</td>\n",
       "    </tr>\n",
       "    <tr>\n",
       "      <th>4</th>\n",
       "      <td>Finland</td>\n",
       "      <td>98</td>\n",
       "      <td>108</td>\n",
       "      <td>10</td>\n",
       "      <td>10.20</td>\n",
       "    </tr>\n",
       "    <tr>\n",
       "      <th>5</th>\n",
       "      <td>Kazakhstan</td>\n",
       "      <td>201</td>\n",
       "      <td>196</td>\n",
       "      <td>5</td>\n",
       "      <td>2.49</td>\n",
       "    </tr>\n",
       "    <tr>\n",
       "      <th>6</th>\n",
       "      <td>Latvia</td>\n",
       "      <td>10</td>\n",
       "      <td>7</td>\n",
       "      <td>3</td>\n",
       "      <td>30.00</td>\n",
       "    </tr>\n",
       "    <tr>\n",
       "      <th>7</th>\n",
       "      <td>Russia</td>\n",
       "      <td>8855</td>\n",
       "      <td>8731</td>\n",
       "      <td>124</td>\n",
       "      <td>1.40</td>\n",
       "    </tr>\n",
       "    <tr>\n",
       "      <th>8</th>\n",
       "      <td>Switzerland</td>\n",
       "      <td>8</td>\n",
       "      <td>10</td>\n",
       "      <td>2</td>\n",
       "      <td>25.00</td>\n",
       "    </tr>\n",
       "    <tr>\n",
       "      <th>9</th>\n",
       "      <td>Turkey</td>\n",
       "      <td>78</td>\n",
       "      <td>82</td>\n",
       "      <td>4</td>\n",
       "      <td>5.13</td>\n",
       "    </tr>\n",
       "    <tr>\n",
       "      <th>10</th>\n",
       "      <td>Ukraine</td>\n",
       "      <td>501</td>\n",
       "      <td>484</td>\n",
       "      <td>17</td>\n",
       "      <td>3.39</td>\n",
       "    </tr>\n",
       "  </tbody>\n",
       "</table>\n",
       "</div>"
      ],
      "text/plain": [
       "        country  control  test  diff  diff %\n",
       "0    Azerbaijan       90   110    20   22.22\n",
       "1       Belarus      212   204     8    3.77\n",
       "2        Cyprus        8    12     4   50.00\n",
       "3       Estonia       18     8    10   55.56\n",
       "4       Finland       98   108    10   10.20\n",
       "5    Kazakhstan      201   196     5    2.49\n",
       "6        Latvia       10     7     3   30.00\n",
       "7        Russia     8855  8731   124    1.40\n",
       "8   Switzerland        8    10     2   25.00\n",
       "9        Turkey       78    82     4    5.13\n",
       "10      Ukraine      501   484    17    3.39"
      ]
     },
     "execution_count": 179,
     "metadata": {},
     "output_type": "execute_result"
    }
   ],
   "source": [
    "country_comparison = compare_metrics(exp_1, exp_2, 'country')\n",
    "country_comparison"
   ]
  },
  {
   "cell_type": "markdown",
   "id": "cf004674",
   "metadata": {},
   "source": [
    "В целом работу системы сплитования можно считать корректной."
   ]
  },
  {
   "cell_type": "markdown",
   "id": "e3b4b685-decb-461c-babd-2e972ad91968",
   "metadata": {},
   "source": [
    "Изучим, как накапливались события в группах, не было ли аномалий:"
   ]
  },
  {
   "cell_type": "code",
   "execution_count": null,
   "id": "4d42e48d-9d5b-4c43-989e-e9ec55e16f01",
   "metadata": {},
   "outputs": [],
   "source": [
    "fig, axes = plt.subplots(figsize=(16,6))\n",
    "plt.subplot(121)\n",
    "ax1 = sns.lineplot(x=exp_2['date'], y=exp_2['views'].cumsum(), color='red', label='control')\n",
    "ax1 = sns.lineplot(x=exp_1['date'], y=exp_1['views'].cumsum(), color='k', label='test')\n",
    "plt.title('Динамика накопления просмотров в группах')\n",
    "plt.subplot(122)\n",
    "ax2 = sns.lineplot(x=exp_2['date'], y=exp_2['likes'].cumsum(), color='red', label='control')\n",
    "ax2 = sns.lineplot(x=exp_1['date'], y=exp_1['likes'].cumsum(), color='k', label='test')\n",
    "plt.title('Динамика накопления лайков в группах')\n",
    "plt.tight_layout()\n",
    "plt.show() "
   ]
  },
  {
   "cell_type": "markdown",
   "id": "06088842-51bf-4b65-9f23-ec90b5bcf978",
   "metadata": {},
   "source": [
    "Тестовая группа сразу же отстала от контрольной по количеству лайков, но в целом события накапливались равномерно."
   ]
  },
  {
   "cell_type": "markdown",
   "id": "6c5eff32-c260-4f85-ae3c-61ed2f6b4b77",
   "metadata": {},
   "source": [
    "Посмотрим на распределения лайков и просмотров в тестовой и контрольной группах"
   ]
  },
  {
   "cell_type": "code",
   "execution_count": null,
   "id": "cfb8d682-7ff8-435e-97fa-2c7243f4b2a1",
   "metadata": {},
   "outputs": [],
   "source": [
    "plt.figure(figsize = (12, 8))\n",
    "plt.subplots_adjust(hspace=0.5)\n",
    "plt.title('Распределение просмотров и лайков в эксперименте')\n",
    "sns.set_style('whitegrid')\n",
    "\n",
    "plt.subplot(221)\n",
    "ax1 = sns.histplot(exp_1['views'])\n",
    "ax1.axvline(np.mean(exp_1['views']), \n",
    "               linewidth=2, \n",
    "               color='r', \n",
    "               alpha=0.9, \n",
    "               linestyle='--', \n",
    "               label = 'Среднее = {:,.2f}'.format(np.mean(exp_1['views'])))\n",
    "ax1.set_title('VIEWS - control')\n",
    "plt.legend()\n",
    "\n",
    "plt.subplot(222)\n",
    "ax2 = sns.histplot(exp_2['views'])\n",
    "ax2.axvline(np.mean(exp_2['views']), \n",
    "               linewidth=2, \n",
    "               color='r', \n",
    "               alpha=0.9, \n",
    "               linestyle='--', \n",
    "               label = 'Среднее = {:,.2f}'.format(np.mean(exp_2['views'])))\n",
    "ax2.set_title('VIEWS - test')\n",
    "plt.legend()\n",
    "\n",
    "plt.subplot(223)\n",
    "ax3 = sns.histplot(exp_1['likes'])\n",
    "ax3.axvline(np.mean(exp_1['likes']), \n",
    "               linewidth=2, \n",
    "               color='r', \n",
    "               alpha=0.9, \n",
    "               linestyle='--', \n",
    "               label = 'Среднее = {:,.2f}'.format(np.mean(exp_1['likes'])))\n",
    "ax3.set_title('LIKES - control')\n",
    "plt.legend()\n",
    "\n",
    "plt.subplot(224)\n",
    "ax4 = sns.histplot(exp_2['likes'])\n",
    "ax4.axvline(np.mean(exp_2['likes']), \n",
    "               linewidth=2, \n",
    "               color='r', \n",
    "               alpha=0.9, \n",
    "               linestyle='--', \n",
    "               label = 'Среднее = {:,.2f}'.format(np.mean(exp_2['likes'])))\n",
    "ax4.set_title('LIKES - test')\n",
    "plt.legend()\n",
    "\n",
    "plt.show()"
   ]
  },
  {
   "cell_type": "markdown",
   "id": "02d8ea92-4b76-4779-bab5-d23600245905",
   "metadata": {},
   "source": [
    "**Среднее количество просмотров на пользователя почти не изменилось, а среднее количество лайков в экспериментальной группе снизилось**. Посчитаем конверсии в группах и разницу между ними."
   ]
  },
  {
   "cell_type": "code",
   "execution_count": null,
   "id": "d440a5a2-7799-449e-8a85-a261aba8ddd7",
   "metadata": {},
   "outputs": [],
   "source": [
    "ctr1 = exp_1['likes'].sum() / exp_1['views'].sum()\n",
    "ctr2 = exp_2['likes'].sum() / exp_2['views'].sum()\n",
    "print(f'''\n",
    "Конверсия в контрольной группе: {round(ctr1, 3)}\n",
    "Конверсия в тестовой группе: {round(ctr2, 3)}\n",
    "\n",
    "Конверсия снизилась на {round((ctr1-ctr2) / ctr1 * 100, 3)} %\n",
    "''')"
   ]
  },
  {
   "cell_type": "markdown",
   "id": "df64a7f2-5afc-4270-a17b-e6ace96078c3",
   "metadata": {},
   "source": [
    "Статистическую значимость этого изменения мы проверим в следующем разделе."
   ]
  },
  {
   "cell_type": "markdown",
   "id": "679803c5-3610-4f8e-abfe-7a5f701243b9",
   "metadata": {},
   "source": [
    "Построим график изменения конверсии в группах по дням:"
   ]
  },
  {
   "cell_type": "code",
   "execution_count": null,
   "id": "625fc01f-0c07-42ba-80aa-02ef36613d98",
   "metadata": {},
   "outputs": [],
   "source": [
    "plt.figure(figsize=(8,6))\n",
    "\n",
    "ax1 = sns.lineplot(data = exp_1.groupby('date', as_index=False)['conv'].mean(), x='date', y='conv', color='k', label='test', ci=None)\n",
    "ax2 = sns.lineplot(data = exp_2.groupby('date', as_index=False)['conv'].mean(), x='date', y='conv', color='red', label='control', ci=None)\n",
    "plt.title('Изменение конверсии в группах по дням')\n",
    "plt.tight_layout()\n",
    "plt.show() "
   ]
  },
  {
   "cell_type": "markdown",
   "id": "8ea5264c-760f-4a70-9119-15837e404111",
   "metadata": {},
   "source": [
    "Видим, что в последний день эксперимента конверсия в тестовой группе была выше, чем в контрольной."
   ]
  },
  {
   "cell_type": "markdown",
   "id": "5b32953d-0909-4cd6-85b5-0b7d98057dbc",
   "metadata": {},
   "source": [
    "Посмотрим на динамику лайков и просмотров:"
   ]
  },
  {
   "cell_type": "code",
   "execution_count": null,
   "id": "11654bee-2bf1-447b-980d-cc1301792ce4",
   "metadata": {},
   "outputs": [],
   "source": [
    "exp_1_gr = exp_1.groupby('date', as_index=False).agg(\n",
    "    {\n",
    "    'likes' : 'sum',\n",
    "    'views' : 'sum'\n",
    "    })\n",
    "exp_1_gr['ctr'] = exp_1_gr['likes'] / exp_1_gr['views']\n",
    "exp_1_gr"
   ]
  },
  {
   "cell_type": "code",
   "execution_count": null,
   "id": "8a1fa40f-cd60-488c-af17-586aa64bece4",
   "metadata": {},
   "outputs": [],
   "source": [
    "exp_2_gr = exp_2.groupby('date', as_index=False).agg(\n",
    "    {\n",
    "    'likes' : 'sum',\n",
    "    'views' : 'sum'\n",
    "    })\n",
    "exp_2_gr['ctr'] = exp_2_gr['likes'] / exp_2_gr['views']\n",
    "exp_2_gr"
   ]
  },
  {
   "cell_type": "code",
   "execution_count": null,
   "id": "7cefb2d0-0eb1-4e4b-a9e4-91664a06379e",
   "metadata": {},
   "outputs": [],
   "source": [
    "plt.figure(figsize=(8,6))\n",
    "sns.lineplot(data=exp_1_gr, x='date', y='likes', label='control', color='k')\n",
    "sns.lineplot(data=exp_2_gr, x='date', y='likes', label='test', color='red')\n",
    "plt.title('Динамика лайков в группах')\n",
    "plt.legend()\n",
    "plt.show()"
   ]
  },
  {
   "cell_type": "code",
   "execution_count": null,
   "id": "8b2de186-97d7-41a4-aa8e-733db5ccf84a",
   "metadata": {},
   "outputs": [],
   "source": [
    "plt.figure(figsize=(8,6))\n",
    "sns.lineplot(data=exp_1_gr, x='date', y='views', label='control', color='k')\n",
    "sns.lineplot(data=exp_2_gr, x='date', y='views', label='test', color='red')\n",
    "plt.title('Динамика просмотров в группах')\n",
    "plt.legend()\n",
    "plt.show()"
   ]
  },
  {
   "cell_type": "markdown",
   "id": "98c24f55-06fb-4a3f-9cb3-6edd8e88131b",
   "metadata": {},
   "source": [
    "В контрольной группе в последний день снизилось количество лайков, а в тестовой группе оно продолжало расти. С количеством просмотров же была обратная ситуация. Это и привело к тому, что конверсия «теста» в последний день эксперимента обогнала конверсию «контроля»."
   ]
  },
  {
   "cell_type": "markdown",
   "id": "b541b3ae-7c27-45c4-a4c3-880c6e10d847",
   "metadata": {},
   "source": [
    "А теперь визуализируем распределение конверсий в контрольной и тестовой группах:"
   ]
  },
  {
   "cell_type": "code",
   "execution_count": null,
   "id": "26e514ab-ce08-4ba5-b04f-c99f6feab755",
   "metadata": {},
   "outputs": [],
   "source": [
    "plt.figure(figsize=(10,8))\n",
    "sns.histplot(exp_1['conv'], label='control')\n",
    "sns.histplot(exp_2['conv'], color='red', alpha=0.4, label='test')\n",
    "plt.legend()\n",
    "plt.show()"
   ]
  },
  {
   "cell_type": "markdown",
   "id": "4f08849f-6fca-427a-8616-d4b1f7bf176e",
   "metadata": {},
   "source": [
    "**Между гистограммами конверсий есть заметная разница**. Нужно проанализировать новый алгоритм и посмотреть, как он повлиял на пользователей с низкой конверсией и на пользователей с высокой конверсией. Возможно, результаты такого анализа могли бы дать дополнительную полезную информацию.\n",
    "\n",
    "Проведем анализ. Разобьем пользователей на группы по конверсии - отсечем границы групп 25-м и 75-м перцентилями."
   ]
  },
  {
   "cell_type": "markdown",
   "id": "936a81b1",
   "metadata": {},
   "source": [
    "Выгрузим данные пользователей экспериментальной группы за неделю до эксперимента."
   ]
  },
  {
   "cell_type": "code",
   "execution_count": null,
   "id": "19ef0c84",
   "metadata": {},
   "outputs": [],
   "source": [
    "sql = '''\n",
    "SELECT  user_id,\n",
    "        toDate(time) as date,\n",
    "        countIf(action = 'like') as likes,\n",
    "        countIf(action='view') as views,\n",
    "        countIf(action = 'like') / countIf(action = 'view') as conv\n",
    "        \n",
    "FROM {db}.feed_actions \n",
    "WHERE exp_group = 2 AND \n",
    "                        (toDate(time) BETWEEN '2022-04-16' AND '2022-04-23')\n",
    "GROUP BY user_id, date\n",
    "ORDER BY date\n",
    "\n",
    "'''\n",
    "\n",
    "ctr_before = select(sql)\n",
    "ctr_before.head()"
   ]
  },
  {
   "cell_type": "markdown",
   "id": "1edef993",
   "metadata": {},
   "source": [
    "Соберем список пользователей, участвовавших в эксперименте."
   ]
  },
  {
   "cell_type": "code",
   "execution_count": null,
   "id": "05206aab",
   "metadata": {},
   "outputs": [],
   "source": [
    "users_list = exp_2['user_id'].unique()"
   ]
  },
  {
   "cell_type": "code",
   "execution_count": null,
   "id": "9b5c958c",
   "metadata": {},
   "outputs": [],
   "source": [
    "ctr_bef = ctr_before.query('user_id in @users_list')"
   ]
  },
  {
   "cell_type": "markdown",
   "id": "095520e8",
   "metadata": {},
   "source": [
    "Добавим столбец с марикровкой группы по конверсии"
   ]
  },
  {
   "cell_type": "code",
   "execution_count": null,
   "id": "2f8d2791",
   "metadata": {},
   "outputs": [],
   "source": [
    "ctr_bef['perc'] = ctr_bef['conv'].apply(lambda x: 'low' if x <= np.percentile(exp_2['conv'], 25) \\\n",
    "     else ('high' if x >= np.percentile(exp_2['conv'], 75) else 'mid'))\n",
    "\n",
    "ctr_bef.head()"
   ]
  },
  {
   "cell_type": "markdown",
   "id": "2a2f6f3b",
   "metadata": {},
   "source": [
    "Переименуем столбцы для удобства"
   ]
  },
  {
   "cell_type": "code",
   "execution_count": null,
   "id": "4f8ca1a3",
   "metadata": {},
   "outputs": [],
   "source": [
    "ctr_bef = ctr_bef.rename(columns={\n",
    "    'views' : 'views_before',\n",
    "    'likes' : 'likes_before'\n",
    "}\n",
    ")\n",
    "\n",
    "ctr_bef = ctr_bef.groupby('perc', as_index=False).agg({\n",
    "    'views_before' : 'sum',\n",
    "    'likes_before' : 'sum'\n",
    "})\n",
    "\n",
    "ctr_bef['ctr_before'] = ctr_bef['likes_before'] / ctr_bef['views_before']\n",
    "ctr_bef\n",
    "\n"
   ]
  },
  {
   "cell_type": "markdown",
   "id": "06bbfc8e",
   "metadata": {},
   "source": [
    "Проведем аналогичные манипуляции с экспериментальными данными"
   ]
  },
  {
   "cell_type": "code",
   "execution_count": null,
   "id": "8e0ddfa7",
   "metadata": {},
   "outputs": [],
   "source": [
    "ctr_after = exp_2.query('user_id in @users_list')\n",
    "\n",
    "ctr_aft = ctr_after.copy()\n",
    "ctr_aft['perc'] = ctr_aft['conv'].apply(lambda x: 'low' if x <= np.percentile(exp_2['conv'], 25) \\\n",
    "     else ('high' if x >= np.percentile(exp_2['conv'], 75) else 'mid'))\n",
    "\n",
    "ctr_aft.head()"
   ]
  },
  {
   "cell_type": "code",
   "execution_count": null,
   "id": "ab90b635",
   "metadata": {},
   "outputs": [],
   "source": [
    "ctr_aft = ctr_aft.rename(columns={\n",
    "    'views' : 'views_after',\n",
    "    'likes' : 'likes_after'\n",
    "}\n",
    ")\n",
    "\n",
    "ctr_aft = ctr_aft.groupby('perc', as_index=False).agg(\n",
    "    {\n",
    "    'views_after' : 'sum',\n",
    "    'likes_after' : 'sum'\n",
    "    }\n",
    "    )\n",
    "ctr_aft['ctr_after'] = ctr_aft['likes_after'] / ctr_aft['views_after']\n",
    "\n",
    "ctr_aft"
   ]
  },
  {
   "cell_type": "code",
   "execution_count": null,
   "id": "efa2aeec",
   "metadata": {},
   "outputs": [],
   "source": [
    "ctr_bef"
   ]
  },
  {
   "cell_type": "markdown",
   "id": "47ba2a46",
   "metadata": {},
   "source": [
    "Визуализируем расчеты и посмотрим, как поменялась конверсия по группам:"
   ]
  },
  {
   "cell_type": "code",
   "execution_count": null,
   "id": "24b7b080",
   "metadata": {},
   "outputs": [],
   "source": [
    "plt.figure(figsize=(8,6))\n",
    "\n",
    "x_axis = np.arange(len(ctr_bef))\n",
    "\n",
    "plt.bar(x_axis -0.2, ctr_bef['ctr_before'], width=0.4, label = 'before', color='r', alpha=0.7)\n",
    "plt.bar(x_axis +0.2, ctr_aft['ctr_after'], width=0.4, label = 'after', color='b', alpha=0.7)\n",
    "plt.xticks(x_axis, ctr_bef['perc'])\n",
    "plt.legend()\n",
    "plt.show()"
   ]
  },
  {
   "cell_type": "markdown",
   "id": "9c06343b-9d7d-475b-99ec-a39ceafe7411",
   "metadata": {},
   "source": [
    "**ВЫВОД**"
   ]
  },
  {
   "cell_type": "markdown",
   "id": "1d39d28d-c2da-48ad-9f19-4af62f150b65",
   "metadata": {},
   "source": [
    "Видим, что конверсия снизилась в средней группе и почти не изменилась в нижней. Зато прирост в конверсии показали пользователи, чья конверсия была и так высока. Возможно, это связано с тем, что ML алгоритм имеет больше возможности советовать релевантные публикации тем пользователям, которые ставят много лайков на понравившиеся посты."
   ]
  },
  {
   "cell_type": "markdown",
   "id": "44e9ece0-22a3-43c9-8b86-52138260655f",
   "metadata": {},
   "source": [
    "# Статистические тесты"
   ]
  },
  {
   "cell_type": "markdown",
   "id": "49e43aad",
   "metadata": {},
   "source": [
    "Посчитаем необходимый размер выборки для теста. В условиях задачи нам не задан размер эффекта, поэтому примем его на уровне 4% (предположим, что мы посчитали экономический эффект от роста конверсии, оправдывающий введение нового алгоритма).\n",
    "Тогда нам необходимо получить наблюдений:"
   ]
  },
  {
   "cell_type": "code",
   "execution_count": null,
   "id": "42fadeba",
   "metadata": {},
   "outputs": [],
   "source": [
    "from math import ceil\n",
    "\n",
    "\n",
    "required_n = statsmodels.stats.power.tt_ind_solve_power(\n",
    "    0.04, \n",
    "    power=0.8, \n",
    "    alpha=0.05, \n",
    "    ratio=1\n",
    "    )                                                  \n",
    "\n",
    "required_n = ceil(required_n)      \n",
    "required_n                      "
   ]
  },
  {
   "cell_type": "markdown",
   "id": "5a5e98fe",
   "metadata": {},
   "source": [
    "Условие выполняется, в обеих группах достаточно уникальных пользователей."
   ]
  },
  {
   "cell_type": "markdown",
   "id": "f5aa308b-0cdf-477b-8ba4-f32247f6888e",
   "metadata": {},
   "source": [
    "Проведем исследование и выясним, есть ли статистически значимые отличия между конверсиями в тестовой и контрольной группах. Для этого применим ряд тестов."
   ]
  },
  {
   "cell_type": "markdown",
   "id": "a98924db-8829-4431-b87d-1326287a51b4",
   "metadata": {
    "tags": []
   },
   "source": [
    "## T-test и тест Манна-Уитни"
   ]
  },
  {
   "cell_type": "markdown",
   "id": "c0ef8f5d-2b1d-43ed-8b6f-2b845caad5c6",
   "metadata": {},
   "source": [
    "Посмотрим, как ведут себя критерий Манна-Уитни и Т-критерий Стьюдента в контрольной группе"
   ]
  },
  {
   "cell_type": "code",
   "execution_count": null,
   "id": "44e0b81c-86e0-4653-92d7-d8c9256b7a1b",
   "metadata": {},
   "outputs": [],
   "source": [
    "from tqdm import tqdm_notebook"
   ]
  },
  {
   "cell_type": "code",
   "execution_count": null,
   "id": "0f7ce73f-534f-4d36-8342-0f2269892123",
   "metadata": {},
   "outputs": [],
   "source": [
    "pvalue_t = []\n",
    "nums = []\n",
    "\n",
    "for _ in tqdm_notebook(range(10000)):\n",
    "  norm_1 = exp_1['conv'].sample(frac=1, replace=True)\n",
    "  norm_2 = exp_1['conv'].sample(frac=1, replace=True)\n",
    "  result = ttest_ind(norm_1, norm_2)\n",
    "  pvalue_t.append(result.pvalue)\n",
    "  if result.pvalue < 0.05:\n",
    "    nums.append(_)\n",
    "print(f'{len(nums) / len(pvalue_t) * 100}%')\n",
    "    "
   ]
  },
  {
   "cell_type": "code",
   "execution_count": null,
   "id": "4311c5ff-01b1-4f2f-a2dc-1e7e9a4dee9c",
   "metadata": {},
   "outputs": [],
   "source": [
    "pvalue_u = []\n",
    "nums = []\n",
    "\n",
    "for _ in tqdm_notebook(range(10000)):\n",
    "  norm_1 = exp_1['conv'].sample(frac=1, replace=True)\n",
    "  norm_2 = exp_1['conv'].sample(frac=1, replace=True)\n",
    "  result = mannwhitneyu(norm_1, norm_2)\n",
    "  pvalue_u.append(result.pvalue)\n",
    "  if result.pvalue < 0.05:\n",
    "    nums.append(_)\n",
    "print(f'{len(nums) / len(pvalue_u) * 100}%')"
   ]
  },
  {
   "cell_type": "markdown",
   "id": "cfe1568e-8272-47b7-afc9-cd6d1c8400e8",
   "metadata": {},
   "source": [
    "Посмотрим на распределение p-value"
   ]
  },
  {
   "cell_type": "code",
   "execution_count": null,
   "id": "04554d1b-992e-4d2b-9fce-298f13ce982f",
   "metadata": {},
   "outputs": [],
   "source": [
    "plt.hist(pvalue_t, bins=30)\n",
    "plt.show()"
   ]
  },
  {
   "cell_type": "code",
   "execution_count": null,
   "id": "bce3f7aa-8436-42dd-af37-7fc61111729e",
   "metadata": {},
   "outputs": [],
   "source": [
    "plt.hist(pvalue_u, bins=30)\n",
    "plt.show()"
   ]
  },
  {
   "cell_type": "markdown",
   "id": "441ec373-96c7-4d40-9711-7f84dd047777",
   "metadata": {},
   "source": [
    "Оценим мощность тестов. Создадим список значений, отличающийся на 4% от конверсии в контрольной группе и посмотрим, в каком проценте случаев тест обнаружит отличия."
   ]
  },
  {
   "cell_type": "code",
   "execution_count": null,
   "id": "df6d192d-d46d-42f4-b127-286c2d366595",
   "metadata": {},
   "outputs": [],
   "source": [
    "conv_mde = exp_1['conv'] * 1.04\n",
    "\n",
    "pvalue_t_mde = []\n",
    "nums = []\n",
    "\n",
    "for _ in tqdm_notebook(range(10000)):\n",
    "  norm_1 = exp_1['conv'].sample(frac=1, replace=True)\n",
    "  norm_2 = conv_mde.sample(frac=1, replace=True)\n",
    "  result = ttest_ind(norm_1, norm_2)\n",
    "  pvalue_t_mde.append(result.pvalue)\n",
    "  if result.pvalue > 0.05:\n",
    "    nums.append(_)\n",
    "print(f'Мощность t-теста: {round(100 - len(nums) / len(pvalue_t_mde) * 100, 3)}%')"
   ]
  },
  {
   "cell_type": "code",
   "execution_count": null,
   "id": "313fff78-d903-4b6f-87d2-2bef8fe2e12a",
   "metadata": {},
   "outputs": [],
   "source": [
    "pvalue_u_mde = []\n",
    "nums = []\n",
    "\n",
    "for _ in tqdm_notebook(range(10000)):\n",
    "  norm_1 = exp_1['conv'].sample(frac=1, replace=True)\n",
    "  norm_2 = conv_mde.sample(frac=1, replace=True)\n",
    "  result = mannwhitneyu(norm_1, norm_2)\n",
    "  pvalue_u_mde.append(result.pvalue)\n",
    "  if result.pvalue < 0.05:\n",
    "    nums.append(_)\n",
    "print(f'Мощность теста Манна-Уитни: {round(len(nums) / len(pvalue_u_mde) * 100, 3)}%')"
   ]
  },
  {
   "cell_type": "markdown",
   "id": "21fdc695-8d4e-4b7b-bc84-461bf08506ac",
   "metadata": {},
   "source": [
    "**В целом по результатам АА-теста оба критерия показывают пригодность к использованию при уровне значимости 0.05**\n"
   ]
  },
  {
   "cell_type": "markdown",
   "id": "ea2813bd-47c9-4645-bdc2-b1c2a09f224a",
   "metadata": {},
   "source": [
    "Сформулируем гипотезы:\n",
    "- Нулевая гипотеза: конверсии в контрольной и тестовой группах равны.\n",
    "- Альтернативная гипотеза: конверсии в контрольной и тестовой группах отличаются."
   ]
  },
  {
   "cell_type": "markdown",
   "id": "281e3a91-eb1e-48ba-b7dd-efa5625ee66f",
   "metadata": {},
   "source": [
    "Сравним конверсии в контрольной и тестовой группах t-тестом:"
   ]
  },
  {
   "cell_type": "code",
   "execution_count": null,
   "id": "4416baec-7602-4738-b7e8-fc6392f0673f",
   "metadata": {
    "tags": []
   },
   "outputs": [],
   "source": [
    "alpha = 0.05\n",
    "result = ttest_ind(exp_1['conv'], exp_2['conv'], equal_var=False)\n",
    "p_value = result.pvalue\n",
    "print(f\"pvalue = {p_value}, \\n\")\n",
    "if p_value < alpha:\n",
    "      print('Отвергаем нулевую гипотезу: между конверсиями групп есть значимая разница')\n",
    "else:\n",
    "      print(\n",
    "          'Не получилось отвергнуть нулевую гипотезу, нет оснований считать конверсии в группах разными'\n",
    "      ) "
   ]
  },
  {
   "cell_type": "markdown",
   "id": "dc149265-c6eb-4795-abcf-22aca661330b",
   "metadata": {},
   "source": [
    "Сравним конверсии в контрольной и тестовой группах тестом Манна-Уитни:"
   ]
  },
  {
   "cell_type": "code",
   "execution_count": null,
   "id": "1fc9886f-65ca-4889-97cd-69f6cda3f6e7",
   "metadata": {},
   "outputs": [],
   "source": [
    "alpha = 0.05\n",
    "p_value = mannwhitneyu(exp_1['conv'], exp_2['conv']).pvalue\n",
    "print(f\"pvalue = {p_value}, \\n\")\n",
    "if p_value < alpha:\n",
    "      print('Отвергаем нулевую гипотезу: между конверсиями групп есть значимая разница')\n",
    "else:\n",
    "      print(\n",
    "          'Не получилось отвергнуть нулевую гипотезу, нет оснований считать конверсии в группах разными'\n",
    "      ) "
   ]
  },
  {
   "cell_type": "markdown",
   "id": "12593c9f-0c1f-4ab8-9031-5287c4d67626",
   "metadata": {},
   "source": [
    "Посмотрим, как менялся p-value обоих критериев по дням эксперимента:"
   ]
  },
  {
   "cell_type": "code",
   "execution_count": null,
   "id": "143d1c6f-0464-4eb3-8bb1-e3cc85c13ad9",
   "metadata": {},
   "outputs": [],
   "source": [
    "dates = exp_1['date'].unique()\n",
    "\n",
    "p_t = [ttest_ind(exp_1.query(f'date <= @dates[{n}]')['conv'], exp_2.query(f'date <= @dates[{n}]')['conv'])[1] for n in range(7)]\n",
    "p_m = [mannwhitneyu(exp_1.query(f'date <= @dates[{n}]')['conv'], exp_2.query(f'date <= @dates[{n}]')['conv'])[1] for n in range(7)]\n",
    "\n",
    "p_value_dynamic = pd.DataFrame({\n",
    "                                't-test' : p_t,\n",
    "                                'mann_whitney' : p_m\n",
    "                                },\n",
    "                                index = range(1,8)\n",
    "                                )\n",
    "p_value_dynamic"
   ]
  },
  {
   "cell_type": "markdown",
   "id": "f648e5f6-aeb1-4d2c-8558-f676b396ab64",
   "metadata": {},
   "source": [
    "**Оба критерия показали статистически значимую разницу между конверсиями в группах.**"
   ]
  },
  {
   "cell_type": "markdown",
   "id": "0ca69dda-1aad-4ab3-996b-441f756d01bd",
   "metadata": {},
   "source": [
    "## Bootstrap"
   ]
  },
  {
   "cell_type": "markdown",
   "id": "70e7536c-4205-4fca-9333-50d2dfbdcadc",
   "metadata": {},
   "source": [
    "### 1 вариант"
   ]
  },
  {
   "cell_type": "markdown",
   "id": "4b7c0a4d-2e9d-480d-abf1-95627e5ec60f",
   "metadata": {},
   "source": [
    "Моя собственная реализация бутстрапа."
   ]
  },
  {
   "cell_type": "markdown",
   "id": "40088cd7-a21e-4033-9e89-bd55c96f2bd1",
   "metadata": {},
   "source": [
    "Проверим статистическую значимость изменения конверсии при помощи бутстрапа."
   ]
  },
  {
   "cell_type": "code",
   "execution_count": null,
   "id": "c16093ff-a80b-4429-8f1f-51d08db9d1cb",
   "metadata": {},
   "outputs": [],
   "source": [
    "ctr1 = []\n",
    "ctr2 = []\n",
    "ctr_diff = []\n",
    "\n",
    "for _ in range(10000):\n",
    "    w1 = exp_1.sample(frac=0.5, replace=True)['views'].sum()\n",
    "    l1 = exp_1.sample(frac=0.5, replace=True)['likes'].sum()\n",
    "    w2 = exp_2.sample(frac=0.5, replace=True)['views'].sum()\n",
    "    l2 = exp_2.sample(frac=0.5, replace=True)['likes'].sum()\n",
    "    \n",
    "    ctr_1 = l1/w1\n",
    "    ctr_2 = l2/w2\n",
    "    ctr1.append(ctr_1)\n",
    "    ctr2.append(ctr_2)\n",
    "    ctr_diff.append(ctr_1-ctr_2)\n",
    "    \n",
    "ctr_diff = pd.DataFrame(ctr_diff)\n",
    "\n",
    "pvalue = 2 * min(np.mean(ctr_diff[0] > 0), np.mean(ctr_diff[0] < 0))\n",
    "\n",
    "print(f'p-value = {pvalue}')\n",
    "if pvalue <= 0.05:\n",
    "    print('Отвергаем нулевую гипотезу: между группами есть статистически значимая разница')\n",
    "else: \n",
    "    print('Не можем отвергнуть нулевую гипотезу: между группами нет статистически значимой разницы')\n",
    "\n",
    "print(f'''\n",
    "Среднее значение конверсии контрольной группы: {round(np.mean(ctr1), 3)}\n",
    "Среднее значение конверсии тестовой группы: {round(np.mean(ctr2), 3)}''')\n",
    "  \n",
    "print(f'''\n",
    "Характеристики распределения конверсии контрольной группы\n",
    "{pd.Series(ctr1).describe()}\n",
    "\n",
    "Характеристики распределения конверсии тестовой группы\n",
    "{pd.Series(ctr2).describe()}\n",
    "''') "
   ]
  },
  {
   "cell_type": "markdown",
   "id": "e2b5619c-5c92-4351-9fae-4a885e5df3a4",
   "metadata": {},
   "source": [
    "Визуализируем результаты:"
   ]
  },
  {
   "cell_type": "code",
   "execution_count": null,
   "id": "15f920a4-4f3c-4c35-9cfc-0d8202abe39e",
   "metadata": {},
   "outputs": [],
   "source": [
    "plt.figure(figsize = (15,7))\n",
    "\n",
    "plt.subplot(1,2,1)\n",
    "ax1 = sns.histplot(ctr1, \n",
    "                     kde=False, \n",
    "                     label=f'Группа 1',\n",
    "                     alpha=0.5)\n",
    "ax1.axvline(np.mean(ctr1), \n",
    "              linewidth=1, \n",
    "              color='k', \n",
    "              alpha=1, \n",
    "              linestyle='--', \n",
    "              label='Средние значения в выборках'\n",
    "              )\n",
    "\n",
    "ax1 = sns.histplot(ctr2, \n",
    "                     color = 'red', \n",
    "                     label=f'Группа 2',\n",
    "                     alpha=0.6)\n",
    "ax1.axvline(np.mean(ctr2), \n",
    "              linewidth=1, \n",
    "              color='k', \n",
    "              alpha=1, \n",
    "              linestyle='--', \n",
    "              )\n",
    "ax1.set_title('Распределение конверсий в сравниваемых группах')\n",
    "plt.legend()\n",
    "\n",
    "plt.subplot(1,2,2)\n",
    "  \n",
    "sns.set_style('whitegrid')\n",
    "ax2 = sns.histplot((pd.Series(ctr1) - pd.Series(ctr2)), \n",
    "                     color = 'lightblue')\n",
    "ax2.axvline(ctr_diff[0].quantile(0.025), \n",
    "                linewidth=1, \n",
    "                color='r', \n",
    "                alpha=0.7, \n",
    "                linestyle='--',\n",
    "                label='Границы 95% доверительного интервала' \n",
    "                )\n",
    "ax2.axvline(ctr_diff[0].quantile(0.975), \n",
    "                linewidth=1, \n",
    "                color='r', \n",
    "                alpha=0.7, \n",
    "                linestyle='--', \n",
    "                )\n",
    "ax2.set_title('Распределение разницы средних значений конверсий')\n",
    "plt.legend()\n",
    "plt.tight_layout()\n",
    "plt.show()"
   ]
  },
  {
   "cell_type": "markdown",
   "id": "c9889739-5f31-4889-ad6f-e7a15f7ca6fd",
   "metadata": {},
   "source": [
    "**Бутстрап показывает наличие статистически значимой разницы между конверсиями.**"
   ]
  },
  {
   "cell_type": "markdown",
   "id": "d834aadb-797f-4e1c-9211-ad05262462bc",
   "metadata": {},
   "source": [
    "### 2 вариант"
   ]
  },
  {
   "cell_type": "markdown",
   "id": "ac6706a2-437d-404f-9c09-5e690d62c5f8",
   "metadata": {},
   "source": [
    "Аналитики из Авито написали крутую статью, которую я прочел в блоге на Хабре (https://habr.com/ru/company/avito/blog/571096/). В образовательных целях взял оттуда эту функцию с небольшими упрощениями:"
   ]
  },
  {
   "cell_type": "code",
   "execution_count": null,
   "id": "8beb18cf-4e43-4a7d-853e-bdb17a4d6b4a",
   "metadata": {},
   "outputs": [],
   "source": [
    "def bootstrap(control, test):\n",
    "    \n",
    "    stat_sample = []\n",
    "    \n",
    "    batch_sz = 100\n",
    "    \n",
    "    # В теории boot_samples_size стоить брать не меньше размера выборки. Но на практике можно и меньше.\n",
    "    boot_samples_size = len(control)\n",
    "    for i in range(0, boot_samples_size, batch_sz):\n",
    "        N_c = len(control)\n",
    "        N_t = len(test)\n",
    "        control_sample = np.random.choice(control, size=(len(control), batch_sz), replace=True)\n",
    "        test_sample    = np.random.choice(test, size=(len(test), batch_sz), replace=True)\n",
    "\n",
    "        C = np.mean(control_sample, axis=0)\n",
    "        T = np.mean(test_sample, axis=0)\n",
    "        assert len(T) == batch_sz\n",
    "        \n",
    "        # Добавляем в массив посчитанных ранее статистик batch_sz новых значений\n",
    "        # X в статье – это boot_func(control_sample_mean, test_sample_mean)\n",
    "        stat_sample += list(C - T)\n",
    "\n",
    "    stat_sample = np.array(stat_sample)\n",
    "    # Считаем истинный эффект\n",
    "    effect = np.mean(control) - np.mean(test)\n",
    "    left_bound, right_bound = np.quantile(stat_sample, [0.025, 0.975])\n",
    "    \n",
    "    ci_length = (right_bound - left_bound)\n",
    "    # P-value - процент статистик, которые лежат левее или правее 0.\n",
    "    pvalue = 2 * min(np.mean(stat_sample > 0), np.mean(stat_sample < 0))\n",
    "    \n",
    "    print(f'p-value = {pvalue}')\n",
    "    plt.figure(figsize=(8,6))\n",
    "    plot = sns.histplot(stat_sample)\n",
    "    plot.axvline(np.quantile(stat_sample.tolist(), 0.025),\n",
    "                linewidth=1, \n",
    "                color='r', \n",
    "                alpha=0.7, \n",
    "                linestyle='--',\n",
    "                label='Границы 95% доверительного интервала' \n",
    "                )\n",
    "    plot.axvline(np.quantile(stat_sample.tolist(), 0.975), \n",
    "                linewidth=1, \n",
    "                color='r', \n",
    "                alpha=0.7, \n",
    "                linestyle='--', \n",
    "                )\n",
    "    plt.show()\n",
    "    return ExperimentComparisonResults(pvalue, effect, ci_length, left_bound, right_bound, plot)"
   ]
  },
  {
   "cell_type": "code",
   "execution_count": null,
   "id": "55567db2-5a47-4f32-8831-2c5e893d514c",
   "metadata": {},
   "outputs": [],
   "source": [
    "p_value_bootstrap_2 = bootstrap(exp_1['conv'], exp_2['conv'])"
   ]
  },
  {
   "cell_type": "markdown",
   "id": "1a194718-ea6d-433a-b7fe-917152396d82",
   "metadata": {},
   "source": [
    "**Видим, что этот тест тоже показывает статистически значимую разницу между группами. Ноль не попадает в доверительный интервал.**"
   ]
  },
  {
   "cell_type": "markdown",
   "id": "b1920be0-2502-450f-a61d-d314eebdd022",
   "metadata": {},
   "source": [
    "## CUPED "
   ]
  },
  {
   "cell_type": "markdown",
   "id": "a60f3d74-09dc-4635-b7d2-e1e47dec5b40",
   "metadata": {},
   "source": [
    "Попробуем еще один способ : CUPED, это метод постанализа, понижающий дисперсию. Реализация метода взята из вышеупомянутой статьи в образовательных целях.\n",
    "\n",
    "Для расчета предэкспериментальной метрики берем период в 1 месяц до итсследуемого эксперимента. Выгружаем данные:"
   ]
  },
  {
   "cell_type": "code",
   "execution_count": null,
   "id": "fa28ced2-5aec-4f48-8d28-2c7fd6da8ac4",
   "metadata": {},
   "outputs": [],
   "source": [
    "sql = '''\n",
    "SELECT  user_id,\n",
    "        toDate(time) as date,\n",
    "        countIf(action = 'like') as likes,\n",
    "        countIf(action='view') as views,\n",
    "        countIf(action = 'like') / countIf(action = 'view') as conv\n",
    "        \n",
    "FROM {db}.feed_actions \n",
    "WHERE exp_group = 2 AND \n",
    "                        (toDate(time) BETWEEN '2022-03-23' AND '2022-04-23')\n",
    "GROUP BY user_id, date\n",
    "ORDER BY date\n",
    "\n",
    "'''\n",
    "\n",
    "exp_tb = select(sql)\n",
    "exp_tb.head()"
   ]
  },
  {
   "cell_type": "code",
   "execution_count": null,
   "id": "014d9b1a-0d66-49ea-8fb2-3e1b717df1e6",
   "metadata": {},
   "outputs": [],
   "source": [
    "sql = '''\n",
    "SELECT  user_id,\n",
    "        toDate(time) as date,\n",
    "        countIf(action = 'like') as likes,\n",
    "        countIf(action='view') as views,\n",
    "        countIf(action = 'like') / countIf(action = 'view') as conv\n",
    "        \n",
    "FROM {db}.feed_actions \n",
    "WHERE exp_group = 1 AND \n",
    "                        (toDate(time) BETWEEN '2022-03-23' AND '2022-04-23')\n",
    "GROUP BY user_id, date\n",
    "ORDER BY date\n",
    "\n",
    "'''\n",
    "\n",
    "exp_cb = select(sql)\n",
    "exp_cb.head()"
   ]
  },
  {
   "cell_type": "markdown",
   "id": "7bf9620f-94b7-4415-9241-b2400436f692",
   "metadata": {},
   "source": [
    "Создаем списки конверсий в тесте и контроле до эксперимента и во время эксперимента:"
   ]
  },
  {
   "cell_type": "code",
   "execution_count": null,
   "id": "ae028398-5555-45ab-b29d-def1431ae863",
   "metadata": {},
   "outputs": [],
   "source": [
    "test_before = exp_tb['conv']\n",
    "test = exp_2['conv']\n",
    "\n",
    "control_before = exp_cb['conv']\n",
    "control = exp_1['conv']\n"
   ]
  },
  {
   "cell_type": "markdown",
   "id": "1110acda-b4e5-43f1-8e12-a97c03306dd8",
   "metadata": {},
   "source": [
    "Используем функцию для вычисления параметров теста и считаем p-value."
   ]
  },
  {
   "cell_type": "code",
   "execution_count": null,
   "id": "9b03e4ae-890c-4b4d-a8cc-ba43d67118c0",
   "metadata": {},
   "outputs": [],
   "source": [
    "def absolute_ttest(control, test):\n",
    "    mean_control = np.mean(control)\n",
    "    mean_test = np.mean(test)\n",
    "    var_mean_control  = np.var(control) / len(control)\n",
    "    var_mean_test  = np.var(test) / len(test)\n",
    "    \n",
    "    difference_mean = mean_test - mean_control\n",
    "    difference_mean_var = var_mean_control + var_mean_test\n",
    "    difference_distribution = stats.norm(loc=difference_mean, scale=np.sqrt(difference_mean_var))\n",
    "\n",
    "    left_bound, right_bound = difference_distribution.ppf([0.025, 0.975])\n",
    "    ci_length = (right_bound - left_bound)\n",
    "    pvalue = 2 * min(difference_distribution.cdf(0), difference_distribution.sf(0))\n",
    "    effect = difference_mean\n",
    "    return ExperimentComparisonResults_2(pvalue, effect, ci_length, left_bound, right_bound)\n"
   ]
  },
  {
   "cell_type": "code",
   "execution_count": null,
   "id": "b261ef0a-766b-4448-9fd8-3e667614ca3e",
   "metadata": {},
   "outputs": [],
   "source": [
    "pvalue_cuped = absolute_ttest(control, test)[0]\n",
    "print(f'CUPED: p-value={pvalue_cuped}')"
   ]
  },
  {
   "cell_type": "markdown",
   "id": "4bb6c3ec-e3ae-4bfc-b831-35bbb48dba23",
   "metadata": {},
   "source": [
    "**CUPED показывает наличие статистически значимых различий между контрольной и тестовой группами.**"
   ]
  },
  {
   "cell_type": "markdown",
   "id": "57b2fa7f-de09-46c7-9705-6b2664ed6f57",
   "metadata": {},
   "source": [
    "# ВЫВОД "
   ]
  },
  {
   "cell_type": "markdown",
   "id": "6219b21d-34b2-420c-a1d6-eba6b03e3438",
   "metadata": {},
   "source": [
    "- Система сплитования работает корректно - пересечений между группа не обнаружено.\n",
    "- В данных нет пропусков и дубликатов.\n",
    "- После введения нового алгоритма снизилось среднее количество лайков и снизилась общая конверсия: с 0.208 до 0.198.\n",
    "- Для проверки статистической значимости этого изменения были применены несколько критериев: t-тест, тест Манна-Уитни, бутстрап и CUPED. Все эти методы показали, что изменение конверсии статистически значимо.\n",
    "- В то же время на пользователях с высокой конверсией алгоритм показал себя хорошо: конверсия увеличилась с 34.4% до 42.5%."
   ]
  },
  {
   "cell_type": "markdown",
   "id": "fc260269-a020-4274-aacd-f43e8c428a39",
   "metadata": {},
   "source": [
    "**РЕКОМЕНДАЦИИ**\n",
    "\n",
    "Изучить, почему алгоритм оказывает противоположное влияние на пользователей с высокой конверсией и на пользователей с низкой конверсией, выполнить необходимые подстройки.  Выпускать новый алгоритм в продакшн на всех пользователей не рекомендуется."
   ]
  }
 ],
 "metadata": {
  "kernelspec": {
   "display_name": "Python 3.9.7 ('base')",
   "language": "python",
   "name": "python3"
  },
  "language_info": {
   "codemirror_mode": {
    "name": "ipython",
    "version": 3
   },
   "file_extension": ".py",
   "mimetype": "text/x-python",
   "name": "python",
   "nbconvert_exporter": "python",
   "pygments_lexer": "ipython3",
   "version": "3.9.7"
  },
  "vscode": {
   "interpreter": {
    "hash": "012dc94efea19ee3acb7893bc01bcd9f0379adff6959d0fdcb7d5fea4f670663"
   }
  }
 },
 "nbformat": 4,
 "nbformat_minor": 5
}
