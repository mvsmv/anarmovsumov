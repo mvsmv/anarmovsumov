{
 "cells": [
  {
   "cell_type": "markdown",
   "metadata": {},
   "source": [
    "# Задача:\n",
    "\n",
    "Сгенерировать таблицу с данными о сотрудниках компании: ID, имя, возраст, пол, стаж, грейд и т.д. Используем для этого разные модули и библиотеки: `random`, `np.random`, `string`, `faker`. Сгенерируем и зафиксируем случайно выбранные значения, нормальное и экспоненциальное распределение, выстроим простую логику присвоения значений в зависимости от условий."
   ]
  },
  {
   "cell_type": "markdown",
   "metadata": {},
   "source": [
    "# Подготовка"
   ]
  },
  {
   "cell_type": "markdown",
   "metadata": {},
   "source": [
    "Импортируем основные библиотеки"
   ]
  },
  {
   "cell_type": "code",
   "execution_count": 2,
   "metadata": {},
   "outputs": [],
   "source": [
    "import pandas as pd\n",
    "import numpy as np\n",
    "import random\n",
    "\n",
    "import matplotlib.pyplot as plt\n",
    "import matplotlib as mpl\n",
    "import seaborn as sns"
   ]
  },
  {
   "cell_type": "markdown",
   "metadata": {},
   "source": [
    "Устанавливаем глобальные параметры визуализации:"
   ]
  },
  {
   "cell_type": "code",
   "execution_count": 3,
   "metadata": {},
   "outputs": [],
   "source": [
    "plt.rcParams['lines.linewidth'] = 1.5\n",
    "plt.rcParams['figure.figsize'] = (8,6)\n",
    "\n",
    "sns.layout = 'tight'\n",
    "sns.set_style('whitegrid')\n",
    "sns.set_palette('crest')"
   ]
  },
  {
   "cell_type": "markdown",
   "metadata": {},
   "source": [
    "## Генерируем ID "
   ]
  },
  {
   "cell_type": "markdown",
   "metadata": {},
   "source": [
    "Часто достаточно просто взять последовательность чисел, каждое из которых будет присвоено пользователю в качестве ID. В случайном порядке или последовательно - по желанию."
   ]
  },
  {
   "cell_type": "code",
   "execution_count": 4,
   "metadata": {},
   "outputs": [
    {
     "data": {
      "text/plain": [
       "[1, 2, 3]"
      ]
     },
     "execution_count": 4,
     "metadata": {},
     "output_type": "execute_result"
    }
   ],
   "source": [
    "# последовательно\n",
    "user_id = np.arange(1,101).tolist()\n",
    "\n",
    "# выведем первые 3 элемента списка\n",
    "user_id[:3]"
   ]
  },
  {
   "cell_type": "code",
   "execution_count": 5,
   "metadata": {},
   "outputs": [
    {
     "data": {
      "text/plain": [
       "[70, 55, 80]"
      ]
     },
     "execution_count": 5,
     "metadata": {},
     "output_type": "execute_result"
    }
   ],
   "source": [
    "# в случайном порядке\n",
    "user_id_rand = np.random.choice(user_id, 100).tolist()\n",
    "\n",
    "# выведем первые 3 элемента списка\n",
    "user_id_rand[:3]"
   ]
  },
  {
   "cell_type": "markdown",
   "metadata": {},
   "source": [
    "Если мы хотим сделать ID более похожими на реальные, можно сгенерировать случайную последовательность буквенных или числовых символов нужной длины.\n",
    "\n",
    "Здесь нам поможет библиотека `string`. \n"
   ]
  },
  {
   "cell_type": "code",
   "execution_count": 6,
   "metadata": {},
   "outputs": [],
   "source": [
    "import string"
   ]
  },
  {
   "cell_type": "markdown",
   "metadata": {},
   "source": [
    "Создадим лист из последовательностей цифр длиной `k`"
   ]
  },
  {
   "cell_type": "code",
   "execution_count": 7,
   "metadata": {},
   "outputs": [
    {
     "data": {
      "text/plain": [
       "['394107', '406329', '543906']"
      ]
     },
     "execution_count": 7,
     "metadata": {},
     "output_type": "execute_result"
    }
   ],
   "source": [
    "user_id_nums = []\n",
    "k = 6\n",
    "\n",
    "for i in range(100):\n",
    "    string.digits\n",
    "    user_id_nums.append(''.join(random.sample(string.digits, k)))\n",
    "\n",
    "# выведем первые три элемента списка\n",
    "user_id_nums[:3]\n"
   ]
  },
  {
   "cell_type": "markdown",
   "metadata": {},
   "source": [
    "Можно сгенерировать айдишник из латинских букв:"
   ]
  },
  {
   "cell_type": "code",
   "execution_count": 8,
   "metadata": {},
   "outputs": [
    {
     "data": {
      "text/plain": [
       "['fnUVwgoI', 'YDOSkPLl', 'IHLZceoq']"
      ]
     },
     "execution_count": 8,
     "metadata": {},
     "output_type": "execute_result"
    }
   ],
   "source": [
    "user_id_letters = []\n",
    "k = 8\n",
    "for i in range(101):\n",
    "    string.ascii_letters\n",
    "    user_id_letters.append(''.join(random.sample(string.ascii_letters, k)))\n",
    "\n",
    "# выведем первые три элемента списка\n",
    "user_id_letters[:3]\n",
    "\n",
    " "
   ]
  },
  {
   "cell_type": "markdown",
   "metadata": {},
   "source": [
    "Можно создать ID, состоящий из `l` букв в верхнем регистре (используем `string.ascii_uppercase`), отделенных дефисом от последовательности из `k` цифр:"
   ]
  },
  {
   "cell_type": "code",
   "execution_count": 9,
   "metadata": {},
   "outputs": [
    {
     "data": {
      "text/plain": [
       "['YNQ-89137265', 'ZTS-91257083', 'MSR-78951240']"
      ]
     },
     "execution_count": 9,
     "metadata": {},
     "output_type": "execute_result"
    }
   ],
   "source": [
    "user_id_num_n_let = []\n",
    "k = 8\n",
    "l = 3\n",
    "for i in range(100):\n",
    "    string.digits\n",
    "    string.ascii_letters\n",
    "    a = ''.join(random.sample(string.ascii_uppercase, l))\n",
    "    b = ''.join(random.sample(string.digits, k))\n",
    "    uid = a + '-' + b\n",
    "    user_id_num_n_let.append(uid)\n",
    "\n",
    "# выведем первые три элемента списка\n",
    "user_id_num_n_let[:3]"
   ]
  },
  {
   "cell_type": "markdown",
   "metadata": {},
   "source": [
    "У вышеприведенного способа есть подводный камень: не получится сгенерировать последовательность цифр длиннее десяти. Чтобы обойти это ограничение, используем не `random.sample()`, а `random.choices()` - этот метод генерирует выборки с возвращением, что позволяет создавать последовательности любой длины.\n",
    "\n",
    "Еще один важный момент. Каждый перезапуск кода будет генерировать новую случайную последовательность символов. И если в ваших расчетах или срезах данных будут задействованы конкретные ID, то полезут ошибки. \n",
    "\n",
    "Чтобы зафиксировать псевдослучайные величины, которые для нас генерирует модуль` random`, есть параметр `random.seed()` - при каждом перезапуске будет генерироваться одна и та же выборка. Чтобы интегрировать `random.seed()` в цикл, я использовал `enumerate()`, который будет присваивать каждой итерации свой `seed`, тем самым фиксируя значение."
   ]
  },
  {
   "cell_type": "markdown",
   "metadata": {},
   "source": [
    "Заавернем весь написанный выше код в функцию, которая позволит создавать лист из ID нужного нам формата:"
   ]
  },
  {
   "cell_type": "code",
   "execution_count": 10,
   "metadata": {},
   "outputs": [],
   "source": [
    "def get_id_list(n, method_1, k, method_2=None, l=None):\n",
    "\n",
    "    '''\n",
    "    Функция принимает на вход длину списка, методы генерации и длину последовательностей (k и l)\n",
    "    n - длина списка;\n",
    "    k - число символов в первом методе генерации;\n",
    "    l - число символов во втором методе генерации.\n",
    "    Методы генерации:\n",
    "    — string.digits - последовательность случайных чисел;\n",
    "    — string.ascii_letters - последовательность случайных букв;\n",
    "    — string.ascii_uppercase - последовательность заглавных букв;\n",
    "    — string.ascii_lowercase - последовательность строчных букв\n",
    "    Функция возвращает список user_id из нужных элементов\n",
    "        '''\n",
    "\n",
    "    user_id = []\n",
    "    if method_2 == None:\n",
    "        for i, j in enumerate(range(n)):\n",
    "            random.seed(j)\n",
    "            user_id.append(''.join(random.choices(method_1, k=k)))\n",
    "    else: \n",
    "        for i, j in enumerate(range(n)):\n",
    "            string.digits\n",
    "            string.ascii_letters\n",
    "            random.seed(j)\n",
    "            a = ''.join(random.choices(method_1, k=k))\n",
    "            b = ''.join(random.choices(method_2, k=l))\n",
    "            uid = a + '-' + b\n",
    "            user_id.append(uid)\n",
    "\n",
    "    return user_id"
   ]
  },
  {
   "cell_type": "markdown",
   "metadata": {},
   "source": [
    "Соберем список ID для нашей задачи:"
   ]
  },
  {
   "cell_type": "code",
   "execution_count": 11,
   "metadata": {},
   "outputs": [
    {
     "data": {
      "text/plain": [
       "['VTK-2547345952', 'DWT-2446700847', 'YYB-0876366514']"
      ]
     },
     "execution_count": 11,
     "metadata": {},
     "output_type": "execute_result"
    }
   ],
   "source": [
    "employee_id = get_id_list(300, string.ascii_uppercase, 3, string.digits, 10)\n",
    "employee_id[:3]"
   ]
  },
  {
   "cell_type": "markdown",
   "metadata": {},
   "source": [
    "## Начало работы в компании"
   ]
  },
  {
   "cell_type": "markdown",
   "metadata": {},
   "source": [
    "Для генерации столбца с датами нам понадобится задать начало и конец временного диапазона. Для нашей задачи сначала задаем `end_date`: дату, на которой мы «заморозили» найм."
   ]
  },
  {
   "cell_type": "code",
   "execution_count": 12,
   "metadata": {},
   "outputs": [
    {
     "data": {
      "text/plain": [
       "Timestamp('2022-02-23 00:00:00')"
      ]
     },
     "execution_count": 12,
     "metadata": {},
     "output_type": "execute_result"
    }
   ],
   "source": [
    "end_date = pd.to_datetime('2022-02-23')\n",
    "end_date"
   ]
  },
  {
   "cell_type": "markdown",
   "metadata": {},
   "source": [
    "Дату начала диапазона мождо задать как обычной календарной датой (аналогично `end_date`), так и при помощи интервала, если вы, к примеру, хотите сгенерировать датасет, в котором будет зафиксировано 14 или 30 дней наблюдений. \n",
    "\n",
    "Для этого нам понадобится импортировать класс `timedelta` модуля `datetime`."
   ]
  },
  {
   "cell_type": "code",
   "execution_count": 13,
   "metadata": {},
   "outputs": [
    {
     "data": {
      "text/plain": [
       "Timestamp('2019-05-30 00:00:00')"
      ]
     },
     "execution_count": 13,
     "metadata": {},
     "output_type": "execute_result"
    }
   ],
   "source": [
    "from datetime import timedelta\n",
    "\n",
    "start_date = end_date - timedelta(days=1000)\n",
    "start_date"
   ]
  },
  {
   "cell_type": "markdown",
   "metadata": {},
   "source": [
    "Теперь мы используем `pd.date_range()`, чтобы создать будущий столбец с датами. Указываем начало и конец диапазона и частоту - «шаг» появления новых записей - в секундах, минутах, часах или днях, в зависимости от ваших задач."
   ]
  },
  {
   "cell_type": "code",
   "execution_count": 14,
   "metadata": {},
   "outputs": [],
   "source": [
    "dates = pd.date_range(start_date, end_date, freq='1D')\n",
    "np.random.seed(17)\n",
    "dt = np.random.choice(dates, 300)\n",
    "dt = pd.to_datetime(dt).date"
   ]
  },
  {
   "cell_type": "markdown",
   "metadata": {},
   "source": [
    "Еще один вариант - вместо даты окончания можно задать количество периодов, которые мы указываем в параметре `freq`:"
   ]
  },
  {
   "cell_type": "code",
   "execution_count": 15,
   "metadata": {},
   "outputs": [
    {
     "data": {
      "text/plain": [
       "(Timestamp('2021-01-01 00:00:00', freq='D'),\n",
       " Timestamp('2021-01-10 00:00:00', freq='D'))"
      ]
     },
     "execution_count": 15,
     "metadata": {},
     "output_type": "execute_result"
    }
   ],
   "source": [
    "dates_2 = pd.date_range(start='2021-01-01', periods=10, freq='1D')\n",
    "\n",
    "# сгенерировали период в 10 дней\n",
    "dates_2.min(), dates_2.max()"
   ]
  },
  {
   "cell_type": "markdown",
   "metadata": {},
   "source": [
    "# Отдел "
   ]
  },
  {
   "cell_type": "markdown",
   "metadata": {},
   "source": [
    "Теперь сгенерируем отделы. Для этого используем `random.choices` и зафиксируем `seed`. Таким же образом можно созавать любые категориальные признаки: страны, категории покупок, цвет и т.д.\n",
    "Чтобы было интереснее, добавим параметр `weights`, который отвечает за пропорции категорий в получаемом столбце."
   ]
  },
  {
   "cell_type": "code",
   "execution_count": 16,
   "metadata": {},
   "outputs": [
    {
     "data": {
      "text/plain": [
       "['engineering', 'pr', 'tech']"
      ]
     },
     "execution_count": 16,
     "metadata": {},
     "output_type": "execute_result"
    }
   ],
   "source": [
    "department = ['sales', 'it', 'growth', 'management', 'engineering', 'ui_ux', 'pr', 'tech']\n",
    "\n",
    "random.seed(17)\n",
    "deps = random.choices(department, weights=[0.15, 0.12, 0.12, 0.1, 0.1, 0.14, 0.09, 0.18], k =300)\n",
    "deps[:3]"
   ]
  },
  {
   "cell_type": "markdown",
   "metadata": {},
   "source": [
    "# Зарплаты"
   ]
  },
  {
   "cell_type": "markdown",
   "metadata": {},
   "source": [
    "Для моделирования зарплат возьмем экспоненциальное распределение: большая часть рядовых сотрудников получает зарплату примерно на одном уровне, с ростом грейда зарплата растет, топы зарабатывают заметно больше остальных."
   ]
  },
  {
   "cell_type": "code",
   "execution_count": 17,
   "metadata": {},
   "outputs": [
    {
     "data": {
      "image/png": "[encoded data removed]",
      "text/plain": [
       "<Figure size 576x432 with 1 Axes>"
      ]
     },
     "metadata": {},
     "output_type": "display_data"
    }
   ],
   "source": [
    "np.random.seed(17)\n",
    "salary  = np.round(np.random.exponential(scale=2000, size=300)).astype('int')\n",
    "\n",
    "# устанавливаем уровень минимальной заработной платы\n",
    "min_salary = 1500\n",
    "salary = salary + min_salary\n",
    "\n",
    "ax = sns.histplot(salary, bins=30)\n",
    "ax.axvline(np.mean(salary),\n",
    "             color = 'k',\n",
    "             linestyle ='--',\n",
    "             label=f'Средняя зарплата : {np.mean(salary)}')\n",
    "ax.axvline(np.median(salary),\n",
    "             color = 'r',\n",
    "             linestyle ='--',\n",
    "             label=f'Медианная зарплата: {np.median(salary)}')\n",
    "plt.title('Распределение зарплат сотрудников')\n",
    "plt.legend()\n",
    "plt.show()"
   ]
  },
  {
   "cell_type": "markdown",
   "metadata": {},
   "source": [
    "# Возраст"
   ]
  },
  {
   "cell_type": "markdown",
   "metadata": {},
   "source": [
    "Для возраста задаем нормальное распределение. Средний возраст (параметр `loc`) указываем равным 40б стандартное отклонение (`scale`) возьмем равным 7. Можно экспериментировать с этими параметрами, чтобы получить значения, соттветствующие задаче."
   ]
  },
  {
   "cell_type": "code",
   "execution_count": 18,
   "metadata": {},
   "outputs": [
    {
     "data": {
      "image/png": "[encoded data removed]",
      "text/plain": [
       "<Figure size 576x432 with 1 Axes>"
      ]
     },
     "metadata": {},
     "output_type": "display_data"
    }
   ],
   "source": [
    "np.random.seed(17)\n",
    "\n",
    "#jrheukztv возраст до нижнего значения с помощью np.floor()\n",
    "age = np.floor(np.random.normal(loc=40, scale=7, size=300)).astype('int')\n",
    "\n",
    "\n",
    "sns.histplot(age)\n",
    "plt.title('Распределение возраста сотрудников')\n",
    "plt.show()"
   ]
  },
  {
   "cell_type": "markdown",
   "metadata": {},
   "source": [
    "# Пол"
   ]
  },
  {
   "cell_type": "markdown",
   "metadata": {},
   "source": [
    "Создадим список из нулей и единиц, а затем присвоим значения `male` и `female`."
   ]
  },
  {
   "cell_type": "code",
   "execution_count": 19,
   "metadata": {},
   "outputs": [
    {
     "data": {
      "text/plain": [
       "['female', 'female', 'female']"
      ]
     },
     "execution_count": 19,
     "metadata": {},
     "output_type": "execute_result"
    }
   ],
   "source": [
    "np.random.seed(17)\n",
    "gender_flag = [np.random.randint(2) for _ in range(300)]\n",
    "\n",
    "gender = ['female' if _ == 1 else 'male' for _ in gender_flag]\n",
    "gender[:3]"
   ]
  },
  {
   "cell_type": "markdown",
   "metadata": {},
   "source": [
    "# Имена "
   ]
  },
  {
   "cell_type": "markdown",
   "metadata": {},
   "source": [
    "Для создания имен используем библиотеку `Faker`. С ее помощью можно генерировать имена, города, даты рождения, местоположение и т.д. [Документация здесь](https://faker.readthedocs.io/en/stable/index.html)"
   ]
  },
  {
   "cell_type": "code",
   "execution_count": 20,
   "metadata": {},
   "outputs": [],
   "source": [
    "from faker import Faker\n",
    "fake = Faker()\n"
   ]
  },
  {
   "cell_type": "markdown",
   "metadata": {},
   "source": [
    "`Faker` тоже умеет фиксировать `seed`, чтобы выдавать один и тот же результат при перезапуске кода. Так и сделаем."
   ]
  },
  {
   "cell_type": "code",
   "execution_count": 21,
   "metadata": {},
   "outputs": [
    {
     "data": {
      "text/plain": [
       "['Renee Horne', 'Ralph Padilla', 'Ashley Johnson']"
      ]
     },
     "execution_count": 21,
     "metadata": {},
     "output_type": "execute_result"
    }
   ],
   "source": [
    "Faker.seed(17)\n",
    "names = [fake.name() for _ in range(300)]\n",
    "names[:3]"
   ]
  },
  {
   "cell_type": "markdown",
   "metadata": {},
   "source": [
    "Проблема в том, что имена могут не соответствовать полу. Чтобы пофиксить это, используем другой метод из библиотеки `Faker`:"
   ]
  },
  {
   "cell_type": "code",
   "execution_count": 22,
   "metadata": {},
   "outputs": [
    {
     "data": {
      "text/plain": [
       "('Michael', 'Vickie')"
      ]
     },
     "execution_count": 22,
     "metadata": {},
     "output_type": "execute_result"
    }
   ],
   "source": [
    "fake.first_name_male(), fake.first_name_female()"
   ]
  },
  {
   "cell_type": "markdown",
   "metadata": {},
   "source": [
    "Теперь нужно связать генерацию имени со значениями из списка `gender`"
   ]
  },
  {
   "cell_type": "code",
   "execution_count": 23,
   "metadata": {},
   "outputs": [
    {
     "data": {
      "text/plain": [
       "['Kelly', 'Renee', 'Toni']"
      ]
     },
     "execution_count": 23,
     "metadata": {},
     "output_type": "execute_result"
    }
   ],
   "source": [
    "Faker.seed(17)\n",
    "first_name = [fake.first_name_female() if gender[i] == 'female' else fake.first_name_male() for i in range(300)]\n",
    "first_name[:3]"
   ]
  },
  {
   "cell_type": "code",
   "execution_count": 24,
   "metadata": {},
   "outputs": [
    {
     "data": {
      "text/plain": [
       "['Kelly Boyd', 'Renee Roman', 'Toni Horne']"
      ]
     },
     "execution_count": 24,
     "metadata": {},
     "output_type": "execute_result"
    }
   ],
   "source": [
    "Faker.seed(17)\n",
    "last_name = [fake.last_name() for _ in range(300)]\n",
    "names = [first_name[i] + ' ' + last_name[i] for i in range(300)]\n",
    "names[:3]"
   ]
  },
  {
   "cell_type": "markdown",
   "metadata": {},
   "source": [
    "При желании можно генерировать данные на русском языке, для этого нужно указать `fake = Faker('ru_RU')`."
   ]
  },
  {
   "cell_type": "code",
   "execution_count": 25,
   "metadata": {},
   "outputs": [
    {
     "data": {
      "text/plain": [
       "['Титова Жанна Оскаровна',\n",
       " 'Елизавета Ниловна Мельникова',\n",
       " 'Изяслав Зиновьевич Селиверстов']"
      ]
     },
     "execution_count": 25,
     "metadata": {},
     "output_type": "execute_result"
    }
   ],
   "source": [
    "fake = Faker('ru_RU')\n",
    "[fake.name() for _ in range(3)]"
   ]
  },
  {
   "cell_type": "markdown",
   "metadata": {},
   "source": [
    "# Семейное положение"
   ]
  },
  {
   "cell_type": "markdown",
   "metadata": {},
   "source": [
    "Сделаем столбец-«флаг», где единице будет соответствовать «женат/замужем». Используем для этого `random.randint()`. Метод возвращает случайное целое число из диапазона от нижней границы до верхней, не включая верхнюю. Так как нам нужны только нули и единицы, указываем число 2 в качестве верхней границы диапазона и задаем `size=300`:"
   ]
  },
  {
   "cell_type": "code",
   "execution_count": 26,
   "metadata": {},
   "outputs": [
    {
     "data": {
      "text/plain": [
       "0.5266666666666666"
      ]
     },
     "execution_count": 26,
     "metadata": {},
     "output_type": "execute_result"
    }
   ],
   "source": [
    "np.random.seed(17)\n",
    "is_married = np.random.randint(2, size=300)\n",
    "\n",
    "# найдем долю женатых/замужних сотрудников\n",
    "np.mean(is_married)"
   ]
  },
  {
   "cell_type": "markdown",
   "metadata": {},
   "source": [
    "# Стаж"
   ]
  },
  {
   "cell_type": "markdown",
   "metadata": {},
   "source": [
    "Для вычисления стажа в компании  нам нужно посчитать интервал от начала работы до текущей даты. Снова используем класс `timedelta` из бибилотеки `datetime`. Также нам понадобится класс `date`"
   ]
  },
  {
   "cell_type": "code",
   "execution_count": 27,
   "metadata": {},
   "outputs": [],
   "source": [
    "from datetime import date"
   ]
  },
  {
   "cell_type": "markdown",
   "metadata": {},
   "source": [
    "Для того, чтобы получить текущую дату, используем `date.today()`. При вычитании одной даты из другой создается объект `timedelta`, из которого мы извлечем количество дней. Используем list comprehension, чтобы создать список. "
   ]
  },
  {
   "cell_type": "code",
   "execution_count": 28,
   "metadata": {},
   "outputs": [
    {
     "data": {
      "text/plain": [
       "[524, 906, 1004]"
      ]
     },
     "execution_count": 28,
     "metadata": {},
     "output_type": "execute_result"
    }
   ],
   "source": [
    "working_period = [(date.today() -  _).days for _ in dt]\n",
    "working_period[:3]"
   ]
  },
  {
   "cell_type": "markdown",
   "metadata": {},
   "source": [
    "# Оценка по итогам ревью"
   ]
  },
  {
   "cell_type": "markdown",
   "metadata": {},
   "source": [
    "Предположим, что по итогам ревью никто не получил оценки ниже 3 при максимальной оценке 5. Используем снова  `np.random.randint`:"
   ]
  },
  {
   "cell_type": "code",
   "execution_count": 30,
   "metadata": {},
   "outputs": [
    {
     "data": {
      "text/plain": [
       "4.046666666666667"
      ]
     },
     "execution_count": 30,
     "metadata": {},
     "output_type": "execute_result"
    }
   ],
   "source": [
    "np.random.seed(17)\n",
    "review_score = np.random.randint(low=3, high=6, size=300)\n",
    "\n",
    "# средняя оценка на ревью:\n",
    "np.mean(review_score)"
   ]
  },
  {
   "cell_type": "markdown",
   "metadata": {},
   "source": [
    "# Грейд "
   ]
  },
  {
   "cell_type": "markdown",
   "metadata": {},
   "source": [
    "Добавим еще один столбец - грейд сотрудников. Раз мы уже сгенерировали зарплаты, то на их основе присвоим сотрудникам грейды. Для деления на группы используем перцентили и `np.select()` для присвоения значений:"
   ]
  },
  {
   "cell_type": "code",
   "execution_count": 32,
   "metadata": {},
   "outputs": [
    {
     "data": {
      "text/plain": [
       "array(['junior', 'middle', 'junior'], dtype='<U11')"
      ]
     },
     "execution_count": 32,
     "metadata": {},
     "output_type": "execute_result"
    }
   ],
   "source": [
    "grade = np.select(\n",
    "    [\n",
    "        salary < np.percentile(salary, 45),\n",
    "        salary < np.percentile(salary, 84),\n",
    "        salary < np.percentile(salary, 95),\n",
    "        salary < np.percentile(salary, 99),\n",
    "        salary >= np.percentile(salary, 99)\n",
    "    ],\n",
    "    [\n",
    "        'junior', \n",
    "        'middle', \n",
    "        'senior',\n",
    "        'lead', \n",
    "        'superboss'\n",
    "        ]\n",
    ")\n",
    "\n",
    "grade[:3]"
   ]
  },
  {
   "cell_type": "markdown",
   "metadata": {},
   "source": [
    "Посмотрим, как в итоге сотрудники распределились по грейдам:"
   ]
  },
  {
   "cell_type": "code",
   "execution_count": 35,
   "metadata": {},
   "outputs": [
    {
     "data": {
      "text/plain": [
       "junior       135\n",
       "middle       117\n",
       "senior        33\n",
       "lead          12\n",
       "superboss      3\n",
       "dtype: int64"
      ]
     },
     "execution_count": 35,
     "metadata": {},
     "output_type": "execute_result"
    }
   ],
   "source": [
    "pd.Series(grade).value_counts()"
   ]
  },
  {
   "cell_type": "markdown",
   "metadata": {},
   "source": [
    "Похоже на правду?"
   ]
  },
  {
   "cell_type": "markdown",
   "metadata": {},
   "source": [
    "# Бонус"
   ]
  },
  {
   "cell_type": "markdown",
   "metadata": {},
   "source": [
    "С помощью `np.select()` построим бонусную систему для отличников по итогам ревью:"
   ]
  },
  {
   "cell_type": "code",
   "execution_count": 36,
   "metadata": {},
   "outputs": [
    {
     "data": {
      "text/plain": [
       "array([   0, 2109, 1155])"
      ]
     },
     "execution_count": 36,
     "metadata": {},
     "output_type": "execute_result"
    }
   ],
   "source": [
    "bonus = np.round(np.select(\n",
    "    [\n",
    "        (review_score == 5) & (grade == 'junior'),\n",
    "        (review_score == 5) & (grade == 'middle'),\n",
    "        (review_score == 3) & (grade == 'senior'),\n",
    "        (review_score == 5) & (grade == 'lead'),\n",
    "        (review_score == 4) & (grade == 'superboss')\n",
    "    ],\n",
    "    [\n",
    "        salary * 0.6,\n",
    "        salary * 0.7,\n",
    "        salary * 0.8,\n",
    "        salary * 0.9,\n",
    "        salary * 1.1\n",
    "    ]\n",
    "\n",
    ")\n",
    ").astype('int')\n",
    "\n",
    "bonus[:3]"
   ]
  },
  {
   "cell_type": "markdown",
   "metadata": {},
   "source": [
    "# Собираем датасет"
   ]
  },
  {
   "cell_type": "markdown",
   "metadata": {},
   "source": [
    "Объединяем все столбцы в таблицу:"
   ]
  },
  {
   "cell_type": "code",
   "execution_count": 37,
   "metadata": {},
   "outputs": [
    {
     "data": {
      "text/html": [
       "<div>\n",
       "<style scoped>\n",
       "    .dataframe tbody tr th:only-of-type {\n",
       "        vertical-align: middle;\n",
       "    }\n",
       "\n",
       "    .dataframe tbody tr th {\n",
       "        vertical-align: top;\n",
       "    }\n",
       "\n",
       "    .dataframe thead th {\n",
       "        text-align: right;\n",
       "    }\n",
       "</style>\n",
       "<table border=\"1\" class=\"dataframe\">\n",
       "  <thead>\n",
       "    <tr style=\"text-align: right;\">\n",
       "      <th></th>\n",
       "      <th>employee_id</th>\n",
       "      <th>name</th>\n",
       "      <th>gender</th>\n",
       "      <th>age</th>\n",
       "      <th>is_married</th>\n",
       "      <th>start_date</th>\n",
       "      <th>working_period_days</th>\n",
       "      <th>department</th>\n",
       "      <th>grade</th>\n",
       "      <th>salary</th>\n",
       "      <th>review_score</th>\n",
       "      <th>bonus</th>\n",
       "    </tr>\n",
       "  </thead>\n",
       "  <tbody>\n",
       "    <tr>\n",
       "      <th>0</th>\n",
       "      <td>VTK-2547345952</td>\n",
       "      <td>Kelly Boyd</td>\n",
       "      <td>female</td>\n",
       "      <td>41</td>\n",
       "      <td>1</td>\n",
       "      <td>2021-02-11</td>\n",
       "      <td>524</td>\n",
       "      <td>engineering</td>\n",
       "      <td>junior</td>\n",
       "      <td>2198</td>\n",
       "      <td>4</td>\n",
       "      <td>0</td>\n",
       "    </tr>\n",
       "    <tr>\n",
       "      <th>1</th>\n",
       "      <td>DWT-2446700847</td>\n",
       "      <td>Renee Roman</td>\n",
       "      <td>female</td>\n",
       "      <td>27</td>\n",
       "      <td>1</td>\n",
       "      <td>2020-01-26</td>\n",
       "      <td>906</td>\n",
       "      <td>pr</td>\n",
       "      <td>middle</td>\n",
       "      <td>3013</td>\n",
       "      <td>5</td>\n",
       "      <td>2109</td>\n",
       "    </tr>\n",
       "    <tr>\n",
       "      <th>2</th>\n",
       "      <td>YYB-0876366514</td>\n",
       "      <td>Toni Horne</td>\n",
       "      <td>female</td>\n",
       "      <td>44</td>\n",
       "      <td>1</td>\n",
       "      <td>2019-10-20</td>\n",
       "      <td>1004</td>\n",
       "      <td>tech</td>\n",
       "      <td>junior</td>\n",
       "      <td>1925</td>\n",
       "      <td>5</td>\n",
       "      <td>1155</td>\n",
       "    </tr>\n",
       "    <tr>\n",
       "      <th>3</th>\n",
       "      <td>GOJ-6600822948</td>\n",
       "      <td>Dylan Roberts</td>\n",
       "      <td>male</td>\n",
       "      <td>48</td>\n",
       "      <td>0</td>\n",
       "      <td>2020-06-23</td>\n",
       "      <td>757</td>\n",
       "      <td>growth</td>\n",
       "      <td>junior</td>\n",
       "      <td>1641</td>\n",
       "      <td>4</td>\n",
       "      <td>0</td>\n",
       "    </tr>\n",
       "    <tr>\n",
       "      <th>4</th>\n",
       "      <td>GCK-1049872521</td>\n",
       "      <td>Ralph Miranda</td>\n",
       "      <td>male</td>\n",
       "      <td>47</td>\n",
       "      <td>0</td>\n",
       "      <td>2020-07-09</td>\n",
       "      <td>741</td>\n",
       "      <td>pr</td>\n",
       "      <td>middle</td>\n",
       "      <td>4593</td>\n",
       "      <td>3</td>\n",
       "      <td>0</td>\n",
       "    </tr>\n",
       "    <tr>\n",
       "      <th>...</th>\n",
       "      <td>...</td>\n",
       "      <td>...</td>\n",
       "      <td>...</td>\n",
       "      <td>...</td>\n",
       "      <td>...</td>\n",
       "      <td>...</td>\n",
       "      <td>...</td>\n",
       "      <td>...</td>\n",
       "      <td>...</td>\n",
       "      <td>...</td>\n",
       "      <td>...</td>\n",
       "      <td>...</td>\n",
       "    </tr>\n",
       "    <tr>\n",
       "      <th>295</th>\n",
       "      <td>WHS-3960929087</td>\n",
       "      <td>Nathan Griffith</td>\n",
       "      <td>male</td>\n",
       "      <td>49</td>\n",
       "      <td>0</td>\n",
       "      <td>2020-07-27</td>\n",
       "      <td>723</td>\n",
       "      <td>ui_ux</td>\n",
       "      <td>middle</td>\n",
       "      <td>3971</td>\n",
       "      <td>5</td>\n",
       "      <td>2780</td>\n",
       "    </tr>\n",
       "    <tr>\n",
       "      <th>296</th>\n",
       "      <td>BYJ-6694110718</td>\n",
       "      <td>Rachael Casey</td>\n",
       "      <td>female</td>\n",
       "      <td>39</td>\n",
       "      <td>1</td>\n",
       "      <td>2019-09-26</td>\n",
       "      <td>1028</td>\n",
       "      <td>pr</td>\n",
       "      <td>junior</td>\n",
       "      <td>1628</td>\n",
       "      <td>5</td>\n",
       "      <td>977</td>\n",
       "    </tr>\n",
       "    <tr>\n",
       "      <th>297</th>\n",
       "      <td>NTZ-0311134733</td>\n",
       "      <td>Teresa Ayers</td>\n",
       "      <td>female</td>\n",
       "      <td>34</td>\n",
       "      <td>1</td>\n",
       "      <td>2021-03-12</td>\n",
       "      <td>495</td>\n",
       "      <td>tech</td>\n",
       "      <td>lead</td>\n",
       "      <td>8962</td>\n",
       "      <td>3</td>\n",
       "      <td>0</td>\n",
       "    </tr>\n",
       "    <tr>\n",
       "      <th>298</th>\n",
       "      <td>FQE-1748457251</td>\n",
       "      <td>John Washington</td>\n",
       "      <td>male</td>\n",
       "      <td>20</td>\n",
       "      <td>0</td>\n",
       "      <td>2019-08-15</td>\n",
       "      <td>1070</td>\n",
       "      <td>management</td>\n",
       "      <td>junior</td>\n",
       "      <td>2218</td>\n",
       "      <td>5</td>\n",
       "      <td>1331</td>\n",
       "    </tr>\n",
       "    <tr>\n",
       "      <th>299</th>\n",
       "      <td>JSA-8765956007</td>\n",
       "      <td>Jeremy Alexander</td>\n",
       "      <td>male</td>\n",
       "      <td>38</td>\n",
       "      <td>0</td>\n",
       "      <td>2021-04-20</td>\n",
       "      <td>456</td>\n",
       "      <td>management</td>\n",
       "      <td>middle</td>\n",
       "      <td>3639</td>\n",
       "      <td>5</td>\n",
       "      <td>2547</td>\n",
       "    </tr>\n",
       "  </tbody>\n",
       "</table>\n",
       "<p>300 rows × 12 columns</p>\n",
       "</div>"
      ],
      "text/plain": [
       "        employee_id              name  gender  age  is_married  start_date  \\\n",
       "0    VTK-2547345952        Kelly Boyd  female   41           1  2021-02-11   \n",
       "1    DWT-2446700847       Renee Roman  female   27           1  2020-01-26   \n",
       "2    YYB-0876366514        Toni Horne  female   44           1  2019-10-20   \n",
       "3    GOJ-6600822948     Dylan Roberts    male   48           0  2020-06-23   \n",
       "4    GCK-1049872521     Ralph Miranda    male   47           0  2020-07-09   \n",
       "..              ...               ...     ...  ...         ...         ...   \n",
       "295  WHS-3960929087   Nathan Griffith    male   49           0  2020-07-27   \n",
       "296  BYJ-6694110718     Rachael Casey  female   39           1  2019-09-26   \n",
       "297  NTZ-0311134733      Teresa Ayers  female   34           1  2021-03-12   \n",
       "298  FQE-1748457251   John Washington    male   20           0  2019-08-15   \n",
       "299  JSA-8765956007  Jeremy Alexander    male   38           0  2021-04-20   \n",
       "\n",
       "     working_period_days   department   grade  salary  review_score  bonus  \n",
       "0                    524  engineering  junior    2198             4      0  \n",
       "1                    906           pr  middle    3013             5   2109  \n",
       "2                   1004         tech  junior    1925             5   1155  \n",
       "3                    757       growth  junior    1641             4      0  \n",
       "4                    741           pr  middle    4593             3      0  \n",
       "..                   ...          ...     ...     ...           ...    ...  \n",
       "295                  723        ui_ux  middle    3971             5   2780  \n",
       "296                 1028           pr  junior    1628             5    977  \n",
       "297                  495         tech    lead    8962             3      0  \n",
       "298                 1070   management  junior    2218             5   1331  \n",
       "299                  456   management  middle    3639             5   2547  \n",
       "\n",
       "[300 rows x 12 columns]"
      ]
     },
     "execution_count": 37,
     "metadata": {},
     "output_type": "execute_result"
    }
   ],
   "source": [
    "df = pd.DataFrame(\n",
    "    {\n",
    "    'employee_id' : employee_id,\n",
    "    'name' : names,\n",
    "    'gender' : gender,\n",
    "    'age' : age,\n",
    "    'is_married' : is_married,\n",
    "    'start_date' : dt,\n",
    "    'working_period_days' : working_period,\n",
    "    'department' : deps,\n",
    "    'grade' : grade,\n",
    "    'salary' : salary,\n",
    "    'review_score' : review_score,\n",
    "    'bonus' : bonus\n",
    "    }\n",
    "    )\n",
    "df"
   ]
  },
  {
   "cell_type": "markdown",
   "metadata": {},
   "source": [
    "Готово!\n",
    "\n",
    "При желании можно продолжать экспериментировать с генерацией данных и улучшать таблицу. Например, реализовать логику бонусной системы, которая будет учитывать не только грейд, но и стаж. А можно вообще сделать 3-5 таблиц с данными о сотрудниках, например, город проживания, дату рождения, информацию о промуошенах и достижениях и т.д. - и собрать небольшую базу данных. На этой базе можно практиковать SQL-запросы с джойнами и оконными функциями. "
   ]
  }
 ],
 "metadata": {
  "kernelspec": {
   "display_name": "Python 3.9.7 ('base')",
   "language": "python",
   "name": "python3"
  },
  "language_info": {
   "codemirror_mode": {
    "name": "ipython",
    "version": 3
   },
   "file_extension": ".py",
   "mimetype": "text/x-python",
   "name": "python",
   "nbconvert_exporter": "python",
   "pygments_lexer": "ipython3",
   "version": "3.9.7"
  },
  "orig_nbformat": 4,
  "vscode": {
   "interpreter": {
    "hash": "012dc94efea19ee3acb7893bc01bcd9f0379adff6959d0fdcb7d5fea4f670663"
   }
  }
 },
 "nbformat": 4,
 "nbformat_minor": 2
}
